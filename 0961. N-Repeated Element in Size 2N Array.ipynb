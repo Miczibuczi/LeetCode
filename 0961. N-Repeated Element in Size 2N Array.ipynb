{
 "cells": [
  {
   "cell_type": "code",
   "execution_count": null,
   "id": "a74e209f",
   "metadata": {},
   "outputs": [],
   "source": [
    "class Solution:\n",
    "    def repeatedNTimes(self, nums: List[int]) -> int:\n",
    "        i = 2\n",
    "        while True:\n",
    "            if len(set(nums[:i])) != i:\n",
    "                return nums[i-1]\n",
    "            i += 1"
   ]
  }
 ],
 "metadata": {
  "kernelspec": {
   "display_name": "Python 3 (ipykernel)",
   "language": "python",
   "name": "python3"
  },
  "language_info": {
   "codemirror_mode": {
    "name": "ipython",
    "version": 3
   },
   "file_extension": ".py",
   "mimetype": "text/x-python",
   "name": "python",
   "nbconvert_exporter": "python",
   "pygments_lexer": "ipython3",
   "version": "3.9.13"
  }
 },
 "nbformat": 4,
 "nbformat_minor": 5
}
