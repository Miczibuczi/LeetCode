{
 "cells": [
  {
   "cell_type": "code",
   "execution_count": null,
   "id": "bc6b388a",
   "metadata": {},
   "outputs": [],
   "source": [
    "class Solution:\n",
    "    def combinationSum(self, candidates: List[int], target: int) -> List[List[int]]:\n",
    "        def helper(cur_nums, target, start):\n",
    "            for i in range(start, len(candidates)):\n",
    "                if candidates[i] < target:\n",
    "                        helper(cur_nums+[candidates[i]], target-candidates[i], i)\n",
    "                elif candidates[i] == target:\n",
    "                    self.ans.append(cur_nums+[candidates[i]])\n",
    "                else:\n",
    "                    break\n",
    "        candidates.sort()\n",
    "        self.ans = []\n",
    "        helper([], target, 0)\n",
    "        return self.ans"
   ]
  }
 ],
 "metadata": {
  "kernelspec": {
   "display_name": "Python 3 (ipykernel)",
   "language": "python",
   "name": "python3"
  },
  "language_info": {
   "codemirror_mode": {
    "name": "ipython",
    "version": 3
   },
   "file_extension": ".py",
   "mimetype": "text/x-python",
   "name": "python",
   "nbconvert_exporter": "python",
   "pygments_lexer": "ipython3",
   "version": "3.10.9"
  }
 },
 "nbformat": 4,
 "nbformat_minor": 5
}
