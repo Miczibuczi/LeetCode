{
 "cells": [
  {
   "cell_type": "code",
   "execution_count": null,
   "id": "ad2716c4",
   "metadata": {},
   "outputs": [],
   "source": [
    "class Solution:\n",
    "    def minSubArrayLen(self, target: int, nums: List[int]) -> int:\n",
    "        left, right = 0, 0\n",
    "        ans = float('inf')\n",
    "        cur_sum = 0\n",
    "        while left < len(nums):\n",
    "            if cur_sum < target and right < len(nums):\n",
    "                cur_sum += nums[right]\n",
    "                right += 1\n",
    "            elif cur_sum >= target:\n",
    "                ans = min(ans, right-left)\n",
    "                cur_sum -= nums[left]\n",
    "                left += 1\n",
    "            else:\n",
    "                break\n",
    "        if ans == float('inf'):\n",
    "            return 0\n",
    "        else:\n",
    "            return ans"
   ]
  }
 ],
 "metadata": {
  "kernelspec": {
   "display_name": "Python 3 (ipykernel)",
   "language": "python",
   "name": "python3"
  },
  "language_info": {
   "codemirror_mode": {
    "name": "ipython",
    "version": 3
   },
   "file_extension": ".py",
   "mimetype": "text/x-python",
   "name": "python",
   "nbconvert_exporter": "python",
   "pygments_lexer": "ipython3",
   "version": "3.9.13"
  }
 },
 "nbformat": 4,
 "nbformat_minor": 5
}
