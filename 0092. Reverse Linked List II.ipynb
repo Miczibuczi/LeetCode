{
 "cells": [
  {
   "cell_type": "code",
   "execution_count": null,
   "id": "b0d95887",
   "metadata": {},
   "outputs": [],
   "source": [
    "# Definition for singly-linked list.\n",
    "# class ListNode:\n",
    "#     def __init__(self, val=0, next=None):\n",
    "#         self.val = val\n",
    "#         self.next = next\n",
    "class Solution:\n",
    "    def reverseBetween(self, head: Optional[ListNode], left: int, right: int) -> Optional[ListNode]:\n",
    "        if left == 1:\n",
    "            head = ListNode(None, head)\n",
    "        stack = []\n",
    "        save_my_list = head\n",
    "        for i in range(left-2):\n",
    "            head = head.next\n",
    "        start_appending = head\n",
    "        for i in range(right-left+1):\n",
    "            head = head.next\n",
    "            stack.append(head)\n",
    "        ending = head.next\n",
    "        head = save_my_list\n",
    "        while stack:\n",
    "            start_appending.next = stack.pop()\n",
    "            start_appending = start_appending.next\n",
    "        start_appending.next = ending\n",
    "        if left == 1:\n",
    "            return save_my_list.next\n",
    "        return save_my_list"
   ]
  }
 ],
 "metadata": {
  "kernelspec": {
   "display_name": "Python 3 (ipykernel)",
   "language": "python",
   "name": "python3"
  },
  "language_info": {
   "codemirror_mode": {
    "name": "ipython",
    "version": 3
   },
   "file_extension": ".py",
   "mimetype": "text/x-python",
   "name": "python",
   "nbconvert_exporter": "python",
   "pygments_lexer": "ipython3",
   "version": "3.10.9"
  }
 },
 "nbformat": 4,
 "nbformat_minor": 5
}
