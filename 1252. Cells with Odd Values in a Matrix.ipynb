{
 "cells": [
  {
   "cell_type": "code",
   "execution_count": 26,
   "id": "bcdfbaa1",
   "metadata": {},
   "outputs": [],
   "source": [
    "class Solution:\n",
    "    def oddCells(self, m: int, n: int, indices: List[List[int]]) -> int:\n",
    "        matrix = [[0 for i in range(n)]for j in range(m)]\n",
    "        for indx in indices:\n",
    "            row, col = indx\n",
    "            for i in range(len(matrix[row])):\n",
    "                matrix[row][i] += 1\n",
    "            for j in range(len(matrix)):\n",
    "                matrix[j][col] += 1\n",
    "        \n",
    "        answer = 0\n",
    "        for i in range(len(matrix)):\n",
    "            for j in range(len(matrix[0])):\n",
    "                if matrix[i][j] % 2 != 0:\n",
    "                    answer += 1\n",
    "        return answer"
   ]
  },
  {
   "cell_type": "code",
   "execution_count": null,
   "id": "396b236d",
   "metadata": {},
   "outputs": [],
   "source": [
    "# This code doesn't work, I don't know why\n",
    "class Solution:\n",
    "    def oddCells(self, m: int, n: int, indices: List[List[int]]) -> int:\n",
    "        matrix = [[0]*n]*m\n",
    "        for indx in indices:\n",
    "            row, col = indx\n",
    "            for i in range(len(matrix[row])):\n",
    "                matrix[row][i] += 1\n",
    "            for j in range(len(matrix)):\n",
    "                matrix[j][col] += 1\n",
    "        \n",
    "        answer = 0\n",
    "        for i in range(len(matrix)):\n",
    "            for j in range(len(matrix[0])):\n",
    "                if matrix[i][j] % 2 != 0:\n",
    "                    answer += 1\n",
    "        return answer"
   ]
  },
  {
   "cell_type": "code",
   "execution_count": 182,
   "id": "84b888e2",
   "metadata": {},
   "outputs": [],
   "source": [
    "first_object = \"coś takiego\""
   ]
  },
  {
   "cell_type": "code",
   "execution_count": 183,
   "id": "1ba3f029",
   "metadata": {},
   "outputs": [],
   "source": [
    "second_object = \"coś takiego\""
   ]
  },
  {
   "cell_type": "code",
   "execution_count": 185,
   "id": "1cca2b46",
   "metadata": {},
   "outputs": [
    {
     "data": {
      "text/plain": [
       "False"
      ]
     },
     "execution_count": 185,
     "metadata": {},
     "output_type": "execute_result"
    }
   ],
   "source": [
    "first_object is second_object"
   ]
  },
  {
   "cell_type": "code",
   "execution_count": 186,
   "id": "2b9d28d9",
   "metadata": {},
   "outputs": [],
   "source": [
    "x = 5"
   ]
  },
  {
   "cell_type": "code",
   "execution_count": 187,
   "id": "13f5a90f",
   "metadata": {},
   "outputs": [],
   "source": [
    "y = 5"
   ]
  },
  {
   "cell_type": "code",
   "execution_count": 188,
   "id": "5858af46",
   "metadata": {},
   "outputs": [
    {
     "data": {
      "text/plain": [
       "True"
      ]
     },
     "execution_count": 188,
     "metadata": {},
     "output_type": "execute_result"
    }
   ],
   "source": [
    "x is y"
   ]
  },
  {
   "cell_type": "code",
   "execution_count": null,
   "id": "56175ef0",
   "metadata": {},
   "outputs": [],
   "source": []
  }
 ],
 "metadata": {
  "kernelspec": {
   "display_name": "Python 3 (ipykernel)",
   "language": "python",
   "name": "python3"
  },
  "language_info": {
   "codemirror_mode": {
    "name": "ipython",
    "version": 3
   },
   "file_extension": ".py",
   "mimetype": "text/x-python",
   "name": "python",
   "nbconvert_exporter": "python",
   "pygments_lexer": "ipython3",
   "version": "3.9.13"
  }
 },
 "nbformat": 4,
 "nbformat_minor": 5
}
