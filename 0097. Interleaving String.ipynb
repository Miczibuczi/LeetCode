{
 "cells": [
  {
   "cell_type": "code",
   "execution_count": null,
   "id": "2d5d35e3",
   "metadata": {},
   "outputs": [],
   "source": [
    "class Solution:\n",
    "    def isInterleave(self, s1: str, s2: str, s3: str) -> bool:\n",
    "        def helper(pointer_1, pointer_2, pointer_3):\n",
    "            if (pointer_1, pointer_2) in seen:\n",
    "                return False\n",
    "            seen.add((pointer_1, pointer_2))\n",
    "            if pointer_3 == len(s3):\n",
    "                return True\n",
    "            if pointer_1 == len(s1):\n",
    "                if s2[pointer_2] == s3[pointer_3]:\n",
    "                    return helper(pointer_1, pointer_2+1, pointer_3+1)\n",
    "            elif pointer_2 == len(s2):\n",
    "                if s1[pointer_1] == s3[pointer_3]:\n",
    "                    return helper(pointer_1+1, pointer_2, pointer_3+1)\n",
    "            else:\n",
    "                if s1[pointer_1] == s3[pointer_3] and s2[pointer_2] == s3[pointer_3]:\n",
    "                    return helper(pointer_1+1, pointer_2, pointer_3+1) or helper(pointer_1, pointer_2+1, pointer_3+1)\n",
    "                elif s1[pointer_1] == s3[pointer_3]:\n",
    "                    return helper(pointer_1+1, pointer_2, pointer_3+1)\n",
    "                elif s2[pointer_2] == s3[pointer_3]:\n",
    "                    return helper(pointer_1, pointer_2+1, pointer_3+1)\n",
    "            return False\n",
    "        \n",
    "        if len(s1)+len(s2) != len(s3):\n",
    "            return False\n",
    "        seen = set()\n",
    "        return helper(0, 0, 0)"
   ]
  }
 ],
 "metadata": {
  "kernelspec": {
   "display_name": "Python 3 (ipykernel)",
   "language": "python",
   "name": "python3"
  },
  "language_info": {
   "codemirror_mode": {
    "name": "ipython",
    "version": 3
   },
   "file_extension": ".py",
   "mimetype": "text/x-python",
   "name": "python",
   "nbconvert_exporter": "python",
   "pygments_lexer": "ipython3",
   "version": "3.10.9"
  }
 },
 "nbformat": 4,
 "nbformat_minor": 5
}
