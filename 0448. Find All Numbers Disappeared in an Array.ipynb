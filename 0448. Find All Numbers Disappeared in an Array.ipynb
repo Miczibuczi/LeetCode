{
 "cells": [
  {
   "cell_type": "code",
   "execution_count": null,
   "id": "cf313d1c",
   "metadata": {},
   "outputs": [],
   "source": [
    "class Solution:\n",
    "    def findDisappearedNumbers(self, nums: List[int]) -> List[int]:\n",
    "        solution = []\n",
    "        j = 1\n",
    "        nums.sort()\n",
    "        for i in range(len(nums)):\n",
    "            while nums[i] > j:\n",
    "                solution.append(j)\n",
    "                j += 1\n",
    "            if nums[i] == j:\n",
    "                j += 1\n",
    "            while nums[i] < j and i == len(nums)-1 and j<=len(nums):\n",
    "                solution.append(j)\n",
    "                j += 1\n",
    "        return solution"
   ]
  }
 ],
 "metadata": {
  "kernelspec": {
   "display_name": "Python 3 (ipykernel)",
   "language": "python",
   "name": "python3"
  },
  "language_info": {
   "codemirror_mode": {
    "name": "ipython",
    "version": 3
   },
   "file_extension": ".py",
   "mimetype": "text/x-python",
   "name": "python",
   "nbconvert_exporter": "python",
   "pygments_lexer": "ipython3",
   "version": "3.9.13"
  }
 },
 "nbformat": 4,
 "nbformat_minor": 5
}
