{
 "cells": [
  {
   "cell_type": "code",
   "execution_count": 37,
   "id": "bbfc8fd3",
   "metadata": {},
   "outputs": [],
   "source": [
    "class Solution:\n",
    "    def findRelativeRanks(self, score: List[int]) -> List[str]:\n",
    "        answer = []\n",
    "        my_dictionary = {}\n",
    "        score_sorted = [x for x in score]\n",
    "        score_sorted.sort(reverse = True)\n",
    "        for i in range(len(score_sorted)):\n",
    "            if i == 0:\n",
    "                 my_dictionary[score_sorted[i]] = \"Gold Medal\"\n",
    "            elif i == 1:\n",
    "                 my_dictionary[score_sorted[i]] = \"Silver Medal\"\n",
    "            elif i == 2:\n",
    "                my_dictionary[score_sorted[i]] = \"Bronze Medal\"\n",
    "            else:\n",
    "                my_dictionary[score_sorted[i]] = str(i+1)\n",
    "\n",
    "        for i in score:\n",
    "            answer.append(my_dictionary[i])\n",
    "        return answer"
   ]
  },
  {
   "cell_type": "code",
   "execution_count": null,
   "id": "0bd02cd8",
   "metadata": {},
   "outputs": [],
   "source": []
  },
  {
   "cell_type": "code",
   "execution_count": null,
   "id": "6445911c",
   "metadata": {},
   "outputs": [],
   "source": []
  },
  {
   "cell_type": "code",
   "execution_count": null,
   "id": "19edfc37",
   "metadata": {},
   "outputs": [],
   "source": []
  },
  {
   "cell_type": "code",
   "execution_count": 80,
   "id": "67fadc31",
   "metadata": {},
   "outputs": [],
   "source": [
    "score = [10,3,8,9,4]"
   ]
  },
  {
   "cell_type": "code",
   "execution_count": 81,
   "id": "b3fffed0",
   "metadata": {},
   "outputs": [],
   "source": [
    "score_sorted = score"
   ]
  },
  {
   "cell_type": "code",
   "execution_count": 82,
   "id": "de4d74d5",
   "metadata": {},
   "outputs": [],
   "source": [
    "score_sorted.sort(reverse = True)"
   ]
  },
  {
   "cell_type": "code",
   "execution_count": 83,
   "id": "6e521233",
   "metadata": {},
   "outputs": [
    {
     "data": {
      "text/plain": [
       "[10, 9, 8, 4, 3]"
      ]
     },
     "execution_count": 83,
     "metadata": {},
     "output_type": "execute_result"
    }
   ],
   "source": [
    "score"
   ]
  },
  {
   "cell_type": "code",
   "execution_count": 84,
   "id": "50ab2fd4",
   "metadata": {},
   "outputs": [
    {
     "data": {
      "text/plain": [
       "[10, 9, 8, 4, 3]"
      ]
     },
     "execution_count": 84,
     "metadata": {},
     "output_type": "execute_result"
    }
   ],
   "source": [
    "score_sorted"
   ]
  },
  {
   "cell_type": "code",
   "execution_count": null,
   "id": "94f7dbdc",
   "metadata": {},
   "outputs": [],
   "source": []
  },
  {
   "cell_type": "code",
   "execution_count": 85,
   "id": "1357806d",
   "metadata": {},
   "outputs": [],
   "source": [
    "score = [10,3,8,9,4]"
   ]
  },
  {
   "cell_type": "code",
   "execution_count": 86,
   "id": "4887c42b",
   "metadata": {},
   "outputs": [],
   "source": [
    "score_sorted = sorted(score, reverse = True)"
   ]
  },
  {
   "cell_type": "code",
   "execution_count": 87,
   "id": "0dc56fe6",
   "metadata": {},
   "outputs": [
    {
     "data": {
      "text/plain": [
       "[10, 3, 8, 9, 4]"
      ]
     },
     "execution_count": 87,
     "metadata": {},
     "output_type": "execute_result"
    }
   ],
   "source": [
    "score"
   ]
  },
  {
   "cell_type": "code",
   "execution_count": 88,
   "id": "0652d309",
   "metadata": {},
   "outputs": [
    {
     "data": {
      "text/plain": [
       "[10, 9, 8, 4, 3]"
      ]
     },
     "execution_count": 88,
     "metadata": {},
     "output_type": "execute_result"
    }
   ],
   "source": [
    "score_sorted"
   ]
  },
  {
   "cell_type": "code",
   "execution_count": null,
   "id": "240b07b0",
   "metadata": {},
   "outputs": [],
   "source": []
  }
 ],
 "metadata": {
  "kernelspec": {
   "display_name": "Python 3 (ipykernel)",
   "language": "python",
   "name": "python3"
  },
  "language_info": {
   "codemirror_mode": {
    "name": "ipython",
    "version": 3
   },
   "file_extension": ".py",
   "mimetype": "text/x-python",
   "name": "python",
   "nbconvert_exporter": "python",
   "pygments_lexer": "ipython3",
   "version": "3.9.13"
  }
 },
 "nbformat": 4,
 "nbformat_minor": 5
}
