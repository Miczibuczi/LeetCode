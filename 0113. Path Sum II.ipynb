{
 "cells": [
  {
   "cell_type": "code",
   "execution_count": null,
   "id": "a8a34a83",
   "metadata": {},
   "outputs": [],
   "source": [
    "# Definition for a binary tree node.\n",
    "# class TreeNode:\n",
    "#     def __init__(self, val=0, left=None, right=None):\n",
    "#         self.val = val\n",
    "#         self.left = left\n",
    "#         self.right = right\n",
    "class Solution:\n",
    "    def pathSum(self, root: Optional[TreeNode], targetSum: int) -> List[List[int]]:\n",
    "        def Traverse(node, cur_ans, target):\n",
    "            if not node:\n",
    "                return\n",
    "            target -= node.val\n",
    "            if not node.left and not node.right:\n",
    "                if target == 0:\n",
    "                    ans.append(cur_ans+[node.val])\n",
    "            else:\n",
    "                Traverse(node.left, cur_ans+[node.val], target)\n",
    "                Traverse(node.right, cur_ans+[node.val], target)\n",
    "\n",
    "        ans = []\n",
    "        Traverse(root, [], targetSum)\n",
    "        return ans"
   ]
  }
 ],
 "metadata": {
  "kernelspec": {
   "display_name": "Python 3 (ipykernel)",
   "language": "python",
   "name": "python3"
  },
  "language_info": {
   "codemirror_mode": {
    "name": "ipython",
    "version": 3
   },
   "file_extension": ".py",
   "mimetype": "text/x-python",
   "name": "python",
   "nbconvert_exporter": "python",
   "pygments_lexer": "ipython3",
   "version": "3.10.9"
  }
 },
 "nbformat": 4,
 "nbformat_minor": 5
}
