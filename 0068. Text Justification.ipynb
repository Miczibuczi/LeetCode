{
 "cells": [
  {
   "cell_type": "code",
   "execution_count": null,
   "id": "bf11e962",
   "metadata": {},
   "outputs": [],
   "source": [
    "class Solution:\n",
    "    def fullJustify(self, words: List[str], maxWidth: int) -> List[str]:\n",
    "        ans = []\n",
    "        s = words[0]\n",
    "        for word in words[1:]:\n",
    "            if len(s)+len(word)+1<=maxWidth:\n",
    "                s += f\" {word}\"\n",
    "            else:\n",
    "                s = s.split()\n",
    "                len_s = sum(len(x) for x in s)\n",
    "                spaces = maxWidth-len_s\n",
    "                final_s = s[0]\n",
    "                if len(s) == 1:\n",
    "                    for i in range(spaces):\n",
    "                        final_s += \" \"\n",
    "                    ans.append(final_s)\n",
    "                    s = f\"{word}\"\n",
    "                    continue\n",
    "                for i in range(1, len(s)):\n",
    "                    space = spaces//(len(s)-1)\n",
    "                    if spaces%(len(s)-1) >= i:\n",
    "                        final_s += \" \"*(space+1)\n",
    "                    else:\n",
    "                        final_s += \" \"*space\n",
    "                    final_s += s[i]\n",
    "                ans.append(final_s)\n",
    "                s = f\"{word}\"\n",
    "        for i in range(maxWidth-len(s)):\n",
    "            s += \" \"\n",
    "        ans.append(s)\n",
    "        return ans"
   ]
  }
 ],
 "metadata": {
  "kernelspec": {
   "display_name": "Python 3 (ipykernel)",
   "language": "python",
   "name": "python3"
  },
  "language_info": {
   "codemirror_mode": {
    "name": "ipython",
    "version": 3
   },
   "file_extension": ".py",
   "mimetype": "text/x-python",
   "name": "python",
   "nbconvert_exporter": "python",
   "pygments_lexer": "ipython3",
   "version": "3.9.13"
  }
 },
 "nbformat": 4,
 "nbformat_minor": 5
}
