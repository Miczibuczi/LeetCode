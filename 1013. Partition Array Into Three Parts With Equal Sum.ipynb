{
 "cells": [
  {
   "cell_type": "code",
   "execution_count": 7,
   "id": "0710c118",
   "metadata": {},
   "outputs": [],
   "source": [
    "class Solution:\n",
    "    def canThreePartsEqualSum(self, arr: List[int]) -> bool:\n",
    "        single_sum = sum(arr)/3\n",
    "        if single_sum != int(single_sum):\n",
    "            return False\n",
    "        single_sum = int(single_sum)\n",
    "        sum1 = 0\n",
    "        for i in range(len(arr)-2):\n",
    "            sum1 += arr[i]\n",
    "            if sum1 == single_sum:\n",
    "                break\n",
    "        sum1 = 0\n",
    "        for j in range(i+1, len(arr)-1):\n",
    "            sum1 += arr[j]\n",
    "            if sum1 == single_sum:\n",
    "                return True\n",
    "        return False"
   ]
  }
 ],
 "metadata": {
  "kernelspec": {
   "display_name": "Python 3 (ipykernel)",
   "language": "python",
   "name": "python3"
  },
  "language_info": {
   "codemirror_mode": {
    "name": "ipython",
    "version": 3
   },
   "file_extension": ".py",
   "mimetype": "text/x-python",
   "name": "python",
   "nbconvert_exporter": "python",
   "pygments_lexer": "ipython3",
   "version": "3.9.13"
  }
 },
 "nbformat": 4,
 "nbformat_minor": 5
}
