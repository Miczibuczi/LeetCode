{
 "cells": [
  {
   "cell_type": "code",
   "execution_count": null,
   "id": "33be1bd4",
   "metadata": {},
   "outputs": [],
   "source": [
    "class Solution:\n",
    "    def tribonacci(self, n: int) -> int:\n",
    "        if n == 0:\n",
    "            return 0\n",
    "        a = 0\n",
    "        b = 1\n",
    "        c = 1\n",
    "        for i in range(n-2):\n",
    "            a, b, c = b, c, a+b+c\n",
    "        return c"
   ]
  }
 ],
 "metadata": {
  "kernelspec": {
   "display_name": "Python 3 (ipykernel)",
   "language": "python",
   "name": "python3"
  },
  "language_info": {
   "codemirror_mode": {
    "name": "ipython",
    "version": 3
   },
   "file_extension": ".py",
   "mimetype": "text/x-python",
   "name": "python",
   "nbconvert_exporter": "python",
   "pygments_lexer": "ipython3",
   "version": "3.9.13"
  }
 },
 "nbformat": 4,
 "nbformat_minor": 5
}
