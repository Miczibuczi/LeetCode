{
 "cells": [
  {
   "cell_type": "code",
   "execution_count": null,
   "id": "4e99c1d3",
   "metadata": {},
   "outputs": [],
   "source": [
    "class Solution:\n",
    "    def selfDividingNumbers(self, left: int, right: int) -> List[int]:\n",
    "        result = []\n",
    "        for i in range(left, right+1):\n",
    "            str_num = str(i)\n",
    "            if \"0\" in str_num:\n",
    "                continue\n",
    "            for j in range(len(str_num)):\n",
    "                if i % int(str_num[j]) != 0:\n",
    "                    break\n",
    "            else:\n",
    "                result.append(i)\n",
    "        return result"
   ]
  }
 ],
 "metadata": {
  "kernelspec": {
   "display_name": "Python 3 (ipykernel)",
   "language": "python",
   "name": "python3"
  },
  "language_info": {
   "codemirror_mode": {
    "name": "ipython",
    "version": 3
   },
   "file_extension": ".py",
   "mimetype": "text/x-python",
   "name": "python",
   "nbconvert_exporter": "python",
   "pygments_lexer": "ipython3",
   "version": "3.9.13"
  }
 },
 "nbformat": 4,
 "nbformat_minor": 5
}
