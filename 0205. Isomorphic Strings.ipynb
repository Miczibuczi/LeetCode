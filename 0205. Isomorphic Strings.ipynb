{
 "cells": [
  {
   "cell_type": "code",
   "execution_count": 12,
   "id": "bb0a278c",
   "metadata": {},
   "outputs": [
    {
     "data": {
      "text/plain": [
       "True"
      ]
     },
     "execution_count": 12,
     "metadata": {},
     "output_type": "execute_result"
    }
   ],
   "source": [
    "class Solution:\n",
    "    def isIsomorphic(self, s: str, t: str) -> bool:\n",
    "        new_word = \"\"\n",
    "        my_dictionary = {}\n",
    "        for i in range(len(t)):\n",
    "            if s[i] in my_dictionary.keys():\n",
    "                new_word += my_dictionary[s[i]]\n",
    "            else:\n",
    "                my_dictionary[s[i]] = t[i]\n",
    "                new_word += t[i]\n",
    "        values = [x for x in my_dictionary.values()]\n",
    "        check_duplicates = set(values)\n",
    "        if len(values) != len(check_duplicates):\n",
    "            return False\n",
    "        return new_word == t   "
   ]
  }
 ],
 "metadata": {
  "kernelspec": {
   "display_name": "Python 3 (ipykernel)",
   "language": "python",
   "name": "python3"
  },
  "language_info": {
   "codemirror_mode": {
    "name": "ipython",
    "version": 3
   },
   "file_extension": ".py",
   "mimetype": "text/x-python",
   "name": "python",
   "nbconvert_exporter": "python",
   "pygments_lexer": "ipython3",
   "version": "3.9.13"
  }
 },
 "nbformat": 4,
 "nbformat_minor": 5
}
