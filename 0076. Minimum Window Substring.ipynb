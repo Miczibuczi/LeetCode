{
 "cells": [
  {
   "cell_type": "code",
   "execution_count": null,
   "id": "7d11b0b2",
   "metadata": {},
   "outputs": [],
   "source": [
    "class Solution:\n",
    "    def minWindow(self, s: str, t: str) -> str:\n",
    "        ans = \"\"\n",
    "        target = defaultdict(int)\n",
    "        for letter in t:\n",
    "            target[letter] += 1\n",
    "        \n",
    "        left = 0\n",
    "        for i, letter in enumerate(s):\n",
    "            if letter in target:\n",
    "                target[letter] -= 1\n",
    "            if all(0 >= x for x in target.values()):\n",
    "                ans = s[left:i+1]\n",
    "                target[letter] += 1\n",
    "                missing = letter\n",
    "                break\n",
    "        \n",
    "        if i == len(s)-1 and not ans:\n",
    "            return \"\"\n",
    "\n",
    "        for j in range(i, len(s)):\n",
    "            if s[j] in target:\n",
    "                target[s[j]] -= 1\n",
    "                if s[j] == missing:\n",
    "                    while target[missing] <= 0:\n",
    "                        if s[left] not in target:\n",
    "                            if len(ans)>j-left:\n",
    "                                ans = s[left+1:j+1]\n",
    "                        else:\n",
    "                            target[s[left]] += 1\n",
    "                            if target[s[left]] <= 0:\n",
    "                                if len(ans)>j-left:\n",
    "                                    ans = s[left+1:j+1]\n",
    "                            missing = s[left]\n",
    "                        left += 1\n",
    "        return ans"
   ]
  },
  {
   "cell_type": "code",
   "execution_count": null,
   "id": "c9e46fd2",
   "metadata": {},
   "outputs": [],
   "source": [
    "# First answer, less efficient in terms of time\n",
    "\n",
    "class Solution:\n",
    "    def minWindow(self, s: str, t: str) -> str:\n",
    "        ans = \"\"\n",
    "        target = defaultdict(int)\n",
    "        for letter in t:\n",
    "            target[letter] += 1\n",
    "        \n",
    "        left = 0\n",
    "        for i, letter in enumerate(s):\n",
    "            if letter in target:\n",
    "                target[letter] -= 1\n",
    "            while all(0 >= x for x in target.values()):\n",
    "                if not ans or len(ans)>i+1-left:\n",
    "                    ans = s[left:i+1]\n",
    "                if s[left] in target:\n",
    "                    target[s[left]] += 1\n",
    "                left += 1\n",
    "        return ans"
   ]
  }
 ],
 "metadata": {
  "kernelspec": {
   "display_name": "Python 3 (ipykernel)",
   "language": "python",
   "name": "python3"
  },
  "language_info": {
   "codemirror_mode": {
    "name": "ipython",
    "version": 3
   },
   "file_extension": ".py",
   "mimetype": "text/x-python",
   "name": "python",
   "nbconvert_exporter": "python",
   "pygments_lexer": "ipython3",
   "version": "3.9.13"
  }
 },
 "nbformat": 4,
 "nbformat_minor": 5
}
