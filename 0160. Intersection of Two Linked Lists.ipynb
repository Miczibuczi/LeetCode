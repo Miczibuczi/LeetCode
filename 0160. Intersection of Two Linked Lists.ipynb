{
 "cells": [
  {
   "cell_type": "code",
   "execution_count": null,
   "id": "ac11b421",
   "metadata": {},
   "outputs": [],
   "source": [
    "# Definition for singly-linked list.\n",
    "# class ListNode:\n",
    "#     def __init__(self, x):\n",
    "#         self.val = x\n",
    "#         self.next = None\n",
    "\n",
    "class Solution:\n",
    "    def getIntersectionNode(self, headA: ListNode, headB: ListNode) -> Optional[ListNode]:\n",
    "        if not headA or not headB:\n",
    "            return None\n",
    "        my_listA = headA\n",
    "        my_listB = headB\n",
    "\n",
    "        a = 1\n",
    "        b = 1\n",
    "        while my_listA.next:\n",
    "            a += 1\n",
    "            my_listA = my_listA.next\n",
    "        while my_listB.next:\n",
    "            b += 1\n",
    "            my_listB = my_listB.next\n",
    "\n",
    "        while a > b:\n",
    "            headA = headA.next\n",
    "            a -= 1\n",
    "        while a < b:\n",
    "            headB = headB.next\n",
    "            b -= 1\n",
    "        \n",
    "        while headA:\n",
    "            if headA == headB:\n",
    "                return headA\n",
    "            else:\n",
    "                headA = headA.next\n",
    "                headB = headB.next\n",
    "        return None"
   ]
  }
 ],
 "metadata": {
  "kernelspec": {
   "display_name": "Python 3 (ipykernel)",
   "language": "python",
   "name": "python3"
  },
  "language_info": {
   "codemirror_mode": {
    "name": "ipython",
    "version": 3
   },
   "file_extension": ".py",
   "mimetype": "text/x-python",
   "name": "python",
   "nbconvert_exporter": "python",
   "pygments_lexer": "ipython3",
   "version": "3.9.13"
  }
 },
 "nbformat": 4,
 "nbformat_minor": 5
}
