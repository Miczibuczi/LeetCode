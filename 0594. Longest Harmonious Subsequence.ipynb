{
 "cells": [
  {
   "cell_type": "code",
   "execution_count": null,
   "id": "ba694841",
   "metadata": {},
   "outputs": [],
   "source": [
    "class Solution:\n",
    "    def findLHS(self, nums: List[int]) -> int:\n",
    "        nums.sort()\n",
    "        my_dictionary = {}\n",
    "        for i in nums:\n",
    "            if i in my_dictionary:\n",
    "                my_dictionary[i] += 1\n",
    "            else:\n",
    "                my_dictionary[i] = 1\n",
    "        prev = -10**10\n",
    "        result = 0\n",
    "        for i in my_dictionary:\n",
    "            if prev+1 == i:\n",
    "                if my_dictionary[prev]+my_dictionary[i]>result:\n",
    "                    result = my_dictionary[prev]+my_dictionary[i]\n",
    "            prev = i\n",
    "        return result"
   ]
  }
 ],
 "metadata": {
  "kernelspec": {
   "display_name": "Python 3 (ipykernel)",
   "language": "python",
   "name": "python3"
  },
  "language_info": {
   "codemirror_mode": {
    "name": "ipython",
    "version": 3
   },
   "file_extension": ".py",
   "mimetype": "text/x-python",
   "name": "python",
   "nbconvert_exporter": "python",
   "pygments_lexer": "ipython3",
   "version": "3.9.13"
  }
 },
 "nbformat": 4,
 "nbformat_minor": 5
}
