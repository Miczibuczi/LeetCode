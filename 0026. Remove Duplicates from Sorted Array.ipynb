{
 "cells": [
  {
   "cell_type": "code",
   "execution_count": null,
   "id": "be59650d",
   "metadata": {},
   "outputs": [],
   "source": [
    "class Solution:\n",
    "    def removeDuplicates(self, nums: List[int]) -> int:\n",
    "        InsertIndex = 1\n",
    "        for i in range(len(nums)-1):\n",
    "            if nums[i] != nums[i+1]:\n",
    "                nums[InsertIndex] = nums[i+1]\n",
    "                InsertIndex += 1\n",
    "        return InsertIndex"
   ]
  },
  {
   "cell_type": "code",
   "execution_count": null,
   "id": "c5aeeb4f",
   "metadata": {},
   "outputs": [],
   "source": [
    "# First answer, Ii's not in-place solution\n",
    "class Solution:\n",
    "    def removeDuplicates(self, nums: List[int]) -> int:\n",
    "        k = len(nums)\n",
    "        repeat = True\n",
    "        while repeat:\n",
    "            repeat = False\n",
    "            for i in range(k-1):\n",
    "                if nums[i] == nums [i+1]:\n",
    "                    nums = nums[:i+1] + nums[i+2:] + nums[i+1:i+2]\n",
    "                    k -= 1\n",
    "                    repeat = True\n",
    "        return k"
   ]
  }
 ],
 "metadata": {
  "kernelspec": {
   "display_name": "Python 3 (ipykernel)",
   "language": "python",
   "name": "python3"
  },
  "language_info": {
   "codemirror_mode": {
    "name": "ipython",
    "version": 3
   },
   "file_extension": ".py",
   "mimetype": "text/x-python",
   "name": "python",
   "nbconvert_exporter": "python",
   "pygments_lexer": "ipython3",
   "version": "3.9.13"
  }
 },
 "nbformat": 4,
 "nbformat_minor": 5
}
