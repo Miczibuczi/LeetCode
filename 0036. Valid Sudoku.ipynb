{
 "cells": [
  {
   "cell_type": "code",
   "execution_count": null,
   "id": "62fd72b0",
   "metadata": {},
   "outputs": [],
   "source": [
    "class Solution:\n",
    "    def isValidSudoku(self, board: List[List[str]]) -> bool:\n",
    "        seen3 = [set() for i in range(9)]\n",
    "        for i in range(len(board)):\n",
    "            seen = set()\n",
    "            seen2 = set()\n",
    "            for j in range(len(board[0])):\n",
    "                indx = j//3+(i//3)*3\n",
    "                cur = board[i][j]\n",
    "                if cur != \".\":\n",
    "                    if cur in seen or cur in seen3[indx]:\n",
    "                        return False\n",
    "                    else:\n",
    "                        seen.add(cur)\n",
    "                        seen3[indx].add(cur)\n",
    "\n",
    "                cur = board[j][i]\n",
    "                if cur != \".\":\n",
    "                    if cur in seen2:\n",
    "                        return False\n",
    "                    else:\n",
    "                        seen2.add(cur)\n",
    "        return True"
   ]
  },
  {
   "cell_type": "code",
   "execution_count": null,
   "id": "4148b1ed",
   "metadata": {},
   "outputs": [],
   "source": [
    "# First answer, less efficient but more readable\n",
    "\n",
    "class Solution:\n",
    "    def isValidSudoku(self, board: List[List[str]]) -> bool:\n",
    "        seen3 = [set() for i in range(9)]\n",
    "        for i in range(len(board)):\n",
    "            seen = set()\n",
    "            seen2 = set()\n",
    "            for j in range(len(board[0])):\n",
    "                cur = board[i][j]\n",
    "                if cur != \".\":\n",
    "                    if cur in seen:\n",
    "                        return False\n",
    "                    else:\n",
    "                        seen.add(cur)\n",
    "\n",
    "                cur = board[j][i]\n",
    "                if cur != \".\":\n",
    "                    if cur in seen2:\n",
    "                        return False\n",
    "                    else:\n",
    "                        seen2.add(cur)\n",
    "                \n",
    "                indx = j//3+(i//3)*3\n",
    "                cur = board[i][j]\n",
    "                if cur != \".\":\n",
    "                    if cur in seen3[indx]:\n",
    "                        return False\n",
    "                    else:\n",
    "                        seen3[indx].add(cur)\n",
    "        return True"
   ]
  }
 ],
 "metadata": {
  "kernelspec": {
   "display_name": "Python 3 (ipykernel)",
   "language": "python",
   "name": "python3"
  },
  "language_info": {
   "codemirror_mode": {
    "name": "ipython",
    "version": 3
   },
   "file_extension": ".py",
   "mimetype": "text/x-python",
   "name": "python",
   "nbconvert_exporter": "python",
   "pygments_lexer": "ipython3",
   "version": "3.9.13"
  }
 },
 "nbformat": 4,
 "nbformat_minor": 5
}
