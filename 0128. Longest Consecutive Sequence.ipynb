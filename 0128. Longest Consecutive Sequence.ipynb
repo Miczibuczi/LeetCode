{
 "cells": [
  {
   "cell_type": "code",
   "execution_count": null,
   "id": "3d876164",
   "metadata": {},
   "outputs": [],
   "source": [
    "class Solution:\n",
    "    def longestConsecutive(self, nums: List[int]) -> int:\n",
    "        if not nums:\n",
    "            return 0\n",
    "        nums.sort()\n",
    "        ans = 0\n",
    "        cur = 1\n",
    "        for i in range(1, len(nums)):\n",
    "            if nums[i] == nums[i-1]+1:\n",
    "                cur += 1\n",
    "            elif nums[i] == nums[i-1]:\n",
    "                pass\n",
    "            else:\n",
    "                ans = max(ans, cur)\n",
    "                cur = 1\n",
    "        ans = max(ans, cur)\n",
    "        return ans"
   ]
  }
 ],
 "metadata": {
  "kernelspec": {
   "display_name": "Python 3 (ipykernel)",
   "language": "python",
   "name": "python3"
  },
  "language_info": {
   "codemirror_mode": {
    "name": "ipython",
    "version": 3
   },
   "file_extension": ".py",
   "mimetype": "text/x-python",
   "name": "python",
   "nbconvert_exporter": "python",
   "pygments_lexer": "ipython3",
   "version": "3.9.13"
  }
 },
 "nbformat": 4,
 "nbformat_minor": 5
}
