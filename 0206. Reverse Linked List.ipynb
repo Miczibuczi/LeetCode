{
 "cells": [
  {
   "cell_type": "code",
   "execution_count": null,
   "id": "84a6c85a",
   "metadata": {},
   "outputs": [],
   "source": [
    "# Definition for singly-linked list.\n",
    "# class ListNode:\n",
    "#     def __init__(self, val=0, next=None):\n",
    "#         self.val = val\n",
    "#         self.next = next\n",
    "class Solution:\n",
    "    def reverseList(self, head: Optional[ListNode]) -> Optional[ListNode]:\n",
    "        if not head:\n",
    "            return head\n",
    "        result = ListNode\n",
    "        pointer = result\n",
    "        new_list = head\n",
    "        i = 0\n",
    "        while new_list:\n",
    "            i += 1\n",
    "            new_list = new_list.next\n",
    "        \n",
    "        for a in range(i):\n",
    "            new_list = head\n",
    "            for j in range(i-a-1):\n",
    "                new_list = new_list.next\n",
    "            pointer.next = new_list\n",
    "            pointer = pointer.next\n",
    "        pointer.next = None\n",
    "        return result.next"
   ]
  }
 ],
 "metadata": {
  "kernelspec": {
   "display_name": "Python 3 (ipykernel)",
   "language": "python",
   "name": "python3"
  },
  "language_info": {
   "codemirror_mode": {
    "name": "ipython",
    "version": 3
   },
   "file_extension": ".py",
   "mimetype": "text/x-python",
   "name": "python",
   "nbconvert_exporter": "python",
   "pygments_lexer": "ipython3",
   "version": "3.9.13"
  }
 },
 "nbformat": 4,
 "nbformat_minor": 5
}
