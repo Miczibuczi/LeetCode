{
 "cells": [
  {
   "cell_type": "code",
   "execution_count": null,
   "id": "021dd85c",
   "metadata": {},
   "outputs": [],
   "source": [
    "# Definition for a binary tree node.\n",
    "# class TreeNode:\n",
    "#     def __init__(self, val=0, left=None, right=None):\n",
    "#         self.val = val\n",
    "#         self.left = left\n",
    "#         self.right = right\n",
    "class Solution:\n",
    "    def hasPathSum(self, root: Optional[TreeNode], targetSum: int) -> bool:\n",
    "        if not root:\n",
    "            return False\n",
    "        path = False\n",
    "        curSum = 0\n",
    "        return self.dfs(root, targetSum, curSum, path)\n",
    "    \n",
    "    def dfs(self, root, targetSum, curSum, path):\n",
    "        if path:\n",
    "            return True\n",
    "        curSum += root.val\n",
    "        if not root.left and not root.right:\n",
    "            return targetSum == curSum\n",
    "        elif not root.left:\n",
    "            return self.dfs(root.right, targetSum, curSum, path)\n",
    "        elif not root.right:\n",
    "            return self.dfs(root.left, targetSum, curSum, path)\n",
    "        else:\n",
    "            return self.dfs(root.left, targetSum, curSum, path) or self.dfs(root.right, targetSum, curSum, path)"
   ]
  }
 ],
 "metadata": {
  "kernelspec": {
   "display_name": "Python 3 (ipykernel)",
   "language": "python",
   "name": "python3"
  },
  "language_info": {
   "codemirror_mode": {
    "name": "ipython",
    "version": 3
   },
   "file_extension": ".py",
   "mimetype": "text/x-python",
   "name": "python",
   "nbconvert_exporter": "python",
   "pygments_lexer": "ipython3",
   "version": "3.9.13"
  }
 },
 "nbformat": 4,
 "nbformat_minor": 5
}
