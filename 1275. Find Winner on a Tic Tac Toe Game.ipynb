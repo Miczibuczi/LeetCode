{
 "cells": [
  {
   "cell_type": "code",
   "execution_count": null,
   "id": "03d82bef",
   "metadata": {},
   "outputs": [],
   "source": [
    "class Solution:\n",
    "    def tictactoe(self, moves: List[List[int]]) -> str:\n",
    "        board = [[0, 0 , 0] for i in range(3)]\n",
    "        def check_win():\n",
    "            nonlocal board\n",
    "            for i in range(3):\n",
    "                if sum(board[i][j] for j in range(3)) == 3 or sum(board[j][i] for j in range(3)) == 3:\n",
    "                    return \"A wins\"\n",
    "                elif sum(board[i][j] for j in range(3)) == 60 or sum(board[j][i] for j in range(3)) == 60:\n",
    "                    return \"B wins\"\n",
    "            if board[0][0]+board[1][1]+board[2][2] == 3 or board[0][2]+board[1][1]+board[2][0] == 3:\n",
    "                return \"A wins\"\n",
    "            elif board[0][0]+board[1][1]+board[2][2] == 60 or board[0][2]+board[1][1]+board[2][0] == 60:\n",
    "                return \"B wins\"\n",
    "        \n",
    "        for i in range(len(moves)):\n",
    "            row, col = moves[i]\n",
    "            if i % 2 == 0:\n",
    "                board[row][col] = 1\n",
    "            else:\n",
    "                board[row][col] = 20\n",
    "            result = check_win()\n",
    "            if result == \"A wins\":\n",
    "                return \"A\"\n",
    "            elif result == \"B wins\":\n",
    "                return \"B\"\n",
    "        if len(moves) == 9:\n",
    "            return \"Draw\"\n",
    "        else:\n",
    "            return \"Pending\""
   ]
  }
 ],
 "metadata": {
  "kernelspec": {
   "display_name": "Python 3 (ipykernel)",
   "language": "python",
   "name": "python3"
  },
  "language_info": {
   "codemirror_mode": {
    "name": "ipython",
    "version": 3
   },
   "file_extension": ".py",
   "mimetype": "text/x-python",
   "name": "python",
   "nbconvert_exporter": "python",
   "pygments_lexer": "ipython3",
   "version": "3.9.13"
  }
 },
 "nbformat": 4,
 "nbformat_minor": 5
}
