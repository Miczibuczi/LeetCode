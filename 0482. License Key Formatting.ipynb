{
 "cells": [
  {
   "cell_type": "code",
   "execution_count": null,
   "id": "923aa08c",
   "metadata": {},
   "outputs": [],
   "source": [
    "class Solution:\n",
    "    def licenseKeyFormatting(self, s: str, k: int) -> str:\n",
    "        s = s.replace(\"-\", \"\")\n",
    "        s = s.upper()\n",
    "        new_string = \"\"\n",
    "        first_part = len(s) % k\n",
    "\n",
    "        for i in range(first_part):\n",
    "            new_string += s[i]\n",
    "\n",
    "        if first_part == 0:\n",
    "            count = 0\n",
    "        else:    \n",
    "            count = k\n",
    "            \n",
    "        for i in range(first_part, len(s)):\n",
    "            if count == k:\n",
    "                count = 0\n",
    "                new_string += \"-\"\n",
    "            new_string += s[i]\n",
    "            count += 1\n",
    "        return new_string"
   ]
  }
 ],
 "metadata": {
  "kernelspec": {
   "display_name": "Python 3 (ipykernel)",
   "language": "python",
   "name": "python3"
  },
  "language_info": {
   "codemirror_mode": {
    "name": "ipython",
    "version": 3
   },
   "file_extension": ".py",
   "mimetype": "text/x-python",
   "name": "python",
   "nbconvert_exporter": "python",
   "pygments_lexer": "ipython3",
   "version": "3.9.13"
  }
 },
 "nbformat": 4,
 "nbformat_minor": 5
}
