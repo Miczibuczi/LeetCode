{
 "cells": [
  {
   "cell_type": "code",
   "execution_count": null,
   "id": "715c9987",
   "metadata": {},
   "outputs": [],
   "source": [
    "# Definition for singly-linked list.\n",
    "# class ListNode:\n",
    "#     def __init__(self, val=0, next=None):\n",
    "#         self.val = val\n",
    "#         self.next = next\n",
    "class Solution:\n",
    "    def mergeKLists(self, lists: List[Optional[ListNode]]) -> Optional[ListNode]:\n",
    "        ans = ListNode(None)\n",
    "        head = ans\n",
    "        cur_lists = [(lists[i]) for i in range(len(lists)) if lists[i]]\n",
    "        cur_lists.sort(key = lambda x: x.val)\n",
    "        cur_nums = [LinkedList.val for LinkedList in cur_lists]\n",
    "        while cur_lists:\n",
    "            head.next = ListNode(cur_lists[0].val)\n",
    "            head = head.next\n",
    "            if not cur_lists[0].next:\n",
    "                cur_lists.pop(0)\n",
    "                cur_nums.pop(0)\n",
    "            else:\n",
    "                num = cur_lists[0].next.val\n",
    "                index = bisect.bisect(cur_nums, num)\n",
    "                cur_nums.insert(index, num)\n",
    "                cur_nums.pop(0)\n",
    "                cur_lists.insert(index, cur_lists[0].next)\n",
    "                cur_lists.pop(0)\n",
    "        return ans.next"
   ]
  },
  {
   "cell_type": "code",
   "execution_count": null,
   "id": "b30ece81",
   "metadata": {},
   "outputs": [],
   "source": [
    "# Definition for singly-linked list.\n",
    "# class ListNode:\n",
    "#     def __init__(self, val=0, next=None):\n",
    "#         self.val = val\n",
    "#         self.next = next\n",
    "class Solution:\n",
    "    def mergeKLists(self, lists: List[Optional[ListNode]]) -> Optional[ListNode]:\n",
    "        nums = []\n",
    "        for LinkedList in lists:\n",
    "            if not LinkedList:\n",
    "                continue\n",
    "            nums.append(LinkedList.val)\n",
    "            while LinkedList.next:\n",
    "                LinkedList = LinkedList.next\n",
    "                nums.append(LinkedList.val)\n",
    "        \n",
    "        nums.sort()\n",
    "        ans = ListNode(None)\n",
    "        head = ans\n",
    "        for num in nums:\n",
    "            head.next = ListNode(num)\n",
    "            head = head.next\n",
    "        \n",
    "        return ans.next"
   ]
  }
 ],
 "metadata": {
  "kernelspec": {
   "display_name": "Python 3 (ipykernel)",
   "language": "python",
   "name": "python3"
  },
  "language_info": {
   "codemirror_mode": {
    "name": "ipython",
    "version": 3
   },
   "file_extension": ".py",
   "mimetype": "text/x-python",
   "name": "python",
   "nbconvert_exporter": "python",
   "pygments_lexer": "ipython3",
   "version": "3.9.13"
  }
 },
 "nbformat": 4,
 "nbformat_minor": 5
}
