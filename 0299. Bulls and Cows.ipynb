{
 "cells": [
  {
   "cell_type": "code",
   "execution_count": null,
   "id": "e60ef6a7",
   "metadata": {},
   "outputs": [],
   "source": [
    "class Solution:\n",
    "    def getHint(self, secret: str, guess: str) -> str:\n",
    "        seen = defaultdict(int)\n",
    "        for digit in secret:\n",
    "            seen[digit] += 1\n",
    "        \n",
    "        bulls = 0\n",
    "        cows = 0\n",
    "        for i, digit in enumerate(guess):\n",
    "            if digit == secret[i]:\n",
    "                bulls += 1\n",
    "                if seen[digit] == 0:\n",
    "                    cows -= 1\n",
    "                else:\n",
    "                    seen[digit] -= 1\n",
    "            elif seen[digit] > 0:\n",
    "                seen[digit] -= 1\n",
    "                cows += 1\n",
    "        return str(bulls)+\"A\"+str(cows)+\"B\""
   ]
  }
 ],
 "metadata": {
  "kernelspec": {
   "display_name": "Python 3 (ipykernel)",
   "language": "python",
   "name": "python3"
  },
  "language_info": {
   "codemirror_mode": {
    "name": "ipython",
    "version": 3
   },
   "file_extension": ".py",
   "mimetype": "text/x-python",
   "name": "python",
   "nbconvert_exporter": "python",
   "pygments_lexer": "ipython3",
   "version": "3.10.9"
  }
 },
 "nbformat": 4,
 "nbformat_minor": 5
}
