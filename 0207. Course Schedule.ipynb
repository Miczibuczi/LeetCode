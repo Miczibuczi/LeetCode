{
 "cells": [
  {
   "cell_type": "code",
   "execution_count": null,
   "id": "fa827fb0",
   "metadata": {},
   "outputs": [],
   "source": [
    "class Solution:\n",
    "    def canFinish(self, numCourses: int, prerequisites: List[List[int]]) -> bool:\n",
    "        courses = [[] for i in range(numCourses)]\n",
    "        for prere in prerequisites:\n",
    "            courses[prere[0]].append(prere[1])\n",
    "        n = 0\n",
    "        while len(prerequisites) != n:\n",
    "            n = len(prerequisites)\n",
    "            for i, prere in enumerate(prerequisites):\n",
    "                if courses[prere[1]]==[]:\n",
    "                    courses[prere[0]].remove(prere[1])\n",
    "                    prerequisites.pop(i)\n",
    "\n",
    "        return all(courses[i]==[] for i in range(numCourses))"
   ]
  }
 ],
 "metadata": {
  "kernelspec": {
   "display_name": "Python 3 (ipykernel)",
   "language": "python",
   "name": "python3"
  },
  "language_info": {
   "codemirror_mode": {
    "name": "ipython",
    "version": 3
   },
   "file_extension": ".py",
   "mimetype": "text/x-python",
   "name": "python",
   "nbconvert_exporter": "python",
   "pygments_lexer": "ipython3",
   "version": "3.9.13"
  }
 },
 "nbformat": 4,
 "nbformat_minor": 5
}
