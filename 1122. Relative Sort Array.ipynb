{
 "cells": [
  {
   "cell_type": "code",
   "execution_count": null,
   "id": "04a60056",
   "metadata": {},
   "outputs": [],
   "source": [
    "from bisect import insort\n",
    "class Solution:\n",
    "    def relativeSortArray(self, arr1: List[int], arr2: List[int]) -> List[int]:\n",
    "        not_in_arr2=[]\n",
    "        checking_set = set(arr2)\n",
    "        i = 0\n",
    "        while i < len(arr1):\n",
    "            if arr1[i] not in checking_set:\n",
    "                insort(not_in_arr2, arr1.pop(i))\n",
    "            else:\n",
    "                i+=1\n",
    "        arr1.sort(key = lambda x: arr2.index(x))\n",
    "        return arr1+not_in_arr2"
   ]
  }
 ],
 "metadata": {
  "kernelspec": {
   "display_name": "Python 3 (ipykernel)",
   "language": "python",
   "name": "python3"
  },
  "language_info": {
   "codemirror_mode": {
    "name": "ipython",
    "version": 3
   },
   "file_extension": ".py",
   "mimetype": "text/x-python",
   "name": "python",
   "nbconvert_exporter": "python",
   "pygments_lexer": "ipython3",
   "version": "3.9.13"
  }
 },
 "nbformat": 4,
 "nbformat_minor": 5
}
