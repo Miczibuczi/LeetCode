{
 "cells": [
  {
   "cell_type": "code",
   "execution_count": null,
   "id": "a60705a3",
   "metadata": {},
   "outputs": [],
   "source": [
    "# Definition for singly-linked list.\n",
    "# class ListNode:\n",
    "#     def __init__(self, val=0, next=None):\n",
    "#         self.val = val\n",
    "#         self.next = next\n",
    "class Solution:\n",
    "    def addTwoNumbers(self, l1: Optional[ListNode], l2: Optional[ListNode]) -> Optional[ListNode]:\n",
    "        dummy = l1\n",
    "        rest = 0\n",
    "        while l2:\n",
    "            num = dummy.val + l2.val + rest\n",
    "            rest = 0\n",
    "            if num < 10:\n",
    "                dummy.val = num\n",
    "            else:\n",
    "                dummy.val = num % 10\n",
    "                rest = 1\n",
    "            if dummy.next is None and (l2.next or rest):\n",
    "                dummy.next = ListNode(0)\n",
    "            l2 = l2.next\n",
    "            dummy = dummy.next\n",
    "\n",
    "        while rest:\n",
    "            num = dummy.val + rest\n",
    "            if num < 10:\n",
    "                dummy.val = num\n",
    "                rest = 0\n",
    "            else:\n",
    "                dummy.val = num % 10\n",
    "            if dummy.next is None and rest:\n",
    "                dummy.next = ListNode(0)\n",
    "            dummy = dummy.next\n",
    "        return l1"
   ]
  }
 ],
 "metadata": {
  "kernelspec": {
   "display_name": "Python 3 (ipykernel)",
   "language": "python",
   "name": "python3"
  },
  "language_info": {
   "codemirror_mode": {
    "name": "ipython",
    "version": 3
   },
   "file_extension": ".py",
   "mimetype": "text/x-python",
   "name": "python",
   "nbconvert_exporter": "python",
   "pygments_lexer": "ipython3",
   "version": "3.9.13"
  }
 },
 "nbformat": 4,
 "nbformat_minor": 5
}
