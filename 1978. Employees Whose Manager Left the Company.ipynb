{
 "cells": [
  {
   "cell_type": "code",
   "execution_count": null,
   "id": "399133e8",
   "metadata": {},
   "outputs": [],
   "source": [
    "import pandas as pd\n",
    "\n",
    "def find_employees(employees: pd.DataFrame) -> pd.DataFrame:\n",
    "    seen = set(employees[\"employee_id\"])\n",
    "    employees = employees[(employees[\"salary\"]<30000) & (~employees[\"manager_id\"].isin(seen)) & (employees[\"manager_id\"].notnull())]\n",
    "    return employees[[\"employee_id\"]].sort_values(by=\"employee_id\")"
   ]
  }
 ],
 "metadata": {
  "kernelspec": {
   "display_name": "Python 3 (ipykernel)",
   "language": "python",
   "name": "python3"
  },
  "language_info": {
   "codemirror_mode": {
    "name": "ipython",
    "version": 3
   },
   "file_extension": ".py",
   "mimetype": "text/x-python",
   "name": "python",
   "nbconvert_exporter": "python",
   "pygments_lexer": "ipython3",
   "version": "3.10.9"
  }
 },
 "nbformat": 4,
 "nbformat_minor": 5
}
