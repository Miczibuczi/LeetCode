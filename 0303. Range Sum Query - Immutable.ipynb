{
 "cells": [
  {
   "cell_type": "code",
   "execution_count": null,
   "id": "f2ec7b85",
   "metadata": {},
   "outputs": [],
   "source": [
    "class NumArray:\n",
    "\n",
    "    def __init__(self, nums: List[int]):\n",
    "        self.acc_arr = [nums[0]]\n",
    "        for i in range(1, len(nums)):\n",
    "            self.acc_arr.append(nums[i] + self.acc_arr[-1])\n",
    "\n",
    "    def sumRange(self, left: int, right: int) -> int:\n",
    "        if left == 0:\n",
    "            return self.acc_arr[right]\n",
    "        else:\n",
    "            return self.acc_arr[right] - self.acc_arr[left-1]\n",
    "\n",
    "\n",
    "# Your NumArray object will be instantiated and called as such:\n",
    "# obj = NumArray(nums)\n",
    "# param_1 = obj.sumRange(left,right)"
   ]
  },
  {
   "cell_type": "code",
   "execution_count": null,
   "id": "67620fbc",
   "metadata": {},
   "outputs": [],
   "source": [
    "# first answer, time inefficient\n",
    "class NumArray:\n",
    "\n",
    "    def __init__(self, nums: List[int]):\n",
    "        self.arr = nums\n",
    "\n",
    "    def sumRange(self, left: int, right: int) -> int:\n",
    "        return sum(self.arr[left : right+1])\n",
    "\n",
    "\n",
    "# Your NumArray object will be instantiated and called as such:\n",
    "# obj = NumArray(nums)\n",
    "# param_1 = obj.sumRange(left,right)"
   ]
  }
 ],
 "metadata": {
  "kernelspec": {
   "display_name": "Python 3 (ipykernel)",
   "language": "python",
   "name": "python3"
  },
  "language_info": {
   "codemirror_mode": {
    "name": "ipython",
    "version": 3
   },
   "file_extension": ".py",
   "mimetype": "text/x-python",
   "name": "python",
   "nbconvert_exporter": "python",
   "pygments_lexer": "ipython3",
   "version": "3.9.13"
  }
 },
 "nbformat": 4,
 "nbformat_minor": 5
}
