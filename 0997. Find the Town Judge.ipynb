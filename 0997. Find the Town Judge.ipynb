{
 "cells": [
  {
   "cell_type": "code",
   "execution_count": 3,
   "id": "b9652f95",
   "metadata": {},
   "outputs": [],
   "source": [
    "class Solution:\n",
    "    def findJudge(self, n: int, trust: List[List[int]]) -> int:\n",
    "        potencial_judge = set(i+1 for i in range(n))\n",
    "        trusted_count = defaultdict(int)\n",
    "        for i in range(len(trust)):\n",
    "            potencial_judge.discard(trust[i][0])\n",
    "            trusted_count[trust[i][1]]+=1\n",
    "        if len(potencial_judge) == 1 and trusted_count[list(potencial_judge)[0]] == n-1:\n",
    "            return potencial_judge.pop()\n",
    "        else:\n",
    "            return -1"
   ]
  }
 ],
 "metadata": {
  "kernelspec": {
   "display_name": "Python 3 (ipykernel)",
   "language": "python",
   "name": "python3"
  },
  "language_info": {
   "codemirror_mode": {
    "name": "ipython",
    "version": 3
   },
   "file_extension": ".py",
   "mimetype": "text/x-python",
   "name": "python",
   "nbconvert_exporter": "python",
   "pygments_lexer": "ipython3",
   "version": "3.9.13"
  }
 },
 "nbformat": 4,
 "nbformat_minor": 5
}
