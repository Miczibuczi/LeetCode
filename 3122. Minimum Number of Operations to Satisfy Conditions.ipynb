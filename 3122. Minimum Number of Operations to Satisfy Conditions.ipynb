{
 "cells": [
  {
   "cell_type": "code",
   "execution_count": null,
   "id": "5287f2f4",
   "metadata": {},
   "outputs": [],
   "source": [
    "# 188ms, beats 100% solutions\n",
    "class Solution:\n",
    "    def minimumOperations(self, grid: List[List[int]]) -> int:\n",
    "        operations = [0 for i in range(10)]\n",
    "        for i in range(len(grid[0])):\n",
    "            cur_operations = [0 for i in range(10)]\n",
    "            for j in range(len(grid)):\n",
    "                cur_operations[grid[j][i]] += 1\n",
    "            for k in range(10):\n",
    "                cur_operations[k] += max(operations[:k]+operations[k+1:])\n",
    "            operations = cur_operations\n",
    "        return len(grid)*len(grid[0])-max(operations)"
   ]
  }
 ],
 "metadata": {
  "kernelspec": {
   "display_name": "Python 3 (ipykernel)",
   "language": "python",
   "name": "python3"
  },
  "language_info": {
   "codemirror_mode": {
    "name": "ipython",
    "version": 3
   },
   "file_extension": ".py",
   "mimetype": "text/x-python",
   "name": "python",
   "nbconvert_exporter": "python",
   "pygments_lexer": "ipython3",
   "version": "3.10.9"
  }
 },
 "nbformat": 4,
 "nbformat_minor": 5
}
