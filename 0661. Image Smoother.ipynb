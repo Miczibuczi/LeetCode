{
 "cells": [
  {
   "cell_type": "code",
   "execution_count": 6,
   "id": "ce9d34c6",
   "metadata": {},
   "outputs": [],
   "source": [
    "class Solution:\n",
    "    def imageSmoother(self, img: List[List[int]]) -> List[List[int]]:\n",
    "        m = len(img)\n",
    "        n = len(img[0])\n",
    "        answer = [[0 for k in range(n)]for k in range(m)]\n",
    "        for i in range(m):\n",
    "            for j in range(n):\n",
    "                divider = 1\n",
    "                my_sum = img[i][j]\n",
    "                if i >= 1 and j >=1:\n",
    "                    my_sum += img[i-1][j-1]\n",
    "                    divider += 1\n",
    "                if i >= 1:\n",
    "                    my_sum += img[i-1][j]\n",
    "                    divider += 1\n",
    "                if i >= 1 and j <= n-2:\n",
    "                    my_sum += img[i-1][j+1]\n",
    "                    divider += 1\n",
    "                if j >= 1:\n",
    "                    my_sum += img[i][j-1]\n",
    "                    divider += 1\n",
    "                if j <= n-2:\n",
    "                    my_sum += img[i][j+1]\n",
    "                    divider += 1\n",
    "                if i <= m-2 and j >= 1 :\n",
    "                    my_sum += img[i+1][j-1]\n",
    "                    divider += 1\n",
    "                if i <= m-2:\n",
    "                    my_sum += img[i+1][j]\n",
    "                    divider += 1\n",
    "                if i <= m-2 and j <= n-2:\n",
    "                    my_sum += img[i+1][j+1]\n",
    "                    divider += 1\n",
    "                answer[i][j] = my_sum//divider\n",
    "        return answer"
   ]
  }
 ],
 "metadata": {
  "kernelspec": {
   "display_name": "Python 3 (ipykernel)",
   "language": "python",
   "name": "python3"
  },
  "language_info": {
   "codemirror_mode": {
    "name": "ipython",
    "version": 3
   },
   "file_extension": ".py",
   "mimetype": "text/x-python",
   "name": "python",
   "nbconvert_exporter": "python",
   "pygments_lexer": "ipython3",
   "version": "3.9.13"
  }
 },
 "nbformat": 4,
 "nbformat_minor": 5
}
