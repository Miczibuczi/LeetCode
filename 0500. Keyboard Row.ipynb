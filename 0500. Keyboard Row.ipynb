{
 "cells": [
  {
   "cell_type": "code",
   "execution_count": null,
   "id": "8ecab857",
   "metadata": {},
   "outputs": [],
   "source": [
    "class Solution:\n",
    "    def findWords(self, words: List[str]) -> List[str]:\n",
    "        solution = []\n",
    "        first_row = \"qwertyuiop\"\n",
    "        second_row = \"asdfghjkl\"\n",
    "        third_row = \"zxcvbnm\"\n",
    "        for word in words:\n",
    "            for w in word:\n",
    "                if w.lower() not in first_row:\n",
    "                    break\n",
    "            else:\n",
    "                solution.append(word)\n",
    "\n",
    "            for w in word:\n",
    "                if w.lower() not in second_row:\n",
    "                    break\n",
    "            else:\n",
    "                solution.append(word)\n",
    "\n",
    "            for w in word:\n",
    "                if w.lower() not in third_row:\n",
    "                    break\n",
    "            else:\n",
    "                solution.append(word)\n",
    "        return solution"
   ]
  }
 ],
 "metadata": {
  "kernelspec": {
   "display_name": "Python 3 (ipykernel)",
   "language": "python",
   "name": "python3"
  },
  "language_info": {
   "codemirror_mode": {
    "name": "ipython",
    "version": 3
   },
   "file_extension": ".py",
   "mimetype": "text/x-python",
   "name": "python",
   "nbconvert_exporter": "python",
   "pygments_lexer": "ipython3",
   "version": "3.9.13"
  }
 },
 "nbformat": 4,
 "nbformat_minor": 5
}
