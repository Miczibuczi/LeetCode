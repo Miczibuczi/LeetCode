{
 "cells": [
  {
   "cell_type": "code",
   "execution_count": null,
   "id": "dd52bfe6",
   "metadata": {},
   "outputs": [],
   "source": [
    "class Solution:\n",
    "    def maxProfit(self, prices: List[int]) -> int:\n",
    "        have = -prices[0]\n",
    "        dont_have = 0\n",
    "        cooldown = False\n",
    "        for price in prices[1:]:\n",
    "            if not cooldown:\n",
    "                temp = max(have, dont_have - price)\n",
    "            else:\n",
    "                coldown = False\n",
    "            \n",
    "            if have + price > dont_have:\n",
    "                cooldown = True\n",
    "                dont_have = have + price\n",
    "            have = temp\n",
    "        print(dont_have)\n",
    "        return have+prices[-1]"
   ]
  },
  {
   "cell_type": "code",
   "execution_count": null,
   "id": "5a502a26",
   "metadata": {},
   "outputs": [],
   "source": [
    "class Solution:\n",
    "    def maxProfit(self, prices: List[int]) -> int:\n",
    "        profit_sell, profit_wait = 0, 0\n",
    "        cur_s_val = prices[0]\n",
    "        cur_w_val = prices[0]\n",
    "        cooldown = False\n",
    "        for price in prices:\n",
    "            if price > cur_w_val:\n",
    "                temp = profit_sell\n",
    "                profit_sell = profit_wait + price-cur_w_val\n",
    "                profit_wait = temp\n",
    "                cur_w_val = cur_s_val\n",
    "                cur_s_val = price\n",
    "                cooldown = True\n",
    "            else:\n",
    "                cur_w_val = price\n",
    "                if not cooldown:\n",
    "                    cur_s_val = price\n",
    "                    profit_wait = profit_sell\n",
    "                cooldown = False\n",
    "        return max(profit_sell, profit_wait)"
   ]
  },
  {
   "cell_type": "code",
   "execution_count": null,
   "id": "156ca1d5",
   "metadata": {},
   "outputs": [],
   "source": [
    "class Solution:\n",
    "    def maxProfit(self, prices: List[int]) -> int:\n",
    "        profit_sell, profit_wait = 0, 0\n",
    "        cur_s_val = prices[0]\n",
    "        cur_w_val = prices[0]\n",
    "        cooldown = False\n",
    "        for price in prices:\n",
    "            if price > cur_w_val:\n",
    "                temp = profit_sell\n",
    "                profit_sell = max(profit_wait+price-cur_w_val, profit_sell+price-cur_s_val)\n",
    "                cur_w_val += (temp-profit_wait)\n",
    "                profit_wait = temp\n",
    "                cur_s_val = price\n",
    "                cooldown = True\n",
    "            else:\n",
    "                cur_w_val = price\n",
    "                if not cooldown:\n",
    "                    cur_s_val = price\n",
    "                    profit_wait = profit_sell\n",
    "                cooldown = False\n",
    "        return max(profit_sell, profit_wait)"
   ]
  },
  {
   "cell_type": "code",
   "execution_count": null,
   "id": "313ce059",
   "metadata": {},
   "outputs": [],
   "source": []
  },
  {
   "cell_type": "code",
   "execution_count": null,
   "id": "94fa1c44",
   "metadata": {},
   "outputs": [],
   "source": []
  },
  {
   "cell_type": "code",
   "execution_count": null,
   "id": "e5ef2c02",
   "metadata": {},
   "outputs": [],
   "source": []
  },
  {
   "cell_type": "code",
   "execution_count": null,
   "id": "f91cc5c4",
   "metadata": {},
   "outputs": [],
   "source": []
  },
  {
   "cell_type": "code",
   "execution_count": null,
   "id": "42eae022",
   "metadata": {},
   "outputs": [],
   "source": []
  },
  {
   "cell_type": "code",
   "execution_count": null,
   "id": "eede5379",
   "metadata": {},
   "outputs": [],
   "source": []
  },
  {
   "cell_type": "code",
   "execution_count": null,
   "id": "abcfa50d",
   "metadata": {},
   "outputs": [],
   "source": [
    "# Solves 205 out of 210 testcases\n",
    "class Solution:\n",
    "    def maxProfit(self, prices: List[int]) -> int:\n",
    "        cur_s_val = prices[0]\n",
    "        cur_w_val = prices[0]\n",
    "        profit_sell, profit_wait = 0, 0\n",
    "        cooldown = False\n",
    "        for i in range(1, len(prices)):\n",
    "            if prices[i] > prices[i-1]:\n",
    "                temp = profit_sell\n",
    "                profit_sell = max(profit_wait+prices[i]-cur_w_val, profit_sell+prices[i]-cur_s_val, profit_sell)\n",
    "                if temp - cur_s_val >= profit_wait - cur_w_val:\n",
    "                    profit_wait = temp\n",
    "                    cur_w_val = cur_s_val\n",
    "                cur_s_val = prices[i]\n",
    "                cooldown = True\n",
    "            else:\n",
    "                cur_w_val = min(cur_w_val, prices[i])\n",
    "                if not cooldown:\n",
    "                    print(\"I am here\", prices[i])\n",
    "                    cur_s_val = prices[i]\n",
    "                    if profit_sell - cur_s_val > profit_wait - cur_w_val:\n",
    "                        profit_wait = profit_sell\n",
    "                        cur_w_val = cur_s_val\n",
    "                cooldown = False\n",
    "            print(\"price:\", prices[i], profit_sell, profit_wait)\n",
    "        return max(profit_sell, profit_wait)"
   ]
  },
  {
   "cell_type": "code",
   "execution_count": null,
   "id": "cc97c697",
   "metadata": {},
   "outputs": [],
   "source": []
  },
  {
   "cell_type": "code",
   "execution_count": null,
   "id": "40b5d016",
   "metadata": {},
   "outputs": [],
   "source": []
  },
  {
   "cell_type": "code",
   "execution_count": null,
   "id": "45e392ea",
   "metadata": {},
   "outputs": [],
   "source": []
  },
  {
   "cell_type": "code",
   "execution_count": null,
   "id": "6f72493d",
   "metadata": {},
   "outputs": [],
   "source": []
  },
  {
   "cell_type": "code",
   "execution_count": null,
   "id": "78af5923",
   "metadata": {},
   "outputs": [],
   "source": []
  },
  {
   "cell_type": "code",
   "execution_count": null,
   "id": "b1d1cee8",
   "metadata": {},
   "outputs": [],
   "source": []
  },
  {
   "cell_type": "code",
   "execution_count": null,
   "id": "db5862e1",
   "metadata": {},
   "outputs": [],
   "source": []
  },
  {
   "cell_type": "code",
   "execution_count": null,
   "id": "36385498",
   "metadata": {},
   "outputs": [],
   "source": []
  },
  {
   "cell_type": "code",
   "execution_count": null,
   "id": "6f648177",
   "metadata": {},
   "outputs": [],
   "source": []
  },
  {
   "cell_type": "code",
   "execution_count": null,
   "id": "9157727d",
   "metadata": {},
   "outputs": [],
   "source": []
  },
  {
   "cell_type": "code",
   "execution_count": null,
   "id": "1dd5ed33",
   "metadata": {},
   "outputs": [],
   "source": []
  },
  {
   "cell_type": "code",
   "execution_count": null,
   "id": "286bb48a",
   "metadata": {},
   "outputs": [],
   "source": []
  },
  {
   "cell_type": "code",
   "execution_count": null,
   "id": "f79cbc12",
   "metadata": {},
   "outputs": [],
   "source": []
  },
  {
   "cell_type": "code",
   "execution_count": null,
   "id": "b1cbbcfa",
   "metadata": {},
   "outputs": [],
   "source": [
    "class Solution:\n",
    "    def maxProfit(self, prices: List[int]) -> int:\n",
    "        profit = [0, 0, 0]\n",
    "        prices.insert(0, prices[0])\n",
    "        cooldown = False\n",
    "        for i, price in enumerate(prices[2:], start=2):\n",
    "            if price <= prices[i-1]:\n",
    "                profit.append(profit[-1])\n",
    "                cooldown = False\n",
    "            else:\n",
    "                if cooldown:\n",
    "                    profit.append(profit[-1]+price-prices[i-1])\n",
    "                else:\n",
    "                    cur = max(profit[-3]+price-prices[i-1], profit[-1])\n",
    "                    profit.append(cur)\n",
    "                cooldown = True\n",
    "            print(price, profit)\n",
    "        return profit[-1]"
   ]
  },
  {
   "cell_type": "code",
   "execution_count": null,
   "id": "ec8fdc6d",
   "metadata": {},
   "outputs": [],
   "source": [
    "class Solution:\n",
    "    def maxProfit(self, prices: List[int]) -> int:\n",
    "        profit = [0, 0, 0]\n",
    "        prices.insert(0, prices[0])\n",
    "        cooldown = False\n",
    "        for i, price in enumerate(prices[2:], start=2):\n",
    "            if price <= prices[i-1]:\n",
    "                profit.append(profit[-1])\n",
    "                cooldown = False\n",
    "            else:\n",
    "                if cooldown:\n",
    "                    profit.append(profit[-1]+price-prices[i-1])\n",
    "                else:\n",
    "                    cur = max(profit[-3]+price-prices[i-1], profit[-1])\n",
    "                    profit.append(cur)\n",
    "                cooldown = True\n",
    "            print(price, profit)\n",
    "        return profit[-1]"
   ]
  }
 ],
 "metadata": {
  "kernelspec": {
   "display_name": "Python 3 (ipykernel)",
   "language": "python",
   "name": "python3"
  },
  "language_info": {
   "codemirror_mode": {
    "name": "ipython",
    "version": 3
   },
   "file_extension": ".py",
   "mimetype": "text/x-python",
   "name": "python",
   "nbconvert_exporter": "python",
   "pygments_lexer": "ipython3",
   "version": "3.10.9"
  }
 },
 "nbformat": 4,
 "nbformat_minor": 5
}
