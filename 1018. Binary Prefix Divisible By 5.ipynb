{
 "cells": [
  {
   "cell_type": "code",
   "execution_count": null,
   "id": "ba37fde0",
   "metadata": {},
   "outputs": [],
   "source": [
    "class Solution:\n",
    "    def prefixesDivBy5(self, nums: List[int]) -> List[bool]:\n",
    "        num = nums[0]\n",
    "        answer = [num % 5 == 0]\n",
    "        for i in range(1, len(nums)):\n",
    "            num = num*2+nums[i]\n",
    "            answer.append(num % 5 == 0)\n",
    "        return answer"
   ]
  }
 ],
 "metadata": {
  "kernelspec": {
   "display_name": "Python 3 (ipykernel)",
   "language": "python",
   "name": "python3"
  },
  "language_info": {
   "codemirror_mode": {
    "name": "ipython",
    "version": 3
   },
   "file_extension": ".py",
   "mimetype": "text/x-python",
   "name": "python",
   "nbconvert_exporter": "python",
   "pygments_lexer": "ipython3",
   "version": "3.9.13"
  }
 },
 "nbformat": 4,
 "nbformat_minor": 5
}
