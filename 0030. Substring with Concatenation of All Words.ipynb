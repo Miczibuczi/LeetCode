{
 "cells": [
  {
   "cell_type": "code",
   "execution_count": null,
   "id": "b5a36613",
   "metadata": {},
   "outputs": [],
   "source": [
    "class Solution:\n",
    "    def findSubstring(self, s: str, words: List[str]) -> List[int]:\n",
    "        ans = []\n",
    "        left = 0\n",
    "        len_w = len(words[0])\n",
    "        right = len(words)*len_w\n",
    "        my_dictionary1 = defaultdict(int)\n",
    "        for word in words:\n",
    "            my_dictionary1[word] += 1\n",
    "\n",
    "        while right <=len(s):\n",
    "                my_dictionary2 = defaultdict(int)\n",
    "                for i in range(len(words)):\n",
    "                    string = s[left+i*len_w:left+(i+1)*len_w]\n",
    "                    if string not in my_dictionary1:\n",
    "                        break\n",
    "                    else:\n",
    "                        my_dictionary2[string] += 1\n",
    "                if my_dictionary1 == my_dictionary2:\n",
    "                    ans.append(left)\n",
    "                left += 1\n",
    "                right += 1\n",
    "        return ans"
   ]
  }
 ],
 "metadata": {
  "kernelspec": {
   "display_name": "Python 3 (ipykernel)",
   "language": "python",
   "name": "python3"
  },
  "language_info": {
   "codemirror_mode": {
    "name": "ipython",
    "version": 3
   },
   "file_extension": ".py",
   "mimetype": "text/x-python",
   "name": "python",
   "nbconvert_exporter": "python",
   "pygments_lexer": "ipython3",
   "version": "3.9.13"
  }
 },
 "nbformat": 4,
 "nbformat_minor": 5
}
