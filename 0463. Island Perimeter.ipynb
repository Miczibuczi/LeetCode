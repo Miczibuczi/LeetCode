{
 "cells": [
  {
   "cell_type": "code",
   "execution_count": 13,
   "id": "6f2281a2",
   "metadata": {},
   "outputs": [],
   "source": [
    "class Solution:\n",
    "    def islandPerimeter(self, grid: List[List[int]]) -> int:\n",
    "        perimeter = 0\n",
    "        for i in range(len(grid)):\n",
    "            for j in range(len(grid[0])):\n",
    "                if grid[i][j] == 1:\n",
    "                    perimeter += 4\n",
    "                    if grid[i][j-1:j] == [1]:\n",
    "                        perimeter -= 1\n",
    "                    if grid[i][j+1:j+2] == [1]:\n",
    "                        perimeter -= 1\n",
    "                    if i > 0 and grid[i-1][j] == 1:\n",
    "                        perimeter -= 1\n",
    "                    if i < len(grid)-1 and grid[i+1][j] == 1:\n",
    "                        perimeter -= 1\n",
    "        return perimeter"
   ]
  }
 ],
 "metadata": {
  "kernelspec": {
   "display_name": "Python 3 (ipykernel)",
   "language": "python",
   "name": "python3"
  },
  "language_info": {
   "codemirror_mode": {
    "name": "ipython",
    "version": 3
   },
   "file_extension": ".py",
   "mimetype": "text/x-python",
   "name": "python",
   "nbconvert_exporter": "python",
   "pygments_lexer": "ipython3",
   "version": "3.9.13"
  }
 },
 "nbformat": 4,
 "nbformat_minor": 5
}
