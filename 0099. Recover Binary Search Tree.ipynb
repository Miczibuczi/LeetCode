{
 "cells": [
  {
   "cell_type": "code",
   "execution_count": null,
   "id": "a2d2c0f1",
   "metadata": {},
   "outputs": [],
   "source": [
    "# Definition for a binary tree node.\n",
    "# class TreeNode:\n",
    "#     def __init__(self, val=0, left=None, right=None):\n",
    "#         self.val = val\n",
    "#         self.left = left\n",
    "#         self.right = right\n",
    "class Solution:\n",
    "    def recoverTree(self, root: Optional[TreeNode]) -> None:\n",
    "        \"\"\"\n",
    "        Do not return anything, modify root in-place instead.\n",
    "        \"\"\"\n",
    "        def inOrder(node):\n",
    "            if not node:\n",
    "                return\n",
    "            inOrder(node.left)\n",
    "            order.append(node.val)\n",
    "            inOrder(node.right)\n",
    "        \n",
    "        def inOrder2(node):\n",
    "            if not node:\n",
    "                return\n",
    "            inOrder2(node.left)\n",
    "            if node.val != order[self.indx]:\n",
    "                node.val = order[self.indx]\n",
    "            self.indx += 1\n",
    "            inOrder2(node.right)\n",
    "\n",
    "        order = []\n",
    "        inOrder(root)\n",
    "        order.sort()\n",
    "        self.indx = 0\n",
    "        inOrder2(root)"
   ]
  }
 ],
 "metadata": {
  "kernelspec": {
   "display_name": "Python 3 (ipykernel)",
   "language": "python",
   "name": "python3"
  },
  "language_info": {
   "codemirror_mode": {
    "name": "ipython",
    "version": 3
   },
   "file_extension": ".py",
   "mimetype": "text/x-python",
   "name": "python",
   "nbconvert_exporter": "python",
   "pygments_lexer": "ipython3",
   "version": "3.10.9"
  }
 },
 "nbformat": 4,
 "nbformat_minor": 5
}
