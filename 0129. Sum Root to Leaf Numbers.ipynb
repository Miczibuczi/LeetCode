{
 "cells": [
  {
   "cell_type": "code",
   "execution_count": null,
   "id": "fcab999d",
   "metadata": {},
   "outputs": [],
   "source": [
    "# Definition for a binary tree node.\n",
    "# class TreeNode:\n",
    "#     def __init__(self, val=0, left=None, right=None):\n",
    "#         self.val = val\n",
    "#         self.left = left\n",
    "#         self.right = right\n",
    "class Solution:\n",
    "    def sumNumbers(self, root: Optional[TreeNode]) -> int:\n",
    "        def Traversal(node, cur_num):\n",
    "            if not node:\n",
    "                return\n",
    "            cur_num.append(str(node.val))\n",
    "            if not node.left and not node.right:\n",
    "                self.ans += int(\"\".join(cur_num))\n",
    "                cur_num.pop()\n",
    "                return\n",
    "            Traversal(node.left, cur_num)\n",
    "            Traversal(node.right, cur_num)\n",
    "            cur_num.pop()\n",
    "\n",
    "        self.ans = 0\n",
    "        Traversal(root, [])\n",
    "        return self.ans"
   ]
  }
 ],
 "metadata": {
  "kernelspec": {
   "display_name": "Python 3 (ipykernel)",
   "language": "python",
   "name": "python3"
  },
  "language_info": {
   "codemirror_mode": {
    "name": "ipython",
    "version": 3
   },
   "file_extension": ".py",
   "mimetype": "text/x-python",
   "name": "python",
   "nbconvert_exporter": "python",
   "pygments_lexer": "ipython3",
   "version": "3.9.13"
  }
 },
 "nbformat": 4,
 "nbformat_minor": 5
}
