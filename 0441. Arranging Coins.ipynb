{
 "cells": [
  {
   "cell_type": "code",
   "execution_count": null,
   "id": "d9599e75",
   "metadata": {},
   "outputs": [],
   "source": [
    "class Solution:\n",
    "    def arrangeCoins(self, n: int) -> int:\n",
    "        result = 0\n",
    "        i = 1\n",
    "        while n >= i:\n",
    "            result += 1\n",
    "            n -= i\n",
    "            i += 1\n",
    "        return result"
   ]
  },
  {
   "cell_type": "code",
   "execution_count": null,
   "id": "73fbcbb3",
   "metadata": {},
   "outputs": [],
   "source": [
    "class Solution:\n",
    "    def arrangeCoins(self, n: int) -> int:\n",
    "        min_rows = 1\n",
    "        max_rows = n\n",
    "        while min_rows <= max_rows:\n",
    "            mid = (min_rows+max_rows)//2\n",
    "            if (1+mid)*mid/2 == n:\n",
    "                return mid\n",
    "            elif (1+mid)*mid/2 < n:\n",
    "                min_rows = mid+1\n",
    "            elif (1+mid)*mid/2 > n:\n",
    "                if (mid)*(mid-1)/2 <= n:\n",
    "                    return mid-1\n",
    "                else:\n",
    "                    max_rows = mid - 1\n",
    "        return max_rows"
   ]
  }
 ],
 "metadata": {
  "kernelspec": {
   "display_name": "Python 3 (ipykernel)",
   "language": "python",
   "name": "python3"
  },
  "language_info": {
   "codemirror_mode": {
    "name": "ipython",
    "version": 3
   },
   "file_extension": ".py",
   "mimetype": "text/x-python",
   "name": "python",
   "nbconvert_exporter": "python",
   "pygments_lexer": "ipython3",
   "version": "3.9.13"
  }
 },
 "nbformat": 4,
 "nbformat_minor": 5
}
