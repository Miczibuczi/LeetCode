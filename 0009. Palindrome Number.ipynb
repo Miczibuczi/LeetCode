{
 "cells": [
  {
   "cell_type": "code",
   "execution_count": 2,
   "id": "0ddc8351",
   "metadata": {},
   "outputs": [],
   "source": [
    "# First answer\n",
    "class Solution:\n",
    "    def isPalindrome(self, x: int) -> bool:\n",
    "        y = str(x)[::-1]\n",
    "        if str(x) == y:\n",
    "            return True\n",
    "        else:\n",
    "            return False"
   ]
  },
  {
   "cell_type": "code",
   "execution_count": 13,
   "id": "61471738",
   "metadata": {},
   "outputs": [
    {
     "name": "stdout",
     "output_type": "stream",
     "text": [
      "true\n"
     ]
    }
   ],
   "source": [
    "x = 121\n",
    "y = str(x)[::-1]\n",
    "if str(x) == y:\n",
    "    return True\n",
    "else:\n",
    "    return False"
   ]
  },
  {
   "cell_type": "code",
   "execution_count": 14,
   "id": "81db64ff",
   "metadata": {},
   "outputs": [
    {
     "name": "stdout",
     "output_type": "stream",
     "text": [
      "false\n"
     ]
    }
   ],
   "source": [
    "x = -121\n",
    "y = str(x)[::-1]\n",
    "if str(x) == y:\n",
    "    print(\"true\")\n",
    "else:\n",
    "    print(\"false\")"
   ]
  },
  {
   "cell_type": "code",
   "execution_count": 15,
   "id": "8ad73079",
   "metadata": {},
   "outputs": [
    {
     "name": "stdout",
     "output_type": "stream",
     "text": [
      "false\n"
     ]
    }
   ],
   "source": [
    "x = 10\n",
    "y = str(x)[::-1]\n",
    "if str(x) == y:\n",
    "    print(\"true\")\n",
    "else:\n",
    "    print(\"false\")"
   ]
  },
  {
   "cell_type": "code",
   "execution_count": 45,
   "id": "9683d19f",
   "metadata": {},
   "outputs": [],
   "source": [
    "# Answer with not converting intiger to a string\n",
    "class Solution:\n",
    "    def isPalindrome(self, x: int) -> bool:\n",
    "        check = x\n",
    "        a = 1\n",
    "        my_list = []\n",
    "        while x > 9:\n",
    "            y = x % 10\n",
    "            x //= 10\n",
    "            my_list.append(y)\n",
    "            a += 1\n",
    "        my_list.append(x)\n",
    "\n",
    "        z = 0\n",
    "        for i in range(a):\n",
    "            z += my_list[i]*10**(a-1-i)\n",
    "\n",
    "        if check < 0:\n",
    "            return False\n",
    "        elif z == check:\n",
    "            return True\n",
    "        else:\n",
    "            return False"
   ]
  }
 ],
 "metadata": {
  "kernelspec": {
   "display_name": "Python 3 (ipykernel)",
   "language": "python",
   "name": "python3"
  },
  "language_info": {
   "codemirror_mode": {
    "name": "ipython",
    "version": 3
   },
   "file_extension": ".py",
   "mimetype": "text/x-python",
   "name": "python",
   "nbconvert_exporter": "python",
   "pygments_lexer": "ipython3",
   "version": "3.9.13"
  }
 },
 "nbformat": 4,
 "nbformat_minor": 5
}
