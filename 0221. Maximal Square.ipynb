{
 "cells": [
  {
   "cell_type": "code",
   "execution_count": null,
   "id": "318e6b47",
   "metadata": {},
   "outputs": [],
   "source": [
    "class Solution:\n",
    "    def maximalSquare(self, matrix: List[List[str]]) -> int:\n",
    "        cur_line = [0 for i in range(len(matrix[0]))]\n",
    "        ans = 0\n",
    "        for i in range(len(matrix)):\n",
    "            count = 0\n",
    "            for j in range(len(matrix[0])):\n",
    "                if matrix[i][j] == \"1\":\n",
    "                    cur_line[j] += 1\n",
    "                    if cur_line[j] > ans:\n",
    "                        count+=1\n",
    "                        if count > ans:\n",
    "                            ans = count\n",
    "                            count = 0\n",
    "                    else:\n",
    "                        count = 0\n",
    "                else:\n",
    "                    cur_line[j] = 0\n",
    "                    count = 0\n",
    "        return ans**2"
   ]
  }
 ],
 "metadata": {
  "kernelspec": {
   "display_name": "Python 3 (ipykernel)",
   "language": "python",
   "name": "python3"
  },
  "language_info": {
   "codemirror_mode": {
    "name": "ipython",
    "version": 3
   },
   "file_extension": ".py",
   "mimetype": "text/x-python",
   "name": "python",
   "nbconvert_exporter": "python",
   "pygments_lexer": "ipython3",
   "version": "3.9.13"
  }
 },
 "nbformat": 4,
 "nbformat_minor": 5
}
