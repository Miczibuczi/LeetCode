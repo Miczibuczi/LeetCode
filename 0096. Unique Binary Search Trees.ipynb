{
 "cells": [
  {
   "cell_type": "code",
   "execution_count": null,
   "id": "58e26035",
   "metadata": {},
   "outputs": [],
   "source": [
    "class Solution:\n",
    "    def numTrees(self, n: int) -> int:\n",
    "        def helper(nums):\n",
    "            cur_sum = 0\n",
    "            if not nums:\n",
    "                return 0\n",
    "            elif len(nums) == 1:\n",
    "                return 1\n",
    "            for i in range(len(nums)):\n",
    "                cur_sum += (helper(nums[:i]) or 1) * (helper(nums[i+1:]) or 1)\n",
    "            return cur_sum\n",
    "        return helper([x for x in range(1, n+1)])"
   ]
  },
  {
   "cell_type": "code",
   "execution_count": null,
   "id": "99dea7b0",
   "metadata": {},
   "outputs": [],
   "source": [
    "class Solution:\n",
    "    def numTrees(self, n: int) -> int:\n",
    "        cur_sum = 0\n",
    "        if n == 0:\n",
    "            return 0\n",
    "        elif n == 1:\n",
    "            return 1\n",
    "        for i in range(n):\n",
    "            cur_sum += (self.numTrees(i) or 1) * (self.numTrees(n-1-i) or 1)\n",
    "        return cur_sum"
   ]
  },
  {
   "cell_type": "code",
   "execution_count": 3,
   "id": "5023c2be",
   "metadata": {},
   "outputs": [],
   "source": [
    "def numTrees(n):\n",
    "    def helper(nums):\n",
    "        cur_sum = 0\n",
    "        if not nums:\n",
    "            return 0\n",
    "        elif len(nums) == 1:\n",
    "            return 1\n",
    "        for i in range(len(nums)):\n",
    "            cur_sum += (helper(nums[:i]) or 1) * (helper(nums[i+1:]) or 1)\n",
    "        return cur_sum\n",
    "    return helper([x for x in range(1, n+1)])"
   ]
  },
  {
   "cell_type": "code",
   "execution_count": 7,
   "id": "b19d7173",
   "metadata": {},
   "outputs": [
    {
     "data": {
      "text/plain": [
       "9694845"
      ]
     },
     "execution_count": 7,
     "metadata": {},
     "output_type": "execute_result"
    }
   ],
   "source": [
    "numTrees(15)"
   ]
  },
  {
   "cell_type": "code",
   "execution_count": 11,
   "id": "7540ec03",
   "metadata": {},
   "outputs": [],
   "source": [
    "def numTrees(n: int) -> int:\n",
    "    cur_sum = 0\n",
    "    if n == 0:\n",
    "        return 0\n",
    "    elif n == 1:\n",
    "        return 1\n",
    "    for i in range(n):\n",
    "        cur_sum += (numTrees(i) or 1) * (numTrees(n-1-i) or 1)\n",
    "    return cur_sum"
   ]
  },
  {
   "cell_type": "code",
   "execution_count": 14,
   "id": "9914af85",
   "metadata": {},
   "outputs": [
    {
     "name": "stdout",
     "output_type": "stream",
     "text": [
      "2.57 s ± 114 ms per loop (mean ± std. dev. of 7 runs, 1 loop each)\n"
     ]
    }
   ],
   "source": [
    "%%timeit\n",
    "numTrees(15)"
   ]
  },
  {
   "cell_type": "code",
   "execution_count": null,
   "id": "2169d5f3",
   "metadata": {},
   "outputs": [],
   "source": [
    "class Solution:\n",
    "    def numTrees(self, n: int) -> int:\n",
    "        def helper(cur_ans, cur_num)\n",
    "            if n == 0:\n",
    "                return 0\n",
    "            elif n == 1:\n",
    "                return 1\n",
    "            for i in range(n):\n",
    "                (helper(i) or 1) * (self.numTrees(n-1-i) or 1)\n",
    "        \n",
    "        self.ans = 0\n",
    "        helper(1, n)\n",
    "        return self.ans"
   ]
  },
  {
   "cell_type": "code",
   "execution_count": null,
   "id": "b5016fc0",
   "metadata": {},
   "outputs": [],
   "source": [
    "class Solution:\n",
    "    def numTrees(self, n: int) -> int:\n",
    "        def helper(cur_ans, cur_num):\n",
    "            if cur_num == 0:\n",
    "                return 0\n",
    "            elif cur_num == 1:\n",
    "                self.ans += cur_ans\n",
    "            for i in range(1, cur_num):\n",
    "                helper(cur_ans*(i), cur_num-1-i)\n",
    "                helper(cur_ans*(cur_num-1-i), i)\n",
    "        \n",
    "        self.ans = 0\n",
    "        helper(1, n)\n",
    "        return self.ans"
   ]
  }
 ],
 "metadata": {
  "kernelspec": {
   "display_name": "Python 3 (ipykernel)",
   "language": "python",
   "name": "python3"
  },
  "language_info": {
   "codemirror_mode": {
    "name": "ipython",
    "version": 3
   },
   "file_extension": ".py",
   "mimetype": "text/x-python",
   "name": "python",
   "nbconvert_exporter": "python",
   "pygments_lexer": "ipython3",
   "version": "3.10.9"
  }
 },
 "nbformat": 4,
 "nbformat_minor": 5
}
