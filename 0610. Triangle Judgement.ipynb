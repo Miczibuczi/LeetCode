{
 "cells": [
  {
   "cell_type": "code",
   "execution_count": null,
   "id": "fc5cf6a6",
   "metadata": {},
   "outputs": [],
   "source": [
    "import pandas as pd\n",
    "\n",
    "def triangle_judgement(triangle: pd.DataFrame) -> pd.DataFrame:\n",
    "    triangle[\"min_2_sum\"] = np.minimum.reduce([triangle[\"x\"]+triangle[\"y\"], triangle[\"x\"]+triangle[\"z\"], triangle[\"y\"]+triangle[\"z\"]])\n",
    "    triangle[\"triangle\"] = np.where(triangle[\"min_2_sum\"] > (triangle[\"x\"]+triangle[\"y\"]+triangle[\"z\"])/2, \"Yes\", \"No\")\n",
    "    return triangle[[\"x\", \"y\", \"z\", \"triangle\"]]"
   ]
  }
 ],
 "metadata": {
  "kernelspec": {
   "display_name": "Python 3 (ipykernel)",
   "language": "python",
   "name": "python3"
  },
  "language_info": {
   "codemirror_mode": {
    "name": "ipython",
    "version": 3
   },
   "file_extension": ".py",
   "mimetype": "text/x-python",
   "name": "python",
   "nbconvert_exporter": "python",
   "pygments_lexer": "ipython3",
   "version": "3.10.9"
  }
 },
 "nbformat": 4,
 "nbformat_minor": 5
}
