{
 "cells": [
  {
   "cell_type": "code",
   "execution_count": null,
   "id": "2b4d7888",
   "metadata": {},
   "outputs": [],
   "source": [
    "class Solution:\n",
    "    def addBinary(self, a: str, b: str) -> str:\n",
    "        number = int(a) + int(b)\n",
    "        number = str(number)\n",
    "        number = number[::-1]\n",
    "        my_list = [x for x in number]\n",
    "        reminder = 0\n",
    "        for i in range(len(my_list)):\n",
    "            if int(my_list[i]) + reminder > 1:\n",
    "                my_list[i] = (int(my_list[i]) + reminder) % 2\n",
    "                reminder = 1\n",
    "            else:\n",
    "                my_list[i] = (int(my_list[i]) + reminder)\n",
    "                reminder = 0\n",
    "        if reminder > 0:\n",
    "            my_list.append(reminder)\n",
    "        my_list = my_list[::-1]\n",
    "        result = \"\"\n",
    "        for x in my_list:\n",
    "            result = result + str(x)\n",
    "        return result"
   ]
  }
 ],
 "metadata": {
  "kernelspec": {
   "display_name": "Python 3 (ipykernel)",
   "language": "python",
   "name": "python3"
  },
  "language_info": {
   "codemirror_mode": {
    "name": "ipython",
    "version": 3
   },
   "file_extension": ".py",
   "mimetype": "text/x-python",
   "name": "python",
   "nbconvert_exporter": "python",
   "pygments_lexer": "ipython3",
   "version": "3.9.13"
  }
 },
 "nbformat": 4,
 "nbformat_minor": 5
}
