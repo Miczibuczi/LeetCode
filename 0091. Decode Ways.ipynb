{
 "cells": [
  {
   "cell_type": "code",
   "execution_count": null,
   "id": "75222948",
   "metadata": {},
   "outputs": [],
   "source": [
    "class Solution:\n",
    "    def numDecodings(self, s: str) -> int:\n",
    "        if s[:1] == \"0\" or (s[-1] == \"0\" and int(s[-2:]) > 20):\n",
    "            return 0\n",
    "        stack = []\n",
    "        cur = 0\n",
    "        skip_next_loop = False\n",
    "        for i in range(1, len(s)):\n",
    "            num = int(s[i-1 : i+1])\n",
    "            if num == 0:\n",
    "                return 0\n",
    "            elif skip_next_loop:\n",
    "                skip_next_loop = False\n",
    "                continue\n",
    "            elif num < 10 :\n",
    "                if cur == 0:\n",
    "                    return 0\n",
    "                stack.append(cur)\n",
    "                cur = 0\n",
    "            elif num == 10 or num == 20:\n",
    "                skip_next_loop = True\n",
    "                if cur:\n",
    "                    cur -= 1                \n",
    "            elif num > 26:\n",
    "                if cur:\n",
    "                    if cur == 0:\n",
    "                        return 0\n",
    "                    stack.append(cur)\n",
    "                    cur = 0\n",
    "                else:\n",
    "                    continue\n",
    "            else:\n",
    "                cur += 1\n",
    "        if cur:\n",
    "            stack.append(cur)\n",
    "        ans = 1\n",
    "        mapping = [1, 2]\n",
    "        if stack:\n",
    "            for i in range(max(stack)-1):\n",
    "                mapping.append(mapping[i]+mapping[i+1])\n",
    "            for num in stack:\n",
    "                ans *= mapping[num]\n",
    "        return ans"
   ]
  }
 ],
 "metadata": {
  "kernelspec": {
   "display_name": "Python 3 (ipykernel)",
   "language": "python",
   "name": "python3"
  },
  "language_info": {
   "codemirror_mode": {
    "name": "ipython",
    "version": 3
   },
   "file_extension": ".py",
   "mimetype": "text/x-python",
   "name": "python",
   "nbconvert_exporter": "python",
   "pygments_lexer": "ipython3",
   "version": "3.10.9"
  }
 },
 "nbformat": 4,
 "nbformat_minor": 5
}
