{
 "cells": [
  {
   "cell_type": "code",
   "execution_count": null,
   "id": "c8ff37e8",
   "metadata": {},
   "outputs": [],
   "source": [
    "class Solution:\n",
    "    def productExceptSelf(self, nums: List[int]) -> List[int]:\n",
    "        pre = list(accumulate(nums, mul))\n",
    "        suff = list(accumulate(nums[::-1], mul))[::-1]\n",
    "        ans = [suff[1]]\n",
    "        for i in range(1, len(nums)-1):\n",
    "            ans.append(pre[i-1]*suff[i+1])\n",
    "        ans.append(pre[-2])\n",
    "        return ans"
   ]
  },
  {
   "cell_type": "code",
   "execution_count": null,
   "id": "1d8d8951",
   "metadata": {},
   "outputs": [],
   "source": [
    "# First answer, it contains division\n",
    "\n",
    "class Solution:\n",
    "    def productExceptSelf(self, nums: List[int]) -> List[int]:\n",
    "        if len (nums) == 2:\n",
    "            return reversed(nums)\n",
    "        zeroes = nums.count(0)\n",
    "        if zeroes >= 2:\n",
    "            return [0]*len(nums)\n",
    "        elif zeroes == 1:\n",
    "            ans = [0]*(len(nums)-1)\n",
    "            indx = nums.index(0)\n",
    "            ans.insert(indx, reduce(lambda x, y: x*y, nums[:indx]+nums[indx+1:]))\n",
    "            return ans\n",
    "        ans = [reduce(lambda x, y: x*y, nums[1:])]\n",
    "        for i in range(1, len(nums)):\n",
    "            ans.append(ans[0]*nums[0]//nums[i])\n",
    "        return ans"
   ]
  }
 ],
 "metadata": {
  "kernelspec": {
   "display_name": "Python 3 (ipykernel)",
   "language": "python",
   "name": "python3"
  },
  "language_info": {
   "codemirror_mode": {
    "name": "ipython",
    "version": 3
   },
   "file_extension": ".py",
   "mimetype": "text/x-python",
   "name": "python",
   "nbconvert_exporter": "python",
   "pygments_lexer": "ipython3",
   "version": "3.9.13"
  }
 },
 "nbformat": 4,
 "nbformat_minor": 5
}
