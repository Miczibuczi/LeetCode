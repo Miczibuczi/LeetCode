{
 "cells": [
  {
   "cell_type": "code",
   "execution_count": null,
   "id": "9c1bec66",
   "metadata": {},
   "outputs": [],
   "source": [
    "class Solution:\n",
    "    def partition(self, s: str) -> List[List[str]]:\n",
    "        def isPalindrome(string):\n",
    "            if string == string[::-1]:\n",
    "                return True\n",
    "            return False\n",
    "        def helper(string):\n",
    "            for i in range(len(string)):\n",
    "                print(string[:i+1], string[i+1:])\n",
    "                if isPalindrome(string[:i+1]) and isPalindrome(string[i+1:]):\n",
    "                    ans.add((string[:i+1], string[i:]))\n",
    "        ans = set()\n",
    "        helper(s)\n",
    "        return ans"
   ]
  },
  {
   "cell_type": "code",
   "execution_count": null,
   "id": "bf881a10",
   "metadata": {},
   "outputs": [],
   "source": [
    "class Solution:\n",
    "    def partition(self, s: str) -> List[List[str]]:\n",
    "        def isPalindrome(string):\n",
    "            if string == string[::-1]:\n",
    "                return True\n",
    "            return False\n",
    "        def helper(string, rest):\n",
    "            for i in range(len(string)):\n",
    "                print(string[:i+1], string[i+1:])\n",
    "                if isPalindrome(string[:i+1]) and isPalindrome(string[i+1:]):\n",
    "                    ans.add((string[:i+1], string[i:])+rest)\n",
    "        ans = set()\n",
    "        helper(s, ())\n",
    "        return ans"
   ]
  },
  {
   "cell_type": "code",
   "execution_count": null,
   "id": "8d7085b4",
   "metadata": {},
   "outputs": [],
   "source": [
    "class Solution:\n",
    "    def partition(self, s: str) -> List[List[str]]:\n",
    "        def isPalindrome(string):\n",
    "            if string == string[::-1]:\n",
    "                return True\n",
    "            return False\n",
    "        def helper(string, rest):\n",
    "            if len(string) == 1:\n",
    "                return\n",
    "            for i in range(len(string)-1):\n",
    "                print(string[:i+1], string[i+1:])\n",
    "                left = isPalindrome(string[:i+1])\n",
    "                right = isPalindrome(string[i+1:])\n",
    "                if left and right:\n",
    "                    ans.add((string[:i+1], string[i+1:])+rest)\n",
    "                    helper(string[:i+1], (string[i+1:],)+rest)\n",
    "                    helper(string[i+1:], rest+(string[:i+1],))\n",
    "                elif left:\n",
    "                    helper(string[i+1:], (string[:i+1],)+rest)\n",
    "                elif right:\n",
    "                    helper(string[:i+1], rest+(string[i+1:],))\n",
    "        ans = set()\n",
    "        helper(s, ())\n",
    "        return ans"
   ]
  }
 ],
 "metadata": {
  "kernelspec": {
   "display_name": "Python 3 (ipykernel)",
   "language": "python",
   "name": "python3"
  },
  "language_info": {
   "codemirror_mode": {
    "name": "ipython",
    "version": 3
   },
   "file_extension": ".py",
   "mimetype": "text/x-python",
   "name": "python",
   "nbconvert_exporter": "python",
   "pygments_lexer": "ipython3",
   "version": "3.10.9"
  }
 },
 "nbformat": 4,
 "nbformat_minor": 5
}
