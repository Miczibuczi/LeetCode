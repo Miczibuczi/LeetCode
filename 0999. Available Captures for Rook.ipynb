{
 "cells": [
  {
   "cell_type": "code",
   "execution_count": 1,
   "id": "6b76a9ec",
   "metadata": {},
   "outputs": [],
   "source": [
    "class Solution:\n",
    "    def numRookCaptures(self, board: List[List[str]]) -> int:\n",
    "        count = 0\n",
    "        for i in range(8):\n",
    "            if \"R\" in board[i]:\n",
    "                row = i\n",
    "                col = board[i].index(\"R\")\n",
    "        \n",
    "        for i in range(1, 8-row):\n",
    "            if board[row+i][col] == 'p':\n",
    "                count += 1\n",
    "                break\n",
    "            elif board[row+i][col] == \"B\":\n",
    "                break\n",
    "            \n",
    "        for i in range(1, row+1):\n",
    "            if board[row-i][col] == 'p':\n",
    "                count += 1\n",
    "                break\n",
    "            elif board[row-i][col] == \"B\":\n",
    "                break\n",
    "        \n",
    "        for i in range(1, 8-col):\n",
    "            if board[row][col+i] == 'p':\n",
    "                count += 1\n",
    "                break\n",
    "            elif board[row][col+i] ==\"B\":\n",
    "                break\n",
    "\n",
    "        for i in range(1, col+1):\n",
    "            if board[row][col-i] == 'p':\n",
    "                count += 1\n",
    "                break\n",
    "            elif board[row][col-i] == \"B\":\n",
    "                break\n",
    "        \n",
    "        return count"
   ]
  }
 ],
 "metadata": {
  "kernelspec": {
   "display_name": "Python 3 (ipykernel)",
   "language": "python",
   "name": "python3"
  },
  "language_info": {
   "codemirror_mode": {
    "name": "ipython",
    "version": 3
   },
   "file_extension": ".py",
   "mimetype": "text/x-python",
   "name": "python",
   "nbconvert_exporter": "python",
   "pygments_lexer": "ipython3",
   "version": "3.9.13"
  }
 },
 "nbformat": 4,
 "nbformat_minor": 5
}
