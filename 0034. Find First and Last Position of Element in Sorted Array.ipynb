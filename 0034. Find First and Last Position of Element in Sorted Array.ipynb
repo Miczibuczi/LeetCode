{
 "cells": [
  {
   "cell_type": "code",
   "execution_count": null,
   "id": "976c7393",
   "metadata": {},
   "outputs": [],
   "source": [
    "class Solution:\n",
    "    def searchRange(self, nums: List[int], target: int) -> List[int]:\n",
    "        def find_left(left, cur_right):\n",
    "            while nums[left] != target:\n",
    "                cur_mid = (left+cur_right)//2\n",
    "                if nums[cur_mid] < target:\n",
    "                    left = cur_mid+1 \n",
    "                else:\n",
    "                    cur_right = cur_mid-1\n",
    "            return left\n",
    "        \n",
    "        def find_right(cur_left, right):\n",
    "            while nums[right] != target:\n",
    "                cur_mid = (cur_left+right)//2\n",
    "                if nums[cur_mid] > target:\n",
    "                    right = cur_mid-1\n",
    "                else:\n",
    "                    cur_left = cur_mid+1\n",
    "            return right\n",
    "\n",
    "        left = 0\n",
    "        right = len(nums)-1\n",
    "        while left <= right:\n",
    "            mid = (left+right)//2\n",
    "            if nums[mid] < target:\n",
    "                left += 1\n",
    "            elif nums[mid] > target:\n",
    "                right -= 1\n",
    "            else:\n",
    "                return[find_left(left, mid), find_right(mid, right)]\n",
    "        return [-1, -1]"
   ]
  }
 ],
 "metadata": {
  "kernelspec": {
   "display_name": "Python 3 (ipykernel)",
   "language": "python",
   "name": "python3"
  },
  "language_info": {
   "codemirror_mode": {
    "name": "ipython",
    "version": 3
   },
   "file_extension": ".py",
   "mimetype": "text/x-python",
   "name": "python",
   "nbconvert_exporter": "python",
   "pygments_lexer": "ipython3",
   "version": "3.10.9"
  }
 },
 "nbformat": 4,
 "nbformat_minor": 5
}
