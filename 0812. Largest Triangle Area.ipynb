{
 "cells": [
  {
   "cell_type": "code",
   "execution_count": null,
   "id": "487402ab",
   "metadata": {},
   "outputs": [],
   "source": [
    "class Solution:\n",
    "    def largestTriangleArea(self, points: List[List[int]]) -> float:\n",
    "        result = 0\n",
    "        for i in range(len(points)):\n",
    "            for j in range(i+1, len(points)):\n",
    "                for k in range(j+1, len(points)):\n",
    "                    x1, y1 = points[i]\n",
    "                    x2, y2 = points[j]\n",
    "                    x3, y3 = points[k]\n",
    "                    area = 0.5*abs(x1*(y2 - y3) + x2*(y3 - y1) + x3*(y1 - y2))\n",
    "                    result = max(result, area)\n",
    "        return result"
   ]
  },
  {
   "cell_type": "code",
   "execution_count": null,
   "id": "77200aac",
   "metadata": {},
   "outputs": [],
   "source": [
    "# not time efficient\n",
    "import math\n",
    "class Solution:\n",
    "    def largestTriangleArea(self, points: List[List[int]]) -> float:\n",
    "        result = 0\n",
    "        for i in range(len(points)):\n",
    "            for j in range(i+1, len(points)):\n",
    "                for k in range(j+1, len(points)):\n",
    "                    a = math.sqrt((points[i][0]-points[j][0])**2+(points[i][1]-points[j][1])**2)\n",
    "                    b = math.sqrt((points[i][0]-points[k][0])**2+(points[i][1]-points[k][1])**2)\n",
    "                    c = math.sqrt((points[j][0]-points[k][0])**2+(points[j][1]-points[k][1])**2)\n",
    "                    if a+b>c and a+c>b and b+c>a:\n",
    "                        p = (a+b+c)/2\n",
    "                        area = math.sqrt(p*(p-a)*(p-b)*(p-c))\n",
    "                        result = max(result, area)\n",
    "        return result"
   ]
  }
 ],
 "metadata": {
  "kernelspec": {
   "display_name": "Python 3 (ipykernel)",
   "language": "python",
   "name": "python3"
  },
  "language_info": {
   "codemirror_mode": {
    "name": "ipython",
    "version": 3
   },
   "file_extension": ".py",
   "mimetype": "text/x-python",
   "name": "python",
   "nbconvert_exporter": "python",
   "pygments_lexer": "ipython3",
   "version": "3.9.13"
  }
 },
 "nbformat": 4,
 "nbformat_minor": 5
}
