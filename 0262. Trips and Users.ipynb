{
 "cells": [
  {
   "cell_type": "code",
   "execution_count": null,
   "id": "10a48f4e",
   "metadata": {},
   "outputs": [],
   "source": [
    "import pandas as pd\n",
    "\n",
    "def trips_and_users(trips: pd.DataFrame, users: pd.DataFrame) -> pd.DataFrame:\n",
    "    not_banned = set()\n",
    "    for user in users[[\"users_id\", \"banned\"]].itertuples():\n",
    "        if user.banned == \"No\":\n",
    "            not_banned.add(user.users_id)\n",
    "\n",
    "    trips[\"request_at\"] = trips[\"request_at\"].apply(pd.Timestamp)\n",
    "    trips = trips[\n",
    "        (trips[\"client_id\"].isin(not_banned))&\n",
    "        (trips[\"driver_id\"].isin(not_banned))&\n",
    "        (trips[\"request_at\"].between(pd.Timestamp(\"2013-10-01\"), pd.Timestamp(\"2013-10-03\"), inclusive=\"both\"))\n",
    "        ]\n",
    "    trips = trips.groupby(\"request_at\").agg(\n",
    "        cancelled=(\"status\", lambda x: (x!=\"completed\").sum()),\n",
    "        all=(\"status\", \"count\")\n",
    "    ).reset_index()\n",
    "    trips[\"Cancellation Rate\"] = round(trips[\"cancelled\"]/trips[\"all\"], 2)\n",
    "    return trips[[\"request_at\", \"Cancellation Rate\"]].rename(columns={\"request_at\":\"Day\"})"
   ]
  }
 ],
 "metadata": {
  "kernelspec": {
   "display_name": "Python 3 (ipykernel)",
   "language": "python",
   "name": "python3"
  },
  "language_info": {
   "codemirror_mode": {
    "name": "ipython",
    "version": 3
   },
   "file_extension": ".py",
   "mimetype": "text/x-python",
   "name": "python",
   "nbconvert_exporter": "python",
   "pygments_lexer": "ipython3",
   "version": "3.10.9"
  }
 },
 "nbformat": 4,
 "nbformat_minor": 5
}
