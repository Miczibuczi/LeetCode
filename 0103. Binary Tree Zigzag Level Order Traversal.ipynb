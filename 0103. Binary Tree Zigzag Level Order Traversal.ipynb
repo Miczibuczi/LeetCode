{
 "cells": [
  {
   "cell_type": "code",
   "execution_count": 23,
   "id": "17392be5",
   "metadata": {},
   "outputs": [],
   "source": [
    "# Definition for a binary tree node.\n",
    "# class TreeNode:\n",
    "#     def __init__(self, val=0, left=None, right=None):\n",
    "#         self.val = val\n",
    "#         self.left = left\n",
    "#         self.right = right\n",
    "class Solution:\n",
    "    def inOrder(self, node, depth):\n",
    "        if not node:\n",
    "            return\n",
    "        self.inOrder(node.left, depth+1)\n",
    "        self.depths.append((node.val, depth))\n",
    "        self.max_depth = max(self.max_depth, depth)\n",
    "        self.inOrder(node.right, depth+1)\n",
    "        \n",
    "    def zigzagLevelOrder(self, root: Optional[TreeNode]) -> List[List[int]]:\n",
    "        if not root:\n",
    "            return []\n",
    "        self.depths = []\n",
    "        self.max_depth = 0\n",
    "        self.inOrder(root, 0)\n",
    "        ans = [[] for i in range(self.max_depth+1)]\n",
    "        for my_list in self.depths:\n",
    "            num, index = my_list\n",
    "            ans[index].append(num)\n",
    "        for i, my_list in enumerate(ans):\n",
    "            if i % 2 == 1:\n",
    "                ans[i] = reversed(my_list)\n",
    "        return ans"
   ]
  }
 ],
 "metadata": {
  "kernelspec": {
   "display_name": "Python 3 (ipykernel)",
   "language": "python",
   "name": "python3"
  },
  "language_info": {
   "codemirror_mode": {
    "name": "ipython",
    "version": 3
   },
   "file_extension": ".py",
   "mimetype": "text/x-python",
   "name": "python",
   "nbconvert_exporter": "python",
   "pygments_lexer": "ipython3",
   "version": "3.9.13"
  }
 },
 "nbformat": 4,
 "nbformat_minor": 5
}
