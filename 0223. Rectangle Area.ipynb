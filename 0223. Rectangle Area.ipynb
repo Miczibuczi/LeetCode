{
 "cells": [
  {
   "cell_type": "code",
   "execution_count": null,
   "id": "0709b7f9",
   "metadata": {},
   "outputs": [],
   "source": [
    "class Solution:\n",
    "    def computeArea(self, ax1: int, ay1: int, ax2: int, ay2: int, bx1: int, by1: int, bx2: int, by2: int) -> int:\n",
    "        rec1 = (ax2-ax1)*(ay2-ay1)\n",
    "        rec2 = (bx2-bx1)*(by2-by1)\n",
    "        width, hight = 0, 0\n",
    "        if ax1 <= bx1 < ax2 <= bx2:\n",
    "            width = ax2 - bx1\n",
    "        elif bx1 <= ax1 < ax2 <= bx2:\n",
    "            width = ax2 - ax1\n",
    "        elif bx1 <= ax1 < bx2 <= ax2:\n",
    "            width = bx2 - ax1\n",
    "        elif ax1 <= bx1 < bx2 <= ax2:\n",
    "            width = bx2 - bx1\n",
    "        if ay2 >= by2 > ay1 >= by1:\n",
    "            hight = by2 - ay1\n",
    "        elif by2 >= ay2 > ay1 >= by1:\n",
    "            hight = ay2 - ay1\n",
    "        elif by2 >= ay2 > by1 >= ay1:\n",
    "            hight = ay2 - by1\n",
    "        elif ay2 >= by2 > by1 >= ay1:\n",
    "            hight = by2 - by1\n",
    "        rec3 = width * hight\n",
    "        return rec1 + rec2 - rec3"
   ]
  }
 ],
 "metadata": {
  "kernelspec": {
   "display_name": "Python 3 (ipykernel)",
   "language": "python",
   "name": "python3"
  },
  "language_info": {
   "codemirror_mode": {
    "name": "ipython",
    "version": 3
   },
   "file_extension": ".py",
   "mimetype": "text/x-python",
   "name": "python",
   "nbconvert_exporter": "python",
   "pygments_lexer": "ipython3",
   "version": "3.10.9"
  }
 },
 "nbformat": 4,
 "nbformat_minor": 5
}
