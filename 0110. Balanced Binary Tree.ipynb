{
 "cells": [
  {
   "cell_type": "code",
   "execution_count": null,
   "id": "6282006c",
   "metadata": {},
   "outputs": [],
   "source": [
    "# Definition for a binary tree node.\n",
    "# class TreeNode:\n",
    "#     def __init__(self, val=0, left=None, right=None):\n",
    "#         self.val = val\n",
    "#         self.left = left\n",
    "#         self.right = right\n",
    "class Solution:\n",
    "    def isBalanced(self, root: Optional[TreeNode]) -> bool:\n",
    "        def check_depth(root, depth):\n",
    "            if not root:\n",
    "                return depth\n",
    "            else:\n",
    "                return max(check_depth(root.left, depth+1), check_depth(root.right, depth+1))\n",
    "        \n",
    "        if not root:\n",
    "            return True\n",
    "        return abs(check_depth(root.left, 0) - check_depth(root.right, 0)) < 2 and self.isBalanced(root.left) and self.isBalanced(root.right)"
   ]
  },
  {
   "cell_type": "code",
   "execution_count": null,
   "id": "c24958bf",
   "metadata": {},
   "outputs": [],
   "source": [
    "# Not mine answer, but it's brilliant\n",
    "class Solution:\n",
    "    def isBalanced(self, root):\n",
    "        self.Bal = True\n",
    "        \n",
    "        def dfs(node):\n",
    "            if not node: return 0\n",
    "            lft, rgh = dfs(node.left), dfs(node.right)\n",
    "            if abs(lft - rgh) > 1: self.Bal = False\n",
    "            return max(lft, rgh) + 1\n",
    "            \n",
    "        dfs(root)\n",
    "        return self.Bal"
   ]
  }
 ],
 "metadata": {
  "kernelspec": {
   "display_name": "Python 3 (ipykernel)",
   "language": "python",
   "name": "python3"
  },
  "language_info": {
   "codemirror_mode": {
    "name": "ipython",
    "version": 3
   },
   "file_extension": ".py",
   "mimetype": "text/x-python",
   "name": "python",
   "nbconvert_exporter": "python",
   "pygments_lexer": "ipython3",
   "version": "3.9.13"
  }
 },
 "nbformat": 4,
 "nbformat_minor": 5
}
