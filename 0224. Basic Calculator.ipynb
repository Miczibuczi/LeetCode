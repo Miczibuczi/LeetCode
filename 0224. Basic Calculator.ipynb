{
 "cells": [
  {
   "cell_type": "code",
   "execution_count": null,
   "id": "b634de20",
   "metadata": {},
   "outputs": [],
   "source": [
    "class Solution:\n",
    "    def calculate(self, s: str) -> int:\n",
    "        s = s.replace(\" \", \"\")\n",
    "        stack = []\n",
    "        last_num = 0\n",
    "        i = len(s)-1\n",
    "        cur_sum = 0\n",
    "        count = 0\n",
    "        while i >= 0:\n",
    "            reset_count = True\n",
    "            if s[i] == \")\":\n",
    "                stack.append(cur_sum)\n",
    "                cur_sum = 0\n",
    "            elif s[i] == \"(\":\n",
    "                last = cur_sum\n",
    "                cur_sum += stack.pop()\n",
    "            elif s[i] == \"-\":\n",
    "                cur_sum -= 2*last\n",
    "            elif s[i] == \"+\":\n",
    "                pass\n",
    "            else:\n",
    "                if count == 0:\n",
    "                    last = 0\n",
    "                cur_sum += int(s[i])*10**count\n",
    "                last += int(s[i])*10**count\n",
    "                count += 1\n",
    "                reset_count = False\n",
    "            if reset_count:\n",
    "                count = 0\n",
    "            i -= 1\n",
    "        \n",
    "        return sum(stack)+cur_sum"
   ]
  }
 ],
 "metadata": {
  "kernelspec": {
   "display_name": "Python 3 (ipykernel)",
   "language": "python",
   "name": "python3"
  },
  "language_info": {
   "codemirror_mode": {
    "name": "ipython",
    "version": 3
   },
   "file_extension": ".py",
   "mimetype": "text/x-python",
   "name": "python",
   "nbconvert_exporter": "python",
   "pygments_lexer": "ipython3",
   "version": "3.10.9"
  }
 },
 "nbformat": 4,
 "nbformat_minor": 5
}
