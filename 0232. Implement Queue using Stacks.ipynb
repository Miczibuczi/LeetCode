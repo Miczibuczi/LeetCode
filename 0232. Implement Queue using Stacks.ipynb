{
 "cells": [
  {
   "cell_type": "code",
   "execution_count": null,
   "id": "dda97d11",
   "metadata": {},
   "outputs": [],
   "source": [
    "class MyQueue:\n",
    "\n",
    "    def __init__(self):\n",
    "        self.q = []\n",
    "\n",
    "    def push(self, x: int) -> None:\n",
    "        rev_q = []\n",
    "        for i in range(len(self.q)):\n",
    "            rev_q.append(self.q.pop())\n",
    "        rev_q.append(x)\n",
    "        for i in range(len(rev_q)):\n",
    "            self.q.append(rev_q.pop())\n",
    "\n",
    "    def pop(self) -> int:\n",
    "        return self.q.pop()\n",
    "\n",
    "    def peek(self) -> int:\n",
    "        return self.q[-1]\n",
    "\n",
    "    def empty(self) -> bool:\n",
    "        return not self.q\n",
    "\n",
    "\n",
    "# Your MyQueue object will be instantiated and called as such:\n",
    "# obj = MyQueue()\n",
    "# obj.push(x)\n",
    "# param_2 = obj.pop()\n",
    "# param_3 = obj.peek()\n",
    "# param_4 = obj.empty()"
   ]
  }
 ],
 "metadata": {
  "kernelspec": {
   "display_name": "Python 3 (ipykernel)",
   "language": "python",
   "name": "python3"
  },
  "language_info": {
   "codemirror_mode": {
    "name": "ipython",
    "version": 3
   },
   "file_extension": ".py",
   "mimetype": "text/x-python",
   "name": "python",
   "nbconvert_exporter": "python",
   "pygments_lexer": "ipython3",
   "version": "3.9.13"
  }
 },
 "nbformat": 4,
 "nbformat_minor": 5
}
