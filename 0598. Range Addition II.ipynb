{
 "cells": [
  {
   "cell_type": "code",
   "execution_count": null,
   "id": "211c1e7d",
   "metadata": {},
   "outputs": [],
   "source": [
    "class Solution:\n",
    "    def maxCount(self, m: int, n: int, ops: List[List[int]]) -> int:\n",
    "        if ops == []:\n",
    "            return m*n\n",
    "        x = set()\n",
    "        y = set()\n",
    "        for i in range(len(ops)):\n",
    "            if ops[i][0] != 0 and ops[i][1] != 0:\n",
    "                x.add(ops[i][0])\n",
    "                y.add(ops[i][1])\n",
    "        return min(x)*min(y)"
   ]
  }
 ],
 "metadata": {
  "kernelspec": {
   "display_name": "Python 3 (ipykernel)",
   "language": "python",
   "name": "python3"
  },
  "language_info": {
   "codemirror_mode": {
    "name": "ipython",
    "version": 3
   },
   "file_extension": ".py",
   "mimetype": "text/x-python",
   "name": "python",
   "nbconvert_exporter": "python",
   "pygments_lexer": "ipython3",
   "version": "3.9.13"
  }
 },
 "nbformat": 4,
 "nbformat_minor": 5
}
