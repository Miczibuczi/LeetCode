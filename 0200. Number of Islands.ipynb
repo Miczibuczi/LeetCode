{
 "cells": [
  {
   "cell_type": "code",
   "execution_count": null,
   "id": "d9fa5066",
   "metadata": {},
   "outputs": [],
   "source": [
    "class Solution:\n",
    "    def numIslands(self, grid: List[List[str]]) -> int:\n",
    "        def remove_island(i, j):\n",
    "            grid[i][j] = \"2\"\n",
    "            if i > 0 and grid[i-1][j] == \"1\":\n",
    "                remove_island(i-1, j)\n",
    "            if i+1 < len(grid) and grid[i+1][j] == \"1\":\n",
    "                remove_island(i+1, j)\n",
    "            if j > 0 and grid[i][j-1] == \"1\":\n",
    "                remove_island(i, j-1)\n",
    "            if j+1 < len(grid[0]) and grid[i][j+1] == \"1\":\n",
    "                remove_island(i, j+1)\n",
    "        \n",
    "        ans = 0\n",
    "        for i in range(len(grid)):\n",
    "            for j in range(len(grid[0])):\n",
    "                if grid[i][j] == \"1\":\n",
    "                    ans += 1\n",
    "                    remove_island(i, j)\n",
    "        return ans"
   ]
  }
 ],
 "metadata": {
  "kernelspec": {
   "display_name": "Python 3 (ipykernel)",
   "language": "python",
   "name": "python3"
  },
  "language_info": {
   "codemirror_mode": {
    "name": "ipython",
    "version": 3
   },
   "file_extension": ".py",
   "mimetype": "text/x-python",
   "name": "python",
   "nbconvert_exporter": "python",
   "pygments_lexer": "ipython3",
   "version": "3.10.9"
  }
 },
 "nbformat": 4,
 "nbformat_minor": 5
}
