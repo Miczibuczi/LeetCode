{
 "cells": [
  {
   "cell_type": "code",
   "execution_count": null,
   "id": "70a44761",
   "metadata": {},
   "outputs": [],
   "source": [
    "class Solution:\n",
    "    def searchMatrix(self, matrix: List[List[int]], target: int) -> bool:\n",
    "        def CheckTheRow(cur_list):\n",
    "            left = 0\n",
    "            right = len(cur_list)-1\n",
    "            while left <= right:\n",
    "                mid = (left+right)//2\n",
    "                if cur_list[mid] == target:\n",
    "                    return True\n",
    "                elif cur_list[mid] > target:\n",
    "                    right = mid-1\n",
    "                elif cur_list[mid] < target:\n",
    "                    left = mid+1\n",
    "            return False\n",
    "        for row in matrix:\n",
    "            if row[0] <= target <= row[-1]:\n",
    "                if CheckTheRow(row):\n",
    "                    return True\n",
    "        return False"
   ]
  }
 ],
 "metadata": {
  "kernelspec": {
   "display_name": "Python 3 (ipykernel)",
   "language": "python",
   "name": "python3"
  },
  "language_info": {
   "codemirror_mode": {
    "name": "ipython",
    "version": 3
   },
   "file_extension": ".py",
   "mimetype": "text/x-python",
   "name": "python",
   "nbconvert_exporter": "python",
   "pygments_lexer": "ipython3",
   "version": "3.10.9"
  }
 },
 "nbformat": 4,
 "nbformat_minor": 5
}
