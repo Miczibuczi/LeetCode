{
 "cells": [
  {
   "cell_type": "code",
   "execution_count": null,
   "id": "537ce9ae",
   "metadata": {},
   "outputs": [],
   "source": [
    "# Definition for a binary tree node.\n",
    "# class TreeNode:\n",
    "#     def __init__(self, val=0, left=None, right=None):\n",
    "#         self.val = val\n",
    "#         self.left = left\n",
    "#         self.right = right\n",
    "class Solution:\n",
    "    def diameterOfBinaryTree(self, root: Optional[TreeNode]) -> int:\n",
    "        self.diameter = 0\n",
    "\n",
    "        def max_depth(node, depth):\n",
    "            if not node:\n",
    "                return depth\n",
    "            L = max_depth(node.left, depth+1)\n",
    "            R = max_depth(node.right, depth+1)\n",
    "            if L+R-2-depth*2 > self.diameter:\n",
    "                self.diameter = L+R-2-depth*2\n",
    "            return max(L, R)\n",
    "\n",
    "        max_depth(root, 0)\n",
    "        return self.diameter"
   ]
  },
  {
   "cell_type": "code",
   "execution_count": null,
   "id": "e78748c5",
   "metadata": {},
   "outputs": [],
   "source": [
    "# First answer, inefficient in terms of time\n",
    "\n",
    "# Definition for a binary tree node.\n",
    "# class TreeNode:\n",
    "#     def __init__(self, val=0, left=None, right=None):\n",
    "#         self.val = val\n",
    "#         self.left = left\n",
    "#         self.right = right\n",
    "class Solution:\n",
    "    def diameterOfBinaryTree(self, root: Optional[TreeNode]) -> int:\n",
    "        self.diameter = 0\n",
    "\n",
    "        def max_depth(node, depth):\n",
    "            if not node:\n",
    "                return depth\n",
    "            return max(max_depth(node.left, depth+1), max_depth(node.right, depth+1))\n",
    "\n",
    "        def Traverse(node, depth):\n",
    "            if not node:\n",
    "                return\n",
    "            if max_depth(node.left, 0) + max_depth(node.right, 0)> self.diameter:\n",
    "                self.diameter = max_depth(node.left, 0) + max_depth(node.right, 0)\n",
    "            Traverse(node.left, depth+1)\n",
    "            Traverse(node.right, depth+1)\n",
    "\n",
    "\n",
    "        Traverse(root, 0)\n",
    "        return self.diameter"
   ]
  }
 ],
 "metadata": {
  "kernelspec": {
   "display_name": "Python 3 (ipykernel)",
   "language": "python",
   "name": "python3"
  },
  "language_info": {
   "codemirror_mode": {
    "name": "ipython",
    "version": 3
   },
   "file_extension": ".py",
   "mimetype": "text/x-python",
   "name": "python",
   "nbconvert_exporter": "python",
   "pygments_lexer": "ipython3",
   "version": "3.9.13"
  }
 },
 "nbformat": 4,
 "nbformat_minor": 5
}
