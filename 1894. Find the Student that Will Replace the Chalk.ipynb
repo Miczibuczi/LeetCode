{
 "cells": [
  {
   "cell_type": "code",
   "execution_count": null,
   "id": "44a5794c",
   "metadata": {},
   "outputs": [],
   "source": [
    "class Solution:\n",
    "    def chalkReplacer(self, chalk: List[int], k: int) -> int:\n",
    "        k %= sum(chalk)\n",
    "        for index, i in enumerate(chalk):\n",
    "            k -= i\n",
    "            if k < 0:\n",
    "                return index"
   ]
  }
 ],
 "metadata": {
  "kernelspec": {
   "display_name": "Python 3 (ipykernel)",
   "language": "python",
   "name": "python3"
  },
  "language_info": {
   "codemirror_mode": {
    "name": "ipython",
    "version": 3
   },
   "file_extension": ".py",
   "mimetype": "text/x-python",
   "name": "python",
   "nbconvert_exporter": "python",
   "pygments_lexer": "ipython3",
   "version": "3.10.9"
  }
 },
 "nbformat": 4,
 "nbformat_minor": 5
}
