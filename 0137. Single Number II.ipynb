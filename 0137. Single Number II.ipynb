{
 "cells": [
  {
   "cell_type": "code",
   "execution_count": null,
   "id": "e902785a",
   "metadata": {},
   "outputs": [],
   "source": [
    "class Solution:\n",
    "    def singleNumber(self, nums: List[int]) -> int:\n",
    "        if len(nums) == 1:\n",
    "            return nums[0]\n",
    "        nums.sort()\n",
    "        for i in range(1, (len(nums)-1)):\n",
    "            if nums[i] != nums[i-1] and nums[i] != nums[i+1]:\n",
    "                return nums[i]\n",
    "                \n",
    "        if nums[0] == nums[1]:\n",
    "            return nums[-1]\n",
    "        else:\n",
    "            return nums[0]"
   ]
  },
  {
   "cell_type": "code",
   "execution_count": null,
   "id": "09c73c62",
   "metadata": {},
   "outputs": [],
   "source": [
    "# First answer, it doesn't have constant extra space, but is faster\n",
    "class Solution:\n",
    "    def singleNumber(self, nums: List[int]) -> int:\n",
    "        check = set(nums)\n",
    "        ans = set(nums)\n",
    "        for num in nums:\n",
    "            if num in check:\n",
    "                check.remove(num)\n",
    "            else:\n",
    "                ans.discard(num)\n",
    "        return next(iter(ans))"
   ]
  }
 ],
 "metadata": {
  "kernelspec": {
   "display_name": "Python 3 (ipykernel)",
   "language": "python",
   "name": "python3"
  },
  "language_info": {
   "codemirror_mode": {
    "name": "ipython",
    "version": 3
   },
   "file_extension": ".py",
   "mimetype": "text/x-python",
   "name": "python",
   "nbconvert_exporter": "python",
   "pygments_lexer": "ipython3",
   "version": "3.10.9"
  }
 },
 "nbformat": 4,
 "nbformat_minor": 5
}
