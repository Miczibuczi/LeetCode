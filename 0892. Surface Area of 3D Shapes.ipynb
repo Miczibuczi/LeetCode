{
 "cells": [
  {
   "cell_type": "code",
   "execution_count": null,
   "id": "a229ddb7",
   "metadata": {},
   "outputs": [],
   "source": [
    "class Solution:\n",
    "    def surfaceArea(self, grid: List[List[int]]) -> int:\n",
    "        result = 0\n",
    "        for i in range(len(grid)):\n",
    "            for j in range(len(grid[0])):\n",
    "                if grid[i][j] > 0:\n",
    "                    result += grid[i][j]*6-(grid[i][j]-1)*2\n",
    "        \n",
    "        for i in range(len(grid)):\n",
    "            for j in range(len(grid)-1):\n",
    "                result -= (min(grid[i][j], grid[i][j+1]))*2\n",
    "                \n",
    "        for i in range(len(grid)-1):\n",
    "            for j in range(len(grid)):\n",
    "                result -= (min(grid[i][j], grid[i+1][j]))*2\n",
    "        \n",
    "        return result"
   ]
  },
  {
   "cell_type": "code",
   "execution_count": null,
   "id": "a3a3c94b",
   "metadata": {},
   "outputs": [],
   "source": [
    "# First answer, less time efficient\n",
    "class Solution:\n",
    "    def surfaceArea(self, grid: List[List[int]]) -> int:\n",
    "        result = 0\n",
    "        for i in range(len(grid)):\n",
    "            for j in range(len(grid[0])):\n",
    "                if grid[i][j] > 0:\n",
    "                    result += grid[i][j]*6-(grid[i][j]-1)*2\n",
    "                if i > 0:\n",
    "                    result -= min(grid[i][j], grid[i-1][j])\n",
    "                if j > 0:\n",
    "                    result -= min(grid[i][j], grid[i][j-1])\n",
    "                if i < len(grid)-1:\n",
    "                    result -= min(grid[i][j], grid[i+1][j])\n",
    "                if j < len(grid[0])-1:\n",
    "                    result -= min(grid[i][j], grid[i][j+1])\n",
    "        return result"
   ]
  }
 ],
 "metadata": {
  "kernelspec": {
   "display_name": "Python 3 (ipykernel)",
   "language": "python",
   "name": "python3"
  },
  "language_info": {
   "codemirror_mode": {
    "name": "ipython",
    "version": 3
   },
   "file_extension": ".py",
   "mimetype": "text/x-python",
   "name": "python",
   "nbconvert_exporter": "python",
   "pygments_lexer": "ipython3",
   "version": "3.9.13"
  }
 },
 "nbformat": 4,
 "nbformat_minor": 5
}
