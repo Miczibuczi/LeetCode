{
 "cells": [
  {
   "cell_type": "code",
   "execution_count": 5,
   "id": "761edb2a",
   "metadata": {},
   "outputs": [],
   "source": [
    "class Solution:\n",
    "    def mostCommonWord(self, paragraph: str, banned: List[str]) -> str:\n",
    "        paragraph = re.findall(\"[a-zA-Z]+\", paragraph)\n",
    "        paragraph = [x.lower() for x in paragraph]\n",
    "        my_dictionary = {}\n",
    "        for word in paragraph:\n",
    "            if word in my_dictionary:\n",
    "                my_dictionary[word] += 1\n",
    "            else:\n",
    "                my_dictionary[word] = 1\n",
    "        my_dictionary = sorted(my_dictionary.items(), key = lambda x:x[1], reverse = True)\n",
    "        for i in my_dictionary:\n",
    "            if i[0] not in banned:\n",
    "                return i[0]"
   ]
  }
 ],
 "metadata": {
  "kernelspec": {
   "display_name": "Python 3 (ipykernel)",
   "language": "python",
   "name": "python3"
  },
  "language_info": {
   "codemirror_mode": {
    "name": "ipython",
    "version": 3
   },
   "file_extension": ".py",
   "mimetype": "text/x-python",
   "name": "python",
   "nbconvert_exporter": "python",
   "pygments_lexer": "ipython3",
   "version": "3.9.13"
  }
 },
 "nbformat": 4,
 "nbformat_minor": 5
}
