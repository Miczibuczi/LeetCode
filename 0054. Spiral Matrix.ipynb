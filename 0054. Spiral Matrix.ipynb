{
 "cells": [
  {
   "cell_type": "code",
   "execution_count": null,
   "id": "8d0165f1",
   "metadata": {},
   "outputs": [],
   "source": [
    "class Solution:\n",
    "    def spiralOrder(self, matrix: List[List[int]]) -> List[int]:\n",
    "        row = 0\n",
    "        col = -1\n",
    "        ans = []\n",
    "        add_x = len(matrix[0])\n",
    "        add_y = len(matrix)-1\n",
    "        while True:\n",
    "            if add_x == 0:\n",
    "                break\n",
    "            else:\n",
    "                for i in range(add_x):\n",
    "                    col += 1\n",
    "                    ans.append(matrix[row][col])\n",
    "                add_x -= 1\n",
    "\n",
    "            if add_y == 0:\n",
    "                break\n",
    "            else:\n",
    "                for i in range(add_y):\n",
    "                    row += 1\n",
    "                    ans.append(matrix[row][col])\n",
    "                add_y -= 1\n",
    "\n",
    "            if add_x == 0:\n",
    "                break\n",
    "            else:\n",
    "                for i in range(add_x):\n",
    "                    col -= 1\n",
    "                    ans.append(matrix[row][col])\n",
    "                add_x -= 1\n",
    "\n",
    "            if add_y == 0:\n",
    "                break\n",
    "            else:\n",
    "                for i in range(add_y):\n",
    "                    row -= 1\n",
    "                    ans.append(matrix[row][col])\n",
    "                add_y -= 1\n",
    "        return ans"
   ]
  }
 ],
 "metadata": {
  "kernelspec": {
   "display_name": "Python 3 (ipykernel)",
   "language": "python",
   "name": "python3"
  },
  "language_info": {
   "codemirror_mode": {
    "name": "ipython",
    "version": 3
   },
   "file_extension": ".py",
   "mimetype": "text/x-python",
   "name": "python",
   "nbconvert_exporter": "python",
   "pygments_lexer": "ipython3",
   "version": "3.9.13"
  }
 },
 "nbformat": 4,
 "nbformat_minor": 5
}
