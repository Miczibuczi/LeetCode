{
 "cells": [
  {
   "cell_type": "code",
   "execution_count": null,
   "id": "27966e93",
   "metadata": {},
   "outputs": [],
   "source": [
    "class Solution:\n",
    "    def summaryRanges(self, nums: List[int]) -> List[str]:\n",
    "        result = []\n",
    "        while len(nums) >= 1:\n",
    "            if len(nums) == 1:\n",
    "                result.append(str(nums[0]))\n",
    "                return result\n",
    "            elif nums[0]+1 != nums[1]:\n",
    "                result.append(f\"{nums[0]}\")\n",
    "                nums = nums[1:]\n",
    "            else:\n",
    "                a = nums[0]\n",
    "                for i in range(len(nums)-1):\n",
    "                    if nums[i]+1 != nums[i+1]:\n",
    "                        result.append(f\"{a}->{nums[i]}\")\n",
    "                        nums = nums[i+1:]\n",
    "                        procede = False\n",
    "                        break\n",
    "                else:\n",
    "                    result.append(f\"{a}->{nums[-1]}\")\n",
    "                    return result\n",
    "        return result"
   ]
  }
 ],
 "metadata": {
  "kernelspec": {
   "display_name": "Python 3 (ipykernel)",
   "language": "python",
   "name": "python3"
  },
  "language_info": {
   "codemirror_mode": {
    "name": "ipython",
    "version": 3
   },
   "file_extension": ".py",
   "mimetype": "text/x-python",
   "name": "python",
   "nbconvert_exporter": "python",
   "pygments_lexer": "ipython3",
   "version": "3.9.13"
  }
 },
 "nbformat": 4,
 "nbformat_minor": 5
}
