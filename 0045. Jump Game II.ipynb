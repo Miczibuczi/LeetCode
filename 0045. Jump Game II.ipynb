{
 "cells": [
  {
   "cell_type": "code",
   "execution_count": null,
   "id": "ad6b756f",
   "metadata": {},
   "outputs": [],
   "source": [
    "class Solution:\n",
    "    def jump(self, nums: List[int]) -> int:\n",
    "        jumps = 0\n",
    "        index = 0\n",
    "        while index < len(nums)-1:\n",
    "            jumps += 1\n",
    "            max_distance = 0\n",
    "            for i in range(index+1, min(index+nums[index]+1, len(nums))):\n",
    "                if index+nums[index] >= len(nums)-1:\n",
    "                    return jumps\n",
    "                if max_distance <= i+nums[i]:\n",
    "                    max_distance = i+nums[i]\n",
    "                    temp_index = i\n",
    "            index = temp_index\n",
    "        return jumps"
   ]
  }
 ],
 "metadata": {
  "kernelspec": {
   "display_name": "Python 3 (ipykernel)",
   "language": "python",
   "name": "python3"
  },
  "language_info": {
   "codemirror_mode": {
    "name": "ipython",
    "version": 3
   },
   "file_extension": ".py",
   "mimetype": "text/x-python",
   "name": "python",
   "nbconvert_exporter": "python",
   "pygments_lexer": "ipython3",
   "version": "3.9.13"
  }
 },
 "nbformat": 4,
 "nbformat_minor": 5
}
