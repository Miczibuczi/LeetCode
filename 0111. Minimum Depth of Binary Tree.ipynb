{
 "cells": [
  {
   "cell_type": "code",
   "execution_count": null,
   "id": "73135fb5",
   "metadata": {},
   "outputs": [],
   "source": [
    "# Definition for a binary tree node.\n",
    "# class TreeNode:\n",
    "#     def __init__(self, val=0, left=None, right=None):\n",
    "#         self.val = val\n",
    "#         self.left = left\n",
    "#         self.right = right\n",
    "class Solution:\n",
    "    def minDepth(self, root: Optional[TreeNode]) -> int:\n",
    "        if not root:\n",
    "            return 0\n",
    "        else:\n",
    "            return self.dfs(root, 1)\n",
    "        \n",
    "    def dfs(self, root, depth):\n",
    "        if not root.left and not root.right:\n",
    "            return depth\n",
    "        elif not root.left:\n",
    "            return self.dfs(root.right, depth+1)\n",
    "        elif not root.right:\n",
    "            return self.dfs(root.left, depth+1)\n",
    "        else:\n",
    "            return min(self.dfs(root.left, depth+1), self.dfs(root.right, depth+1))"
   ]
  }
 ],
 "metadata": {
  "kernelspec": {
   "display_name": "Python 3 (ipykernel)",
   "language": "python",
   "name": "python3"
  },
  "language_info": {
   "codemirror_mode": {
    "name": "ipython",
    "version": 3
   },
   "file_extension": ".py",
   "mimetype": "text/x-python",
   "name": "python",
   "nbconvert_exporter": "python",
   "pygments_lexer": "ipython3",
   "version": "3.9.13"
  }
 },
 "nbformat": 4,
 "nbformat_minor": 5
}
