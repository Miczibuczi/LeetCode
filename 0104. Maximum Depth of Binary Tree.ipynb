{
 "cells": [
  {
   "cell_type": "code",
   "execution_count": null,
   "id": "3c7addc2",
   "metadata": {},
   "outputs": [],
   "source": [
    "# Definition for a binary tree node.\n",
    "# class TreeNode:\n",
    "#     def __init__(self, val=0, left=None, right=None):\n",
    "#         self.val = val\n",
    "#         self.left = left\n",
    "#         self.right = right\n",
    "class Solution:\n",
    "    def maxDepth(self, root: Optional[TreeNode]) -> int:\n",
    "        if root:\n",
    "            return self.go_deeper(root.left, root.right, 1)\n",
    "        else:\n",
    "            return 0\n",
    "\n",
    "    def go_deeper(self, root1, root2, depth):\n",
    "        if root1 and root2:\n",
    "            depth += 1\n",
    "            return max(self.go_deeper(root1.left, root1.right, depth), self.go_deeper(root2.left, root2.right, depth))\n",
    "        if root1:\n",
    "            depth += 1\n",
    "            return self.go_deeper(root1.left, root1.right, depth)\n",
    "        if root2:\n",
    "            depth += 1\n",
    "            return self.go_deeper(root2.left, root2.right, depth)\n",
    "        else:\n",
    "            return depth"
   ]
  }
 ],
 "metadata": {
  "kernelspec": {
   "display_name": "Python 3 (ipykernel)",
   "language": "python",
   "name": "python3"
  },
  "language_info": {
   "codemirror_mode": {
    "name": "ipython",
    "version": 3
   },
   "file_extension": ".py",
   "mimetype": "text/x-python",
   "name": "python",
   "nbconvert_exporter": "python",
   "pygments_lexer": "ipython3",
   "version": "3.9.13"
  }
 },
 "nbformat": 4,
 "nbformat_minor": 5
}
