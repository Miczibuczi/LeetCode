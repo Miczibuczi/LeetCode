{
 "cells": [
  {
   "cell_type": "code",
   "execution_count": null,
   "id": "d9e398e1",
   "metadata": {},
   "outputs": [],
   "source": [
    "import pandas as pd\n",
    "\n",
    "def find_customers(customer: pd.DataFrame, product: pd.DataFrame) -> pd.DataFrame:\n",
    "    customer.drop_duplicates(inplace=True)\n",
    "    customer = customer.groupby(by=[\"customer_id\"]).size().reset_index(name=\"count\")\n",
    "    customer = customer[customer[\"count\"] == len(product)]\n",
    "    customer.drop_duplicates(subset=[\"customer_id\"], inplace=True)\n",
    "    return customer[[\"customer_id\"]]"
   ]
  }
 ],
 "metadata": {
  "kernelspec": {
   "display_name": "Python 3 (ipykernel)",
   "language": "python",
   "name": "python3"
  },
  "language_info": {
   "codemirror_mode": {
    "name": "ipython",
    "version": 3
   },
   "file_extension": ".py",
   "mimetype": "text/x-python",
   "name": "python",
   "nbconvert_exporter": "python",
   "pygments_lexer": "ipython3",
   "version": "3.10.9"
  }
 },
 "nbformat": 4,
 "nbformat_minor": 5
}
