{
 "cells": [
  {
   "cell_type": "code",
   "execution_count": null,
   "id": "6a8692fc",
   "metadata": {},
   "outputs": [],
   "source": [
    "import pandas as pd\n",
    "\n",
    "def count_unique_subjects(teacher: pd.DataFrame) -> pd.DataFrame:\n",
    "    teacher.drop(\"dept_id\", axis=1, inplace=True)\n",
    "    teacher.drop_duplicates(inplace=True)\n",
    "    return teacher.groupby(\"teacher_id\").size().reset_index(name=\"cnt\")"
   ]
  },
  {
   "cell_type": "code",
   "execution_count": null,
   "id": "439a12c7",
   "metadata": {},
   "outputs": [],
   "source": [
    "# Second answer, even simpler\n",
    "import pandas as pd\n",
    "\n",
    "def count_unique_subjects(teacher: pd.DataFrame) -> pd.DataFrame:\n",
    "    teacher = teacher.groupby([\"teacher_id\"]).agg(cnt=(\"subject_id\", \"nunique\")).reset_index()\n",
    "    return teacher"
   ]
  }
 ],
 "metadata": {
  "kernelspec": {
   "display_name": "Python 3 (ipykernel)",
   "language": "python",
   "name": "python3"
  },
  "language_info": {
   "codemirror_mode": {
    "name": "ipython",
    "version": 3
   },
   "file_extension": ".py",
   "mimetype": "text/x-python",
   "name": "python",
   "nbconvert_exporter": "python",
   "pygments_lexer": "ipython3",
   "version": "3.10.9"
  }
 },
 "nbformat": 4,
 "nbformat_minor": 5
}
