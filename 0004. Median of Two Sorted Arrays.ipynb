{
 "cells": [
  {
   "cell_type": "code",
   "execution_count": null,
   "id": "c5db3868",
   "metadata": {},
   "outputs": [],
   "source": [
    "class Solution:\n",
    "    def findMedianSortedArrays(self, nums1: List[int], nums2: List[int]) -> float:\n",
    "        temp_nums = [(nums1, len(nums1)), (nums2, len(nums2))]\n",
    "        temp_nums.sort(key = lambda x:x[1])\n",
    "        nums1, nums2 = temp_nums[0][0], temp_nums[1][0]\n",
    "\n",
    "        left1, right1 = min(0, len(nums1)-1), len(nums1)-1\n",
    "        left2, right2 = min(0, len(nums2)-1), len(nums2)-1\n",
    "\n",
    "        while left1>right1 or left2>right2:\n",
    "            mid1, mid2 = (right1+left1)//2, (right2+left2)//2\n",
    "            cur_left1 = cur_right1 = mid1\n",
    "            cur_left2 = cur_right2 = mid2\n",
    "            if (right1-left1) % 2 == 1:\n",
    "                cur_right1 += 1\n",
    "            if (right2-left2) % 2 == 1:\n",
    "                cur_right2 += 1\n",
    "            for num in nums1[cur_left1:cur_right1+1]:\n",
    "                if num >= nums2[cur_left2] and num <= nums2[cur_right2]:\n",
    "                    nums = nums1[cur_left1:cur_right1+1]+nums2[cur_left2:cur_right2+1]\n",
    "                    nums.sort()\n",
    "                    right1 = -2\n",
    "                    break\n",
    "            else:\n",
    "                if nums1[mid1] < nums2[mid2]:\n",
    "                    right2 -= (mid1+1-left1)\n",
    "                    left1 = min(mid1+1, right1)\n",
    "                else:\n",
    "                    left2 += (right1-(mid1-1))\n",
    "                    right1 = max(mid1-1, left1)\n",
    "        \n",
    "        if right1 != -2:\n",
    "            nums = nums1[left1:right1+1]+nums2[left2:right2+1]\n",
    "            nums.sort()\n",
    "\n",
    "        if nums == []:\n",
    "            nums = sorted(nums1+nums2)\n",
    "\n",
    "        if len(nums) % 2 == 1:\n",
    "            return nums[len(nums)//2]\n",
    "        else:\n",
    "            return (nums[len(nums)//2]+nums[len(nums)//2-1])/2"
   ]
  }
 ],
 "metadata": {
  "kernelspec": {
   "display_name": "Python 3 (ipykernel)",
   "language": "python",
   "name": "python3"
  },
  "language_info": {
   "codemirror_mode": {
    "name": "ipython",
    "version": 3
   },
   "file_extension": ".py",
   "mimetype": "text/x-python",
   "name": "python",
   "nbconvert_exporter": "python",
   "pygments_lexer": "ipython3",
   "version": "3.9.13"
  }
 },
 "nbformat": 4,
 "nbformat_minor": 5
}
