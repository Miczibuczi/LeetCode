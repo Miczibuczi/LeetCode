{
 "cells": [
  {
   "cell_type": "code",
   "execution_count": 1,
   "id": "7297aa76",
   "metadata": {},
   "outputs": [],
   "source": [
    "class Solution:\n",
    "    def toGoatLatin(self, sentence: str) -> str:\n",
    "        sentence = sentence.split()\n",
    "        for i, word in enumerate(sentence):\n",
    "            if word[0].lower() in \"aeiou\":\n",
    "                sentence[i] = sentence[i]+\"ma\"\n",
    "            else:\n",
    "                sentence[i] = sentence[i][1:]+sentence[i][0]+\"ma\"\n",
    "            sentence[i] += \"a\"*(i+1)\n",
    "        return \" \".join(sentence)"
   ]
  }
 ],
 "metadata": {
  "kernelspec": {
   "display_name": "Python 3 (ipykernel)",
   "language": "python",
   "name": "python3"
  },
  "language_info": {
   "codemirror_mode": {
    "name": "ipython",
    "version": 3
   },
   "file_extension": ".py",
   "mimetype": "text/x-python",
   "name": "python",
   "nbconvert_exporter": "python",
   "pygments_lexer": "ipython3",
   "version": "3.9.13"
  }
 },
 "nbformat": 4,
 "nbformat_minor": 5
}
