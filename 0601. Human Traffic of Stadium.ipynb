{
 "cells": [
  {
   "cell_type": "code",
   "execution_count": null,
   "id": "2b6983b5",
   "metadata": {},
   "outputs": [],
   "source": [
    "import pandas as pd\n",
    "\n",
    "def human_traffic(stadium: pd.DataFrame) -> pd.DataFrame:\n",
    "    stadium.sort_values(by=\"id\", inplace=True)\n",
    "    stadium = stadium[stadium[\"people\"] >= 100]\n",
    "    id_to_keep = set()\n",
    "    curr = []\n",
    "    keep = False\n",
    "    last = float(\"-inf\")\n",
    "    for cur_id in stadium[\"id\"]:\n",
    "        last += 1\n",
    "        if cur_id == last:\n",
    "            if keep:\n",
    "                id_to_keep.add(cur_id)\n",
    "            else:\n",
    "                curr.append(cur_id)\n",
    "                if len(curr) == 3:\n",
    "                    keep = True\n",
    "                    id_to_keep.update(curr)\n",
    "        else:\n",
    "            curr = [cur_id]\n",
    "            last = cur_id\n",
    "            keep = False\n",
    "    stadium = stadium[stadium[\"id\"].isin(id_to_keep)]\n",
    "    return stadium"
   ]
  }
 ],
 "metadata": {
  "kernelspec": {
   "display_name": "Python 3 (ipykernel)",
   "language": "python",
   "name": "python3"
  },
  "language_info": {
   "codemirror_mode": {
    "name": "ipython",
    "version": 3
   },
   "file_extension": ".py",
   "mimetype": "text/x-python",
   "name": "python",
   "nbconvert_exporter": "python",
   "pygments_lexer": "ipython3",
   "version": "3.10.9"
  }
 },
 "nbformat": 4,
 "nbformat_minor": 5
}
