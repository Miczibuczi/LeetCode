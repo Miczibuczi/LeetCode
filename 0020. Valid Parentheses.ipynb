{
 "cells": [
  {
   "cell_type": "code",
   "execution_count": 88,
   "id": "782247ee",
   "metadata": {},
   "outputs": [],
   "source": [
    "class Solution:\n",
    "    def isValid(self, s: str) -> bool:\n",
    "        check = True\n",
    "        if s[len(s)-1] == \"(\" or s[len(s)-1] == \"{\" or s[len(s)-1] == \"[\":\n",
    "            check = False\n",
    "            return False\n",
    "        while check:\n",
    "            if len(s) == 0:\n",
    "                check = False\n",
    "                return True\n",
    "            for i in range(len(s)-1):\n",
    "                if s[i] == \"(\" and s[i+1] == \")\" or s[i] == \"{\" and s[i+1] == \"}\" or s[i] == \"[\" and s[i+1] == \"]\":\n",
    "                    s = s[:i]+s[i+2:]\n",
    "                    break\n",
    "            else:\n",
    "                check = False\n",
    "                return False"
   ]
  }
 ],
 "metadata": {
  "kernelspec": {
   "display_name": "Python 3 (ipykernel)",
   "language": "python",
   "name": "python3"
  },
  "language_info": {
   "codemirror_mode": {
    "name": "ipython",
    "version": 3
   },
   "file_extension": ".py",
   "mimetype": "text/x-python",
   "name": "python",
   "nbconvert_exporter": "python",
   "pygments_lexer": "ipython3",
   "version": "3.9.13"
  }
 },
 "nbformat": 4,
 "nbformat_minor": 5
}
