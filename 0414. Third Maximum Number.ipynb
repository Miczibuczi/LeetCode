{
 "cells": [
  {
   "cell_type": "code",
   "execution_count": 4,
   "id": "89ed151f",
   "metadata": {},
   "outputs": [],
   "source": [
    "class Solution:\n",
    "    def thirdMax(self, nums: List[int]) -> int:\n",
    "        just_in_case = max(nums)\n",
    "        for i in range(2):\n",
    "            max_num = max(nums)\n",
    "            while max_num in nums:\n",
    "                nums.remove(max_num)\n",
    "            if len(nums) == 0:\n",
    "                return just_in_case\n",
    "        return max(nums)"
   ]
  }
 ],
 "metadata": {
  "kernelspec": {
   "display_name": "Python 3 (ipykernel)",
   "language": "python",
   "name": "python3"
  },
  "language_info": {
   "codemirror_mode": {
    "name": "ipython",
    "version": 3
   },
   "file_extension": ".py",
   "mimetype": "text/x-python",
   "name": "python",
   "nbconvert_exporter": "python",
   "pygments_lexer": "ipython3",
   "version": "3.9.13"
  }
 },
 "nbformat": 4,
 "nbformat_minor": 5
}
