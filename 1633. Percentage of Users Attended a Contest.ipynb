{
 "cells": [
  {
   "cell_type": "code",
   "execution_count": null,
   "id": "1d9b034e",
   "metadata": {},
   "outputs": [],
   "source": [
    "import pandas as pd\n",
    "\n",
    "def users_percentage(users: pd.DataFrame, register: pd.DataFrame) -> pd.DataFrame:\n",
    "    users_count = len(users)\n",
    "    register = register.groupby(by=\"contest_id\").size().reset_index(name=\"percentage\")\n",
    "    register[\"percentage\"] = register[\"percentage\"].apply(lambda x: round(x/users_count*100, 2))\n",
    "    return register.sort_values(by=[\"percentage\", \"contest_id\"], ascending=[False, True])"
   ]
  }
 ],
 "metadata": {
  "kernelspec": {
   "display_name": "Python 3 (ipykernel)",
   "language": "python",
   "name": "python3"
  },
  "language_info": {
   "codemirror_mode": {
    "name": "ipython",
    "version": 3
   },
   "file_extension": ".py",
   "mimetype": "text/x-python",
   "name": "python",
   "nbconvert_exporter": "python",
   "pygments_lexer": "ipython3",
   "version": "3.10.9"
  }
 },
 "nbformat": 4,
 "nbformat_minor": 5
}
