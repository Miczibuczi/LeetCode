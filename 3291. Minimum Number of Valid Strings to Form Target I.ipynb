{
 "cells": [
  {
   "cell_type": "code",
   "execution_count": null,
   "id": "13b1f3f0",
   "metadata": {},
   "outputs": [],
   "source": [
    "class Solution:\n",
    "    def minValidStrings(self, words: List[str], target: str) -> int:\n",
    "        Trie = dict()\n",
    "        for word in words:\n",
    "            cur = Trie\n",
    "            for letter in word:\n",
    "                if letter in cur:\n",
    "                    cur = cur[letter]\n",
    "                else:\n",
    "                    cur[letter] = dict()\n",
    "                    cur = cur[letter]\n",
    "        def helper(ans, target, cur):\n",
    "            print(ans, target, cur)\n",
    "            if not target:\n",
    "                return ans\n",
    "            possible_answers = []\n",
    "            for i, letter in enumerate(target):\n",
    "                if target[i] in cur:\n",
    "                    possible_answers.append(helper(ans, target[i+1:], cur[target[i]]))\n",
    "                else:\n",
    "                    if target[i] in Trie:\n",
    "                        possible_answers.append(helper(ans+1, target, Trie))\n",
    "                    else:\n",
    "                        break\n",
    "            if possible_answers:\n",
    "                return min(possible_answers)\n",
    "            return float(\"inf\")\n",
    "        return helper(0, target, Trie)"
   ]
  }
 ],
 "metadata": {
  "kernelspec": {
   "display_name": "Python 3 (ipykernel)",
   "language": "python",
   "name": "python3"
  },
  "language_info": {
   "codemirror_mode": {
    "name": "ipython",
    "version": 3
   },
   "file_extension": ".py",
   "mimetype": "text/x-python",
   "name": "python",
   "nbconvert_exporter": "python",
   "pygments_lexer": "ipython3",
   "version": "3.10.9"
  }
 },
 "nbformat": 4,
 "nbformat_minor": 5
}
