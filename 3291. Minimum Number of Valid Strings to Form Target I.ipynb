{
 "cells": [
  {
   "cell_type": "code",
   "execution_count": null,
   "id": "13b1f3f0",
   "metadata": {},
   "outputs": [],
   "source": [
    "class Solution:\n",
    "    def minValidStrings(self, words: List[str], target: str) -> int:\n",
    "        Trie = dict()\n",
    "        for word in words:\n",
    "            cur = Trie\n",
    "            for letter in word:\n",
    "                if letter in cur:\n",
    "                    cur = cur[letter]\n",
    "                else:\n",
    "                    cur[letter] = dict()\n",
    "                    cur = cur[letter]\n",
    "        def helper(ans, target, cur):\n",
    "            print(ans, target, cur)\n",
    "            if not target:\n",
    "                return ans\n",
    "            possible_answers = []\n",
    "            for i, letter in enumerate(target):\n",
    "                if target[i] in cur:\n",
    "                    possible_answers.append(helper(ans, target[i+1:], cur[target[i]]))\n",
    "                else:\n",
    "                    if target[i] in Trie:\n",
    "                        possible_answers.append(helper(ans+1, target, Trie))\n",
    "                    else:\n",
    "                        break\n",
    "            if possible_answers:\n",
    "                return min(possible_answers)\n",
    "            return float(\"inf\")\n",
    "        return helper(0, target, Trie)"
   ]
  },
  {
   "cell_type": "code",
   "execution_count": null,
   "id": "bdcea849",
   "metadata": {},
   "outputs": [],
   "source": []
  },
  {
   "cell_type": "code",
   "execution_count": null,
   "id": "e4d3bf2f",
   "metadata": {},
   "outputs": [],
   "source": []
  },
  {
   "cell_type": "code",
   "execution_count": null,
   "id": "76d3ca1f",
   "metadata": {},
   "outputs": [],
   "source": []
  },
  {
   "cell_type": "code",
   "execution_count": null,
   "id": "564d4600",
   "metadata": {},
   "outputs": [],
   "source": []
  },
  {
   "cell_type": "code",
   "execution_count": null,
   "id": "335b73d8",
   "metadata": {},
   "outputs": [],
   "source": []
  },
  {
   "cell_type": "code",
   "execution_count": null,
   "id": "3f50c099",
   "metadata": {},
   "outputs": [],
   "source": []
  },
  {
   "cell_type": "code",
   "execution_count": null,
   "id": "a30a6f00",
   "metadata": {},
   "outputs": [],
   "source": [
    "class Solution:\n",
    "    def minValidStrings(self, words: List[str], target: str) -> int:\n",
    "        Trie = dict()\n",
    "        for word in words:\n",
    "            cur = Trie\n",
    "            for letter in word:\n",
    "                if letter in cur:\n",
    "                    cur = cur[letter]\n",
    "                else:\n",
    "                    cur[letter] = dict()\n",
    "                    cur = cur[letter]\n",
    "\n",
    "        def helper(ans, target, cur):\n",
    "            if not target:\n",
    "                return ans\n",
    "            if target in seen and seen[target][0] == cur and seen[target][2] <= ans:\n",
    "                return seen[target][1]\n",
    "            possible_answers = []\n",
    "            if target[0] in cur:\n",
    "                possible_answers.append(helper(ans, target[1:], cur[target[0]]))\n",
    "            if target[0] in Trie:\n",
    "                possible_answers.append(helper(ans+1, target[1:], Trie[target[0]]))\n",
    "            if possible_answers:\n",
    "                seen[target] = (deepcopy(cur), min(possible_answers), ans)\n",
    "                return min(possible_answers)\n",
    "            seen[target] = (deepcopy(cur), float(\"inf\"), ans)\n",
    "            return float(\"inf\")\n",
    "        \n",
    "        seen = dict()\n",
    "        final_answer = helper(1, target, Trie)\n",
    "        if final_answer == float(\"inf\"):\n",
    "            return -1\n",
    "        return final_answer"
   ]
  },
  {
   "cell_type": "code",
   "execution_count": null,
   "id": "c8e990d6",
   "metadata": {},
   "outputs": [],
   "source": []
  },
  {
   "cell_type": "code",
   "execution_count": null,
   "id": "a745db35",
   "metadata": {},
   "outputs": [],
   "source": []
  },
  {
   "cell_type": "code",
   "execution_count": null,
   "id": "83efbbaa",
   "metadata": {},
   "outputs": [],
   "source": []
  },
  {
   "cell_type": "code",
   "execution_count": null,
   "id": "71744fbb",
   "metadata": {},
   "outputs": [],
   "source": []
  },
  {
   "cell_type": "code",
   "execution_count": null,
   "id": "fa16a3c7",
   "metadata": {},
   "outputs": [],
   "source": []
  },
  {
   "cell_type": "code",
   "execution_count": null,
   "id": "0d6b98e6",
   "metadata": {},
   "outputs": [],
   "source": []
  },
  {
   "cell_type": "code",
   "execution_count": null,
   "id": "c25701b4",
   "metadata": {},
   "outputs": [],
   "source": []
  },
  {
   "cell_type": "code",
   "execution_count": null,
   "id": "4023db59",
   "metadata": {},
   "outputs": [],
   "source": []
  },
  {
   "cell_type": "code",
   "execution_count": null,
   "id": "5ef0a024",
   "metadata": {},
   "outputs": [],
   "source": []
  },
  {
   "cell_type": "code",
   "execution_count": null,
   "id": "1e176eb4",
   "metadata": {},
   "outputs": [],
   "source": []
  },
  {
   "cell_type": "code",
   "execution_count": null,
   "id": "b405c97f",
   "metadata": {},
   "outputs": [],
   "source": []
  },
  {
   "cell_type": "code",
   "execution_count": null,
   "id": "51ff65ba",
   "metadata": {},
   "outputs": [],
   "source": []
  },
  {
   "cell_type": "code",
   "execution_count": null,
   "id": "99244543",
   "metadata": {},
   "outputs": [],
   "source": []
  },
  {
   "cell_type": "code",
   "execution_count": null,
   "id": "c3c03103",
   "metadata": {},
   "outputs": [],
   "source": []
  },
  {
   "cell_type": "code",
   "execution_count": null,
   "id": "cf1efe12",
   "metadata": {},
   "outputs": [],
   "source": []
  },
  {
   "cell_type": "code",
   "execution_count": null,
   "id": "9d6735f0",
   "metadata": {},
   "outputs": [],
   "source": [
    "class Solution:\n",
    "    def minValidStrings(self, words: List[str], target: str) -> int:\n",
    "        self.Trie = dict()\n",
    "        for word in words:\n",
    "            cur = Trie\n",
    "            for letter in word:\n",
    "                if letter in cur:\n",
    "                    cur = cur[letter]\n",
    "                else:\n",
    "                    cur[letter] = dict()\n",
    "                    cur = cur[letter]\n",
    "\n",
    "        def helper(ans, target):\n",
    "            if not target:\n",
    "                return ans\n",
    "            if target in seen and seen[target][0] == self.cur and seen[target][2] <= ans:\n",
    "                return seen[target][1]\n",
    "            possible_answers = []\n",
    "            if target[0] in self.cur:\n",
    "                self.cur = self.cur[target[0]]\n",
    "                possible_answers.append(helper(ans, target[1:]))\n",
    "            if target[0] in self.Trie:\n",
    "                self.cur = self.Trie[target[0]]\n",
    "                possible_answers.append(helper(ans+1, target[1:]))\n",
    "            if possible_answers:\n",
    "                seen[target] = (deepcopy(self.cur), min(possible_answers), ans)\n",
    "                return min(possible_answers)\n",
    "            seen[target] = (deepcopy(cur), float(\"inf\"), ans)\n",
    "            return float(\"inf\")\n",
    "        \n",
    "        seen = dict()\n",
    "        self.cur = Trie\n",
    "        final_answer = helper(1, target)\n",
    "        if final_answer == float(\"inf\"):\n",
    "            return -1\n",
    "        return final_answer"
   ]
  },
  {
   "cell_type": "code",
   "execution_count": null,
   "id": "4cfae4b7",
   "metadata": {},
   "outputs": [],
   "source": []
  },
  {
   "cell_type": "code",
   "execution_count": null,
   "id": "ae2536fe",
   "metadata": {},
   "outputs": [],
   "source": []
  },
  {
   "cell_type": "code",
   "execution_count": null,
   "id": "8373aa54",
   "metadata": {},
   "outputs": [],
   "source": []
  },
  {
   "cell_type": "code",
   "execution_count": null,
   "id": "5cfa8778",
   "metadata": {},
   "outputs": [],
   "source": []
  },
  {
   "cell_type": "code",
   "execution_count": null,
   "id": "90f902b6",
   "metadata": {},
   "outputs": [],
   "source": []
  },
  {
   "cell_type": "code",
   "execution_count": null,
   "id": "2a56ef31",
   "metadata": {},
   "outputs": [],
   "source": []
  },
  {
   "cell_type": "code",
   "execution_count": null,
   "id": "afb70e25",
   "metadata": {},
   "outputs": [],
   "source": []
  },
  {
   "cell_type": "code",
   "execution_count": null,
   "id": "9c89d697",
   "metadata": {},
   "outputs": [],
   "source": []
  },
  {
   "cell_type": "code",
   "execution_count": null,
   "id": "191ee628",
   "metadata": {},
   "outputs": [],
   "source": []
  },
  {
   "cell_type": "code",
   "execution_count": null,
   "id": "fab3a221",
   "metadata": {},
   "outputs": [],
   "source": []
  },
  {
   "cell_type": "code",
   "execution_count": null,
   "id": "5e30f795",
   "metadata": {},
   "outputs": [],
   "source": []
  },
  {
   "cell_type": "code",
   "execution_count": null,
   "id": "d9563957",
   "metadata": {},
   "outputs": [],
   "source": []
  },
  {
   "cell_type": "code",
   "execution_count": null,
   "id": "8f2c4e3e",
   "metadata": {},
   "outputs": [],
   "source": []
  },
  {
   "cell_type": "code",
   "execution_count": null,
   "id": "81ad3afe",
   "metadata": {},
   "outputs": [],
   "source": [
    "class Solution:\n",
    "    def minValidStrings(self, words: List[str], target: str) -> int:\n",
    "        self.Trie = dict()\n",
    "        for word in words:\n",
    "            cur = Trie\n",
    "            for letter in word:\n",
    "                if letter in cur:\n",
    "                    cur = cur[letter]\n",
    "                else:\n",
    "                    cur[letter] = dict()\n",
    "                    cur = cur[letter]\n",
    "\n",
    "        def helper(ans, target):\n",
    "            if not target:\n",
    "                return ans\n",
    "            if target in seen and seen[target][0] == self.cur and seen[target][2] <= ans:\n",
    "                return seen[target][1]\n",
    "            possible_answers = []\n",
    "            if target[0] in self.cur:\n",
    "                self.cur = self.cur[target[0]]\n",
    "                possible_answers.append(helper(ans, target[1:]))\n",
    "            if target[0] in self.Trie:\n",
    "                self.cur = self.Trie[target[0]]\n",
    "                possible_answers.append(helper(ans+1, target[1:]))\n",
    "            if possible_answers:\n",
    "                seen[target] = (deepcopy(self.cur), min(possible_answers), ans)\n",
    "                return min(possible_answers)\n",
    "            seen[target] = (deepcopy(cur), float(\"inf\"), ans)\n",
    "            return float(\"inf\")\n",
    "        \n",
    "        seen = dict()\n",
    "        self.cur = Trie\n",
    "        final_answer = helper(1, target)\n",
    "        if final_answer == float(\"inf\"):\n",
    "            return -1\n",
    "        return final_answer"
   ]
  },
  {
   "cell_type": "code",
   "execution_count": null,
   "id": "44604258",
   "metadata": {},
   "outputs": [],
   "source": []
  },
  {
   "cell_type": "code",
   "execution_count": null,
   "id": "72f15758",
   "metadata": {},
   "outputs": [],
   "source": []
  },
  {
   "cell_type": "code",
   "execution_count": null,
   "id": "357820af",
   "metadata": {},
   "outputs": [],
   "source": []
  },
  {
   "cell_type": "code",
   "execution_count": null,
   "id": "37df7678",
   "metadata": {},
   "outputs": [],
   "source": []
  },
  {
   "cell_type": "code",
   "execution_count": null,
   "id": "f6dfbe2a",
   "metadata": {},
   "outputs": [],
   "source": []
  },
  {
   "cell_type": "code",
   "execution_count": null,
   "id": "878dda76",
   "metadata": {},
   "outputs": [],
   "source": []
  },
  {
   "cell_type": "code",
   "execution_count": null,
   "id": "5b2366db",
   "metadata": {},
   "outputs": [],
   "source": []
  },
  {
   "cell_type": "code",
   "execution_count": null,
   "id": "744da92e",
   "metadata": {},
   "outputs": [],
   "source": []
  },
  {
   "cell_type": "code",
   "execution_count": null,
   "id": "a715b489",
   "metadata": {},
   "outputs": [],
   "source": []
  },
  {
   "cell_type": "code",
   "execution_count": null,
   "id": "126f316d",
   "metadata": {},
   "outputs": [],
   "source": []
  },
  {
   "cell_type": "code",
   "execution_count": null,
   "id": "aa94fef9",
   "metadata": {},
   "outputs": [],
   "source": []
  },
  {
   "cell_type": "code",
   "execution_count": null,
   "id": "594d0fe0",
   "metadata": {},
   "outputs": [],
   "source": []
  },
  {
   "cell_type": "code",
   "execution_count": null,
   "id": "0592c909",
   "metadata": {},
   "outputs": [],
   "source": []
  },
  {
   "cell_type": "code",
   "execution_count": null,
   "id": "e7b74d5c",
   "metadata": {},
   "outputs": [],
   "source": []
  },
  {
   "cell_type": "code",
   "execution_count": null,
   "id": "c5a452a2",
   "metadata": {},
   "outputs": [],
   "source": [
    "class Solution:\n",
    "    def minValidStrings(self, words: List[str], target: str) -> int:\n",
    "        self.Trie = dict()\n",
    "        for word in words:\n",
    "            cur = self.Trie\n",
    "            for letter in word:\n",
    "                if letter in cur:\n",
    "                    cur = cur[letter]\n",
    "                else:\n",
    "                    cur[letter] = dict()\n",
    "                    cur = cur[letter]\n",
    "\n",
    "        def helper(ans, target):\n",
    "            if not target:\n",
    "                return ans\n",
    "            possible_answers = []\n",
    "            if target[0] in self.cur:\n",
    "                self.cur = self.cur[target[0]]\n",
    "                possible_answers.append(helper(ans, target[1:]))\n",
    "            if target[0] in self.Trie:\n",
    "                self.cur = self.Trie[target[0]]\n",
    "                possible_answers.append(helper(ans+1, target[1:]))\n",
    "            if possible_answers:\n",
    "                return min(possible_answers)\n",
    "            return float(\"inf\")\n",
    "        \n",
    "        self.cur = self.Trie\n",
    "        final_answer = helper(1, target)\n",
    "        if final_answer == float(\"inf\"):\n",
    "            return -1\n",
    "        return final_answer"
   ]
  },
  {
   "cell_type": "code",
   "execution_count": null,
   "id": "0bf4d26a",
   "metadata": {},
   "outputs": [],
   "source": []
  },
  {
   "cell_type": "code",
   "execution_count": null,
   "id": "f945c31e",
   "metadata": {},
   "outputs": [],
   "source": []
  },
  {
   "cell_type": "code",
   "execution_count": null,
   "id": "5293e506",
   "metadata": {},
   "outputs": [],
   "source": []
  },
  {
   "cell_type": "code",
   "execution_count": null,
   "id": "01058a89",
   "metadata": {},
   "outputs": [],
   "source": []
  },
  {
   "cell_type": "code",
   "execution_count": null,
   "id": "031536fd",
   "metadata": {},
   "outputs": [],
   "source": []
  },
  {
   "cell_type": "code",
   "execution_count": null,
   "id": "57c20bb6",
   "metadata": {},
   "outputs": [],
   "source": []
  },
  {
   "cell_type": "code",
   "execution_count": null,
   "id": "f5f5087c",
   "metadata": {},
   "outputs": [],
   "source": []
  },
  {
   "cell_type": "code",
   "execution_count": null,
   "id": "957a4419",
   "metadata": {},
   "outputs": [],
   "source": []
  },
  {
   "cell_type": "code",
   "execution_count": null,
   "id": "c8edb075",
   "metadata": {},
   "outputs": [],
   "source": []
  },
  {
   "cell_type": "code",
   "execution_count": null,
   "id": "f02a9ae3",
   "metadata": {},
   "outputs": [],
   "source": []
  },
  {
   "cell_type": "code",
   "execution_count": null,
   "id": "280f5175",
   "metadata": {},
   "outputs": [],
   "source": []
  },
  {
   "cell_type": "code",
   "execution_count": null,
   "id": "613d5fb2",
   "metadata": {},
   "outputs": [],
   "source": []
  },
  {
   "cell_type": "code",
   "execution_count": null,
   "id": "df9a7efc",
   "metadata": {},
   "outputs": [],
   "source": []
  },
  {
   "cell_type": "code",
   "execution_count": null,
   "id": "212ae7c1",
   "metadata": {},
   "outputs": [],
   "source": []
  },
  {
   "cell_type": "code",
   "execution_count": null,
   "id": "be11a6d5",
   "metadata": {},
   "outputs": [],
   "source": []
  },
  {
   "cell_type": "code",
   "execution_count": null,
   "id": "ed43b103",
   "metadata": {},
   "outputs": [],
   "source": []
  },
  {
   "cell_type": "code",
   "execution_count": null,
   "id": "c2ac9642",
   "metadata": {},
   "outputs": [],
   "source": []
  },
  {
   "cell_type": "code",
   "execution_count": null,
   "id": "24eaa539",
   "metadata": {},
   "outputs": [],
   "source": []
  },
  {
   "cell_type": "code",
   "execution_count": null,
   "id": "9b3fb9a3",
   "metadata": {},
   "outputs": [],
   "source": []
  },
  {
   "cell_type": "code",
   "execution_count": null,
   "id": "1aa32dae",
   "metadata": {},
   "outputs": [],
   "source": []
  },
  {
   "cell_type": "code",
   "execution_count": null,
   "id": "27c1b010",
   "metadata": {},
   "outputs": [],
   "source": []
  },
  {
   "cell_type": "code",
   "execution_count": null,
   "id": "ec073ee7",
   "metadata": {},
   "outputs": [],
   "source": []
  },
  {
   "cell_type": "code",
   "execution_count": null,
   "id": "383482f7",
   "metadata": {},
   "outputs": [],
   "source": []
  },
  {
   "cell_type": "code",
   "execution_count": null,
   "id": "a6d09c37",
   "metadata": {},
   "outputs": [],
   "source": []
  },
  {
   "cell_type": "code",
   "execution_count": null,
   "id": "f668666c",
   "metadata": {},
   "outputs": [],
   "source": []
  },
  {
   "cell_type": "code",
   "execution_count": null,
   "id": "763df1c1",
   "metadata": {},
   "outputs": [],
   "source": []
  },
  {
   "cell_type": "code",
   "execution_count": null,
   "id": "8a883687",
   "metadata": {},
   "outputs": [],
   "source": []
  },
  {
   "cell_type": "code",
   "execution_count": null,
   "id": "b35373af",
   "metadata": {},
   "outputs": [],
   "source": []
  },
  {
   "cell_type": "code",
   "execution_count": null,
   "id": "51694389",
   "metadata": {},
   "outputs": [],
   "source": []
  },
  {
   "cell_type": "code",
   "execution_count": null,
   "id": "f15bc87a",
   "metadata": {},
   "outputs": [],
   "source": []
  },
  {
   "cell_type": "code",
   "execution_count": null,
   "id": "1c45bee9",
   "metadata": {},
   "outputs": [],
   "source": [
    "class Solution:\n",
    "    def minValidStrings(self, words: List[str], target: str) -> int:\n",
    "        self.Trie = dict()\n",
    "        for word in words:\n",
    "            cur = self.Trie\n",
    "            for letter in word:\n",
    "                if letter in cur:\n",
    "                    cur = cur[letter]\n",
    "                else:\n",
    "                    cur[letter] = dict()\n",
    "                    cur = cur[letter]\n",
    "\n",
    "        def helper(ans, target):\n",
    "            if not target:\n",
    "                return ans\n",
    "            possible_answers = []\n",
    "            if target[0] in self.cur:\n",
    "                self.cur = self.cur[target[0]]\n",
    "                possible_answers.append(helper(ans, target[1:]))\n",
    "            if target[0] in self.Trie:\n",
    "                self.cur = self.Trie[target[0]]\n",
    "                if (target, ans) not in seen:\n",
    "                    seen.add((target, ans))\n",
    "                    possible_answers.append(helper(ans+1, target[1:]))\n",
    "            if possible_answers:\n",
    "                return min(possible_answers)\n",
    "            return float(\"inf\")\n",
    "        \n",
    "        seen = set()\n",
    "        self.cur = self.Trie\n",
    "        final_answer = helper(1, target)\n",
    "        if final_answer == float(\"inf\"):\n",
    "            return -1\n",
    "        return final_answer"
   ]
  },
  {
   "cell_type": "code",
   "execution_count": null,
   "id": "c25ef9c6",
   "metadata": {},
   "outputs": [],
   "source": []
  },
  {
   "cell_type": "code",
   "execution_count": null,
   "id": "f9b2b5c4",
   "metadata": {},
   "outputs": [],
   "source": []
  },
  {
   "cell_type": "code",
   "execution_count": null,
   "id": "0f9067ec",
   "metadata": {},
   "outputs": [],
   "source": []
  },
  {
   "cell_type": "code",
   "execution_count": null,
   "id": "59e4c24a",
   "metadata": {},
   "outputs": [],
   "source": []
  },
  {
   "cell_type": "code",
   "execution_count": null,
   "id": "822a5cfd",
   "metadata": {},
   "outputs": [],
   "source": []
  },
  {
   "cell_type": "code",
   "execution_count": null,
   "id": "409ac918",
   "metadata": {},
   "outputs": [],
   "source": []
  },
  {
   "cell_type": "code",
   "execution_count": null,
   "id": "a71b2fe0",
   "metadata": {},
   "outputs": [],
   "source": []
  },
  {
   "cell_type": "code",
   "execution_count": null,
   "id": "1b845f07",
   "metadata": {},
   "outputs": [],
   "source": []
  },
  {
   "cell_type": "code",
   "execution_count": null,
   "id": "80e0727c",
   "metadata": {},
   "outputs": [],
   "source": []
  },
  {
   "cell_type": "code",
   "execution_count": null,
   "id": "3cf3c2b3",
   "metadata": {},
   "outputs": [],
   "source": []
  },
  {
   "cell_type": "code",
   "execution_count": null,
   "id": "1fb99919",
   "metadata": {},
   "outputs": [],
   "source": []
  },
  {
   "cell_type": "code",
   "execution_count": null,
   "id": "50402d84",
   "metadata": {},
   "outputs": [],
   "source": []
  },
  {
   "cell_type": "code",
   "execution_count": null,
   "id": "bb8e0a1b",
   "metadata": {},
   "outputs": [],
   "source": []
  },
  {
   "cell_type": "code",
   "execution_count": null,
   "id": "8e1273f0",
   "metadata": {},
   "outputs": [],
   "source": []
  },
  {
   "cell_type": "code",
   "execution_count": null,
   "id": "f615364f",
   "metadata": {},
   "outputs": [],
   "source": []
  },
  {
   "cell_type": "code",
   "execution_count": null,
   "id": "0b1e4b71",
   "metadata": {},
   "outputs": [],
   "source": []
  },
  {
   "cell_type": "code",
   "execution_count": null,
   "id": "9d100b8e",
   "metadata": {},
   "outputs": [],
   "source": []
  },
  {
   "cell_type": "code",
   "execution_count": null,
   "id": "63565dc7",
   "metadata": {},
   "outputs": [],
   "source": []
  },
  {
   "cell_type": "code",
   "execution_count": null,
   "id": "9ff0e574",
   "metadata": {},
   "outputs": [],
   "source": [
    "class Solution:\n",
    "    def minValidStrings(self, words: List[str], target: str) -> int:\n",
    "        self.Trie = dict()\n",
    "        for word in words:\n",
    "            cur = self.Trie\n",
    "            for letter in word:\n",
    "                if letter in cur:\n",
    "                    cur = cur[letter]\n",
    "                else:\n",
    "                    cur[letter] = dict()\n",
    "                    cur = cur[letter]\n",
    "\n",
    "        def helper(ans, i):\n",
    "            if i == len(target):\n",
    "                return ans\n",
    "            possible_answers = []\n",
    "            if target[i] in self.cur:\n",
    "                self.cur = self.cur[target[i]]\n",
    "                possible_answers.append(helper(ans, i+1))\n",
    "            if target[i] in self.Trie:\n",
    "                self.cur = self.Trie[target[i]]\n",
    "                if (i, ans) not in seen:\n",
    "                    seen.add((i, ans))\n",
    "                    possible_answers.append(helper(ans+1, i+1))\n",
    "            if possible_answers:\n",
    "                return min(possible_answers)\n",
    "            return float(\"inf\")\n",
    "        \n",
    "        seen = set()\n",
    "        self.cur = self.Trie\n",
    "        final_answer = helper(1, 0)\n",
    "        if final_answer == float(\"inf\"):\n",
    "            return -1\n",
    "        return final_answer"
   ]
  },
  {
   "cell_type": "code",
   "execution_count": null,
   "id": "4830a99f",
   "metadata": {},
   "outputs": [],
   "source": []
  },
  {
   "cell_type": "code",
   "execution_count": null,
   "id": "a62dbcf9",
   "metadata": {},
   "outputs": [],
   "source": []
  },
  {
   "cell_type": "code",
   "execution_count": null,
   "id": "c1aa3d0b",
   "metadata": {},
   "outputs": [],
   "source": []
  },
  {
   "cell_type": "code",
   "execution_count": null,
   "id": "62f90619",
   "metadata": {},
   "outputs": [],
   "source": []
  },
  {
   "cell_type": "code",
   "execution_count": null,
   "id": "b7f0e4b7",
   "metadata": {},
   "outputs": [],
   "source": []
  },
  {
   "cell_type": "code",
   "execution_count": null,
   "id": "6dc840ea",
   "metadata": {},
   "outputs": [],
   "source": []
  },
  {
   "cell_type": "code",
   "execution_count": null,
   "id": "a3a9aa2e",
   "metadata": {},
   "outputs": [],
   "source": []
  },
  {
   "cell_type": "code",
   "execution_count": null,
   "id": "7ad8876c",
   "metadata": {},
   "outputs": [],
   "source": []
  },
  {
   "cell_type": "code",
   "execution_count": null,
   "id": "d8f5aa7a",
   "metadata": {},
   "outputs": [],
   "source": []
  },
  {
   "cell_type": "code",
   "execution_count": null,
   "id": "c7565915",
   "metadata": {},
   "outputs": [],
   "source": []
  },
  {
   "cell_type": "code",
   "execution_count": null,
   "id": "2037a585",
   "metadata": {},
   "outputs": [],
   "source": []
  },
  {
   "cell_type": "code",
   "execution_count": null,
   "id": "9d4bd08e",
   "metadata": {},
   "outputs": [],
   "source": []
  },
  {
   "cell_type": "code",
   "execution_count": null,
   "id": "46d8526a",
   "metadata": {},
   "outputs": [],
   "source": []
  },
  {
   "cell_type": "code",
   "execution_count": null,
   "id": "b76b6279",
   "metadata": {},
   "outputs": [],
   "source": []
  },
  {
   "cell_type": "code",
   "execution_count": null,
   "id": "14c8bf01",
   "metadata": {},
   "outputs": [],
   "source": [
    "# Solves 925 out of 929 test cases, but exceeds the time limit for the remaining 4\n",
    "class Solution:\n",
    "    def minValidStrings(self, words: List[str], target: str) -> int:\n",
    "        self.Trie = dict()\n",
    "        for word in words:\n",
    "            cur = self.Trie\n",
    "            for letter in word:\n",
    "                if letter in cur:\n",
    "                    cur = cur[letter]\n",
    "                else:\n",
    "                    cur[letter] = dict()\n",
    "                    cur = cur[letter]\n",
    "\n",
    "        def helper(ans, i):\n",
    "            if i == len(target):\n",
    "                return ans\n",
    "            possible_answers = []\n",
    "            if target[i] in self.cur:\n",
    "                self.cur = self.cur[target[i]]\n",
    "                possible_answers.append(helper(ans, i+1))\n",
    "            if target[i] in self.Trie:\n",
    "                self.cur = self.Trie[target[i]]\n",
    "                if i not in seen or seen[i] > ans:\n",
    "                    seen[i] = ans\n",
    "                    possible_answers.append(helper(ans+1, i+1))\n",
    "            if possible_answers:\n",
    "                return min(possible_answers)\n",
    "            return float(\"inf\")\n",
    "        \n",
    "        seen = dict()\n",
    "        self.cur = self.Trie\n",
    "        final_answer = helper(1, 0)\n",
    "        if final_answer == float(\"inf\"):\n",
    "            return -1\n",
    "        return final_answer"
   ]
  }
 ],
 "metadata": {
  "kernelspec": {
   "display_name": "Python 3 (ipykernel)",
   "language": "python",
   "name": "python3"
  },
  "language_info": {
   "codemirror_mode": {
    "name": "ipython",
    "version": 3
   },
   "file_extension": ".py",
   "mimetype": "text/x-python",
   "name": "python",
   "nbconvert_exporter": "python",
   "pygments_lexer": "ipython3",
   "version": "3.10.9"
  }
 },
 "nbformat": 4,
 "nbformat_minor": 5
}
