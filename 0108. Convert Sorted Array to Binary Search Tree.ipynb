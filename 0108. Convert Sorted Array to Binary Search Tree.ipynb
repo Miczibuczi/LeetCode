{
 "cells": [
  {
   "cell_type": "code",
   "execution_count": null,
   "id": "2ae75806",
   "metadata": {},
   "outputs": [],
   "source": [
    "# Definition for a binary tree node.\n",
    "# class TreeNode:\n",
    "#     def __init__(self, val=0, left=None, right=None):\n",
    "#         self.val = val\n",
    "#         self.left = left\n",
    "#         self.right = right\n",
    "class Solution:\n",
    "    def sortedArrayToBST(self, nums: List[int]) -> Optional[TreeNode]:\n",
    "        if not nums:\n",
    "            return None\n",
    "        \n",
    "        mid = len(nums)//2\n",
    "\n",
    "        root = TreeNode(nums[mid])\n",
    "        root.left = self.sortedArrayToBST(nums[:mid])\n",
    "        root.right = self.sortedArrayToBST(nums[mid+1:])\n",
    "        return root"
   ]
  },
  {
   "cell_type": "code",
   "execution_count": null,
   "id": "a8893f61",
   "metadata": {},
   "outputs": [],
   "source": [
    "# It doesn't work\n",
    "class Solution:\n",
    "    def sortedArrayToBST(self, nums: List[int]) -> Optional[TreeNode]:\n",
    "        root = TreeNode(None)\n",
    "        def add_val(x, root):\n",
    "            if not root:\n",
    "                root = TreeNode(x)\n",
    "            elif root.val > x:\n",
    "                add_val(x, root.left)\n",
    "            elif root.val < x:\n",
    "                add_val(x, root.right)\n",
    "            else:\n",
    "                root = TreeNode(x)\n",
    "            return root\n",
    "                \n",
    "        \n",
    "        stack = [(0, len(nums)-1)]\n",
    "        for i in range(len(nums)-1):\n",
    "            start, stop = stack.pop(0)\n",
    "            index = (start+stop)//2\n",
    "            stack.append((start, index-1))\n",
    "            stack.append((index+1, stop))\n",
    "            add_val(nums[index], root)\n",
    "        return root"
   ]
  }
 ],
 "metadata": {
  "kernelspec": {
   "display_name": "Python 3 (ipykernel)",
   "language": "python",
   "name": "python3"
  },
  "language_info": {
   "codemirror_mode": {
    "name": "ipython",
    "version": 3
   },
   "file_extension": ".py",
   "mimetype": "text/x-python",
   "name": "python",
   "nbconvert_exporter": "python",
   "pygments_lexer": "ipython3",
   "version": "3.9.13"
  }
 },
 "nbformat": 4,
 "nbformat_minor": 5
}
