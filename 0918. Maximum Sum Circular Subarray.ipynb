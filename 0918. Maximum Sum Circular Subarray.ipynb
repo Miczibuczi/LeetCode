{
 "cells": [
  {
   "cell_type": "code",
   "execution_count": null,
   "id": "b075ee27",
   "metadata": {},
   "outputs": [],
   "source": [
    "class Solution:\n",
    "    def maxSubarraySumCircular(self, nums: List[int]) -> int:\n",
    "        ans = float(\"-inf\")\n",
    "        cur_sum = 0\n",
    "        start_index = 0\n",
    "\n",
    "        for i in range(2*len(nums)):\n",
    "            index = i % len(nums)\n",
    "            cur_sum += nums[index]\n",
    "            if cur_sum > ans:\n",
    "                ans = cur_sum\n",
    "            if cur_sum < 0:\n",
    "                cur_sum = 0\n",
    "                start_index = i+1\n",
    "        \n",
    "        if start_index < len(nums):\n",
    "            cur_sum2 = 0\n",
    "            ans2 = 0\n",
    "            for k in range(len(nums)):\n",
    "                index2 = (k+start_index) % len(nums)\n",
    "                cur_sum2 += nums[index2]\n",
    "                if cur_sum2 < ans2:\n",
    "                    ans2 = cur_sum2\n",
    "                if cur_sum2 > 0:\n",
    "                    cur_sum2 = 0\n",
    "            return sum(nums) - ans2\n",
    "        \n",
    "        return ans"
   ]
  }
 ],
 "metadata": {
  "kernelspec": {
   "display_name": "Python 3 (ipykernel)",
   "language": "python",
   "name": "python3"
  },
  "language_info": {
   "codemirror_mode": {
    "name": "ipython",
    "version": 3
   },
   "file_extension": ".py",
   "mimetype": "text/x-python",
   "name": "python",
   "nbconvert_exporter": "python",
   "pygments_lexer": "ipython3",
   "version": "3.9.13"
  }
 },
 "nbformat": 4,
 "nbformat_minor": 5
}
