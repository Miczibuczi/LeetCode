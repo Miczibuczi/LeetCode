{
 "cells": [
  {
   "cell_type": "code",
   "execution_count": null,
   "id": "7ece5c52",
   "metadata": {},
   "outputs": [],
   "source": [
    "class Solution:\n",
    "    def hIndex(self, citations: List[int]) -> int:\n",
    "        left = 0\n",
    "        right = len(citations)-1\n",
    "        ans = 0\n",
    "        while left <= right:\n",
    "            mid = (left+right)//2\n",
    "            if citations[mid] >= len(citations)-mid:\n",
    "                ans = min(citations[mid], len(citations)-mid)\n",
    "                right = mid-1\n",
    "            elif citations[mid] < len(citations)-mid:\n",
    "                left = mid+1\n",
    "        return ans"
   ]
  }
 ],
 "metadata": {
  "kernelspec": {
   "display_name": "Python 3 (ipykernel)",
   "language": "python",
   "name": "python3"
  },
  "language_info": {
   "codemirror_mode": {
    "name": "ipython",
    "version": 3
   },
   "file_extension": ".py",
   "mimetype": "text/x-python",
   "name": "python",
   "nbconvert_exporter": "python",
   "pygments_lexer": "ipython3",
   "version": "3.10.9"
  }
 },
 "nbformat": 4,
 "nbformat_minor": 5
}
