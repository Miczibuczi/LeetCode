{
 "cells": [
  {
   "cell_type": "code",
   "execution_count": null,
   "id": "82fbc41b",
   "metadata": {},
   "outputs": [],
   "source": [
    "class Solution:\n",
    "    def arrayRankTransform(self, arr: List[int]) -> List[int]:\n",
    "        if not arr:\n",
    "            return []\n",
    "        order = sorted(arr.copy())\n",
    "        curr = order[0]\n",
    "        min_rank = 1\n",
    "        my_map = {curr:1}\n",
    "        for rank in order:\n",
    "            if rank > curr:\n",
    "                min_rank += 1\n",
    "                curr = rank\n",
    "                my_map[curr] = min_rank\n",
    "        \n",
    "        ans = []\n",
    "        for item in arr:\n",
    "            ans.append(my_map[item])\n",
    "        return ans"
   ]
  }
 ],
 "metadata": {
  "kernelspec": {
   "display_name": "Python 3 (ipykernel)",
   "language": "python",
   "name": "python3"
  },
  "language_info": {
   "codemirror_mode": {
    "name": "ipython",
    "version": 3
   },
   "file_extension": ".py",
   "mimetype": "text/x-python",
   "name": "python",
   "nbconvert_exporter": "python",
   "pygments_lexer": "ipython3",
   "version": "3.10.9"
  }
 },
 "nbformat": 4,
 "nbformat_minor": 5
}
