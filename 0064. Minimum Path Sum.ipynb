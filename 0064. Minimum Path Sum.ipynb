{
 "cells": [
  {
   "cell_type": "code",
   "execution_count": null,
   "id": "4b224725",
   "metadata": {},
   "outputs": [],
   "source": [
    "class Solution:\n",
    "    def minPathSum(self, grid: List[List[int]]) -> int:\n",
    "        if not grid:\n",
    "            return 0\n",
    "        self.results = []\n",
    "        def go_deeper(i, j, cur_sum):\n",
    "            cur_sum += grid[i][j]\n",
    "            if i < len(grid)-1:\n",
    "                go_deeper(i+1, j, cur_sum)\n",
    "            if j < len(grid[0])-1:\n",
    "                go_deeper(i, j+1, cur_sum)\n",
    "            if i+j == len(grid)+len(grid[0])-2:\n",
    "                self.results.append(cur_sum)\n",
    "        go_deeper(0,0,0)\n",
    "        return min(self.results)class Solution:\n",
    "    def minPathSum(self, grid: List[List[int]]) -> int:\n",
    "        new_grid = [[[0] for i in range(len(grid[0]))] for j in range(len(grid))]\n",
    "        new_grid[0][0] = grid[0][0]\n",
    "        for i in range(1, len(grid[0])):\n",
    "            new_grid[0][i] = new_grid[0][i-1]+grid[0][i]\n",
    "        for j in range(1, len(grid)):\n",
    "            new_grid[j][0] = new_grid[j-1][0]+grid[j][0]\n",
    "        for i in range(1, len(grid)):\n",
    "            for j in range(1, len(grid[0])):\n",
    "                new_grid[i][j] = min(new_grid[i-1][j], new_grid[i][j-1]) + grid[i][j]\n",
    "        return new_grid[-1][-1]"
   ]
  }
 ],
 "metadata": {
  "kernelspec": {
   "display_name": "Python 3 (ipykernel)",
   "language": "python",
   "name": "python3"
  },
  "language_info": {
   "codemirror_mode": {
    "name": "ipython",
    "version": 3
   },
   "file_extension": ".py",
   "mimetype": "text/x-python",
   "name": "python",
   "nbconvert_exporter": "python",
   "pygments_lexer": "ipython3",
   "version": "3.9.13"
  }
 },
 "nbformat": 4,
 "nbformat_minor": 5
}
