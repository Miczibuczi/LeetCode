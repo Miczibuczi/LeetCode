{
 "cells": [
  {
   "cell_type": "code",
   "execution_count": null,
   "id": "85211a79",
   "metadata": {},
   "outputs": [],
   "source": [
    "class Solution:\n",
    "    def shiftGrid(self, grid: List[List[int]], k: int) -> List[List[int]]:\n",
    "        k %= len(grid)*len(grid[0])\n",
    "        buffer = []\n",
    "        for row in range(len(grid)):\n",
    "            for col in range(len(grid[0])):\n",
    "                if len(buffer) == k:\n",
    "                    buffer.append(grid[row][col])\n",
    "                    grid[row][col] = buffer.pop(0)\n",
    "                else:\n",
    "                    buffer.append(grid[row][col])\n",
    "        for i in range(k):\n",
    "            grid[(i // len(grid[0])) % len(grid)][i % len(grid[0])] = buffer.pop(0)\n",
    "        return grid"
   ]
  },
  {
   "cell_type": "code",
   "execution_count": null,
   "id": "8a95902d",
   "metadata": {},
   "outputs": [],
   "source": [
    "# First solution, much less time efficient\n",
    "class Solution:\n",
    "    def shiftGrid(self, grid: List[List[int]], k: int) -> List[List[int]]:\n",
    "        buffer = grid[-1][-1]\n",
    "        for i in range(k):\n",
    "            for row in range(len(grid)):\n",
    "                for col in range(len(grid[0])):\n",
    "                    grid[row][col], buffer = buffer, grid[row][col]\n",
    "            buffer = grid[-1][-1]\n",
    "        return grid"
   ]
  }
 ],
 "metadata": {
  "kernelspec": {
   "display_name": "Python 3 (ipykernel)",
   "language": "python",
   "name": "python3"
  },
  "language_info": {
   "codemirror_mode": {
    "name": "ipython",
    "version": 3
   },
   "file_extension": ".py",
   "mimetype": "text/x-python",
   "name": "python",
   "nbconvert_exporter": "python",
   "pygments_lexer": "ipython3",
   "version": "3.9.13"
  }
 },
 "nbformat": 4,
 "nbformat_minor": 5
}
