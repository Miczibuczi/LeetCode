{
 "cells": [
  {
   "cell_type": "code",
   "execution_count": null,
   "id": "3f58c8fe",
   "metadata": {},
   "outputs": [],
   "source": [
    "class Solution:\n",
    "    def minimumAbsDifference(self, arr: List[int]) -> List[List[int]]:\n",
    "        arr.sort()\n",
    "        answer = []\n",
    "        minimum_difference = float('inf')\n",
    "        for i in range(1, len(arr)):\n",
    "            if arr[i]-arr[i-1]<minimum_difference:\n",
    "                minimum_difference = arr[i]-arr[i-1]\n",
    "                answer = [[arr[i-1], arr[i]]]\n",
    "            elif arr[i]-arr[i-1] == minimum_difference:\n",
    "                answer.append([arr[i-1],arr[i]])\n",
    "        return answer"
   ]
  },
  {
   "cell_type": "code",
   "execution_count": null,
   "id": "42ab3ae9",
   "metadata": {},
   "outputs": [],
   "source": [
    "# Wery similar answer, two iterations, the same time&memory complexity\n",
    "class Solution:\n",
    "    def minimumAbsDifference(self, arr: List[int]) -> List[List[int]]:\n",
    "        arr.sort()\n",
    "        answer = []\n",
    "        minimum_difference = float('inf')\n",
    "        for i in range(1, len(arr)):\n",
    "            if arr[i]-arr[i-1]<minimum_difference:\n",
    "                minimum_difference = arr[i]-arr[i-1]\n",
    "        \n",
    "        for i in range(1, len(arr)):\n",
    "            if arr[i]-arr[i-1] == minumum_difference:\n",
    "                answer.append([arr[i-1], arr[i]])\n",
    "        return answer"
   ]
  }
 ],
 "metadata": {
  "kernelspec": {
   "display_name": "Python 3 (ipykernel)",
   "language": "python",
   "name": "python3"
  },
  "language_info": {
   "codemirror_mode": {
    "name": "ipython",
    "version": 3
   },
   "file_extension": ".py",
   "mimetype": "text/x-python",
   "name": "python",
   "nbconvert_exporter": "python",
   "pygments_lexer": "ipython3",
   "version": "3.9.13"
  }
 },
 "nbformat": 4,
 "nbformat_minor": 5
}
