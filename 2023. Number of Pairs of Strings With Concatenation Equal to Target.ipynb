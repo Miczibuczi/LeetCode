{
 "cells": [
  {
   "cell_type": "code",
   "execution_count": null,
   "id": "7fa291f5",
   "metadata": {},
   "outputs": [],
   "source": [
    "class Solution:\n",
    "    def numOfPairs(self, nums: List[str], target: str) -> int:\n",
    "        need = defaultdict(int)\n",
    "        ans = 0\n",
    "        for cur in nums:\n",
    "            if cur in need:\n",
    "                ans += need[cur]\n",
    "            if target[:len(cur)] == cur:\n",
    "                need[target[len(cur):]]+=1\n",
    "            if target[len(target)-len(cur):] == cur:\n",
    "                need[target[:len(target)-len(cur)]]+=1\n",
    "        return ans"
   ]
  }
 ],
 "metadata": {
  "kernelspec": {
   "display_name": "Python 3 (ipykernel)",
   "language": "python",
   "name": "python3"
  },
  "language_info": {
   "codemirror_mode": {
    "name": "ipython",
    "version": 3
   },
   "file_extension": ".py",
   "mimetype": "text/x-python",
   "name": "python",
   "nbconvert_exporter": "python",
   "pygments_lexer": "ipython3",
   "version": "3.10.9"
  }
 },
 "nbformat": 4,
 "nbformat_minor": 5
}
