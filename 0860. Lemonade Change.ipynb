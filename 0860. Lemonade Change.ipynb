{
 "cells": [
  {
   "cell_type": "code",
   "execution_count": null,
   "id": "9cf085a0",
   "metadata": {},
   "outputs": [],
   "source": [
    "from collections import defaultdict\n",
    "class Solution:\n",
    "    def lemonadeChange(self, bills: List[int]) -> bool:\n",
    "        my_bills = defaultdict(int)\n",
    "        for bill in bills:\n",
    "            if bill == 10:\n",
    "                my_bills [5] -= 1\n",
    "            if bill == 20:\n",
    "                if my_bills[10] >= 1:\n",
    "                    my_bills[10] -= 1\n",
    "                    my_bills[5] -= 1\n",
    "                else:\n",
    "                    my_bills[5] -= 3\n",
    "            if my_bills[5] < 0 or my_bills[10] < 0:\n",
    "                return False\n",
    "            my_bills[bill] += 1\n",
    "        return True"
   ]
  }
 ],
 "metadata": {
  "kernelspec": {
   "display_name": "Python 3 (ipykernel)",
   "language": "python",
   "name": "python3"
  },
  "language_info": {
   "codemirror_mode": {
    "name": "ipython",
    "version": 3
   },
   "file_extension": ".py",
   "mimetype": "text/x-python",
   "name": "python",
   "nbconvert_exporter": "python",
   "pygments_lexer": "ipython3",
   "version": "3.9.13"
  }
 },
 "nbformat": 4,
 "nbformat_minor": 5
}
