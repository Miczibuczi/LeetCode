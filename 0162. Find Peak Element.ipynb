{
 "cells": [
  {
   "cell_type": "code",
   "execution_count": null,
   "id": "998882b0",
   "metadata": {},
   "outputs": [],
   "source": [
    "class Solution:\n",
    "    def findPeakElement(self, nums: List[int]) -> int:\n",
    "        left = 0\n",
    "        right = len(nums)-1\n",
    "        while left <= right:\n",
    "            mid = (left+right)//2\n",
    "            if left == right:\n",
    "                return left\n",
    "            if (nums[mid-1] if mid != 0 else float('-inf')) < nums[mid] > (nums[mid+1] if mid != len(nums)-1 else float(\"-inf\")):\n",
    "                return mid\n",
    "            elif nums[mid] < nums[mid-1] if mid != 0 else 0:\n",
    "                right = mid-1\n",
    "            elif nums[mid] < nums[mid+1] if mid != len(nums)-1 else 0:\n",
    "                left = mid+1"
   ]
  }
 ],
 "metadata": {
  "kernelspec": {
   "display_name": "Python 3 (ipykernel)",
   "language": "python",
   "name": "python3"
  },
  "language_info": {
   "codemirror_mode": {
    "name": "ipython",
    "version": 3
   },
   "file_extension": ".py",
   "mimetype": "text/x-python",
   "name": "python",
   "nbconvert_exporter": "python",
   "pygments_lexer": "ipython3",
   "version": "3.9.13"
  }
 },
 "nbformat": 4,
 "nbformat_minor": 5
}
