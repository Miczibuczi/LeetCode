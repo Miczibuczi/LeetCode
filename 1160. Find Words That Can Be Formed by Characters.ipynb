{
 "cells": [
  {
   "cell_type": "code",
   "execution_count": null,
   "id": "da0d52c3",
   "metadata": {},
   "outputs": [],
   "source": [
    "from collections import Counter\n",
    "from collections import defaultdict\n",
    "class Solution:\n",
    "    def countCharacters(self, words: List[str], chars: str) -> int:\n",
    "        answer = 0\n",
    "        chars_dict = defaultdict(int)\n",
    "        for letter in chars:\n",
    "            chars_dict[letter] += 1\n",
    "        for word in words:\n",
    "            count = Counter(word)\n",
    "            if all(count[i] <= chars_dict[i] for i in word):\n",
    "                answer += len(word)\n",
    "        return answer"
   ]
  }
 ],
 "metadata": {
  "kernelspec": {
   "display_name": "Python 3 (ipykernel)",
   "language": "python",
   "name": "python3"
  },
  "language_info": {
   "codemirror_mode": {
    "name": "ipython",
    "version": 3
   },
   "file_extension": ".py",
   "mimetype": "text/x-python",
   "name": "python",
   "nbconvert_exporter": "python",
   "pygments_lexer": "ipython3",
   "version": "3.9.13"
  }
 },
 "nbformat": 4,
 "nbformat_minor": 5
}
