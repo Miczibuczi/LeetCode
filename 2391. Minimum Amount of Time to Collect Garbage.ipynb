{
 "cells": [
  {
   "cell_type": "code",
   "execution_count": null,
   "id": "0a0a5feb",
   "metadata": {},
   "outputs": [],
   "source": [
    "class Solution:\n",
    "    def garbageCollection(self, garbage: List[str], travel: List[int]) -> int:\n",
    "        travel_G = False\n",
    "        travel_P = False\n",
    "        travel_M = False\n",
    "        total_travel = sum(travel)\n",
    "        for items in garbage[:0:-1]:\n",
    "            if not travel_G and \"G\" in items:\n",
    "                travel_G = total_travel\n",
    "            if not travel_P and \"P\" in items:\n",
    "                travel_P = total_travel\n",
    "            if not travel_M and \"M\" in items:\n",
    "                travel_M = total_travel\n",
    "            if travel_G and travel_P and travel_M:\n",
    "                break\n",
    "            total_travel -= travel.pop()\n",
    "        ans = travel_G + travel_P + travel_M\n",
    "        for item in garbage:\n",
    "            ans += len(item)\n",
    "        return ans"
   ]
  }
 ],
 "metadata": {
  "kernelspec": {
   "display_name": "Python 3 (ipykernel)",
   "language": "python",
   "name": "python3"
  },
  "language_info": {
   "codemirror_mode": {
    "name": "ipython",
    "version": 3
   },
   "file_extension": ".py",
   "mimetype": "text/x-python",
   "name": "python",
   "nbconvert_exporter": "python",
   "pygments_lexer": "ipython3",
   "version": "3.10.9"
  }
 },
 "nbformat": 4,
 "nbformat_minor": 5
}
