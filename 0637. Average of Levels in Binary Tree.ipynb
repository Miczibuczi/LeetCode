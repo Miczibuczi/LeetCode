{
 "cells": [
  {
   "cell_type": "code",
   "execution_count": null,
   "id": "237339ae",
   "metadata": {},
   "outputs": [],
   "source": [
    "# Definition for a binary tree node.\n",
    "# class TreeNode:\n",
    "#     def __init__(self, val=0, left=None, right=None):\n",
    "#         self.val = val\n",
    "#         self.left = left\n",
    "#         self.right = right\n",
    "class Solution:\n",
    "    def averageOfLevels(self, root: Optional[TreeNode]) -> List[float]:\n",
    "        self.my_dictionary_sum = collections.defaultdict(int)\n",
    "        self.my_dictionary_count = collections.defaultdict(int)\n",
    "\n",
    "        def Traverse(node, depth):\n",
    "            if not node:\n",
    "                return\n",
    "            self.my_dictionary_sum[depth] += node.val\n",
    "            self.my_dictionary_count[depth] += 1\n",
    "            Traverse(node.left, depth+1)\n",
    "            Traverse(node.right, depth+1)\n",
    "        \n",
    "        Traverse(root, 0)\n",
    "        return list(map(lambda x, y: x/y, self.my_dictionary_sum.values(), self.my_dictionary_count.values()))"
   ]
  }
 ],
 "metadata": {
  "kernelspec": {
   "display_name": "Python 3 (ipykernel)",
   "language": "python",
   "name": "python3"
  },
  "language_info": {
   "codemirror_mode": {
    "name": "ipython",
    "version": 3
   },
   "file_extension": ".py",
   "mimetype": "text/x-python",
   "name": "python",
   "nbconvert_exporter": "python",
   "pygments_lexer": "ipython3",
   "version": "3.9.13"
  }
 },
 "nbformat": 4,
 "nbformat_minor": 5
}
