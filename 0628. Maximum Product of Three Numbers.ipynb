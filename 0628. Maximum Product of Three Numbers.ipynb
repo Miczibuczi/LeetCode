{
 "cells": [
  {
   "cell_type": "code",
   "execution_count": 1,
   "id": "b5e5f93d",
   "metadata": {},
   "outputs": [],
   "source": [
    "class Solution:\n",
    "    def maximumProduct(self, nums: List[int]) -> int:\n",
    "        nums.sort()\n",
    "        product = max(nums[-1]*nums[-2]*nums[-3], nums[0]*nums[1]*nums[-1])\n",
    "        if product < 0:\n",
    "            nums = [abs(x) for x in nums]\n",
    "            nums.sort()\n",
    "            product = -nums[0]*nums[1]*nums[2]\n",
    "        return product"
   ]
  }
 ],
 "metadata": {
  "kernelspec": {
   "display_name": "Python 3 (ipykernel)",
   "language": "python",
   "name": "python3"
  },
  "language_info": {
   "codemirror_mode": {
    "name": "ipython",
    "version": 3
   },
   "file_extension": ".py",
   "mimetype": "text/x-python",
   "name": "python",
   "nbconvert_exporter": "python",
   "pygments_lexer": "ipython3",
   "version": "3.9.13"
  }
 },
 "nbformat": 4,
 "nbformat_minor": 5
}
