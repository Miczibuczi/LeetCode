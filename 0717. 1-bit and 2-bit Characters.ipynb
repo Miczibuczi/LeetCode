{
 "cells": [
  {
   "cell_type": "code",
   "execution_count": null,
   "id": "c50eade8",
   "metadata": {},
   "outputs": [],
   "source": [
    "class Solution:\n",
    "    def isOneBitCharacter(self, bits: List[int]) -> bool:\n",
    "        if bits == [0]:\n",
    "            return True\n",
    "        len_bits = len(bits)\n",
    "        for i in range(len(bits)-1):\n",
    "            if bits[len_bits-2-i] == 0:\n",
    "                if i % 2 == 0:\n",
    "                    return True\n",
    "                else:\n",
    "                    return False\n",
    "        if i % 2 == 0:\n",
    "            return False\n",
    "        else:\n",
    "            return True"
   ]
  }
 ],
 "metadata": {
  "kernelspec": {
   "display_name": "Python 3 (ipykernel)",
   "language": "python",
   "name": "python3"
  },
  "language_info": {
   "codemirror_mode": {
    "name": "ipython",
    "version": 3
   },
   "file_extension": ".py",
   "mimetype": "text/x-python",
   "name": "python",
   "nbconvert_exporter": "python",
   "pygments_lexer": "ipython3",
   "version": "3.9.13"
  }
 },
 "nbformat": 4,
 "nbformat_minor": 5
}
