{
 "cells": [
  {
   "cell_type": "code",
   "execution_count": 10,
   "id": "b7f58f15",
   "metadata": {},
   "outputs": [],
   "source": [
    "class Solution:\n",
    "    def toHex(self, num: int) -> str:\n",
    "        result = \"\"\n",
    "        if num < 0:\n",
    "            num = 16**8+num\n",
    "        elif num == 0:\n",
    "            result = \"0\"\n",
    "        while num > 0:\n",
    "            a = num % 16\n",
    "            if a <= 9:\n",
    "                result = str(a) + result\n",
    "            else:\n",
    "                if a == 10:\n",
    "                    result = \"a\" + result\n",
    "                elif a == 11:\n",
    "                    result = \"b\" + result\n",
    "                elif a == 12:\n",
    "                    result = \"c\" + result\n",
    "                elif a == 13:\n",
    "                    result = \"d\" + result\n",
    "                elif a == 14:\n",
    "                    result = \"e\" + result\n",
    "                elif a == 15:\n",
    "                    result = \"f\" + result\n",
    "            num //= 16\n",
    "        return result"
   ]
  }
 ],
 "metadata": {
  "kernelspec": {
   "display_name": "Python 3 (ipykernel)",
   "language": "python",
   "name": "python3"
  },
  "language_info": {
   "codemirror_mode": {
    "name": "ipython",
    "version": 3
   },
   "file_extension": ".py",
   "mimetype": "text/x-python",
   "name": "python",
   "nbconvert_exporter": "python",
   "pygments_lexer": "ipython3",
   "version": "3.9.13"
  }
 },
 "nbformat": 4,
 "nbformat_minor": 5
}
