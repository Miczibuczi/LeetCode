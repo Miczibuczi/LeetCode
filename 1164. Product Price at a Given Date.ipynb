{
 "cells": [
  {
   "cell_type": "code",
   "execution_count": null,
   "id": "83425dd1",
   "metadata": {},
   "outputs": [],
   "source": [
    "import pandas as pd\n",
    "\n",
    "def price_at_given_date(products: pd.DataFrame) -> pd.DataFrame:\n",
    "    all_ids = set(products[\"product_id\"])\n",
    "    products = products[products[\"change_date\"] <= pd.Timestamp(\"2019-08-16\")]\n",
    "    products.sort_values(by=\"change_date\", inplace=True)\n",
    "    products.drop_duplicates(subset=\"product_id\", keep=\"last\", inplace=True)\n",
    "    ans = pd.DataFrame({\"product_id\":list(all_ids)}).merge(products, how=\"left\", on=\"product_id\")\n",
    "    ans.fillna(10, inplace=True)\n",
    "    return ans[[\"product_id\", \"new_price\"]].rename(columns={\"new_price\":\"price\"})"
   ]
  }
 ],
 "metadata": {
  "kernelspec": {
   "display_name": "Python 3 (ipykernel)",
   "language": "python",
   "name": "python3"
  },
  "language_info": {
   "codemirror_mode": {
    "name": "ipython",
    "version": 3
   },
   "file_extension": ".py",
   "mimetype": "text/x-python",
   "name": "python",
   "nbconvert_exporter": "python",
   "pygments_lexer": "ipython3",
   "version": "3.10.9"
  }
 },
 "nbformat": 4,
 "nbformat_minor": 5
}
