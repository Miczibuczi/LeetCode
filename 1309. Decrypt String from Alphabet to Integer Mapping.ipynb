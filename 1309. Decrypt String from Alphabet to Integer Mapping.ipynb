{
 "cells": [
  {
   "cell_type": "code",
   "execution_count": null,
   "id": "e1108653",
   "metadata": {},
   "outputs": [],
   "source": [
    "class Solution:\n",
    "    def freqAlphabets(self, s: str) -> str:\n",
    "        out = \"\"\n",
    "        pointer = len(s)-1\n",
    "        mymap = {number:chr(96+number)for number in range (1,27)}\n",
    "        while pointer >= 0:\n",
    "            if s[pointer] == \"#\":\n",
    "                number = int(s[pointer-2:pointer])\n",
    "                pointer -= 3\n",
    "            else:\n",
    "                number = int(s[pointer])\n",
    "                pointer -= 1\n",
    "            out = mymap[number]+out\n",
    "        return out"
   ]
  },
  {
   "cell_type": "code",
   "execution_count": null,
   "id": "32fd47ef",
   "metadata": {},
   "outputs": [],
   "source": [
    "# Solution without the map\n",
    "class Solution:\n",
    "    def freqAlphabets(self, s: str) -> str:\n",
    "        out = \"\"\n",
    "        pointer = len(s)-1\n",
    "        while pointer >= 0:\n",
    "            if s[pointer] == \"#\":\n",
    "                number = int(s[pointer-2:pointer])\n",
    "                pointer -= 3\n",
    "            else:\n",
    "                number = int(s[pointer])\n",
    "                pointer -= 1\n",
    "            out = chr(96+number)+out\n",
    "        return out"
   ]
  }
 ],
 "metadata": {
  "kernelspec": {
   "display_name": "Python 3 (ipykernel)",
   "language": "python",
   "name": "python3"
  },
  "language_info": {
   "codemirror_mode": {
    "name": "ipython",
    "version": 3
   },
   "file_extension": ".py",
   "mimetype": "text/x-python",
   "name": "python",
   "nbconvert_exporter": "python",
   "pygments_lexer": "ipython3",
   "version": "3.10.9"
  }
 },
 "nbformat": 4,
 "nbformat_minor": 5
}
