{
 "cells": [
  {
   "cell_type": "code",
   "execution_count": null,
   "id": "f32a0e73",
   "metadata": {},
   "outputs": [],
   "source": [
    "class Solution:\n",
    "    def buddyStrings(self, s: str, goal: str) -> bool:\n",
    "        if len(s) != len(goal):\n",
    "            return False\n",
    "        discrepancies = ()\n",
    "        my_dictionary = {}\n",
    "        need_value_2 = True\n",
    "        for i in range(len(s)):\n",
    "            if s[i] != goal[i]:\n",
    "                if len(discrepancies) == 0:\n",
    "                    discrepancies = (s[i], goal[i])\n",
    "                elif len(discrepancies) == 2:\n",
    "                    if discrepancies[0] == goal[i] and discrepancies[1] == s[i]:\n",
    "                        discrepancies = (1, 2, 3, 4)\n",
    "                    else:\n",
    "                        return False\n",
    "                else:\n",
    "                    return False\n",
    "            if need_value_2:\n",
    "                if s[i] in my_dictionary:\n",
    "                    need_value_2 = False\n",
    "                else:\n",
    "                    my_dictionary[s[i]] = 1\n",
    "        if len(discrepancies) == 0:\n",
    "            return not need_value_2    \n",
    "        elif len(discrepancies) == 2:\n",
    "            return False\n",
    "        else:\n",
    "            return True"
   ]
  },
  {
   "cell_type": "code",
   "execution_count": null,
   "id": "933d8fe8",
   "metadata": {},
   "outputs": [],
   "source": [
    "# first answer, a little less efficient\n",
    "class Solution:\n",
    "    def buddyStrings(self, s: str, goal: str) -> bool:\n",
    "        if len(s) != len(goal):\n",
    "            return False\n",
    "        discrepancies = ()\n",
    "        for i in range(len(s)):\n",
    "            if s[i] != goal[i]:\n",
    "                if len(discrepancies) == 0:\n",
    "                    discrepancies = (s[i], goal[i])\n",
    "                elif len(discrepancies) == 2:\n",
    "                    if discrepancies[0] == goal[i] and discrepancies[1] == s[i]:\n",
    "                        discrepancies = (1, 2, 3, 4)\n",
    "                    else:\n",
    "                        return False\n",
    "                else:\n",
    "                    return False\n",
    "        if len(discrepancies) == 0:\n",
    "            for i in s:\n",
    "                if s.count(i) >= 2:\n",
    "                    return True\n",
    "            else:\n",
    "                return False        \n",
    "        elif len(discrepancies) == 2:\n",
    "            return False\n",
    "        else:\n",
    "            return True"
   ]
  }
 ],
 "metadata": {
  "kernelspec": {
   "display_name": "Python 3 (ipykernel)",
   "language": "python",
   "name": "python3"
  },
  "language_info": {
   "codemirror_mode": {
    "name": "ipython",
    "version": 3
   },
   "file_extension": ".py",
   "mimetype": "text/x-python",
   "name": "python",
   "nbconvert_exporter": "python",
   "pygments_lexer": "ipython3",
   "version": "3.9.13"
  }
 },
 "nbformat": 4,
 "nbformat_minor": 5
}
