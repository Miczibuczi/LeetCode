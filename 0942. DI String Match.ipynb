{
 "cells": [
  {
   "cell_type": "code",
   "execution_count": 3,
   "id": "d130fe4d",
   "metadata": {},
   "outputs": [],
   "source": [
    "class Solution:\n",
    "    def diStringMatch(self, s: str) -> List[int]:\n",
    "        d_count = 0\n",
    "        i_count = 0\n",
    "        decreasing = s.count(\"D\")\n",
    "        perm = [decreasing]\n",
    "        for letter in s:\n",
    "            if letter == \"I\":\n",
    "                i_count += 1\n",
    "                perm.append(decreasing+i_count)\n",
    "            else:\n",
    "                d_count += 1\n",
    "                perm.append(decreasing-d_count)\n",
    "        return perm"
   ]
  }
 ],
 "metadata": {
  "kernelspec": {
   "display_name": "Python 3 (ipykernel)",
   "language": "python",
   "name": "python3"
  },
  "language_info": {
   "codemirror_mode": {
    "name": "ipython",
    "version": 3
   },
   "file_extension": ".py",
   "mimetype": "text/x-python",
   "name": "python",
   "nbconvert_exporter": "python",
   "pygments_lexer": "ipython3",
   "version": "3.9.13"
  }
 },
 "nbformat": 4,
 "nbformat_minor": 5
}
