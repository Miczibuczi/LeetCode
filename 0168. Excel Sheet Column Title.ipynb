{
 "cells": [
  {
   "cell_type": "code",
   "execution_count": null,
   "id": "6656fa4f",
   "metadata": {},
   "outputs": [],
   "source": [
    "class Solution:\n",
    "    def convertToTitle(self, columnNumber: int) -> str:\n",
    "        numbers_to_replace = []\n",
    "        while columnNumber > 26:\n",
    "            if columnNumber % 26 == 0:\n",
    "                numbers_to_replace.append(26)\n",
    "                columnNumber -= 1\n",
    "            else:\n",
    "                numbers_to_replace.append(columnNumber % 26)\n",
    "            columnNumber //= 26\n",
    "        if columnNumber > 0:\n",
    "            numbers_to_replace.append(columnNumber)\n",
    "        numbers_to_replace = numbers_to_replace[::-1]\n",
    "        letters = [\"AAA\", \"A\", \"B\", \"C\", \"D\", \"E\", \"F\", \"G\", \"H\", \"I\", \"J\", \"K\", \"L\", \"M\", \"N\", \"O\", \"P\", \"Q\", \"R\", \"S\", \"T\", \"U\", \"V\", \"W\", \"X\", \"Y\", \"Z\"]\n",
    "        for i in range(len(numbers_to_replace)):\n",
    "            numbers_to_replace[i] = letters[numbers_to_replace[i]]\n",
    "        \n",
    "        result = \"\"\n",
    "        for i in numbers_to_replace:\n",
    "            result += i\n",
    "\n",
    "        return result"
   ]
  }
 ],
 "metadata": {
  "kernelspec": {
   "display_name": "Python 3 (ipykernel)",
   "language": "python",
   "name": "python3"
  },
  "language_info": {
   "codemirror_mode": {
    "name": "ipython",
    "version": 3
   },
   "file_extension": ".py",
   "mimetype": "text/x-python",
   "name": "python",
   "nbconvert_exporter": "python",
   "pygments_lexer": "ipython3",
   "version": "3.9.13"
  }
 },
 "nbformat": 4,
 "nbformat_minor": 5
}
