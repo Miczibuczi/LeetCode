{
 "cells": [
  {
   "cell_type": "code",
   "execution_count": 33,
   "id": "04408989",
   "metadata": {},
   "outputs": [],
   "source": [
    "class Solution:\n",
    "    def addToArrayForm(self, num: List[int], k: int) -> List[int]:\n",
    "        k = str(k)\n",
    "        while len(num)<len(k):\n",
    "            num.insert(0,0)\n",
    "        for i in range(len(k)):\n",
    "            number = int(k[~i])+num[~i]\n",
    "            if i == len(num):\n",
    "                num.insert(0, number)\n",
    "            else:\n",
    "                num[~i] = number\n",
    "        \n",
    "        for i in range(len(num)-1):\n",
    "            if num[~i] >= 10:\n",
    "                num[~(i+1)] += num[~i]//10\n",
    "                num[~i] = num[~i]%10\n",
    "        \n",
    "        while num[0] >= 10:\n",
    "            num.insert(0, num[0]//10)\n",
    "            num[1] %= 10\n",
    "\n",
    "        return num"
   ]
  },
  {
   "cell_type": "code",
   "execution_count": 1,
   "id": "51310563",
   "metadata": {},
   "outputs": [],
   "source": [
    "# Neat code, but executes 30 times longer (6,5 second)\n",
    "class Solution:\n",
    "    def addToArrayForm(self, num: List[int], k: int) -> List[int]:\n",
    "        for i in range(len(num)):\n",
    "            k += num[len(num)-1-i] * 10**i\n",
    "        return [int(x) for x in str(k)]"
   ]
  }
 ],
 "metadata": {
  "kernelspec": {
   "display_name": "Python 3 (ipykernel)",
   "language": "python",
   "name": "python3"
  },
  "language_info": {
   "codemirror_mode": {
    "name": "ipython",
    "version": 3
   },
   "file_extension": ".py",
   "mimetype": "text/x-python",
   "name": "python",
   "nbconvert_exporter": "python",
   "pygments_lexer": "ipython3",
   "version": "3.9.13"
  }
 },
 "nbformat": 4,
 "nbformat_minor": 5
}
