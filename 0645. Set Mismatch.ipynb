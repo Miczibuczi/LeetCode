{
 "cells": [
  {
   "cell_type": "code",
   "execution_count": 4,
   "id": "50603a05",
   "metadata": {},
   "outputs": [],
   "source": [
    "class Solution:\n",
    "    def findErrorNums(self, nums: List[int]) -> List[int]:\n",
    "        nums.sort()\n",
    "        result = []\n",
    "        for i in range(len(nums)):\n",
    "            if nums[i] > i+1:\n",
    "                result.append(i+1)\n",
    "                for j in range(i+1, len(nums)):\n",
    "                    if nums[j] == nums[j-1]:\n",
    "                        result.insert(0, nums[j])\n",
    "                        return result\n",
    "            elif nums[i] < i+1:\n",
    "                result.insert(0, nums[i])\n",
    "                for j in range(i+1, len(nums)):\n",
    "                    if nums[j] > nums[j-1]+1:\n",
    "                        result.append(nums[j-1]+1)\n",
    "                        return result\n",
    "                result.append(len(nums))\n",
    "                return result"
   ]
  }
 ],
 "metadata": {
  "kernelspec": {
   "display_name": "Python 3 (ipykernel)",
   "language": "python",
   "name": "python3"
  },
  "language_info": {
   "codemirror_mode": {
    "name": "ipython",
    "version": 3
   },
   "file_extension": ".py",
   "mimetype": "text/x-python",
   "name": "python",
   "nbconvert_exporter": "python",
   "pygments_lexer": "ipython3",
   "version": "3.9.13"
  }
 },
 "nbformat": 4,
 "nbformat_minor": 5
}
