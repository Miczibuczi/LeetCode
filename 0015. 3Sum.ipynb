{
 "cells": [
  {
   "cell_type": "code",
   "execution_count": null,
   "id": "b0a2c0dd",
   "metadata": {},
   "outputs": [],
   "source": [
    "class Solution:\n",
    "    def threeSum(self, nums: List[int]) -> List[List[int]]:\n",
    "        ans = set()\n",
    "        nums.sort()\n",
    "        for i in range(len(nums)-2):\n",
    "            if i > 0 and nums[i] == nums[i-1]:\n",
    "                continue\n",
    "            left, right = i+1, len(nums)-1\n",
    "            while left < right:\n",
    "                curr = nums[i] + nums[left] + nums[right]\n",
    "                if curr < 0:\n",
    "                    left += 1\n",
    "                elif curr > 0:\n",
    "                    right -= 1\n",
    "                else:\n",
    "                    ans.add((nums[i], nums[left], nums[right]))\n",
    "                    left += 1\n",
    "                    right -= 1\n",
    "        return ans"
   ]
  },
  {
   "cell_type": "code",
   "execution_count": null,
   "id": "54ad9a0d",
   "metadata": {},
   "outputs": [],
   "source": [
    "# Time Limit Exceeded\n",
    "\n",
    "class LinkedList:\n",
    "    def __init__(self, indx1, indx2, val1, val2, next = None):\n",
    "        self.indx1 = indx1\n",
    "        self.indx2 = indx2\n",
    "        self.val1 = val1\n",
    "        self.val2 = val2\n",
    "        self.next = next\n",
    "\n",
    "class Solution:\n",
    "    def threeSum(self, nums: List[int]) -> List[List[int]]:\n",
    "        HashMap = [LinkedList(None, None, None, None) for i in range(2*10**5)]\n",
    "        ans = set()\n",
    "        for i in range(len(nums)):\n",
    "            for j in range(i+1, len(nums)):\n",
    "                missing = 0-nums[i]-nums[j]\n",
    "                if abs(missing) > 10**5:\n",
    "                    continue\n",
    "                elif not HashMap[10**5+missing].next:\n",
    "                    HashMap[10**5+missing].next = LinkedList(i, j, nums[i], nums[j])\n",
    "                else:\n",
    "                    head = HashMap[10**5+missing]\n",
    "                    while head.next:\n",
    "                        head = head.next\n",
    "                    head.next = LinkedList(i, j, nums[i], nums[j])\n",
    "        \n",
    "        for i in range(len(nums)):\n",
    "            if HashMap[10**5+nums[i]].next:\n",
    "                head = HashMap[10**5+nums[i]]\n",
    "                while head.next:\n",
    "                    if head.next.indx1 != i and head.next.indx2 != i:\n",
    "                        cur_ans = tuple(sorted((head.next.val1, head.next.val2, nums[i])))\n",
    "                        ans.add(cur_ans)\n",
    "                    head = head.next\n",
    "        return ans"
   ]
  }
 ],
 "metadata": {
  "kernelspec": {
   "display_name": "Python 3 (ipykernel)",
   "language": "python",
   "name": "python3"
  },
  "language_info": {
   "codemirror_mode": {
    "name": "ipython",
    "version": 3
   },
   "file_extension": ".py",
   "mimetype": "text/x-python",
   "name": "python",
   "nbconvert_exporter": "python",
   "pygments_lexer": "ipython3",
   "version": "3.9.13"
  }
 },
 "nbformat": 4,
 "nbformat_minor": 5
}
