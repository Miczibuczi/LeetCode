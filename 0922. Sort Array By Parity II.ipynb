{
 "cells": [
  {
   "cell_type": "code",
   "execution_count": null,
   "id": "a8ded901",
   "metadata": {},
   "outputs": [],
   "source": [
    "class Solution:\n",
    "    def sortArrayByParityII(self, nums: List[int]) -> List[int]:\n",
    "        nums.sort(key = lambda x: x % 2)\n",
    "        for i in range(len(nums)//4):\n",
    "            nums[2*i+1], nums[~(2*i+1)] = nums[~(2*i+1)], nums[2*i+1]\n",
    "        return nums"
   ]
  },
  {
   "cell_type": "code",
   "execution_count": null,
   "id": "8aeaab6e",
   "metadata": {},
   "outputs": [],
   "source": [
    "# First answer, less efficient\n",
    "class Solution:\n",
    "    def sortArrayByParityII(self, nums: List[int]) -> List[int]:\n",
    "        odd = []\n",
    "        even = []\n",
    "        for num in nums:\n",
    "            if num % 2 == 0:\n",
    "                even.append(num)\n",
    "            else:\n",
    "                odd.append(num)\n",
    "        \n",
    "        answer = []\n",
    "        for i in range(len(even)):\n",
    "            answer.extend([even[i], odd[i]])\n",
    "        return answer"
   ]
  }
 ],
 "metadata": {
  "kernelspec": {
   "display_name": "Python 3 (ipykernel)",
   "language": "python",
   "name": "python3"
  },
  "language_info": {
   "codemirror_mode": {
    "name": "ipython",
    "version": 3
   },
   "file_extension": ".py",
   "mimetype": "text/x-python",
   "name": "python",
   "nbconvert_exporter": "python",
   "pygments_lexer": "ipython3",
   "version": "3.9.13"
  }
 },
 "nbformat": 4,
 "nbformat_minor": 5
}
