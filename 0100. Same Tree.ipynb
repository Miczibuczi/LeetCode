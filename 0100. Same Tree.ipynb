{
 "cells": [
  {
   "cell_type": "code",
   "execution_count": null,
   "id": "a7938609",
   "metadata": {},
   "outputs": [],
   "source": [
    "# Definition for a binary tree node.\n",
    "# class TreeNode:\n",
    "#     def __init__(self, val=0, left=None, right=None):\n",
    "#         self.val = val\n",
    "#         self.left = left\n",
    "#         self.right = right\n",
    "class Solution:\n",
    "    def isSameTree(self, p: Optional[TreeNode], q: Optional[TreeNode]) -> bool:\n",
    "        no_False = []\n",
    "        try:\n",
    "            return self.helper(p, q, no_False) == [] and self.helper(q, p, no_False) == []\n",
    "        except:\n",
    "            return False\n",
    "\n",
    "    def helper(self, p, q, no_False):\n",
    "        if p:\n",
    "            self.helper(p.left, q.left, no_False)\n",
    "            if p.val != q.val:\n",
    "                no_False.append(False)\n",
    "            self.helper(p.right, q.right, no_False)\n",
    "            if p.val != q.val:\n",
    "                no_False.append(False)\n",
    "        return no_False"
   ]
  }
 ],
 "metadata": {
  "kernelspec": {
   "display_name": "Python 3 (ipykernel)",
   "language": "python",
   "name": "python3"
  },
  "language_info": {
   "codemirror_mode": {
    "name": "ipython",
    "version": 3
   },
   "file_extension": ".py",
   "mimetype": "text/x-python",
   "name": "python",
   "nbconvert_exporter": "python",
   "pygments_lexer": "ipython3",
   "version": "3.9.13"
  }
 },
 "nbformat": 4,
 "nbformat_minor": 5
}
