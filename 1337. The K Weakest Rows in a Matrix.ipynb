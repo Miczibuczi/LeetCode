{
 "cells": [
  {
   "cell_type": "code",
   "execution_count": null,
   "id": "55b3f67f",
   "metadata": {},
   "outputs": [],
   "source": [
    "class Solution:\n",
    "    def kWeakestRows(self, mat: List[List[int]], k: int) -> List[int]:\n",
    "        my_dictionary = defaultdict(list)\n",
    "        for i, row in enumerate(mat):\n",
    "            my_dictionary[row.count(1)].append(i)\n",
    "        \n",
    "        ans = []\n",
    "        curr = 0\n",
    "        while len(ans) < k:\n",
    "            ans.extend(my_dictionary[curr])\n",
    "            curr += 1\n",
    "        return ans[:k]"
   ]
  }
 ],
 "metadata": {
  "kernelspec": {
   "display_name": "Python 3 (ipykernel)",
   "language": "python",
   "name": "python3"
  },
  "language_info": {
   "codemirror_mode": {
    "name": "ipython",
    "version": 3
   },
   "file_extension": ".py",
   "mimetype": "text/x-python",
   "name": "python",
   "nbconvert_exporter": "python",
   "pygments_lexer": "ipython3",
   "version": "3.10.9"
  }
 },
 "nbformat": 4,
 "nbformat_minor": 5
}
