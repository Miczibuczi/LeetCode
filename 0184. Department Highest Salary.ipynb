{
 "cells": [
  {
   "cell_type": "code",
   "execution_count": null,
   "id": "5f89826b",
   "metadata": {},
   "outputs": [],
   "source": [
    "import pandas as pd\n",
    "\n",
    "def department_highest_salary(employee: pd.DataFrame, department: pd.DataFrame) -> pd.DataFrame:\n",
    "    max_values = employee.groupby(\"departmentId\")[\"salary\"].transform(\"max\")\n",
    "    employee = employee[employee[\"salary\"] == max_values]\n",
    "    result = employee.merge(department, how=\"left\", left_on=\"departmentId\", right_on=\"id\", suffixes=[\"\", \"_dep\"])\n",
    "    return result[[\"name_dep\", \"name\", \"salary\"]].rename(columns={\"name_dep\":\"Department\", \"name\":\"Employee\"})"
   ]
  }
 ],
 "metadata": {
  "kernelspec": {
   "display_name": "Python 3 (ipykernel)",
   "language": "python",
   "name": "python3"
  },
  "language_info": {
   "codemirror_mode": {
    "name": "ipython",
    "version": 3
   },
   "file_extension": ".py",
   "mimetype": "text/x-python",
   "name": "python",
   "nbconvert_exporter": "python",
   "pygments_lexer": "ipython3",
   "version": "3.10.9"
  }
 },
 "nbformat": 4,
 "nbformat_minor": 5
}
