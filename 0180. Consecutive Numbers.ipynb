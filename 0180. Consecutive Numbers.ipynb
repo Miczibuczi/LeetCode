{
 "cells": [
  {
   "cell_type": "code",
   "execution_count": null,
   "id": "a800344d",
   "metadata": {},
   "outputs": [],
   "source": [
    "import pandas as pd\n",
    "\n",
    "def consecutive_numbers(logs: pd.DataFrame) -> pd.DataFrame:\n",
    "    logs.sort_values(by=[\"id\"], inplace=True)\n",
    "    last_id = float(\"-inf\")\n",
    "    ans = set()\n",
    "    for row in logs.itertuples():\n",
    "        if row.id != last_id + 1:\n",
    "            count = 1\n",
    "            last = row.num\n",
    "        elif last == row.num:\n",
    "            count += 1\n",
    "            if count == 3:\n",
    "                ans.add(row.num)\n",
    "        else:\n",
    "            count = 1\n",
    "            last = row.num\n",
    "        last_id = row.id\n",
    "    return pd.DataFrame({\"ConsecutiveNums\" : [num for num in ans]})"
   ]
  },
  {
   "cell_type": "code",
   "execution_count": null,
   "id": "2c5cab3b",
   "metadata": {},
   "outputs": [],
   "source": [
    "# Similar answer but with less conditions\n",
    "import pandas as pd\n",
    "\n",
    "def consecutive_numbers(logs: pd.DataFrame) -> pd.DataFrame:\n",
    "    logs.sort_values(by=[\"id\"], inplace=True)\n",
    "    last_id = float(\"-inf\")\n",
    "    ans = set()\n",
    "    for row in logs.itertuples():\n",
    "        if row.id == last_id + 1 and last==row.num:\n",
    "            count += 1\n",
    "            if count == 3:\n",
    "                ans.add(row.num)\n",
    "        else:\n",
    "            count = 1\n",
    "            last = row.num\n",
    "        last_id = row.id\n",
    "    return pd.DataFrame({\"ConsecutiveNums\" : [num for num in ans]})"
   ]
  }
 ],
 "metadata": {
  "kernelspec": {
   "display_name": "Python 3 (ipykernel)",
   "language": "python",
   "name": "python3"
  },
  "language_info": {
   "codemirror_mode": {
    "name": "ipython",
    "version": 3
   },
   "file_extension": ".py",
   "mimetype": "text/x-python",
   "name": "python",
   "nbconvert_exporter": "python",
   "pygments_lexer": "ipython3",
   "version": "3.10.9"
  }
 },
 "nbformat": 4,
 "nbformat_minor": 5
}
