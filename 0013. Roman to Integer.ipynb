{
 "cells": [
  {
   "cell_type": "code",
   "execution_count": null,
   "id": "89b396a5",
   "metadata": {},
   "outputs": [],
   "source": [
    "# Symbol       Value\n",
    "# I             1\n",
    "# V             5\n",
    "# X             10\n",
    "# L             50\n",
    "# C             100\n",
    "# D             500\n",
    "# M             1000"
   ]
  },
  {
   "cell_type": "code",
   "execution_count": null,
   "id": "5bb74dba",
   "metadata": {},
   "outputs": [],
   "source": [
    "class Solution:\n",
    "    def romanToInt(self, s: str) -> int:\n",
    "        list_roman = [letter for letter in s]\n",
    "        for i in range(len(list_roman)):\n",
    "            if list_roman[i] == \"I\":\n",
    "                list_roman[i] = 1\n",
    "            elif list_roman[i] == \"V\":\n",
    "                list_roman[i] = 5\n",
    "            elif list_roman[i] == \"X\":\n",
    "                list_roman[i] = 10\n",
    "            elif list_roman[i] == \"L\":\n",
    "                list_roman[i] = 50\n",
    "            elif list_roman[i] == \"C\":\n",
    "                list_roman[i] = 100\n",
    "            elif list_roman[i] == \"D\":\n",
    "                list_roman[i] = 500\n",
    "            elif list_roman[i] == \"M\":\n",
    "                list_roman[i] = 1000\n",
    "\n",
    "        for j in range(len(list_roman)-1):\n",
    "            if list_roman[j] < list_roman[j+1]:\n",
    "                list_roman[j] = -1 * list_roman[j]\n",
    "\n",
    "        return sum(list_roman)"
   ]
  },
  {
   "cell_type": "code",
   "execution_count": 1,
   "id": "ca6bc1e2",
   "metadata": {},
   "outputs": [
    {
     "data": {
      "text/plain": [
       "3"
      ]
     },
     "execution_count": 1,
     "metadata": {},
     "output_type": "execute_result"
    }
   ],
   "source": [
    "s = \"III\"\n",
    "\n",
    "list_roman = [letter for letter in s]\n",
    "for i in range(len(list_roman)):\n",
    "    if list_roman[i] == \"I\":\n",
    "        list_roman[i] = 1\n",
    "    elif list_roman[i] == \"V\":\n",
    "        list_roman[i] = 5\n",
    "    elif list_roman[i] == \"X\":\n",
    "        list_roman[i] = 10\n",
    "    elif list_roman[i] == \"L\":\n",
    "        list_roman[i] = 50\n",
    "    elif list_roman[i] == \"C\":\n",
    "        list_roman[i] = 100\n",
    "    elif list_roman[i] == \"D\":\n",
    "        list_roman[i] = 500\n",
    "    elif list_roman[i] == \"M\":\n",
    "        list_roman[i] = 1000\n",
    "\n",
    "for j in range(len(list_roman)-1):\n",
    "    if list_roman[j] < list_roman[j+1]:\n",
    "        list_roman[j] = -1 * list_roman[j]\n",
    "\n",
    "sum(list_roman)"
   ]
  },
  {
   "cell_type": "code",
   "execution_count": 25,
   "id": "98ac3aae",
   "metadata": {},
   "outputs": [
    {
     "data": {
      "text/plain": [
       "58"
      ]
     },
     "execution_count": 25,
     "metadata": {},
     "output_type": "execute_result"
    }
   ],
   "source": [
    "s = \"LVIII\"\n",
    "\n",
    "list_roman = [letter for letter in s]\n",
    "for i in range(len(list_roman)):\n",
    "    if list_roman[i] == \"I\":\n",
    "        list_roman[i] = 1\n",
    "    elif list_roman[i] == \"V\":\n",
    "        list_roman[i] = 5\n",
    "    elif list_roman[i] == \"X\":\n",
    "        list_roman[i] = 10\n",
    "    elif list_roman[i] == \"L\":\n",
    "        list_roman[i] = 50\n",
    "    elif list_roman[i] == \"C\":\n",
    "        list_roman[i] = 100\n",
    "    elif list_roman[i] == \"D\":\n",
    "        list_roman[i] = 500\n",
    "    elif list_roman[i] == \"M\":\n",
    "        list_roman[i] = 1000\n",
    "\n",
    "for j in range(len(list_roman)-1):\n",
    "    if list_roman[j] < list_roman[j+1]:\n",
    "        list_roman[j] = -1 * list_roman[j]\n",
    "\n",
    "sum(list_roman)"
   ]
  },
  {
   "cell_type": "code",
   "execution_count": 26,
   "id": "32589bf7",
   "metadata": {},
   "outputs": [
    {
     "data": {
      "text/plain": [
       "1994"
      ]
     },
     "execution_count": 26,
     "metadata": {},
     "output_type": "execute_result"
    }
   ],
   "source": [
    "s = \"MCMXCIV\"\n",
    "\n",
    "list_roman = [letter for letter in s]\n",
    "for i in range(len(list_roman)):\n",
    "    if list_roman[i] == \"I\":\n",
    "        list_roman[i] = 1\n",
    "    elif list_roman[i] == \"V\":\n",
    "        list_roman[i] = 5\n",
    "    elif list_roman[i] == \"X\":\n",
    "        list_roman[i] = 10\n",
    "    elif list_roman[i] == \"L\":\n",
    "        list_roman[i] = 50\n",
    "    elif list_roman[i] == \"C\":\n",
    "        list_roman[i] = 100\n",
    "    elif list_roman[i] == \"D\":\n",
    "        list_roman[i] = 500\n",
    "    elif list_roman[i] == \"M\":\n",
    "        list_roman[i] = 1000\n",
    "\n",
    "for j in range(len(list_roman)-1):\n",
    "    if list_roman[j] < list_roman[j+1]:\n",
    "        list_roman[j] = -1 * list_roman[j]\n",
    "\n",
    "sum(list_roman)"
   ]
  }
 ],
 "metadata": {
  "kernelspec": {
   "display_name": "Python 3 (ipykernel)",
   "language": "python",
   "name": "python3"
  },
  "language_info": {
   "codemirror_mode": {
    "name": "ipython",
    "version": 3
   },
   "file_extension": ".py",
   "mimetype": "text/x-python",
   "name": "python",
   "nbconvert_exporter": "python",
   "pygments_lexer": "ipython3",
   "version": "3.9.13"
  }
 },
 "nbformat": 4,
 "nbformat_minor": 5
}
