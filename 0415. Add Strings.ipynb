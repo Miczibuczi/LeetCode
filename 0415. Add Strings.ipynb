{
 "cells": [
  {
   "cell_type": "code",
   "execution_count": 1,
   "id": "d942bcf2",
   "metadata": {},
   "outputs": [],
   "source": [
    "class Solution:\n",
    "    def addStrings(self, num1: str, num2: str) -> str:\n",
    "        result = 0\n",
    "        for i in range(len(num1)):\n",
    "            if num1[-1-i] == \"0\":\n",
    "                continue\n",
    "            elif num1[-1-i] == \"1\":\n",
    "                result += 1*10**i\n",
    "            elif num1[-1-i] == \"2\":\n",
    "                result += 2*10**i\n",
    "            elif num1[-1-i] == \"3\":\n",
    "                result += 3*10**i\n",
    "            elif num1[-1-i] == \"4\":\n",
    "                result += 4*10**i\n",
    "            elif num1[-1-i] == \"5\":\n",
    "                result += 5*10**i\n",
    "            elif num1[-1-i] == \"6\":\n",
    "                result += 6*10**i\n",
    "            elif num1[-1-i] == \"7\":\n",
    "                result += 7*10**i\n",
    "            elif num1[-1-i] == \"8\":\n",
    "                result += 8*10**i\n",
    "            elif num1[-1-i] == \"9\":\n",
    "                result += 9*10**i\n",
    "\n",
    "        for i in range(len(num2)):\n",
    "            if num2[-1-i] == \"0\":\n",
    "                continue\n",
    "            elif num2[-1-i] == \"1\":\n",
    "                result += 1*10**i\n",
    "            elif num2[-1-i] == \"2\":\n",
    "                result += 2*10**i\n",
    "            elif num2[-1-i] == \"3\":\n",
    "                result += 3*10**i\n",
    "            elif num2[-1-i] == \"4\":\n",
    "                result += 4*10**i\n",
    "            elif num2[-1-i] == \"5\":\n",
    "                result += 5*10**i\n",
    "            elif num2[-1-i] == \"6\":\n",
    "                result += 6*10**i\n",
    "            elif num2[-1-i] == \"7\":\n",
    "                result += 7*10**i\n",
    "            elif num2[-1-i] == \"8\":\n",
    "                result += 8*10**i\n",
    "            elif num2[-1-i] == \"9\":\n",
    "                result += 9*10**i\n",
    "        return str(result)"
   ]
  }
 ],
 "metadata": {
  "kernelspec": {
   "display_name": "Python 3 (ipykernel)",
   "language": "python",
   "name": "python3"
  },
  "language_info": {
   "codemirror_mode": {
    "name": "ipython",
    "version": 3
   },
   "file_extension": ".py",
   "mimetype": "text/x-python",
   "name": "python",
   "nbconvert_exporter": "python",
   "pygments_lexer": "ipython3",
   "version": "3.9.13"
  }
 },
 "nbformat": 4,
 "nbformat_minor": 5
}
