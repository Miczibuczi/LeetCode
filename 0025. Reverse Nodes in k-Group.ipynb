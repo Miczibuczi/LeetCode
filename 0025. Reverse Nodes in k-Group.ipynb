{
 "cells": [
  {
   "cell_type": "code",
   "execution_count": null,
   "id": "751dd08f",
   "metadata": {},
   "outputs": [],
   "source": [
    "# Definition for singly-linked list.\n",
    "# class ListNode:\n",
    "#     def __init__(self, val=0, next=None):\n",
    "#         self.val = val\n",
    "#         self.next = next\n",
    "class Solution:\n",
    "    def reverseKGroup(self, head: Optional[ListNode], k: int) -> Optional[ListNode]:\n",
    "        if not head:\n",
    "            return head\n",
    "        dummy = head\n",
    "        for i in range(k-1):\n",
    "            if not head.next:\n",
    "                return dummy\n",
    "            head = head.next\n",
    "        save_my_list = head\n",
    "        \n",
    "        head = dummy\n",
    "        if not head:\n",
    "            return save_my_list\n",
    "        stack = []\n",
    "        for i in range(k-1):\n",
    "            if not head.next:\n",
    "                return save_my_list\n",
    "            stack.append(head)\n",
    "            head = head.next\n",
    "        last = head.next\n",
    "        while stack:\n",
    "            head.next = stack.pop()\n",
    "            head = head.next\n",
    "        head.next = self.reverseKGroup(last, k)\n",
    "        return save_my_list"
   ]
  }
 ],
 "metadata": {
  "kernelspec": {
   "display_name": "Python 3 (ipykernel)",
   "language": "python",
   "name": "python3"
  },
  "language_info": {
   "codemirror_mode": {
    "name": "ipython",
    "version": 3
   },
   "file_extension": ".py",
   "mimetype": "text/x-python",
   "name": "python",
   "nbconvert_exporter": "python",
   "pygments_lexer": "ipython3",
   "version": "3.9.13"
  }
 },
 "nbformat": 4,
 "nbformat_minor": 5
}
