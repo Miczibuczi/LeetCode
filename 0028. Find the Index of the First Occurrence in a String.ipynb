{
 "cells": [
  {
   "cell_type": "code",
   "execution_count": null,
   "id": "8bb74021",
   "metadata": {},
   "outputs": [],
   "source": [
    "class Solution:\n",
    "    def strStr(self, haystack: str, needle: str) -> int:\n",
    "        len_needle = len(needle)\n",
    "        len_haystack = len(haystack)\n",
    "        for i in range(len_haystack - len_needle+1):\n",
    "            if haystack[i] == needle [0]:\n",
    "                for j in range(len_needle):\n",
    "                    if haystack[i+j] != needle[j]:\n",
    "                        j -= 1\n",
    "                        break\n",
    "                if j == len_needle-1:\n",
    "                    return i\n",
    "        return -1"
   ]
  }
 ],
 "metadata": {
  "kernelspec": {
   "display_name": "Python 3 (ipykernel)",
   "language": "python",
   "name": "python3"
  },
  "language_info": {
   "codemirror_mode": {
    "name": "ipython",
    "version": 3
   },
   "file_extension": ".py",
   "mimetype": "text/x-python",
   "name": "python",
   "nbconvert_exporter": "python",
   "pygments_lexer": "ipython3",
   "version": "3.9.13"
  }
 },
 "nbformat": 4,
 "nbformat_minor": 5
}
