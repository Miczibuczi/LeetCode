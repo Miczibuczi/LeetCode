{
 "cells": [
  {
   "cell_type": "code",
   "execution_count": null,
   "id": "6b5d419b",
   "metadata": {},
   "outputs": [],
   "source": [
    "class Solution:\n",
    "    def numUniqueEmails(self, emails: List[str]) -> int:\n",
    "        for i in range(len(emails)):\n",
    "            local_name, domain = emails[i].split(\"@\")\n",
    "            if \"+\" in local_name:\n",
    "                local_name = local_name[:local_name.index(\"+\")]\n",
    "            while \".\" in local_name:\n",
    "                local_name = local_name.replace(\".\", \"\")\n",
    "            emails[i] = local_name + \"@\" + domain\n",
    "        return len(set(emails))"
   ]
  },
  {
   "cell_type": "code",
   "execution_count": 22,
   "id": "b1d34119",
   "metadata": {},
   "outputs": [],
   "source": [
    "# similar answer, a little less time efficient\n",
    "class Solution:\n",
    "    def numUniqueEmails(self, emails: List[str]) -> int:\n",
    "        for i in range(len(emails)):\n",
    "            local_name, domain = emails[i].split(\"@\")\n",
    "            if \"+\" in local_name:\n",
    "                local_name = local_name[:local_name.index(\"+\")]\n",
    "            for letter in local_name:\n",
    "                if letter == \".\":\n",
    "                    local_name = local_name.replace(\".\", \"\")\n",
    "            emails[i] = local_name + \"@\" + domain\n",
    "        return len(set(emails))"
   ]
  }
 ],
 "metadata": {
  "kernelspec": {
   "display_name": "Python 3 (ipykernel)",
   "language": "python",
   "name": "python3"
  },
  "language_info": {
   "codemirror_mode": {
    "name": "ipython",
    "version": 3
   },
   "file_extension": ".py",
   "mimetype": "text/x-python",
   "name": "python",
   "nbconvert_exporter": "python",
   "pygments_lexer": "ipython3",
   "version": "3.9.13"
  }
 },
 "nbformat": 4,
 "nbformat_minor": 5
}
