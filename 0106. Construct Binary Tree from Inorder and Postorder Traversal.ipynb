{
 "cells": [
  {
   "cell_type": "code",
   "execution_count": null,
   "id": "9bfe38c9",
   "metadata": {},
   "outputs": [],
   "source": [
    "# Definition for a binary tree node.\n",
    "# class TreeNode:\n",
    "#     def __init__(self, val=0, left=None, right=None):\n",
    "#         self.val = val\n",
    "#         self.left = left\n",
    "#         self.right = right\n",
    "class Solution:\n",
    "    def buildTree(self, inorder: List[int], postorder: List[int]) -> Optional[TreeNode]:\n",
    "        def helper(ino_start, ino_stop, post_start, post_stop):\n",
    "            if ino_start == ino_stop:\n",
    "                return TreeNode(inorder[ino_start])\n",
    "            elif ino_start > ino_stop:\n",
    "                return None\n",
    "            val = postorder[post_stop]\n",
    "            i = ino_start\n",
    "            print(i, ino_start, ino_stop, post_start, post_stop, val)\n",
    "            while inorder[i] != val:\n",
    "                i += 1\n",
    "            return TreeNode(val, helper(ino_start, i-1, post_start, post_start+i-1-ino_start), helper(i+1, ino_stop, post_start+i-ino_start, post_start-ino_start+ino_stop-1))\n",
    "\n",
    "        return helper(0, len(inorder)-1, 0, len(postorder)-1)"
   ]
  },
  {
   "cell_type": "code",
   "execution_count": null,
   "id": "c900a252",
   "metadata": {},
   "outputs": [],
   "source": [
    "# First answer, less efficient in terms of time and space\n",
    "\n",
    "# Definition for a binary tree node.\n",
    "# class TreeNode:\n",
    "#     def __init__(self, val=0, left=None, right=None):\n",
    "#         self.val = val\n",
    "#         self.left = left\n",
    "#         self.right = right\n",
    "class Solution:\n",
    "    def buildTree(self, inorder: List[int], postorder: List[int]) -> Optional[TreeNode]:\n",
    "        if not inorder:\n",
    "            return\n",
    "        val = postorder.pop()\n",
    "        i = 0\n",
    "        while inorder[i] != val:\n",
    "            i+=1\n",
    "        left = self.buildTree(inorder[:i], postorder[:i])\n",
    "        right = self.buildTree(inorder[i+1:], postorder[i:])\n",
    "        root = TreeNode(val, left, right)\n",
    "        return root"
   ]
  }
 ],
 "metadata": {
  "kernelspec": {
   "display_name": "Python 3 (ipykernel)",
   "language": "python",
   "name": "python3"
  },
  "language_info": {
   "codemirror_mode": {
    "name": "ipython",
    "version": 3
   },
   "file_extension": ".py",
   "mimetype": "text/x-python",
   "name": "python",
   "nbconvert_exporter": "python",
   "pygments_lexer": "ipython3",
   "version": "3.10.9"
  }
 },
 "nbformat": 4,
 "nbformat_minor": 5
}
