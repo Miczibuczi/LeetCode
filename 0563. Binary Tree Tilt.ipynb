{
 "cells": [
  {
   "cell_type": "code",
   "execution_count": null,
   "id": "a6968089",
   "metadata": {},
   "outputs": [],
   "source": [
    "# Definition for a binary tree node.\n",
    "# class TreeNode:\n",
    "#     def __init__(self, val=0, left=None, right=None):\n",
    "#         self.val = val\n",
    "#         self.left = left\n",
    "#         self.right = right\n",
    "class Solution:\n",
    "    def findTilt(self, root: Optional[TreeNode]) -> int:\n",
    "        self.answer = 0\n",
    "        \n",
    "        def Traverse(node):\n",
    "            if not node:\n",
    "                return 0\n",
    "            left = Traverse(node.left)\n",
    "            right = Traverse(node.right)\n",
    "            self.answer += abs(left-right)\n",
    "            return left + right + node.val\n",
    "\n",
    "        Traverse(root)\n",
    "        return self.answer"
   ]
  },
  {
   "cell_type": "code",
   "execution_count": null,
   "id": "062af879",
   "metadata": {},
   "outputs": [],
   "source": [
    "# First answer, less efficient\n",
    "\n",
    "# Definition for a binary tree node.\n",
    "# class TreeNode:\n",
    "#     def __init__(self, val=0, left=None, right=None):\n",
    "#         self.val = val\n",
    "#         self.left = left\n",
    "#         self.right = right\n",
    "class Solution:\n",
    "    def findTilt(self, root: Optional[TreeNode]) -> int:\n",
    "        if not root:\n",
    "            return 0\n",
    "\n",
    "        def sum_of_subtrees(node):\n",
    "            if not node:\n",
    "                return 0\n",
    "            return node.val + sum_of_subtrees(node.left) + sum_of_subtrees(node.right)\n",
    "        \n",
    "\n",
    "        def Traverse(node, val):\n",
    "            if not node:\n",
    "                return\n",
    "            left = sum_of_subtrees(node.left)\n",
    "            right = val - node.val - left\n",
    "            self.answer += abs(left-right)\n",
    "            Traverse (node.left, val-node.val-right)\n",
    "            Traverse (node.right, val-node.val-left)\n",
    "\n",
    "        val = sum_of_subtrees(root)\n",
    "        self.answer = 0\n",
    "        Traverse(root, val)\n",
    "        return self.answer"
   ]
  }
 ],
 "metadata": {
  "kernelspec": {
   "display_name": "Python 3 (ipykernel)",
   "language": "python",
   "name": "python3"
  },
  "language_info": {
   "codemirror_mode": {
    "name": "ipython",
    "version": 3
   },
   "file_extension": ".py",
   "mimetype": "text/x-python",
   "name": "python",
   "nbconvert_exporter": "python",
   "pygments_lexer": "ipython3",
   "version": "3.9.13"
  }
 },
 "nbformat": 4,
 "nbformat_minor": 5
}
