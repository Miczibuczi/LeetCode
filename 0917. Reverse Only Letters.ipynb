{
 "cells": [
  {
   "cell_type": "code",
   "execution_count": null,
   "id": "f8a3d2c1",
   "metadata": {},
   "outputs": [],
   "source": [
    "class Solution:\n",
    "    def reverseOnlyLetters(self, s: str) -> str:\n",
    "        s = [letter for letter in s]\n",
    "        pointer_1 = 0\n",
    "        pointer_2 = len(s)-1\n",
    "        while pointer_1 < pointer_2:\n",
    "            if re.match(\"[a-zA-Z]\", s[pointer_1]):\n",
    "                if re.match(\"[a-zA-Z]\", s[pointer_2]):\n",
    "                    s[pointer_1], s[pointer_2] = s[pointer_2], s[pointer_1]\n",
    "                    pointer_1 += 1\n",
    "                    pointer_2 -= 1\n",
    "                else:\n",
    "                    pointer_2 -= 1\n",
    "            else:\n",
    "                pointer_1 += 1\n",
    "        return \"\".join(s)"
   ]
  },
  {
   "cell_type": "code",
   "execution_count": 10,
   "id": "1af63090",
   "metadata": {},
   "outputs": [],
   "source": [
    "# Strange answer, done in place without changing string into a list\n",
    "class Solution:\n",
    "    def reverseOnlyLetters(self, s: str) -> str:\n",
    "        pointer_1 = 0\n",
    "        pointer_2 = len(s)-1\n",
    "        while pointer_1 < pointer_2:\n",
    "            if re.match(\"[a-zA-Z]\", s[pointer_1]):\n",
    "                if re.match(\"[a-zA-Z]\", s[pointer_2]):\n",
    "                    s = s[:pointer_1]+s[pointer_2:pointer_2+1]+s[pointer_1+1:pointer_2]+s[pointer_1:pointer_1+1]+s[pointer_2+1:]\n",
    "                    pointer_1 += 1\n",
    "                    pointer_2 -= 1\n",
    "                else:\n",
    "                    pointer_2 -= 1\n",
    "            else:\n",
    "                pointer_1 += 1\n",
    "        return s"
   ]
  }
 ],
 "metadata": {
  "kernelspec": {
   "display_name": "Python 3 (ipykernel)",
   "language": "python",
   "name": "python3"
  },
  "language_info": {
   "codemirror_mode": {
    "name": "ipython",
    "version": 3
   },
   "file_extension": ".py",
   "mimetype": "text/x-python",
   "name": "python",
   "nbconvert_exporter": "python",
   "pygments_lexer": "ipython3",
   "version": "3.9.13"
  }
 },
 "nbformat": 4,
 "nbformat_minor": 5
}
