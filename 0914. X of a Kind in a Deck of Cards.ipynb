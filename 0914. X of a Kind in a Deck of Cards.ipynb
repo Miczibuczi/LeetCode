{
 "cells": [
  {
   "cell_type": "code",
   "execution_count": 16,
   "id": "6ae18306",
   "metadata": {},
   "outputs": [],
   "source": [
    "class Solution:\n",
    "    def hasGroupsSizeX(self, deck: List[int]) -> bool:\n",
    "        my_dictionary = defaultdict(int)\n",
    "        for card in deck:\n",
    "            my_dictionary[card] += 1\n",
    "        values = set(my_dictionary.values())\n",
    "        if 1 in values:\n",
    "            return False\n",
    "        for i in range(2,min(values)+1):\n",
    "            for j in values:\n",
    "                if j % i != 0:\n",
    "                    break\n",
    "            else:\n",
    "                return True\n",
    "        return False"
   ]
  }
 ],
 "metadata": {
  "kernelspec": {
   "display_name": "Python 3 (ipykernel)",
   "language": "python",
   "name": "python3"
  },
  "language_info": {
   "codemirror_mode": {
    "name": "ipython",
    "version": 3
   },
   "file_extension": ".py",
   "mimetype": "text/x-python",
   "name": "python",
   "nbconvert_exporter": "python",
   "pygments_lexer": "ipython3",
   "version": "3.9.13"
  }
 },
 "nbformat": 4,
 "nbformat_minor": 5
}
