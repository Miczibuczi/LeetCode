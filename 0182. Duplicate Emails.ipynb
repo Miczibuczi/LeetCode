{
 "cells": [
  {
   "cell_type": "code",
   "execution_count": null,
   "id": "a10e1b1e",
   "metadata": {},
   "outputs": [],
   "source": [
    "import pandas as pd\n",
    "\n",
    "def duplicate_emails(person: pd.DataFrame) -> pd.DataFrame:\n",
    "    seen = set()\n",
    "    seen2 = set()\n",
    "    duplicates = []\n",
    "    for row in person.itertuples(index = False):\n",
    "        if row.email in seen:\n",
    "            if row.email not in seen2:\n",
    "                duplicates.append(row)\n",
    "                seen2.add(row.email)\n",
    "        else:\n",
    "            seen.add(row.email)\n",
    "    \n",
    "    if duplicates:\n",
    "        return pd.DataFrame(duplicates)[[\"email\"]].rename(columns = {\"email\" : \"Email\"})\n",
    "    else:\n",
    "        return pd.DataFrame({\"Email\":[]})"
   ]
  }
 ],
 "metadata": {
  "kernelspec": {
   "display_name": "Python 3 (ipykernel)",
   "language": "python",
   "name": "python3"
  },
  "language_info": {
   "codemirror_mode": {
    "name": "ipython",
    "version": 3
   },
   "file_extension": ".py",
   "mimetype": "text/x-python",
   "name": "python",
   "nbconvert_exporter": "python",
   "pygments_lexer": "ipython3",
   "version": "3.10.9"
  }
 },
 "nbformat": 4,
 "nbformat_minor": 5
}
