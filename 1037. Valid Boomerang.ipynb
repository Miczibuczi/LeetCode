{
 "cells": [
  {
   "cell_type": "code",
   "execution_count": null,
   "id": "8beb0813",
   "metadata": {},
   "outputs": [],
   "source": [
    "class Solution:\n",
    "    def isBoomerang(self, points: List[List[int]]) -> bool:\n",
    "        if points[0] == points[1] or points[1] == points[2] or points[2] == points[0]:\n",
    "            return False\n",
    "        if points[0][0] == points[1][0] == points[2][0] or points[0][1] == points[1][1] == points[2][1]:\n",
    "            return False\n",
    "        difference_A = points[1][0]-points[0][0]\n",
    "        difference_B = points[2][0]-points[1][0]\n",
    "        difference_C = points[1][1]-points[0][1]\n",
    "        difference_D = points[2][1]-points[1][1]\n",
    "        if difference_B == 0:\n",
    "            difference_B = 20000\n",
    "        if difference_D == 0:\n",
    "            difference_D = 20000\n",
    "        return difference_A/difference_B != difference_C/difference_D"
   ]
  }
 ],
 "metadata": {
  "kernelspec": {
   "display_name": "Python 3 (ipykernel)",
   "language": "python",
   "name": "python3"
  },
  "language_info": {
   "codemirror_mode": {
    "name": "ipython",
    "version": 3
   },
   "file_extension": ".py",
   "mimetype": "text/x-python",
   "name": "python",
   "nbconvert_exporter": "python",
   "pygments_lexer": "ipython3",
   "version": "3.9.13"
  }
 },
 "nbformat": 4,
 "nbformat_minor": 5
}
