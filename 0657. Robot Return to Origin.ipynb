{
 "cells": [
  {
   "cell_type": "code",
   "execution_count": null,
   "id": "4b360957",
   "metadata": {},
   "outputs": [],
   "source": [
    "class Solution:\n",
    "    def judgeCircle(self, moves: str) -> bool:\n",
    "        my_dictionary = {\"R\":0, \"L\":0, \"U\":0, \"D\":0}\n",
    "        for i in moves:\n",
    "            my_dictionary[i] += 1\n",
    "        return my_dictionary[\"R\"] == my_dictionary[\"L\"] and my_dictionary[\"U\"] == my_dictionary[\"D\"]"
   ]
  }
 ],
 "metadata": {
  "kernelspec": {
   "display_name": "Python 3 (ipykernel)",
   "language": "python",
   "name": "python3"
  },
  "language_info": {
   "codemirror_mode": {
    "name": "ipython",
    "version": 3
   },
   "file_extension": ".py",
   "mimetype": "text/x-python",
   "name": "python",
   "nbconvert_exporter": "python",
   "pygments_lexer": "ipython3",
   "version": "3.9.13"
  }
 },
 "nbformat": 4,
 "nbformat_minor": 5
}
