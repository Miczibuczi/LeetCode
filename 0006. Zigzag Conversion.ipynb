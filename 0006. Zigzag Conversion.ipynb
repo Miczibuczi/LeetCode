{
 "cells": [
  {
   "cell_type": "code",
   "execution_count": null,
   "id": "a4b7cd53",
   "metadata": {},
   "outputs": [],
   "source": [
    "class Solution:\n",
    "    def convert(self, s: str, numRows: int) -> str:\n",
    "        ans = \"\"\n",
    "        for i in range(numRows):\n",
    "            index = i\n",
    "            jump1 = (numRows-1)*2-2*i\n",
    "            jump2 = 0+2*i\n",
    "            while index < len(s):\n",
    "                if jump1:\n",
    "                    ans += s[index]\n",
    "                    index += jump1\n",
    "                if jump2 and index<len(s):\n",
    "                    ans += s[index]\n",
    "                    index += jump2\n",
    "                if not jump1 and not jump2:\n",
    "                    return s\n",
    "        return ans"
   ]
  }
 ],
 "metadata": {
  "kernelspec": {
   "display_name": "Python 3 (ipykernel)",
   "language": "python",
   "name": "python3"
  },
  "language_info": {
   "codemirror_mode": {
    "name": "ipython",
    "version": 3
   },
   "file_extension": ".py",
   "mimetype": "text/x-python",
   "name": "python",
   "nbconvert_exporter": "python",
   "pygments_lexer": "ipython3",
   "version": "3.9.13"
  }
 },
 "nbformat": 4,
 "nbformat_minor": 5
}
