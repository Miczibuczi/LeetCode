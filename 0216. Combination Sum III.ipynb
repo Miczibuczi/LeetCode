{
 "cells": [
  {
   "cell_type": "code",
   "execution_count": 14,
   "id": "9f518495",
   "metadata": {},
   "outputs": [],
   "source": [
    "class Solution:\n",
    "    def combinationSum3(self, k: int, n: int) -> List[List[int]]:\n",
    "        curr = [[0]]\n",
    "        ans = []\n",
    "        for i in range(9,0,-1):\n",
    "            for j in range(len(curr)):\n",
    "                if sum(curr[j]) + i <= n:\n",
    "                    curr.append(curr[j]+[i])\n",
    "                    if len(curr[-1]) == k+1:\n",
    "                        if sum(curr[-1]) == n:\n",
    "                            ans.append(curr[-1][1:])\n",
    "                        curr.remove(curr[-1])\n",
    "        return ans"
   ]
  }
 ],
 "metadata": {
  "kernelspec": {
   "display_name": "Python 3 (ipykernel)",
   "language": "python",
   "name": "python3"
  },
  "language_info": {
   "codemirror_mode": {
    "name": "ipython",
    "version": 3
   },
   "file_extension": ".py",
   "mimetype": "text/x-python",
   "name": "python",
   "nbconvert_exporter": "python",
   "pygments_lexer": "ipython3",
   "version": "3.10.9"
  }
 },
 "nbformat": 4,
 "nbformat_minor": 5
}
