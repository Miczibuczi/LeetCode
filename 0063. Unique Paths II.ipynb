{
 "cells": [
  {
   "cell_type": "code",
   "execution_count": null,
   "id": "2a856cc4",
   "metadata": {},
   "outputs": [],
   "source": [
    "class Solution:\n",
    "    def uniquePathsWithObstacles(self, obstacleGrid: List[List[int]]) -> int:\n",
    "        if obstacleGrid[-1][-1] == 1:\n",
    "            return 0\n",
    "        new_Grid = [[0 for i in range(len(obstacleGrid[0]))] for j in range(len(obstacleGrid))]\n",
    "        for i in range(len(obstacleGrid[0])):\n",
    "            if obstacleGrid[0][i] == 0:\n",
    "                new_Grid[0][i] = 1\n",
    "            else:\n",
    "                break\n",
    "        for j in range(len(obstacleGrid)):\n",
    "            if obstacleGrid[j][0] == 0:\n",
    "                new_Grid[j][0] = 1\n",
    "            else:\n",
    "                break\n",
    "        \n",
    "        for i in range(1, len(obstacleGrid)):\n",
    "            for j in range(1, len(obstacleGrid[0])):\n",
    "                if obstacleGrid[i][j] == 0:\n",
    "                    new_Grid[i][j] = new_Grid[i-1][j]+new_Grid[i][j-1]\n",
    "        return new_Grid[-1][-1]"
   ]
  }
 ],
 "metadata": {
  "kernelspec": {
   "display_name": "Python 3 (ipykernel)",
   "language": "python",
   "name": "python3"
  },
  "language_info": {
   "codemirror_mode": {
    "name": "ipython",
    "version": 3
   },
   "file_extension": ".py",
   "mimetype": "text/x-python",
   "name": "python",
   "nbconvert_exporter": "python",
   "pygments_lexer": "ipython3",
   "version": "3.9.13"
  }
 },
 "nbformat": 4,
 "nbformat_minor": 5
}
