{
 "cells": [
  {
   "cell_type": "code",
   "execution_count": null,
   "id": "3091bb9a",
   "metadata": {},
   "outputs": [],
   "source": [
    "class Solution:\n",
    "    def diffWaysToCompute(self, expression: str) -> List[int]:\n",
    "        stack = []\n",
    "        curr = \"\"\n",
    "        for sign in expression:\n",
    "            if sign in \"+-*\":\n",
    "                stack.append(curr)\n",
    "                curr = sign\n",
    "            else:\n",
    "                curr += sign\n",
    "        stack.append(curr)\n",
    "        print(stack)\n",
    "        ans = []\n",
    "        def helper(temp_stack):\n",
    "            for i in range(len(temp_stack)-1):\n",
    "                cur_stack = temp_stack.copy()\n",
    "                final_sign = \"\"\n",
    "                print(\"here\", cur_stack)\n",
    "                if cur_stack[i][0] in \"+-*\":\n",
    "                    final_sign = cur_stack[i][0]\n",
    "                    cur_stack[i] = cur_stack[i][1:]\n",
    "                print(cur_stack[i]+cur_stack[i+1])\n",
    "                x = eval(cur_stack[i]+cur_stack[i+1])\n",
    "                cur_stack.pop(i+1)\n",
    "                cur_stack[i] = final_sign + str(x)\n",
    "                if len(cur_stack) == 1:\n",
    "                    print(\"here2\", cur_stack)\n",
    "                    ans.append(int(cur_stack[0]))\n",
    "                else:\n",
    "                    helper(cur_stack)\n",
    "        helper(stack)\n",
    "        return ans"
   ]
  }
 ],
 "metadata": {
  "kernelspec": {
   "display_name": "Python 3 (ipykernel)",
   "language": "python",
   "name": "python3"
  },
  "language_info": {
   "codemirror_mode": {
    "name": "ipython",
    "version": 3
   },
   "file_extension": ".py",
   "mimetype": "text/x-python",
   "name": "python",
   "nbconvert_exporter": "python",
   "pygments_lexer": "ipython3",
   "version": "3.10.9"
  }
 },
 "nbformat": 4,
 "nbformat_minor": 5
}
