{
 "cells": [
  {
   "cell_type": "code",
   "execution_count": null,
   "id": "8113eb55",
   "metadata": {},
   "outputs": [],
   "source": [
    "class Solution:\n",
    "    def diffWaysToCompute(self, expression: str) -> List[int]:\n",
    "        ans = []\n",
    "        seen = set()\n",
    "        stack = []\n",
    "        curr = \"\"\n",
    "        for sign in expression:\n",
    "            if sign in \"+-*\":\n",
    "                stack.append(curr)\n",
    "                curr = sign\n",
    "            else:\n",
    "                curr += sign\n",
    "        stack.append(curr)\n",
    "        def helper(temp_stack):\n",
    "            for i in range(len(temp_stack)-1):\n",
    "                cur_stack = temp_stack.copy()\n",
    "                if cur_stack[i][0].isdigit():\n",
    "                    cur_stack[i] = \"(\"+cur_stack[i]+cur_stack[i+1]+\")\"\n",
    "                else:\n",
    "                    cur_stack[i] = cur_stack[i][0]+\"(\"+cur_stack[i][1:]+cur_stack[i+1]+\")\"\n",
    "                cur_stack.pop(i+1)\n",
    "                if len(cur_stack) == 1:\n",
    "                    ans.append(eval(cur_stack[0]))\n",
    "                else:\n",
    "                    if tuple(cur_stack) not in seen:\n",
    "                        seen.add(tuple(cur_stack))\n",
    "                        helper(cur_stack)\n",
    "        helper(stack)\n",
    "        return ans or [eval(curr)]"
   ]
  }
 ],
 "metadata": {
  "kernelspec": {
   "display_name": "Python 3 (ipykernel)",
   "language": "python",
   "name": "python3"
  },
  "language_info": {
   "codemirror_mode": {
    "name": "ipython",
    "version": 3
   },
   "file_extension": ".py",
   "mimetype": "text/x-python",
   "name": "python",
   "nbconvert_exporter": "python",
   "pygments_lexer": "ipython3",
   "version": "3.10.9"
  }
 },
 "nbformat": 4,
 "nbformat_minor": 5
}
