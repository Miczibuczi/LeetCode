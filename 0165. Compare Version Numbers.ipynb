{
 "cells": [
  {
   "cell_type": "code",
   "execution_count": null,
   "id": "c3d296c2",
   "metadata": {},
   "outputs": [],
   "source": [
    "class Solution:\n",
    "    def compareVersion(self, version1: str, version2: str) -> int:\n",
    "        pointer1 = 0\n",
    "        pointer2 = 0\n",
    "        while pointer1 < len(version1) or pointer2 < len(version2):\n",
    "            digit1 = \"0\"\n",
    "            digit2 = \"0\"\n",
    "            while pointer1 < len(version1):\n",
    "                x = version1[pointer1]\n",
    "                pointer1 += 1\n",
    "                if x == \".\":\n",
    "                    break\n",
    "                else:\n",
    "                    digit1 += x\n",
    "            while pointer2 < len(version2):\n",
    "                x = version2[pointer2]\n",
    "                pointer2 += 1\n",
    "                if x == \".\":\n",
    "                    break\n",
    "                else:\n",
    "                    digit2 += x\n",
    "            digit1 = int(digit1)\n",
    "            digit2 = int(digit2)\n",
    "            if digit1 < digit2:\n",
    "                return -1\n",
    "            elif digit1 > digit2:\n",
    "                return 1\n",
    "        return 0"
   ]
  }
 ],
 "metadata": {
  "kernelspec": {
   "display_name": "Python 3 (ipykernel)",
   "language": "python",
   "name": "python3"
  },
  "language_info": {
   "codemirror_mode": {
    "name": "ipython",
    "version": 3
   },
   "file_extension": ".py",
   "mimetype": "text/x-python",
   "name": "python",
   "nbconvert_exporter": "python",
   "pygments_lexer": "ipython3",
   "version": "3.10.9"
  }
 },
 "nbformat": 4,
 "nbformat_minor": 5
}
