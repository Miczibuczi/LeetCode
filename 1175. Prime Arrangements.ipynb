{
 "cells": [
  {
   "cell_type": "code",
   "execution_count": null,
   "id": "10f332b4",
   "metadata": {},
   "outputs": [],
   "source": [
    "import math\n",
    "class Solution:\n",
    "    def numPrimeArrangements(self, n: int) -> int:\n",
    "        def IsPrime(n):\n",
    "            if n == 1:\n",
    "                return False\n",
    "            for i in range(2, n):\n",
    "                if n % i == 0:\n",
    "                    return False\n",
    "            return True\n",
    "        \n",
    "        prime = 0\n",
    "        not_prime = 0\n",
    "        for i in range(1, n+1):\n",
    "            if IsPrime(i):\n",
    "                prime += 1\n",
    "            else:\n",
    "                not_prime += 1\n",
    "        return math.factorial(prime)*math.factorial(not_prime) % 1000000007"
   ]
  }
 ],
 "metadata": {
  "kernelspec": {
   "display_name": "Python 3 (ipykernel)",
   "language": "python",
   "name": "python3"
  },
  "language_info": {
   "codemirror_mode": {
    "name": "ipython",
    "version": 3
   },
   "file_extension": ".py",
   "mimetype": "text/x-python",
   "name": "python",
   "nbconvert_exporter": "python",
   "pygments_lexer": "ipython3",
   "version": "3.9.13"
  }
 },
 "nbformat": 4,
 "nbformat_minor": 5
}
