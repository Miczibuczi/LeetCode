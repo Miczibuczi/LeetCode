{
 "cells": [
  {
   "cell_type": "code",
   "execution_count": null,
   "id": "910a99fa",
   "metadata": {},
   "outputs": [],
   "source": [
    "import pandas as pd\n",
    "\n",
    "def find_employees(employee: pd.DataFrame) -> pd.DataFrame:\n",
    "    new_employee = employee[employee[\"managerId\"].notnull()]\n",
    "    new_employee = new_employee.merge(employee, left_on=\"managerId\", right_on=\"id\", suffixes=(\"\",\"_manager\"))\n",
    "    new_employee = new_employee[new_employee[\"salary\"]>new_employee[\"salary_manager\"]]\n",
    "    new_employee = new_employee.rename(columns = {\"name\":\"Employee\"})\n",
    "    return new_employee[[\"Employee\"]]"
   ]
  }
 ],
 "metadata": {
  "kernelspec": {
   "display_name": "Python 3 (ipykernel)",
   "language": "python",
   "name": "python3"
  },
  "language_info": {
   "codemirror_mode": {
    "name": "ipython",
    "version": 3
   },
   "file_extension": ".py",
   "mimetype": "text/x-python",
   "name": "python",
   "nbconvert_exporter": "python",
   "pygments_lexer": "ipython3",
   "version": "3.10.9"
  }
 },
 "nbformat": 4,
 "nbformat_minor": 5
}
