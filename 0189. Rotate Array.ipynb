{
 "cells": [
  {
   "cell_type": "code",
   "execution_count": null,
   "id": "ccaa49a6",
   "metadata": {},
   "outputs": [],
   "source": [
    "class Solution:\n",
    "    def rotate(self, nums: List[int], k: int) -> None:\n",
    "        \"\"\"\n",
    "        Do not return anything, modify nums in-place instead.\n",
    "        \"\"\"\n",
    "        k = k % len(nums)\n",
    "        if k == 0:\n",
    "            parts = 0\n",
    "        else:\n",
    "            parts = math.gcd(len(nums), k)\n",
    "\n",
    "        for i in range(parts):\n",
    "            index = i\n",
    "            for j in range(len(nums)//parts):\n",
    "                index = (index+k)%len(nums)\n",
    "                nums[i], nums[index] = nums[index], nums[i]"
   ]
  }
 ],
 "metadata": {
  "kernelspec": {
   "display_name": "Python 3 (ipykernel)",
   "language": "python",
   "name": "python3"
  },
  "language_info": {
   "codemirror_mode": {
    "name": "ipython",
    "version": 3
   },
   "file_extension": ".py",
   "mimetype": "text/x-python",
   "name": "python",
   "nbconvert_exporter": "python",
   "pygments_lexer": "ipython3",
   "version": "3.9.13"
  }
 },
 "nbformat": 4,
 "nbformat_minor": 5
}
