{
 "cells": [
  {
   "cell_type": "code",
   "execution_count": null,
   "id": "032f75c7",
   "metadata": {},
   "outputs": [],
   "source": [
    "# Definition for a binary tree node.\n",
    "# class TreeNode:\n",
    "#     def __init__(self, x):\n",
    "#         self.val = x\n",
    "#         self.left = None\n",
    "#         self.right = None\n",
    "\n",
    "class Solution:\n",
    "    def lowestCommonAncestor(self, root: 'TreeNode', p: 'TreeNode', q: 'TreeNode') -> 'TreeNode':\n",
    "        stack = []\n",
    "        def first_Traverse(node):\n",
    "            if node:\n",
    "                stack.append(node)\n",
    "                if node == p or node == q:\n",
    "                    return node\n",
    "                return first_Traverse(node.left) or first_Traverse(node.right)\n",
    "        first_node = first_Traverse(root)\n",
    "        if first_node == q:\n",
    "            search = p\n",
    "        else:\n",
    "            search = q\n",
    "\n",
    "        def Traverse(node):\n",
    "            if node:\n",
    "                if node == search:\n",
    "                    return node\n",
    "                return Traverse(node.left) or Traverse(node.right)\n",
    "\n",
    "        if Traverse(first_node.left) or Traverse(first_node.right):\n",
    "            return first_node\n",
    "        \n",
    "        node = first_node\n",
    "        while len(stack) > 1:\n",
    "            prev = node\n",
    "            node = stack.pop()\n",
    "            if node.left == prev:\n",
    "                potencial_node = Traverse(node.right)\n",
    "            else:\n",
    "                potencial_node = Traverse(node.left)\n",
    "            if potencial_node:\n",
    "                return node\n",
    "\n",
    "        return stack[0]"
   ]
  }
 ],
 "metadata": {
  "kernelspec": {
   "display_name": "Python 3 (ipykernel)",
   "language": "python",
   "name": "python3"
  },
  "language_info": {
   "codemirror_mode": {
    "name": "ipython",
    "version": 3
   },
   "file_extension": ".py",
   "mimetype": "text/x-python",
   "name": "python",
   "nbconvert_exporter": "python",
   "pygments_lexer": "ipython3",
   "version": "3.9.13"
  }
 },
 "nbformat": 4,
 "nbformat_minor": 5
}
