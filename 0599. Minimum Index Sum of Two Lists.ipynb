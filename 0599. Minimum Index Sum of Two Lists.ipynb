{
 "cells": [
  {
   "cell_type": "code",
   "execution_count": null,
   "id": "846d973e",
   "metadata": {},
   "outputs": [],
   "source": [
    "class Solution:\n",
    "    def findRestaurant(self, list1: List[str], list2: List[str]) -> List[str]:\n",
    "        list1_dictionary = {}\n",
    "        for i in range(len(list1)):\n",
    "            if list1[i] in list1_dictionary:\n",
    "                continue\n",
    "            else:\n",
    "                list1_dictionary[list1[i]] = i\n",
    "        \n",
    "        min_index_sum = 3000\n",
    "        result = []\n",
    "        for i in range(len(list2)):\n",
    "            if list2[i] not in list1_dictionary:\n",
    "                continue\n",
    "            else:\n",
    "                if i+list1_dictionary[list2[i]] < min_index_sum:\n",
    "                    result = [list2[i]]\n",
    "                    min_index_sum = i+list1_dictionary[list2[i]]\n",
    "                elif i+list1_dictionary[list2[i]] == min_index_sum:\n",
    "                    result.append(list2[i])\n",
    "        return result"
   ]
  }
 ],
 "metadata": {
  "kernelspec": {
   "display_name": "Python 3 (ipykernel)",
   "language": "python",
   "name": "python3"
  },
  "language_info": {
   "codemirror_mode": {
    "name": "ipython",
    "version": 3
   },
   "file_extension": ".py",
   "mimetype": "text/x-python",
   "name": "python",
   "nbconvert_exporter": "python",
   "pygments_lexer": "ipython3",
   "version": "3.9.13"
  }
 },
 "nbformat": 4,
 "nbformat_minor": 5
}
