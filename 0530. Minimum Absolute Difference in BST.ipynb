{
 "cells": [
  {
   "cell_type": "code",
   "execution_count": null,
   "id": "7ab35712",
   "metadata": {},
   "outputs": [],
   "source": [
    "# Definition for a binary tree node.\n",
    "# class TreeNode:\n",
    "#     def __init__(self, val=0, left=None, right=None):\n",
    "#         self.val = val\n",
    "#         self.left = left\n",
    "#         self.right = right\n",
    "class Solution:\n",
    "    def getMinimumDifference(self, root: Optional[TreeNode]) -> int:\n",
    "        self.answer = float(\"inf\")\n",
    "        self.prev = float(\"inf\")\n",
    "\n",
    "        def inOrderTraversal(node):\n",
    "            if not node:\n",
    "                return\n",
    "            inOrderTraversal(node.left)\n",
    "            difference = abs(node.val - self.prev)\n",
    "            self.answer = min(self.answer, difference)\n",
    "            self.prev = node.val\n",
    "            inOrderTraversal(node.right)\n",
    "\n",
    "        inOrderTraversal(root)\n",
    "        return self.answer"
   ]
  }
 ],
 "metadata": {
  "kernelspec": {
   "display_name": "Python 3 (ipykernel)",
   "language": "python",
   "name": "python3"
  },
  "language_info": {
   "codemirror_mode": {
    "name": "ipython",
    "version": 3
   },
   "file_extension": ".py",
   "mimetype": "text/x-python",
   "name": "python",
   "nbconvert_exporter": "python",
   "pygments_lexer": "ipython3",
   "version": "3.9.13"
  }
 },
 "nbformat": 4,
 "nbformat_minor": 5
}
