{
 "cells": [
  {
   "cell_type": "code",
   "execution_count": null,
   "id": "71adfd29",
   "metadata": {},
   "outputs": [],
   "source": [
    "class Solution:\n",
    "    def getLastMoment(self, n: int, left: List[int], right: List[int]) -> int:\n",
    "        # It doen't matter if the ants change the direction after meeting or not, because any ways there will be one ant going right and one going left\n",
    "        # Beats 100% other solutions\n",
    "        if not left and not right:\n",
    "            return 0\n",
    "        elif not right:\n",
    "            max_time_going_left = max(left)\n",
    "            return max_time_going_left\n",
    "        if not left:\n",
    "            max_time_going_right = n-min(right)\n",
    "            return max_time_going_right\n",
    "        max_time_going_left = max(left)\n",
    "        max_time_going_right = n-min(right)\n",
    "        return max(max_time_going_left, max_time_going_right)"
   ]
  }
 ],
 "metadata": {
  "kernelspec": {
   "display_name": "Python 3 (ipykernel)",
   "language": "python",
   "name": "python3"
  },
  "language_info": {
   "codemirror_mode": {
    "name": "ipython",
    "version": 3
   },
   "file_extension": ".py",
   "mimetype": "text/x-python",
   "name": "python",
   "nbconvert_exporter": "python",
   "pygments_lexer": "ipython3",
   "version": "3.10.9"
  }
 },
 "nbformat": 4,
 "nbformat_minor": 5
}
