{
 "cells": [
  {
   "cell_type": "code",
   "execution_count": 1,
   "id": "e0ad4521",
   "metadata": {},
   "outputs": [],
   "source": [
    "# memory efficient but not time efficient\n",
    "class Solution:\n",
    "    def validPalindrome(self, s: str) -> bool:\n",
    "        for i in range(len(s)//2):\n",
    "            if s[i] != s[len(s)-1-i]:\n",
    "                break\n",
    "        else:\n",
    "            return True\n",
    "        \n",
    "        for j in range(i, len(s)//2):\n",
    "            if s[j+1] != s[len(s)-1-j]:\n",
    "                break\n",
    "        else:\n",
    "            return True\n",
    "        \n",
    "        for j in range(i, len(s)//2):\n",
    "            if s[j] != s[len(s)-1-j-1]:\n",
    "                return False\n",
    "        else:\n",
    "            return True"
   ]
  },
  {
   "cell_type": "code",
   "execution_count": null,
   "id": "7c4b3480",
   "metadata": {},
   "outputs": [],
   "source": [
    "# time efficient, normal memory usage(not optimal, but ok)\n",
    "class Solution:\n",
    "    def validPalindrome(self, s: str) -> bool:\n",
    "        len_s = len(s)\n",
    "        len_s1 = len(s)-1\n",
    "        for i in range(len_s//2):\n",
    "            if s[i] != s[len_s1-i]:\n",
    "                break\n",
    "        else:\n",
    "            return True\n",
    "        \n",
    "        for j in range(i, len_s//2):\n",
    "            if s[j+1] != s[len_s1-j]:\n",
    "                break\n",
    "        else:\n",
    "            return True\n",
    "        \n",
    "        for j in range(i, len_s//2):\n",
    "            if s[j] != s[len_s1-j-1]:\n",
    "                return False\n",
    "        else:\n",
    "            return True"
   ]
  }
 ],
 "metadata": {
  "kernelspec": {
   "display_name": "Python 3 (ipykernel)",
   "language": "python",
   "name": "python3"
  },
  "language_info": {
   "codemirror_mode": {
    "name": "ipython",
    "version": 3
   },
   "file_extension": ".py",
   "mimetype": "text/x-python",
   "name": "python",
   "nbconvert_exporter": "python",
   "pygments_lexer": "ipython3",
   "version": "3.9.13"
  }
 },
 "nbformat": 4,
 "nbformat_minor": 5
}
