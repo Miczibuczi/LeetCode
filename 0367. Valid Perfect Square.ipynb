{
 "cells": [
  {
   "cell_type": "code",
   "execution_count": null,
   "id": "254b8557",
   "metadata": {},
   "outputs": [],
   "source": [
    "class Solution:\n",
    "    def isPerfectSquare(self, num: int) -> bool:\n",
    "        i = 1\n",
    "        while i**2 < num:\n",
    "            i += 1\n",
    "        if i**2 == num:\n",
    "            return True\n",
    "        else:\n",
    "            return False"
   ]
  },
  {
   "cell_type": "code",
   "execution_count": null,
   "id": "bff04bc1",
   "metadata": {},
   "outputs": [],
   "source": [
    "class Solution:\n",
    "    def isPerfectSquare(self, num: int) -> bool:\n",
    "        min = 1\n",
    "        max = num\n",
    "        while max-min > 1:\n",
    "            if ((min+max)/2)**2 > num:\n",
    "                max = (min+max)/2\n",
    "            elif ((min+max)/2)**2 < num:\n",
    "                min = (min+max)/2\n",
    "            else:\n",
    "                min = (min+max)/2\n",
    "                max = (min+max)/2\n",
    "        if int(min)**2 == num or int(max)**2 == num:\n",
    "            return True\n",
    "        else:\n",
    "            return False"
   ]
  }
 ],
 "metadata": {
  "kernelspec": {
   "display_name": "Python 3 (ipykernel)",
   "language": "python",
   "name": "python3"
  },
  "language_info": {
   "codemirror_mode": {
    "name": "ipython",
    "version": 3
   },
   "file_extension": ".py",
   "mimetype": "text/x-python",
   "name": "python",
   "nbconvert_exporter": "python",
   "pygments_lexer": "ipython3",
   "version": "3.9.13"
  }
 },
 "nbformat": 4,
 "nbformat_minor": 5
}
