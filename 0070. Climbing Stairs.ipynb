{
 "cells": [
  {
   "cell_type": "code",
   "execution_count": null,
   "id": "2478442c",
   "metadata": {},
   "outputs": [],
   "source": [
    "class Solution:\n",
    "    def climbStairs(self, n: int) -> int:\n",
    "        import math\n",
    "        MaxNumberOfTwos = n // 2\n",
    "        NumberOfTwos = 0\n",
    "        answer = 0\n",
    "        while NumberOfTwos <= MaxNumberOfTwos:\n",
    "            NumberOfDigits = n - NumberOfTwos\n",
    "            answer += math.comb(NumberOfDigits, NumberOfTwos)\n",
    "            NumberOfTwos += 1\n",
    "        return answer"
   ]
  }
 ],
 "metadata": {
  "kernelspec": {
   "display_name": "Python 3 (ipykernel)",
   "language": "python",
   "name": "python3"
  },
  "language_info": {
   "codemirror_mode": {
    "name": "ipython",
    "version": 3
   },
   "file_extension": ".py",
   "mimetype": "text/x-python",
   "name": "python",
   "nbconvert_exporter": "python",
   "pygments_lexer": "ipython3",
   "version": "3.9.13"
  }
 },
 "nbformat": 4,
 "nbformat_minor": 5
}
