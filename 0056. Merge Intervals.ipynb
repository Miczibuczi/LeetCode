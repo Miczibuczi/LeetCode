{
 "cells": [
  {
   "cell_type": "code",
   "execution_count": null,
   "id": "29f161b0",
   "metadata": {},
   "outputs": [],
   "source": [
    "class Solution:\n",
    "    def merge(self, intervals: List[List[int]]) -> List[List[int]]:\n",
    "        intervals.sort(key = lambda x: x[0])\n",
    "        intervals = deque(intervals)\n",
    "        i = 1\n",
    "        while i < len(intervals):\n",
    "            if intervals[i-1][1] >= intervals[i][0]:\n",
    "                intervals[i-1] = [intervals[i-1][0], max(intervals[i][1], intervals[i-1][1])]\n",
    "                intervals.remove(intervals[i])\n",
    "            else:\n",
    "                i+=1\n",
    "        return intervals"
   ]
  },
  {
   "cell_type": "code",
   "execution_count": null,
   "id": "937af53d",
   "metadata": {},
   "outputs": [],
   "source": [
    "# First answer, with creating a new list. Similart to the second one\n",
    "class Solution:\n",
    "    def merge(self, intervals: List[List[int]]) -> List[List[int]]:\n",
    "        intervals.sort(key = lambda x: x[0])\n",
    "        ans = []\n",
    "        left = intervals[0][0]\n",
    "        right = intervals[0][1]\n",
    "        for i in range(1, len(intervals)):\n",
    "            if right >= intervals[i][0]:\n",
    "                right = max(right, intervals[i][1])\n",
    "            else:\n",
    "                ans.append([left, right])\n",
    "                left = intervals[i][0]\n",
    "                right = intervals[i][1]\n",
    "        ans.append([left, right])\n",
    "        return ans"
   ]
  }
 ],
 "metadata": {
  "kernelspec": {
   "display_name": "Python 3 (ipykernel)",
   "language": "python",
   "name": "python3"
  },
  "language_info": {
   "codemirror_mode": {
    "name": "ipython",
    "version": 3
   },
   "file_extension": ".py",
   "mimetype": "text/x-python",
   "name": "python",
   "nbconvert_exporter": "python",
   "pygments_lexer": "ipython3",
   "version": "3.9.13"
  }
 },
 "nbformat": 4,
 "nbformat_minor": 5
}
