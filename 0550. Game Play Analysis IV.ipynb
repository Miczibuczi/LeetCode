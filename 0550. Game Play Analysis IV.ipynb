{
 "cells": [
  {
   "cell_type": "code",
   "execution_count": null,
   "id": "1759dfaa",
   "metadata": {},
   "outputs": [],
   "source": [
    "import pandas as pd\n",
    "\n",
    "def gameplay_analysis(activity: pd.DataFrame) -> pd.DataFrame:\n",
    "    players_count = len(set(activity[\"player_id\"]))\n",
    "    activity.drop([\"device_id\", \"games_played\"], axis=1)\n",
    "    df = activity.groupby(\"player_id\").agg(second_time=(\"event_date\", lambda x: min(x)+pd.Timedelta(days=1))).reset_index()\n",
    "    result = df.merge(activity, how=\"inner\", left_on=[\"player_id\", \"second_time\"], right_on=[\"player_id\", \"event_date\"])\n",
    "    return pd.DataFrame({\"fraction\":[round(len(result[\"player_id\"])/players_count, 2)]})"
   ]
  }
 ],
 "metadata": {
  "kernelspec": {
   "display_name": "Python 3 (ipykernel)",
   "language": "python",
   "name": "python3"
  },
  "language_info": {
   "codemirror_mode": {
    "name": "ipython",
    "version": 3
   },
   "file_extension": ".py",
   "mimetype": "text/x-python",
   "name": "python",
   "nbconvert_exporter": "python",
   "pygments_lexer": "ipython3",
   "version": "3.10.9"
  }
 },
 "nbformat": 4,
 "nbformat_minor": 5
}
