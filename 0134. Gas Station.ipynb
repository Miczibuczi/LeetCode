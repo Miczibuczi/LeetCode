{
 "cells": [
  {
   "cell_type": "code",
   "execution_count": null,
   "id": "337035d3",
   "metadata": {},
   "outputs": [],
   "source": [
    "class Solution:\n",
    "    def canCompleteCircuit(self, gas: List[int], cost: List[int]) -> int:\n",
    "        if sum(gas) < sum(cost):\n",
    "            return -1\n",
    "        start_index = 0\n",
    "        while start_index < len(gas)-1:\n",
    "            tank = 0\n",
    "            for i in range(start_index, len(gas)):\n",
    "                tank += (gas[i]-cost[i])\n",
    "                if tank < 0:\n",
    "                    start_index = i+1\n",
    "                    break\n",
    "            else:\n",
    "                return start_index\n",
    "        return start_index"
   ]
  },
  {
   "cell_type": "code",
   "execution_count": 4,
   "id": "e0c0b42c",
   "metadata": {},
   "outputs": [],
   "source": [
    "# First answer, less efficient\n",
    "class Solution:\n",
    "    def canCompleteCircuit(self, gas: List[int], cost: List[int]) -> int:\n",
    "        if sum(gas) < sum(cost):\n",
    "            return -1\n",
    "        start_index = 0\n",
    "        while start_index < len(gas):\n",
    "            tank = 0\n",
    "            for i in range(len(gas)):\n",
    "                index = (start_index + i) % len(gas)\n",
    "                tank += (gas[index]-cost[index])\n",
    "                if tank < 0:\n",
    "                    start_index += (i+1)\n",
    "                    break\n",
    "            else:\n",
    "                return start_index\n",
    "        return start_index"
   ]
  }
 ],
 "metadata": {
  "kernelspec": {
   "display_name": "Python 3 (ipykernel)",
   "language": "python",
   "name": "python3"
  },
  "language_info": {
   "codemirror_mode": {
    "name": "ipython",
    "version": 3
   },
   "file_extension": ".py",
   "mimetype": "text/x-python",
   "name": "python",
   "nbconvert_exporter": "python",
   "pygments_lexer": "ipython3",
   "version": "3.9.13"
  }
 },
 "nbformat": 4,
 "nbformat_minor": 5
}
