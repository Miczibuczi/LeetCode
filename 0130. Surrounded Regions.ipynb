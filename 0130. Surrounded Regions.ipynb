{
 "cells": [
  {
   "cell_type": "code",
   "execution_count": null,
   "id": "7182ccde",
   "metadata": {},
   "outputs": [],
   "source": [
    "class Solution:\n",
    "    def solve(self, board: List[List[str]]) -> None:\n",
    "        \"\"\"\n",
    "        Do not return anything, modify board in-place instead.\n",
    "        \"\"\"\n",
    "        m = len(board)\n",
    "        n = len(board[0])\n",
    "        potencial_change = set()\n",
    "        for i in range(1, m-1):\n",
    "            for j in range(1, n-1):\n",
    "                if board[i][j] == \"O\" and (board[i-1][j]==\"X\" or (i-1, j) in potencial_change) and (board[i][j-1]==\"X\" or (i, j-1) in potencial_change):\n",
    "                    potencial_change.add((i, j))\n",
    "        while True:\n",
    "            remove_set = set()\n",
    "            for location in potencial_change:\n",
    "                i, j = location\n",
    "                if board[i-1][j] == \"O\" and (i-1, j) not in potencial_change or board[i+1][j] == \"O\" and (i+1, j) not in potencial_change or board[i][j-1] == \"O\" and (i, j-1) not in potencial_change or board[i][j+1] == \"O\" and (i, j+1) not in potencial_change:\n",
    "                    remove_set.add((i, j))\n",
    "            if not remove_set:\n",
    "                break\n",
    "            else:\n",
    "                for item in remove_set:\n",
    "                    potencial_change.remove(item)\n",
    "        for location in potencial_change:\n",
    "            i, j = location\n",
    "            board[i][j] = \"X\""
   ]
  }
 ],
 "metadata": {
  "kernelspec": {
   "display_name": "Python 3 (ipykernel)",
   "language": "python",
   "name": "python3"
  },
  "language_info": {
   "codemirror_mode": {
    "name": "ipython",
    "version": 3
   },
   "file_extension": ".py",
   "mimetype": "text/x-python",
   "name": "python",
   "nbconvert_exporter": "python",
   "pygments_lexer": "ipython3",
   "version": "3.10.9"
  }
 },
 "nbformat": 4,
 "nbformat_minor": 5
}
