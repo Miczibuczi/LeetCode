{
 "cells": [
  {
   "cell_type": "code",
   "execution_count": null,
   "id": "bc396434",
   "metadata": {},
   "outputs": [],
   "source": [
    "class Solution:\n",
    "    def removeDuplicates(self, nums: List[int]) -> int:\n",
    "        if len(nums) < 3:\n",
    "            return len(nums)\n",
    "        pointer = 2\n",
    "        for i in range(2, len(nums)):\n",
    "            if nums[i] != nums[pointer-2]:\n",
    "                nums[i], nums[pointer] = nums[pointer], nums[i]\n",
    "                pointer += 1\n",
    "            \n",
    "        return pointer"
   ]
  }
 ],
 "metadata": {
  "kernelspec": {
   "display_name": "Python 3 (ipykernel)",
   "language": "python",
   "name": "python3"
  },
  "language_info": {
   "codemirror_mode": {
    "name": "ipython",
    "version": 3
   },
   "file_extension": ".py",
   "mimetype": "text/x-python",
   "name": "python",
   "nbconvert_exporter": "python",
   "pygments_lexer": "ipython3",
   "version": "3.9.13"
  }
 },
 "nbformat": 4,
 "nbformat_minor": 5
}
