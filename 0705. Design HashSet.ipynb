{
 "cells": [
  {
   "cell_type": "code",
   "execution_count": null,
   "id": "50146e11",
   "metadata": {},
   "outputs": [],
   "source": [
    "class MyHashSet:\n",
    "\n",
    "    def __init__(self):    \n",
    "        self.size = 10**5\n",
    "        self.arr = [None]*self.size\n",
    "\n",
    "\n",
    "    def add(self, key: int) -> None:\n",
    "        index = key%self.size\n",
    "        while True:\n",
    "            if not self.arr[index] or self.arr == 0:\n",
    "                self.arr[index] = key\n",
    "                break\n",
    "            elif self.arr[index] == key:\n",
    "                break\n",
    "            else:\n",
    "                index += 1\n",
    "\n",
    "    def remove(self, key: int) -> None:\n",
    "        index = key%self.size\n",
    "        while True:\n",
    "            if self.arr[index] == key:\n",
    "                self.arr[index] = 0\n",
    "                break\n",
    "            elif not self.arr[index] or self.arr == 0:\n",
    "                break\n",
    "            else:\n",
    "                index += 1\n",
    "\n",
    "\n",
    "    def contains(self, key: int) -> bool:\n",
    "        index = key%self.size\n",
    "        while True:\n",
    "            if self.arr[index] == key:\n",
    "                return True\n",
    "            elif self.arr[index] is None:\n",
    "                return False\n",
    "            else:\n",
    "                index += 1\n",
    "\n",
    "\n",
    "# Your MyHashSet object will be instantiated and called as such:\n",
    "# obj = MyHashSet()\n",
    "# obj.add(key)\n",
    "# obj.remove(key)\n",
    "# param_3 = obj.contains(key)"
   ]
  }
 ],
 "metadata": {
  "kernelspec": {
   "display_name": "Python 3 (ipykernel)",
   "language": "python",
   "name": "python3"
  },
  "language_info": {
   "codemirror_mode": {
    "name": "ipython",
    "version": 3
   },
   "file_extension": ".py",
   "mimetype": "text/x-python",
   "name": "python",
   "nbconvert_exporter": "python",
   "pygments_lexer": "ipython3",
   "version": "3.9.13"
  }
 },
 "nbformat": 4,
 "nbformat_minor": 5
}
