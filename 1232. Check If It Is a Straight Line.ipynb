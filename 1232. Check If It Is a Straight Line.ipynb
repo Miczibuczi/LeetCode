{
 "cells": [
  {
   "cell_type": "code",
   "execution_count": 24,
   "id": "c28adb9d",
   "metadata": {},
   "outputs": [],
   "source": [
    "class Solution:\n",
    "    def checkStraightLine(self, coordinates: List[List[int]]) -> bool:\n",
    "        if all(coordinates[i][1]-coordinates[i-1][1]==0 for i in range(1, len(coordinates))):\n",
    "            return True\n",
    "        \n",
    "        def ratio(x1, y1, x2, y2):\n",
    "            return (x2-x1)/(y2-y1)\n",
    "        \n",
    "        current_ratio = None\n",
    "        for i in range(1, len(coordinates)):\n",
    "            x1, y1 = coordinates[i-1]\n",
    "            x2, y2 = coordinates[i]\n",
    "            if y2-y1 == 0:\n",
    "                return False\n",
    "            if current_ratio != None:\n",
    "                if ratio(x1, y1, x2, y2) != current_ratio:\n",
    "                    return False\n",
    "            else:\n",
    "                current_ratio = ratio(x1, y1, x2, y2)\n",
    "        return True"
   ]
  }
 ],
 "metadata": {
  "kernelspec": {
   "display_name": "Python 3 (ipykernel)",
   "language": "python",
   "name": "python3"
  },
  "language_info": {
   "codemirror_mode": {
    "name": "ipython",
    "version": 3
   },
   "file_extension": ".py",
   "mimetype": "text/x-python",
   "name": "python",
   "nbconvert_exporter": "python",
   "pygments_lexer": "ipython3",
   "version": "3.9.13"
  }
 },
 "nbformat": 4,
 "nbformat_minor": 5
}
