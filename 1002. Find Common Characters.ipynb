{
 "cells": [
  {
   "cell_type": "code",
   "execution_count": 3,
   "id": "d7c6f233",
   "metadata": {},
   "outputs": [],
   "source": [
    "class Solution:\n",
    "    def commonChars(self, words: List[str]) -> List[str]:\n",
    "        answer = collections.Counter(words[0])\n",
    "        for i in range(1, len(words)):\n",
    "            check_letters = collections.Counter(words[i])\n",
    "            for j in answer:\n",
    "                answer[j] = min(answer[j], check_letters[j])\n",
    "        final_answer = []\n",
    "        for i in answer:\n",
    "            for j in range(answer[i]):\n",
    "                 final_answer.append(i)\n",
    "        return final_answer"
   ]
  }
 ],
 "metadata": {
  "kernelspec": {
   "display_name": "Python 3 (ipykernel)",
   "language": "python",
   "name": "python3"
  },
  "language_info": {
   "codemirror_mode": {
    "name": "ipython",
    "version": 3
   },
   "file_extension": ".py",
   "mimetype": "text/x-python",
   "name": "python",
   "nbconvert_exporter": "python",
   "pygments_lexer": "ipython3",
   "version": "3.9.13"
  }
 },
 "nbformat": 4,
 "nbformat_minor": 5
}
