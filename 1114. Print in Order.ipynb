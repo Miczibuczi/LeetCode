{
 "cells": [
  {
   "cell_type": "code",
   "execution_count": null,
   "id": "b20001f6",
   "metadata": {},
   "outputs": [],
   "source": [
    "from threading import Lock\n",
    "\n",
    "class Foo:\n",
    "    def __init__(self):\n",
    "        self.locks = (Lock(), Lock())\n",
    "        self.locks[0].acquire()\n",
    "        self.locks[1].acquire()\n",
    "\n",
    "\n",
    "    def first(self, printFirst: 'Callable[[], None]') -> None:\n",
    "        # printFirst() outputs \"first\". Do not change or remove this line.\n",
    "        printFirst()\n",
    "        self.locks[0].release()\n",
    "\n",
    "\n",
    "    def second(self, printSecond: 'Callable[[], None]') -> None:\n",
    "        # printSecond() outputs \"second\". Do not change or remove this line.\n",
    "        with self.locks[0]:\n",
    "            printSecond()\n",
    "            self.locks[1].release()\n",
    "\n",
    "    def third(self, printThird: 'Callable[[], None]') -> None:\n",
    "        # printThird() outputs \"third\". Do not change or remove this line.\n",
    "        with self.locks[1]:\n",
    "            printThird()"
   ]
  }
 ],
 "metadata": {
  "kernelspec": {
   "display_name": "Python 3 (ipykernel)",
   "language": "python",
   "name": "python3"
  },
  "language_info": {
   "codemirror_mode": {
    "name": "ipython",
    "version": 3
   },
   "file_extension": ".py",
   "mimetype": "text/x-python",
   "name": "python",
   "nbconvert_exporter": "python",
   "pygments_lexer": "ipython3",
   "version": "3.9.13"
  }
 },
 "nbformat": 4,
 "nbformat_minor": 5
}
