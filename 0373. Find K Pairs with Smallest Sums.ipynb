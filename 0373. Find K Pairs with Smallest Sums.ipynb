{
 "cells": [
  {
   "cell_type": "code",
   "execution_count": null,
   "id": "e5b8aa84",
   "metadata": {},
   "outputs": [],
   "source": [
    "# Very long and complicated solution, but also very time efficient, BEATS 100% SOLUTIONS in terms of time (Runtime 957 ms)\n",
    "\n",
    "class Solution:\n",
    "    def kSmallestPairs(self, nums1: List[int], nums2: List[int], k: int) -> List[List[int]]:\n",
    "        ans = []\n",
    "        min_num = min(nums1[0], nums2[0])\n",
    "        cur_min = min_num\n",
    "        heap = []\n",
    "        heappush(heap, nums1[0]+nums2[0])\n",
    "        my_dictionary = defaultdict(list)\n",
    "        my_dictionary[nums1[0]+nums2[0]].append([nums1[0], nums2[0]])\n",
    "        i, j = 0, 0\n",
    "        while k:\n",
    "            while heap and heap[0] < cur_min + min_num:\n",
    "                num = heappop(heap)\n",
    "                while heap and heap[0] == num:\n",
    "                    heappop(heap)\n",
    "                for item in my_dictionary[num]:\n",
    "                    ans.append(item)\n",
    "                    k -= 1\n",
    "                    if k == 0:\n",
    "                        return ans\n",
    "            if i == len(nums1)-1 and j == len(nums2)-1:\n",
    "                cur_min = float(\"inf\")\n",
    "                if not heap:\n",
    "                    return ans\n",
    "            elif i == len(nums1)-1:\n",
    "                j += 1\n",
    "                cur_min = nums2[j]\n",
    "                for m in range(i+1):\n",
    "                    cur_sum = nums1[m]+nums2[j]\n",
    "                    heappush(heap, cur_sum)\n",
    "                    my_dictionary[cur_sum].append([nums1[m], nums2[j]])\n",
    "            elif j == len(nums2)-1:\n",
    "                i += 1\n",
    "                cur_min = nums1[i]\n",
    "                for m in range(j+1):\n",
    "                    cur_sum = nums1[i]+nums2[m]\n",
    "                    heappush(heap, cur_sum)\n",
    "                    my_dictionary[cur_sum].append([nums1[i], nums2[m]])\n",
    "            else:\n",
    "                if nums1[i+1] > nums2[j+1]:\n",
    "                    j += 1\n",
    "                    cur_min = nums2[j]\n",
    "                    for m in range(i+1):\n",
    "                        cur_sum = nums1[m]+nums2[j]\n",
    "                        heappush(heap, cur_sum)\n",
    "                        my_dictionary[cur_sum].append([nums1[m], nums2[j]])\n",
    "                else:\n",
    "                    i += 1\n",
    "                    cur_min = nums1[i]\n",
    "                    for m in range(j+1):\n",
    "                        cur_sum = nums1[i]+nums2[m]\n",
    "                        heappush(heap, cur_sum)\n",
    "                        my_dictionary[cur_sum].append([nums1[i], nums2[m]])"
   ]
  }
 ],
 "metadata": {
  "kernelspec": {
   "display_name": "Python 3 (ipykernel)",
   "language": "python",
   "name": "python3"
  },
  "language_info": {
   "codemirror_mode": {
    "name": "ipython",
    "version": 3
   },
   "file_extension": ".py",
   "mimetype": "text/x-python",
   "name": "python",
   "nbconvert_exporter": "python",
   "pygments_lexer": "ipython3",
   "version": "3.10.9"
  }
 },
 "nbformat": 4,
 "nbformat_minor": 5
}
