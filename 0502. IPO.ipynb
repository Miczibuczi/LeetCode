{
 "cells": [
  {
   "cell_type": "code",
   "execution_count": null,
   "id": "2c57fa8b",
   "metadata": {},
   "outputs": [],
   "source": [
    "class Solution:\n",
    "    def findMaximizedCapital(self, k: int, w: int, profits: List[int], capital: List[int]) -> int:\n",
    "        prof_cost = list(zip(profits, capital))\n",
    "        prof_cost.sort(key=lambda x:x[0], reverse=True)\n",
    "        while k > 0:\n",
    "            for i, p_c in enumerate(prof_cost):\n",
    "                if w >= p_c[1]:\n",
    "                    w += p_c[0]\n",
    "                    k -= 1\n",
    "                    prof_cost.pop(i)\n",
    "                    break\n",
    "            else:\n",
    "                return w\n",
    "        return w"
   ]
  },
  {
   "cell_type": "code",
   "execution_count": null,
   "id": "c3f11c9d",
   "metadata": {},
   "outputs": [],
   "source": [
    "# First answer, less efficient\n",
    "\n",
    "class Solution:\n",
    "    def findMaximizedCapital(self, k: int, w: int, profits: List[int], capital: List[int]) -> int:\n",
    "        can = deque([0])\n",
    "        cant = []\n",
    "        cant_cost = []\n",
    "        for i, profit in enumerate(profits):\n",
    "            if profit > can[0]:\n",
    "                if capital[i] > w:\n",
    "                    index = bisect.bisect(cant_cost, capital[i])\n",
    "                    cant.insert(index, profit)\n",
    "                    cant_cost.insert(index, capital[i])\n",
    "                else:\n",
    "                    if len(can)<k:\n",
    "                        bisect.insort(can, profit)\n",
    "                    else:\n",
    "                        can.popleft()\n",
    "                        bisect.insort(can, profit)\n",
    "        \n",
    "        w += can.pop()\n",
    "        k -= 1\n",
    "\n",
    "        while k > 0:\n",
    "            if len(cant) == 0:\n",
    "                return w + sum(can)\n",
    "            for i, cost in enumerate(cant_cost):\n",
    "                if can and cant[i] <= can[0]:\n",
    "                    continue\n",
    "                if cost > w:\n",
    "                    i -= 1\n",
    "                    break\n",
    "                else:\n",
    "                    if len(can)<k:\n",
    "                        bisect.insort(can, cant[i])\n",
    "                    else:\n",
    "                        can.popleft()\n",
    "                        bisect.insort(can, cant[i])\n",
    "            cant = cant[i+1:]\n",
    "            cant_cost = cant_cost[i+1:]\n",
    "            if not can:\n",
    "                return w\n",
    "            else:\n",
    "                w += can.pop()\n",
    "                k -= 1\n",
    "        \n",
    "        return w"
   ]
  }
 ],
 "metadata": {
  "kernelspec": {
   "display_name": "Python 3 (ipykernel)",
   "language": "python",
   "name": "python3"
  },
  "language_info": {
   "codemirror_mode": {
    "name": "ipython",
    "version": 3
   },
   "file_extension": ".py",
   "mimetype": "text/x-python",
   "name": "python",
   "nbconvert_exporter": "python",
   "pygments_lexer": "ipython3",
   "version": "3.9.13"
  }
 },
 "nbformat": 4,
 "nbformat_minor": 5
}
