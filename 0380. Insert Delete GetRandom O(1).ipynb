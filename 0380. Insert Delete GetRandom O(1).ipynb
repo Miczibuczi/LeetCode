{
 "cells": [
  {
   "cell_type": "code",
   "execution_count": null,
   "id": "7c5239cd",
   "metadata": {},
   "outputs": [],
   "source": [
    "class RandomizedSet:\n",
    "\n",
    "    def __init__(self):\n",
    "        self.my_list = []\n",
    "        self.pos = {}\n",
    "\n",
    "    def insert(self, val: int) -> bool:\n",
    "        if val in self.pos:\n",
    "            return False\n",
    "        else:\n",
    "            self.pos[val] = len(self.my_list)\n",
    "            self.my_list.append(val)\n",
    "            return True\n",
    "\n",
    "    def remove(self, val: int) -> bool:\n",
    "        if val not in self.pos:\n",
    "            return False\n",
    "        else:\n",
    "            self.my_list[self.pos[val]] = self.my_list[-1]\n",
    "            self.pos[self.my_list[-1]] = self.pos[val]\n",
    "            del self.pos[val]\n",
    "            self.my_list.pop()\n",
    "            return True\n",
    "\n",
    "    def getRandom(self) -> int:\n",
    "        return random.choice(self.my_list)\n",
    "\n",
    "\n",
    "# Your RandomizedSet object will be instantiated and called as such:\n",
    "# obj = RandomizedSet()\n",
    "# param_1 = obj.insert(val)\n",
    "# param_2 = obj.remove(val)\n",
    "# param_3 = obj.getRandom()"
   ]
  },
  {
   "cell_type": "code",
   "execution_count": null,
   "id": "116ba88d",
   "metadata": {},
   "outputs": [],
   "source": [
    "# first answer, less efficient\n",
    "\n",
    "class RandomizedSet:\n",
    "\n",
    "    def __init__(self):\n",
    "        self.set = set()\n",
    "        self.list = []\n",
    "\n",
    "    def insert(self, val: int) -> bool:\n",
    "        if val in self.set:\n",
    "            return False\n",
    "        else:\n",
    "            self.set.add(val)\n",
    "            self.list.append(val)\n",
    "            return True\n",
    "\n",
    "    def remove(self, val: int) -> bool:\n",
    "        if val not in self.set:\n",
    "            return False\n",
    "        else:\n",
    "            self.set.remove(val)\n",
    "            self.list.remove(val)\n",
    "            return True\n",
    "\n",
    "    def getRandom(self) -> int:\n",
    "        return random.choice(self.list)\n",
    "\n",
    "\n",
    "# Your RandomizedSet object will be instantiated and called as such:\n",
    "# obj = RandomizedSet()\n",
    "# param_1 = obj.insert(val)\n",
    "# param_2 = obj.remove(val)\n",
    "# param_3 = obj.getRandom()"
   ]
  }
 ],
 "metadata": {
  "kernelspec": {
   "display_name": "Python 3 (ipykernel)",
   "language": "python",
   "name": "python3"
  },
  "language_info": {
   "codemirror_mode": {
    "name": "ipython",
    "version": 3
   },
   "file_extension": ".py",
   "mimetype": "text/x-python",
   "name": "python",
   "nbconvert_exporter": "python",
   "pygments_lexer": "ipython3",
   "version": "3.9.13"
  }
 },
 "nbformat": 4,
 "nbformat_minor": 5
}
