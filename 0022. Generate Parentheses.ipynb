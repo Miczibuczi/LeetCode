{
 "cells": [
  {
   "cell_type": "code",
   "execution_count": null,
   "id": "464fbb69",
   "metadata": {},
   "outputs": [],
   "source": [
    "class Solution:\n",
    "    def generateParenthesis(self, n: int) -> List[str]:\n",
    "        def add_parentheses(o, c, cur_ans):\n",
    "            for i in range(1, o+1):\n",
    "                new_o = o - i\n",
    "                if new_o == 0:\n",
    "                    ans.append(cur_ans + \"(\"*o + \")\"*c)\n",
    "                else:\n",
    "                    for j in range(1, c-new_o+1):\n",
    "                        new_c = c-j\n",
    "                        add_parentheses(new_o, new_c, cur_ans + \"(\"*i + \")\"*j)\n",
    "                        \n",
    "        ans = []\n",
    "        add_parentheses(n, n, \"\")\n",
    "        return ans"
   ]
  }
 ],
 "metadata": {
  "kernelspec": {
   "display_name": "Python 3 (ipykernel)",
   "language": "python",
   "name": "python3"
  },
  "language_info": {
   "codemirror_mode": {
    "name": "ipython",
    "version": 3
   },
   "file_extension": ".py",
   "mimetype": "text/x-python",
   "name": "python",
   "nbconvert_exporter": "python",
   "pygments_lexer": "ipython3",
   "version": "3.9.13"
  }
 },
 "nbformat": 4,
 "nbformat_minor": 5
}
