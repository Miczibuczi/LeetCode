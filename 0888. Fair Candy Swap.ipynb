{
 "cells": [
  {
   "cell_type": "code",
   "execution_count": null,
   "id": "92538155",
   "metadata": {},
   "outputs": [],
   "source": [
    "# Runtime 355ms\n",
    "class Solution:\n",
    "    def fairCandySwap(self, aliceSizes: List[int], bobSizes: List[int]) -> List[int]:\n",
    "        difference = sum(aliceSizes)-sum(bobSizes)\n",
    "        aliceSizes = set(aliceSizes)\n",
    "        bobSizes = set(bobSizes)\n",
    "        for size in aliceSizes:\n",
    "            if size-(difference//2) in bobSizes:\n",
    "                return (size, size-(difference//2))"
   ]
  },
  {
   "cell_type": "code",
   "execution_count": null,
   "id": "203b2e24",
   "metadata": {},
   "outputs": [],
   "source": [
    "# Runtime 3864ms\n",
    "class Solution:\n",
    "    def fairCandySwap(self, aliceSizes: List[int], bobSizes: List[int]) -> List[int]:\n",
    "        difference = sum(aliceSizes)-sum(bobSizes)\n",
    "        for size in set(aliceSizes):\n",
    "            if size-(difference//2) in set(bobSizes):\n",
    "                return (size, size-(difference//2))"
   ]
  }
 ],
 "metadata": {
  "kernelspec": {
   "display_name": "Python 3 (ipykernel)",
   "language": "python",
   "name": "python3"
  },
  "language_info": {
   "codemirror_mode": {
    "name": "ipython",
    "version": 3
   },
   "file_extension": ".py",
   "mimetype": "text/x-python",
   "name": "python",
   "nbconvert_exporter": "python",
   "pygments_lexer": "ipython3",
   "version": "3.9.13"
  }
 },
 "nbformat": 4,
 "nbformat_minor": 5
}
