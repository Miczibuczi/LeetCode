{
 "cells": [
  {
   "cell_type": "code",
   "execution_count": null,
   "id": "09e97ad0",
   "metadata": {},
   "outputs": [],
   "source": [
    "class Solution:\n",
    "    def maxPoints(self, points: List[List[int]]) -> int:\n",
    "        if len(points) == 1:\n",
    "            return 1\n",
    "        lines_dictionary = defaultdict(list)\n",
    "        points_seen = set()\n",
    "        for point in points:\n",
    "            for x, y in points_seen:\n",
    "                x_dif = point[0]-x\n",
    "                if x_dif == 0:\n",
    "                    ratio = float(\"inf\")\n",
    "                else:\n",
    "                    y_dif = point[1]-y\n",
    "                    ratio = y_dif/x_dif\n",
    "                for item in lines_dictionary[(x, y)]:\n",
    "                    if item[0] == ratio:\n",
    "                        item[1] += 1\n",
    "                        break\n",
    "                else:\n",
    "                    lines_dictionary[(x, y)].append([ratio, 2])\n",
    "            points_seen.add(tuple(point))\n",
    "        \n",
    "        max_lines = 0\n",
    "        for items in lines_dictionary.values():\n",
    "            for item in items:\n",
    "                max_lines = max(max_lines, item[1])\n",
    "        return max_lines"
   ]
  }
 ],
 "metadata": {
  "kernelspec": {
   "display_name": "Python 3 (ipykernel)",
   "language": "python",
   "name": "python3"
  },
  "language_info": {
   "codemirror_mode": {
    "name": "ipython",
    "version": 3
   },
   "file_extension": ".py",
   "mimetype": "text/x-python",
   "name": "python",
   "nbconvert_exporter": "python",
   "pygments_lexer": "ipython3",
   "version": "3.10.9"
  }
 },
 "nbformat": 4,
 "nbformat_minor": 5
}
