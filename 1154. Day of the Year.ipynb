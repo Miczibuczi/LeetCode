{
 "cells": [
  {
   "cell_type": "code",
   "execution_count": 2,
   "id": "927e74df",
   "metadata": {},
   "outputs": [],
   "source": [
    "from datetime import datetime\n",
    "class Solution:\n",
    "    def dayOfYear(self, date: str) -> int:\n",
    "        return (datetime(int(date[:4]), int(date[5:7]), int(date[8:]))-datetime(int(date[:4]),1,1)).days+1"
   ]
  }
 ],
 "metadata": {
  "kernelspec": {
   "display_name": "Python 3 (ipykernel)",
   "language": "python",
   "name": "python3"
  },
  "language_info": {
   "codemirror_mode": {
    "name": "ipython",
    "version": 3
   },
   "file_extension": ".py",
   "mimetype": "text/x-python",
   "name": "python",
   "nbconvert_exporter": "python",
   "pygments_lexer": "ipython3",
   "version": "3.9.13"
  }
 },
 "nbformat": 4,
 "nbformat_minor": 5
}
