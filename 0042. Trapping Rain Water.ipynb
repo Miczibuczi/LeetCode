{
 "cells": [
  {
   "cell_type": "code",
   "execution_count": null,
   "id": "7e811928",
   "metadata": {},
   "outputs": [],
   "source": [
    "class Solution:\n",
    "    def trap(self, height: List[int]) -> int:\n",
    "        water = [0]\n",
    "        for i in range(1, len(height)-1):\n",
    "            water.append(max(height[i-1]-height[i]+water[i-1], 0))\n",
    "        water.append(0)\n",
    "        for i in range(len(height)-2, 0, -1):\n",
    "            water[i] = max(min(height[i+1]-height[i]+water[i+1], water[i]), 0)\n",
    "        return sum(water)"
   ]
  }
 ],
 "metadata": {
  "kernelspec": {
   "display_name": "Python 3 (ipykernel)",
   "language": "python",
   "name": "python3"
  },
  "language_info": {
   "codemirror_mode": {
    "name": "ipython",
    "version": 3
   },
   "file_extension": ".py",
   "mimetype": "text/x-python",
   "name": "python",
   "nbconvert_exporter": "python",
   "pygments_lexer": "ipython3",
   "version": "3.9.13"
  }
 },
 "nbformat": 4,
 "nbformat_minor": 5
}
