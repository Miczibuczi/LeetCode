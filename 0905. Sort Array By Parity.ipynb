{
 "cells": [
  {
   "cell_type": "code",
   "execution_count": null,
   "id": "e8a5352e",
   "metadata": {},
   "outputs": [],
   "source": [
    "class Solution:\n",
    "    def sortArrayByParity(self, nums: List[int]) -> List[int]:\n",
    "        answer = []\n",
    "        for i in nums:\n",
    "            if i % 2 == 0:\n",
    "                answer.append(i)\n",
    "        for j in nums:\n",
    "            if j % 2 == 1:\n",
    "                answer.append(j)\n",
    "        return answer"
   ]
  },
  {
   "cell_type": "code",
   "execution_count": null,
   "id": "e9253a1d",
   "metadata": {},
   "outputs": [],
   "source": [
    "# Solution in place\n",
    "class Solution:\n",
    "    def sortArrayByParity(self, nums: List[int]) -> List[int]:\n",
    "        pointer_1 = 0\n",
    "        pointer_2 = len(nums)-1\n",
    "        while pointer_1 < pointer_2:\n",
    "            if nums[pointer_1] % 2 == 0:\n",
    "                pointer_1 += 1\n",
    "            else:\n",
    "                if nums[pointer_2] % 2 == 0:\n",
    "                    nums[pointer_1], nums[pointer_2] = nums[pointer_2], nums[pointer_1]\n",
    "                    pointer_1 += 1\n",
    "                    pointer_2 -= 1\n",
    "                else:\n",
    "                    pointer_2 -= 1\n",
    "        return nums"
   ]
  }
 ],
 "metadata": {
  "kernelspec": {
   "display_name": "Python 3 (ipykernel)",
   "language": "python",
   "name": "python3"
  },
  "language_info": {
   "codemirror_mode": {
    "name": "ipython",
    "version": 3
   },
   "file_extension": ".py",
   "mimetype": "text/x-python",
   "name": "python",
   "nbconvert_exporter": "python",
   "pygments_lexer": "ipython3",
   "version": "3.9.13"
  }
 },
 "nbformat": 4,
 "nbformat_minor": 5
}
