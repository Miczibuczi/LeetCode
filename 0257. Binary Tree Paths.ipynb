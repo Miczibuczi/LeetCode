{
 "cells": [
  {
   "cell_type": "code",
   "execution_count": null,
   "id": "4f5a18b1",
   "metadata": {},
   "outputs": [],
   "source": [
    "# Definition for a binary tree node.\n",
    "# class TreeNode:\n",
    "#     def __init__(self, val=0, left=None, right=None):\n",
    "#         self.val = val\n",
    "#         self.left = left\n",
    "#         self.right = right\n",
    "class Solution:\n",
    "    def binaryTreePaths(self, root: Optional[TreeNode]) -> List[str]:\n",
    "        if not root:\n",
    "            return []\n",
    "        answer = []\n",
    "        curr_path = f'{root.val}'\n",
    "        self.Traverse(root,answer,curr_path)\n",
    "        return answer\n",
    "\n",
    "    def Traverse(self, root, answer, curr_path):\n",
    "        if not root.left and not root.right:\n",
    "            answer.append(curr_path)\n",
    "            return\n",
    "        if root.right:\n",
    "            path_right = curr_path + f'->{root.right.val}'\n",
    "            self.Traverse(root.right, answer, path_right)\n",
    "        if root.left:\n",
    "            path_left = curr_path + f'->{root.left.val}'\n",
    "            self.Traverse(root.left, answer, path_left)"
   ]
  }
 ],
 "metadata": {
  "kernelspec": {
   "display_name": "Python 3 (ipykernel)",
   "language": "python",
   "name": "python3"
  },
  "language_info": {
   "codemirror_mode": {
    "name": "ipython",
    "version": 3
   },
   "file_extension": ".py",
   "mimetype": "text/x-python",
   "name": "python",
   "nbconvert_exporter": "python",
   "pygments_lexer": "ipython3",
   "version": "3.9.13"
  }
 },
 "nbformat": 4,
 "nbformat_minor": 5
}
