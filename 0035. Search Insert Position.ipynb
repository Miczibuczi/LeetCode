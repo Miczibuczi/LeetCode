{
 "cells": [
  {
   "cell_type": "code",
   "execution_count": null,
   "id": "9df95a56",
   "metadata": {},
   "outputs": [],
   "source": [
    "class Solution:\n",
    "    def searchInsert(self, nums: List[int], target: int) -> int:\n",
    "        size = len(nums)\n",
    "        if nums[size-1] < target:\n",
    "            k = size\n",
    "        elif nums[0] > target:\n",
    "            k = 0\n",
    "        else:\n",
    "            for i in range(size):\n",
    "                if nums[i] == target:\n",
    "                    k = i\n",
    "                    break\n",
    "                elif nums[i] < target and nums[i+1] > target:\n",
    "                    k = i+1\n",
    "                    break\n",
    "        return k"
   ]
  }
 ],
 "metadata": {
  "kernelspec": {
   "display_name": "Python 3 (ipykernel)",
   "language": "python",
   "name": "python3"
  },
  "language_info": {
   "codemirror_mode": {
    "name": "ipython",
    "version": 3
   },
   "file_extension": ".py",
   "mimetype": "text/x-python",
   "name": "python",
   "nbconvert_exporter": "python",
   "pygments_lexer": "ipython3",
   "version": "3.9.13"
  }
 },
 "nbformat": 4,
 "nbformat_minor": 5
}
