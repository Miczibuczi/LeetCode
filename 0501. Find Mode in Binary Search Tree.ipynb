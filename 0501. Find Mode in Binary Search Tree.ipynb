{
 "cells": [
  {
   "cell_type": "code",
   "execution_count": null,
   "id": "4a556a20",
   "metadata": {},
   "outputs": [],
   "source": [
    "# Definition for a binary tree node.\n",
    "# class TreeNode:\n",
    "#     def __init__(self, val=0, left=None, right=None):\n",
    "#         self.val = val\n",
    "#         self.left = left\n",
    "#         self.right = right\n",
    "from collections import defaultdict\n",
    "class Solution:\n",
    "    def findMode(self, root: Optional[TreeNode]) -> List[int]:\n",
    "        self.my_dictionary = defaultdict(int)\n",
    "\n",
    "        def Traverse(node):\n",
    "            if not node:\n",
    "                return\n",
    "            self.my_dictionary[node.val] += 1\n",
    "            Traverse(node.left)\n",
    "            Traverse(node.right)\n",
    "        \n",
    "        Traverse(root)\n",
    "        answer = []\n",
    "        max_num = -float('inf')\n",
    "        items = list(self.my_dictionary.items())\n",
    "        for i in range(len(items)):\n",
    "            if items[i][1] > max_num:\n",
    "                max_num = items[i][1]\n",
    "                answer = [items[i][0]]\n",
    "            elif items[i][1] == max_num:\n",
    "                answer.append(items[i][0])\n",
    "        return answer"
   ]
  },
  {
   "cell_type": "code",
   "execution_count": null,
   "id": "6bb0e12a",
   "metadata": {},
   "outputs": [],
   "source": [
    "# Similar, more readable answer\n",
    "\n",
    "# Definition for a binary tree node.\n",
    "# class TreeNode:\n",
    "#     def __init__(self, val=0, left=None, right=None):\n",
    "#         self.val = val\n",
    "#         self.left = left\n",
    "#         self.right = right\n",
    "from collections import defaultdict\n",
    "class Solution:\n",
    "    def findMode(self, root: Optional[TreeNode]) -> List[int]:\n",
    "        self.my_dictionary = defaultdict(int)\n",
    "\n",
    "        def Traverse(node):\n",
    "            if not node:\n",
    "                return\n",
    "            self.my_dictionary[node.val] += 1\n",
    "            Traverse(node.left)\n",
    "            Traverse(node.right)\n",
    "        \n",
    "        Traverse(root)\n",
    "        answer = []\n",
    "        max_num = max(self.my_dictionary.values())\n",
    "        for key, value in self.my_dictionary.items():\n",
    "            if value == max_num:\n",
    "                answer.append(key)\n",
    "        return answer"
   ]
  }
 ],
 "metadata": {
  "kernelspec": {
   "display_name": "Python 3 (ipykernel)",
   "language": "python",
   "name": "python3"
  },
  "language_info": {
   "codemirror_mode": {
    "name": "ipython",
    "version": 3
   },
   "file_extension": ".py",
   "mimetype": "text/x-python",
   "name": "python",
   "nbconvert_exporter": "python",
   "pygments_lexer": "ipython3",
   "version": "3.9.13"
  }
 },
 "nbformat": 4,
 "nbformat_minor": 5
}
