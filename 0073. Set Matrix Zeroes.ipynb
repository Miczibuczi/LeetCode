{
 "cells": [
  {
   "cell_type": "code",
   "execution_count": 4,
   "id": "56b2d4e7",
   "metadata": {},
   "outputs": [],
   "source": [
    "class Solution:\n",
    "    def setZeroes(self, matrix: List[List[int]]) -> None:\n",
    "        \"\"\"\n",
    "        Do not return anything, modify matrix in-place instead.\n",
    "        \"\"\"\n",
    "        rows = set()\n",
    "        columns = set()\n",
    "        for i in range(len(matrix)):\n",
    "            for j in range(len(matrix[0])):\n",
    "                if matrix[i][j] == 0:\n",
    "                    rows.add(i)\n",
    "                    columns.add(j)\n",
    "        \n",
    "        for row in rows:\n",
    "            matrix[row] = [0]*len(matrix[0])\n",
    "        \n",
    "        for i in range(len(matrix)):\n",
    "            for col in columns:\n",
    "                matrix[i][col] = 0"
   ]
  }
 ],
 "metadata": {
  "kernelspec": {
   "display_name": "Python 3 (ipykernel)",
   "language": "python",
   "name": "python3"
  },
  "language_info": {
   "codemirror_mode": {
    "name": "ipython",
    "version": 3
   },
   "file_extension": ".py",
   "mimetype": "text/x-python",
   "name": "python",
   "nbconvert_exporter": "python",
   "pygments_lexer": "ipython3",
   "version": "3.9.13"
  }
 },
 "nbformat": 4,
 "nbformat_minor": 5
}
