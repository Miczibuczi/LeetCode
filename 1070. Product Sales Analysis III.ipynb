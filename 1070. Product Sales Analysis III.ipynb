{
 "cells": [
  {
   "cell_type": "code",
   "execution_count": null,
   "id": "69fb4c2a",
   "metadata": {},
   "outputs": [],
   "source": [
    "import pandas as pd\n",
    "\n",
    "def sales_analysis(sales: pd.DataFrame, product: pd.DataFrame) -> pd.DataFrame:\n",
    "    sales.sort_values(by=\"year\", inplace=True)\n",
    "    seen = set()\n",
    "    first_year = {}\n",
    "    for row in sales[[\"product_id\", \"year\"]].itertuples():\n",
    "        if row.product_id not in seen:\n",
    "            seen.add(row.product_id)\n",
    "            first_year[row.product_id] = row.year\n",
    "    sales = sales[sales[\"year\"] == sales[\"product_id\"].map(first_year)]\n",
    "    return sales[[\"product_id\", \"year\", \"quantity\", \"price\"]].rename(columns={\"year\":\"first_year\"})"
   ]
  }
 ],
 "metadata": {
  "kernelspec": {
   "display_name": "Python 3 (ipykernel)",
   "language": "python",
   "name": "python3"
  },
  "language_info": {
   "codemirror_mode": {
    "name": "ipython",
    "version": 3
   },
   "file_extension": ".py",
   "mimetype": "text/x-python",
   "name": "python",
   "nbconvert_exporter": "python",
   "pygments_lexer": "ipython3",
   "version": "3.10.9"
  }
 },
 "nbformat": 4,
 "nbformat_minor": 5
}
