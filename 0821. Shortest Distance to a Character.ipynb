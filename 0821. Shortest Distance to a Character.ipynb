{
 "cells": [
  {
   "cell_type": "code",
   "execution_count": null,
   "id": "d0d0bb7c",
   "metadata": {},
   "outputs": [],
   "source": [
    "class Solution:\n",
    "    def shortestToChar(self, s: str, c: str) -> List[int]:\n",
    "        c_indexes = []\n",
    "        for i, letter in enumerate(s):\n",
    "            if letter == c:\n",
    "                c_indexes.append(i)\n",
    "        \n",
    "        answer = []\n",
    "        a = 0\n",
    "        for i, letter in enumerate(s):\n",
    "            if a < len(c_indexes)-1:\n",
    "                if abs(i-c_indexes[a]) > abs(i-c_indexes[a+1]):\n",
    "                    answer.append(abs(i-c_indexes[a+1]))\n",
    "                    a += 1\n",
    "                else:\n",
    "                    answer.append(abs(i-c_indexes[a]))\n",
    "            else:\n",
    "                answer.append(abs(i-c_indexes[a]))\n",
    "        return answer"
   ]
  }
 ],
 "metadata": {
  "kernelspec": {
   "display_name": "Python 3 (ipykernel)",
   "language": "python",
   "name": "python3"
  },
  "language_info": {
   "codemirror_mode": {
    "name": "ipython",
    "version": 3
   },
   "file_extension": ".py",
   "mimetype": "text/x-python",
   "name": "python",
   "nbconvert_exporter": "python",
   "pygments_lexer": "ipython3",
   "version": "3.9.13"
  }
 },
 "nbformat": 4,
 "nbformat_minor": 5
}
