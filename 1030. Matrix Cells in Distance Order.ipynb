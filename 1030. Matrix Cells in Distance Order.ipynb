{
 "cells": [
  {
   "cell_type": "code",
   "execution_count": null,
   "id": "1f72cdd0",
   "metadata": {},
   "outputs": [],
   "source": [
    "class Solution:\n",
    "    def allCellsDistOrder(self, rows: int, cols: int, rCenter: int, cCenter: int) -> List[List[int]]:\n",
    "        answer = [[rCenter, cCenter]]\n",
    "        count = 1\n",
    "        difference = 1\n",
    "        while count < rows*cols:\n",
    "            for i in range(difference):\n",
    "                if 0 <= rCenter-difference+i < rows and 0 <= cCenter-i < cols:\n",
    "                    answer.append([rCenter-difference+i, cCenter-i])\n",
    "                    count += 1\n",
    "                if 0 <= rCenter+difference-i < rows and 0 <= cCenter+i < cols:\n",
    "                    answer.append([rCenter+difference-i , cCenter+i])\n",
    "                    count += 1\n",
    "                if 0 <= rCenter+i < rows and 0 <= cCenter-difference+i < cols:\n",
    "                    answer.append([rCenter+i, cCenter-difference+i])\n",
    "                    count += 1\n",
    "                if 0 <= rCenter-i < rows and 0 <= cCenter+difference-i < cols:\n",
    "                    answer.append([rCenter-i, cCenter+difference-i])\n",
    "                    count += 1\n",
    "            difference += 1\n",
    "        return answer"
   ]
  }
 ],
 "metadata": {
  "kernelspec": {
   "display_name": "Python 3 (ipykernel)",
   "language": "python",
   "name": "python3"
  },
  "language_info": {
   "codemirror_mode": {
    "name": "ipython",
    "version": 3
   },
   "file_extension": ".py",
   "mimetype": "text/x-python",
   "name": "python",
   "nbconvert_exporter": "python",
   "pygments_lexer": "ipython3",
   "version": "3.9.13"
  }
 },
 "nbformat": 4,
 "nbformat_minor": 5
}
