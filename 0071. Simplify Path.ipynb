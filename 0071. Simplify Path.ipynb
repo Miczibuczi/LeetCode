{
 "cells": [
  {
   "cell_type": "code",
   "execution_count": null,
   "id": "12d04766",
   "metadata": {},
   "outputs": [],
   "source": [
    "class Solution:\n",
    "    def simplifyPath(self, path: str) -> str:\n",
    "        ans = []\n",
    "        path = path.split(\"/\")\n",
    "        for word in path:\n",
    "            if word == \"..\":\n",
    "                if ans:\n",
    "                    ans.pop()\n",
    "            elif word == \".\" or not word:\n",
    "                pass\n",
    "            else:\n",
    "                ans.append(f'/{word}')\n",
    "        return \"\".join(ans) or \"/\""
   ]
  },
  {
   "cell_type": "code",
   "execution_count": null,
   "id": "e8e52188",
   "metadata": {},
   "outputs": [],
   "source": [
    "# Without creating new string\n",
    "\n",
    "class Solution:\n",
    "    def simplifyPath(self, path: str) -> str:\n",
    "        path = path.split(\"/\")\n",
    "        for i in range(len(path)):\n",
    "            if path[i] == \"..\":\n",
    "                path[i] = \"\"\n",
    "                while i > 0:\n",
    "                    if path[i-1] != \"\":\n",
    "                        path[i-1] = \"\"\n",
    "                        break\n",
    "                    i -= 1\n",
    "            elif path[i] == \".\":\n",
    "                path[i] = \"\"\n",
    "            elif path[i]:\n",
    "                path[i] = \"/\" + path[i]\n",
    "        return \"\".join(path) or \"/\""
   ]
  },
  {
   "cell_type": "code",
   "execution_count": null,
   "id": "3000edd5",
   "metadata": {},
   "outputs": [],
   "source": [
    "# First answer, less efficient in terms of time\n",
    "\n",
    "class Solution:\n",
    "    def simplifyPath(self, path: str) -> str:\n",
    "        path += \"/\"\n",
    "        ans = []\n",
    "        curr = \"\"\n",
    "        for i in range(1, len(path)):\n",
    "            if path[i] == \"/\":\n",
    "                if curr == \"..\":\n",
    "                    if ans:\n",
    "                        ans.pop()\n",
    "                elif curr and curr != \".\":\n",
    "                    ans.append(f\"/{curr}\")\n",
    "                curr = \"\"\n",
    "            else:\n",
    "                curr += path[i]\n",
    "        return \"\".join(ans) or \"/\""
   ]
  }
 ],
 "metadata": {
  "kernelspec": {
   "display_name": "Python 3 (ipykernel)",
   "language": "python",
   "name": "python3"
  },
  "language_info": {
   "codemirror_mode": {
    "name": "ipython",
    "version": 3
   },
   "file_extension": ".py",
   "mimetype": "text/x-python",
   "name": "python",
   "nbconvert_exporter": "python",
   "pygments_lexer": "ipython3",
   "version": "3.9.13"
  }
 },
 "nbformat": 4,
 "nbformat_minor": 5
}
