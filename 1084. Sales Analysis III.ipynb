{
 "cells": [
  {
   "cell_type": "code",
   "execution_count": null,
   "id": "11b6b2f6",
   "metadata": {},
   "outputs": [],
   "source": [
    "import pandas as pd\n",
    "\n",
    "def sales_analysis(product: pd.DataFrame, sales: pd.DataFrame) -> pd.DataFrame:\n",
    "    ans = merge(product[[\"product_id\", \"product_name\"]], sales[[\"product_id\", \"sale_date\"]], on=\"product_id\")\n",
    "    ans = ans[pd.Timestamp(\"2019-01-01\") <= ans[\"sale_date\"] <= pd.Timestamp(\"2019-03-31\")]\n",
    "    return ans[[\"product_id\", \"product_name\"]]"
   ]
  },
  {
   "cell_type": "code",
   "execution_count": null,
   "id": "03799492",
   "metadata": {},
   "outputs": [],
   "source": []
  },
  {
   "cell_type": "code",
   "execution_count": null,
   "id": "f39fda94",
   "metadata": {},
   "outputs": [],
   "source": []
  },
  {
   "cell_type": "code",
   "execution_count": null,
   "id": "19bd467a",
   "metadata": {},
   "outputs": [],
   "source": [
    "import pandas as pd\n",
    "\n",
    "def sales_analysis(product: pd.DataFrame, sales: pd.DataFrame) -> pd.DataFrame:\n",
    "    ans = sales[[\"product_id\", \"sale_date\"]].merge(product, how = \"left\", on=\"product_id\")\n",
    "    ans = ans[(pd.Timestamp(\"2019-01-01\") > ans[\"sale_date\"]) | (ans[\"sale_date\"] > pd.Timestamp(\"2019-03-31\"))]\n",
    "    return ans[[\"product_id\", \"product_name\"]]"
   ]
  },
  {
   "cell_type": "code",
   "execution_count": null,
   "id": "d3a893fe",
   "metadata": {},
   "outputs": [],
   "source": [
    "import pandas as pd\n",
    "\n",
    "def sales_analysis(product: pd.DataFrame, sales: pd.DataFrame) -> pd.DataFrame:\n",
    "    ans = sales[[\"product_id\", \"sale_date\"]].merge(product, how = \"left\", on=\"product_id\")\n",
    "    ans = ans[~((pd.Timestamp(\"2019-01-01\") > ans[\"sale_date\"]) | (ans[\"sale_date\"] > pd.Timestamp(\"2019-03-31\")))]\n",
    "    return ans[[\"product_id\", \"product_name\"]]"
   ]
  }
 ],
 "metadata": {
  "kernelspec": {
   "display_name": "Python 3 (ipykernel)",
   "language": "python",
   "name": "python3"
  },
  "language_info": {
   "codemirror_mode": {
    "name": "ipython",
    "version": 3
   },
   "file_extension": ".py",
   "mimetype": "text/x-python",
   "name": "python",
   "nbconvert_exporter": "python",
   "pygments_lexer": "ipython3",
   "version": "3.10.9"
  }
 },
 "nbformat": 4,
 "nbformat_minor": 5
}
