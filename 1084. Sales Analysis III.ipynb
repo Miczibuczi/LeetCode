{
 "cells": [
  {
   "cell_type": "code",
   "execution_count": null,
   "id": "5a69f025",
   "metadata": {},
   "outputs": [],
   "source": [
    "import pandas as pd\n",
    "\n",
    "def sales_analysis(product: pd.DataFrame, sales: pd.DataFrame) -> pd.DataFrame:\n",
    "    ans = sales[[\"product_id\", \"sale_date\"]].merge(product, how = \"left\", on=\"product_id\")\n",
    "    seen = set()\n",
    "    for item in sales[[\"product_id\", \"sale_date\"]].itertuples():\n",
    "        if pd.Timestamp(\"2019-01-01\") > item.sale_date or item.sale_date > pd.Timestamp(\"2019-03-31\"):\n",
    "            seen.add(item.product_id)\n",
    "    ans = ans[~ans[\"product_id\"].isin(seen)]\n",
    "    return ans[[\"product_id\", \"product_name\"]].drop_duplicates()"
   ]
  }
 ],
 "metadata": {
  "kernelspec": {
   "display_name": "Python 3 (ipykernel)",
   "language": "python",
   "name": "python3"
  },
  "language_info": {
   "codemirror_mode": {
    "name": "ipython",
    "version": 3
   },
   "file_extension": ".py",
   "mimetype": "text/x-python",
   "name": "python",
   "nbconvert_exporter": "python",
   "pygments_lexer": "ipython3",
   "version": "3.10.9"
  }
 },
 "nbformat": 4,
 "nbformat_minor": 5
}
