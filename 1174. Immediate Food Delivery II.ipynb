{
 "cells": [
  {
   "cell_type": "code",
   "execution_count": null,
   "id": "86400f11",
   "metadata": {},
   "outputs": [],
   "source": [
    "import pandas as pd\n",
    "\n",
    "def immediate_food_delivery(delivery: pd.DataFrame) -> pd.DataFrame:\n",
    "    delivery.sort_values(by=\"order_date\", inplace=True)\n",
    "    delivery.drop_duplicates(subset=\"customer_id\", inplace=True, keep=\"first\")\n",
    "    first_order_count = len(delivery)\n",
    "    delivery = delivery[delivery[\"order_date\"] == delivery[\"customer_pref_delivery_date\"]]\n",
    "    immediate_count = len(delivery)\n",
    "    return pd.DataFrame({\"immediate_percentage\":[round(immediate_count*100/first_order_count, 2)]})"
   ]
  }
 ],
 "metadata": {
  "kernelspec": {
   "display_name": "Python 3 (ipykernel)",
   "language": "python",
   "name": "python3"
  },
  "language_info": {
   "codemirror_mode": {
    "name": "ipython",
    "version": 3
   },
   "file_extension": ".py",
   "mimetype": "text/x-python",
   "name": "python",
   "nbconvert_exporter": "python",
   "pygments_lexer": "ipython3",
   "version": "3.10.9"
  }
 },
 "nbformat": 4,
 "nbformat_minor": 5
}
