{
 "cells": [
  {
   "cell_type": "code",
   "execution_count": null,
   "id": "9732eba4",
   "metadata": {},
   "outputs": [],
   "source": [
    "class Solution:\n",
    "    def searchMatrix(self, matrix: List[List[int]], target: int) -> bool:\n",
    "        if not matrix:\n",
    "            return False\n",
    "        left_i = 0\n",
    "        right_i = len(matrix)-1\n",
    "        while left_i <= right_i:\n",
    "                mid = (left_i+right_i)//2\n",
    "                if matrix[mid][0] <= target <= matrix[mid][len(matrix[0])-1]:\n",
    "                    break\n",
    "                elif matrix[mid][0] > target:\n",
    "                    right_i = mid-1\n",
    "                elif matrix[mid][len(matrix[0])-1] < target:\n",
    "                    left_i = mid+1\n",
    "        i = mid\n",
    "        left_j = 0\n",
    "        right_j = len(matrix[0])-1\n",
    "        while left_j <= right_j:\n",
    "            mid = (left_j+right_j)//2\n",
    "            if matrix[i][mid] == target:\n",
    "                return True\n",
    "            elif matrix[i][mid] > target:\n",
    "                right_j = mid-1\n",
    "            elif matrix[i][mid] < target:\n",
    "                left_j = mid+1\n",
    "        return False"
   ]
  }
 ],
 "metadata": {
  "kernelspec": {
   "display_name": "Python 3 (ipykernel)",
   "language": "python",
   "name": "python3"
  },
  "language_info": {
   "codemirror_mode": {
    "name": "ipython",
    "version": 3
   },
   "file_extension": ".py",
   "mimetype": "text/x-python",
   "name": "python",
   "nbconvert_exporter": "python",
   "pygments_lexer": "ipython3",
   "version": "3.9.13"
  }
 },
 "nbformat": 4,
 "nbformat_minor": 5
}
