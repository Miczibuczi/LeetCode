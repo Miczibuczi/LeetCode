{
 "cells": [
  {
   "cell_type": "code",
   "execution_count": null,
   "id": "d7d85257",
   "metadata": {},
   "outputs": [],
   "source": [
    "class Solution:\n",
    "    def merge(self, nums1: List[int], m: int, nums2: List[int], n: int) -> None:\n",
    "        \"\"\"\n",
    "        Do not return anything, modify nums1 in-place instead.\n",
    "        \"\"\"\n",
    "        index_1 = m-1\n",
    "        index_2 = n-1\n",
    "        for i in range(m+n):\n",
    "            if index_1 >= 0 and index_2 >= 0:\n",
    "                if nums1[index_1] >= nums2[index_2]:\n",
    "                    nums1[m+n-1-i] = nums1[index_1]\n",
    "                    index_1 -= 1\n",
    "                    continue\n",
    "                else:\n",
    "                    nums1[m+n-1-i] = nums2[index_2]\n",
    "                    index_2 -= 1\n",
    "                    continue\n",
    "            if index_1 < 0 and index_2 >= 0:\n",
    "                nums1[m+n-1-i] = nums2[index_2]\n",
    "                index_2 -= 1\n",
    "                continue\n",
    "            if index_1 >= 0 and index_2 < 0:\n",
    "                nums1[m+n-1-i] = nums1[index_1]\n",
    "                index_1 -= 1\n",
    "                continue"
   ]
  }
 ],
 "metadata": {
  "kernelspec": {
   "display_name": "Python 3 (ipykernel)",
   "language": "python",
   "name": "python3"
  },
  "language_info": {
   "codemirror_mode": {
    "name": "ipython",
    "version": 3
   },
   "file_extension": ".py",
   "mimetype": "text/x-python",
   "name": "python",
   "nbconvert_exporter": "python",
   "pygments_lexer": "ipython3",
   "version": "3.9.13"
  }
 },
 "nbformat": 4,
 "nbformat_minor": 5
}
