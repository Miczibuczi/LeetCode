{
 "cells": [
  {
   "cell_type": "code",
   "execution_count": null,
   "id": "115e4eb2",
   "metadata": {},
   "outputs": [],
   "source": [
    "# Definition for a binary tree node.\n",
    "# class TreeNode:\n",
    "#     def __init__(self, val=0, left=None, right=None):\n",
    "#         self.val = val\n",
    "#         self.left = left\n",
    "#         self.right = right\n",
    "class Solution:\n",
    "    def isSymmetric(self, root: Optional[TreeNode]) -> bool:\n",
    "        return self.check(root.left, root.right) and self.check(root.right, root.left)\n",
    "    def check(self, root1, root2):\n",
    "        stack1 = []\n",
    "        stack2 = []\n",
    "        try:\n",
    "            while root1 or stack1:\n",
    "                while root1:\n",
    "                    if root1.val != root2.val:\n",
    "                        return False\n",
    "                    stack1.append(root1)\n",
    "                    stack2.append(root2)\n",
    "                    root1 = root1.left\n",
    "                    root2 = root2.right\n",
    "                root1 = stack1.pop()\n",
    "                root2 = stack2.pop()\n",
    "                root1 = root1.right\n",
    "                root2 = root2.left\n",
    "        except AttributeError:\n",
    "            return False\n",
    "        return True"
   ]
  }
 ],
 "metadata": {
  "kernelspec": {
   "display_name": "Python 3 (ipykernel)",
   "language": "python",
   "name": "python3"
  },
  "language_info": {
   "codemirror_mode": {
    "name": "ipython",
    "version": 3
   },
   "file_extension": ".py",
   "mimetype": "text/x-python",
   "name": "python",
   "nbconvert_exporter": "python",
   "pygments_lexer": "ipython3",
   "version": "3.9.13"
  }
 },
 "nbformat": 4,
 "nbformat_minor": 5
}
