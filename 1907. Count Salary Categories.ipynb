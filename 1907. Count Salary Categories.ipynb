{
 "cells": [
  {
   "cell_type": "code",
   "execution_count": null,
   "id": "80d4ec3d",
   "metadata": {},
   "outputs": [],
   "source": [
    "import pandas as pd\n",
    "\n",
    "def count_salary_categories(accounts: pd.DataFrame) -> pd.DataFrame:\n",
    "    low_salary = (accounts[\"income\"]<20000).sum()\n",
    "    average_salary = ((accounts[\"income\"]>=20000) & (accounts[\"income\"]<=50000)).sum()\n",
    "    high_salary = (accounts[\"income\"]>50000).sum()\n",
    "    return pd.DataFrame({\n",
    "        \"category\" : [\"Low Salary\", \"Average Salary\", \"High Salary\"],\n",
    "        \"accounts_count\" : [low_salary, average_salary, high_salary]\n",
    "        })"
   ]
  }
 ],
 "metadata": {
  "kernelspec": {
   "display_name": "Python 3 (ipykernel)",
   "language": "python",
   "name": "python3"
  },
  "language_info": {
   "codemirror_mode": {
    "name": "ipython",
    "version": 3
   },
   "file_extension": ".py",
   "mimetype": "text/x-python",
   "name": "python",
   "nbconvert_exporter": "python",
   "pygments_lexer": "ipython3",
   "version": "3.10.9"
  }
 },
 "nbformat": 4,
 "nbformat_minor": 5
}
