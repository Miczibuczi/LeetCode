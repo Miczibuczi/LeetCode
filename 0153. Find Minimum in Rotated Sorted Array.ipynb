{
 "cells": [
  {
   "cell_type": "code",
   "execution_count": null,
   "id": "438fc4c2",
   "metadata": {},
   "outputs": [],
   "source": [
    "class Solution:\n",
    "    def findMin(self, nums: List[int]) -> int:\n",
    "        left = 0\n",
    "        right = len(nums)-1\n",
    "        mid = (left+right)//2\n",
    "\n",
    "        while mid>left:\n",
    "            if nums[mid] > nums[0]:\n",
    "                left = mid+1\n",
    "            else:\n",
    "                right = mid\n",
    "            mid = (left+right)//2\n",
    "        return min(nums[right], nums[mid], nums[0])"
   ]
  }
 ],
 "metadata": {
  "kernelspec": {
   "display_name": "Python 3 (ipykernel)",
   "language": "python",
   "name": "python3"
  },
  "language_info": {
   "codemirror_mode": {
    "name": "ipython",
    "version": 3
   },
   "file_extension": ".py",
   "mimetype": "text/x-python",
   "name": "python",
   "nbconvert_exporter": "python",
   "pygments_lexer": "ipython3",
   "version": "3.10.9"
  }
 },
 "nbformat": 4,
 "nbformat_minor": 5
}
