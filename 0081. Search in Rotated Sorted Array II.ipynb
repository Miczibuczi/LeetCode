{
 "cells": [
  {
   "cell_type": "code",
   "execution_count": null,
   "id": "664c9854",
   "metadata": {},
   "outputs": [],
   "source": [
    "class Solution:\n",
    "    def search(self, nums: List[int], target: int) -> bool:\n",
    "        def helper(left, right):\n",
    "            while left <= right:\n",
    "                mid = (left+right)//2\n",
    "                if nums[mid] > target:\n",
    "                    if nums[right] > nums[mid]:\n",
    "                        right = mid-1\n",
    "                    elif nums[right] == nums[mid]:\n",
    "                        if nums[left] == nums[mid]:\n",
    "                            return helper(left+1, mid-1) or helper(mid+1, right-1)\n",
    "                        else:\n",
    "                            right = mid-1\n",
    "                    else:\n",
    "                        if nums[left] < target:\n",
    "                            right = mid-1\n",
    "                        elif nums[left] > target:\n",
    "                            left = mid+1\n",
    "                        else:\n",
    "                            return True\n",
    "                elif nums[mid] < target:\n",
    "                    if nums[left] < nums[mid]:\n",
    "                        left = mid+1\n",
    "                    elif nums[left] == nums[mid]:\n",
    "                        if nums[right] == nums[mid]:\n",
    "                            return helper(left+1, mid-1) or helper(mid+1, right-1)\n",
    "                        else:\n",
    "                            left = mid+1\n",
    "                    else:\n",
    "                        if nums[right] > target:\n",
    "                            left = mid+1\n",
    "                        elif nums[right] < target:\n",
    "                            right = mid-1\n",
    "                        else:\n",
    "                            return True\n",
    "                else:\n",
    "                    return True\n",
    "            return False\n",
    "        return helper(0, len(nums)-1)"
   ]
  }
 ],
 "metadata": {
  "kernelspec": {
   "display_name": "Python 3 (ipykernel)",
   "language": "python",
   "name": "python3"
  },
  "language_info": {
   "codemirror_mode": {
    "name": "ipython",
    "version": 3
   },
   "file_extension": ".py",
   "mimetype": "text/x-python",
   "name": "python",
   "nbconvert_exporter": "python",
   "pygments_lexer": "ipython3",
   "version": "3.10.9"
  }
 },
 "nbformat": 4,
 "nbformat_minor": 5
}
