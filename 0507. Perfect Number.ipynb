{
 "cells": [
  {
   "cell_type": "code",
   "execution_count": null,
   "id": "7019a440",
   "metadata": {},
   "outputs": [],
   "source": [
    "class Solution:\n",
    "    def checkPerfectNumber(self, num: int) -> bool:\n",
    "        if num == 1:\n",
    "            return False\n",
    "        divisors_sum = 1\n",
    "        n = 2\n",
    "        while n*n < num:\n",
    "            if num % n == 0:\n",
    "                divisors_sum += n\n",
    "                divisors_sum += (num//n)\n",
    "            n += 1\n",
    "        if n*n == num:\n",
    "            divisors_sum += n\n",
    "        return divisors_sum == num"
   ]
  }
 ],
 "metadata": {
  "kernelspec": {
   "display_name": "Python 3 (ipykernel)",
   "language": "python",
   "name": "python3"
  },
  "language_info": {
   "codemirror_mode": {
    "name": "ipython",
    "version": 3
   },
   "file_extension": ".py",
   "mimetype": "text/x-python",
   "name": "python",
   "nbconvert_exporter": "python",
   "pygments_lexer": "ipython3",
   "version": "3.9.13"
  }
 },
 "nbformat": 4,
 "nbformat_minor": 5
}
