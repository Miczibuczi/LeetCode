{
 "cells": [
  {
   "cell_type": "code",
   "execution_count": null,
   "id": "bd01827a",
   "metadata": {},
   "outputs": [],
   "source": [
    "import pandas as pd\n",
    "\n",
    "def last_passenger(queue: pd.DataFrame) -> pd.DataFrame:\n",
    "    queue.sort_values(by=\"turn\", inplace=True)\n",
    "    total = 0\n",
    "    last = \"\"\n",
    "    for row in queue[[\"person_name\", \"weight\"]].itertuples():\n",
    "        total += row.weight\n",
    "        if total > 1000:\n",
    "            return pd.DataFrame({\"person_name\":[last]})\n",
    "        else:\n",
    "            last = row.person_name\n",
    "    return pd.DataFrame({\"person_name\":[last]})"
   ]
  }
 ],
 "metadata": {
  "kernelspec": {
   "display_name": "Python 3 (ipykernel)",
   "language": "python",
   "name": "python3"
  },
  "language_info": {
   "codemirror_mode": {
    "name": "ipython",
    "version": 3
   },
   "file_extension": ".py",
   "mimetype": "text/x-python",
   "name": "python",
   "nbconvert_exporter": "python",
   "pygments_lexer": "ipython3",
   "version": "3.10.9"
  }
 },
 "nbformat": 4,
 "nbformat_minor": 5
}
