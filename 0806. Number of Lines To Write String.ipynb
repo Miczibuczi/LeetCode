{
 "cells": [
  {
   "cell_type": "code",
   "execution_count": null,
   "id": "aed5397f",
   "metadata": {},
   "outputs": [],
   "source": [
    "class Solution:\n",
    "    def numberOfLines(self, widths: List[int], s: str) -> List[int]:\n",
    "        line_count = 1\n",
    "        pixel_count = 0\n",
    "        for letter in s:\n",
    "            index = ord(letter)-ord(\"a\")\n",
    "            if pixel_count + widths[index] > 100:\n",
    "                pixel_count = widths[index]\n",
    "                line_count += 1\n",
    "            else:\n",
    "                pixel_count += widths[index]\n",
    "        return [line_count, pixel_count]"
   ]
  }
 ],
 "metadata": {
  "kernelspec": {
   "display_name": "Python 3 (ipykernel)",
   "language": "python",
   "name": "python3"
  },
  "language_info": {
   "codemirror_mode": {
    "name": "ipython",
    "version": 3
   },
   "file_extension": ".py",
   "mimetype": "text/x-python",
   "name": "python",
   "nbconvert_exporter": "python",
   "pygments_lexer": "ipython3",
   "version": "3.9.13"
  }
 },
 "nbformat": 4,
 "nbformat_minor": 5
}
