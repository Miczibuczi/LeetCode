{
 "cells": [
  {
   "cell_type": "code",
   "execution_count": null,
   "id": "f27a85a4",
   "metadata": {},
   "outputs": [],
   "source": [
    "class Solution:\n",
    "    def hIndex(self, citations: List[int]) -> int:\n",
    "        my_dictionary = collections.defaultdict(int)\n",
    "        for num in citations:\n",
    "            my_dictionary[num] += 1\n",
    "        \n",
    "        answer = 0\n",
    "        count = 0\n",
    "        for key in sorted(my_dictionary.keys(), reverse = True):\n",
    "            count += my_dictionary[key]\n",
    "            if count >= key:\n",
    "                return max(key, answer)\n",
    "            answer = count\n",
    "        return answer"
   ]
  }
 ],
 "metadata": {
  "kernelspec": {
   "display_name": "Python 3 (ipykernel)",
   "language": "python",
   "name": "python3"
  },
  "language_info": {
   "codemirror_mode": {
    "name": "ipython",
    "version": 3
   },
   "file_extension": ".py",
   "mimetype": "text/x-python",
   "name": "python",
   "nbconvert_exporter": "python",
   "pygments_lexer": "ipython3",
   "version": "3.9.13"
  }
 },
 "nbformat": 4,
 "nbformat_minor": 5
}
