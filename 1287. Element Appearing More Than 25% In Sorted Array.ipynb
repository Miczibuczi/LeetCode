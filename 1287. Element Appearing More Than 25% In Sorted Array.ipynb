{
 "cells": [
  {
   "cell_type": "code",
   "execution_count": null,
   "id": "ac316f7c",
   "metadata": {},
   "outputs": [],
   "source": [
    "class Solution:\n",
    "    def findSpecialInteger(self, arr: List[int]) -> int:\n",
    "        occ = 1\n",
    "        min_occ = (len(arr) // 4) + 1\n",
    "        for i in range(len(arr)):\n",
    "            if arr[i] == arr[i-1]:\n",
    "                occ += 1\n",
    "                if occ >= min_occ:\n",
    "                    return arr[i]\n",
    "            else:\n",
    "                occ = 1"
   ]
  }
 ],
 "metadata": {
  "kernelspec": {
   "display_name": "Python 3 (ipykernel)",
   "language": "python",
   "name": "python3"
  },
  "language_info": {
   "codemirror_mode": {
    "name": "ipython",
    "version": 3
   },
   "file_extension": ".py",
   "mimetype": "text/x-python",
   "name": "python",
   "nbconvert_exporter": "python",
   "pygments_lexer": "ipython3",
   "version": "3.9.13"
  }
 },
 "nbformat": 4,
 "nbformat_minor": 5
}
