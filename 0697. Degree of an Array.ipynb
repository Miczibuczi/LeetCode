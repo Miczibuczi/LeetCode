{
 "cells": [
  {
   "cell_type": "code",
   "execution_count": null,
   "id": "49970078",
   "metadata": {},
   "outputs": [],
   "source": [
    "class Solution:\n",
    "    def findShortestSubArray(self, nums: List[int]) -> int:\n",
    "        my_dictionary = {}\n",
    "        left_dictionary = {}\n",
    "        right_dictionary = {}\n",
    "        for i, num in enumerate(nums):\n",
    "            right_dictionary[num] = i\n",
    "            if num in my_dictionary:\n",
    "                my_dictionary[num] += 1\n",
    "            else:\n",
    "                my_dictionary[num] = 1\n",
    "                left_dictionary[num] = i\n",
    "\n",
    "        max_number = max(my_dictionary.values())\n",
    "        \n",
    "        find = []\n",
    "        for i in my_dictionary:\n",
    "            if my_dictionary[i] == max_number:\n",
    "                find.append(i)\n",
    "        \n",
    "        result = 10**5\n",
    "        for j in find:\n",
    "            if right_dictionary[j] - left_dictionary[j] < result:\n",
    "                result = right_dictionary[j] - left_dictionary[j]+1\n",
    "        \n",
    "        return result"
   ]
  },
  {
   "cell_type": "code",
   "execution_count": 8,
   "id": "133dac31",
   "metadata": {},
   "outputs": [],
   "source": [
    "# First answer, time inefficient\n",
    "class Solution:\n",
    "    def findShortestSubArray(self, nums: List[int]) -> int:\n",
    "        my_dictionary = {}\n",
    "        for num in nums:\n",
    "            if num in my_dictionary:\n",
    "                my_dictionary[num] += 1\n",
    "            else:\n",
    "                my_dictionary[num] = 1\n",
    "            \n",
    "        max_number = max(my_dictionary.values())\n",
    "        \n",
    "        find = []\n",
    "        for i in my_dictionary:\n",
    "            if my_dictionary[i] == max_number:\n",
    "                find.append(i)\n",
    "        \n",
    "        nums_max_index = len(nums)-1\n",
    "        result = 10**5\n",
    "        for j in find:\n",
    "            for i in range(len(nums)):\n",
    "                if nums[i] == j:\n",
    "                    start_position = i\n",
    "                    break\n",
    "            for i in range(len(nums)):\n",
    "                if nums[nums_max_index-i] == j:\n",
    "                    end_position = nums_max_index-i\n",
    "                    break\n",
    "            if end_position - start_position+1 < result:\n",
    "                result = end_position-start_position+1\n",
    "        \n",
    "        return result"
   ]
  }
 ],
 "metadata": {
  "kernelspec": {
   "display_name": "Python 3 (ipykernel)",
   "language": "python",
   "name": "python3"
  },
  "language_info": {
   "codemirror_mode": {
    "name": "ipython",
    "version": 3
   },
   "file_extension": ".py",
   "mimetype": "text/x-python",
   "name": "python",
   "nbconvert_exporter": "python",
   "pygments_lexer": "ipython3",
   "version": "3.9.13"
  }
 },
 "nbformat": 4,
 "nbformat_minor": 5
}
