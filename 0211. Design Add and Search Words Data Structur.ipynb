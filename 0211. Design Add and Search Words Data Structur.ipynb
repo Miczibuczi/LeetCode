{
 "cells": [
  {
   "cell_type": "code",
   "execution_count": null,
   "id": "41bf9da0",
   "metadata": {},
   "outputs": [],
   "source": [
    "class WordDictionary:\n",
    "    def __init__(self):\n",
    "        self.seen = {}\n",
    "\n",
    "    def addWord(self, word: str) -> None:\n",
    "        cur = self.seen\n",
    "        for letter in word:\n",
    "            if letter in cur:\n",
    "                cur = cur[letter]\n",
    "            else:\n",
    "                cur[letter] = {}\n",
    "                cur = cur[letter]\n",
    "        cur[None] = {}\n",
    "\n",
    "    def search(self, word: str) -> bool:\n",
    "        stack = [self.seen]\n",
    "        for letter in word:\n",
    "            new_stack = []\n",
    "            while stack:\n",
    "                cur = stack.pop()\n",
    "                if letter == \".\":\n",
    "                    for key in cur.keys():\n",
    "                        new_stack.append(cur[key])\n",
    "                else:\n",
    "                    if letter in cur:\n",
    "                        new_stack.append(cur[letter])\n",
    "            stack = new_stack\n",
    "        for i in stack:\n",
    "            if None in i:\n",
    "                return True\n",
    "        return False\n",
    "\n",
    "# Your WordDictionary object will be instantiated and called as such:\n",
    "# obj = WordDictionary()\n",
    "# obj.addWord(word)\n",
    "# param_2 = obj.search(word)"
   ]
  }
 ],
 "metadata": {
  "kernelspec": {
   "display_name": "Python 3 (ipykernel)",
   "language": "python",
   "name": "python3"
  },
  "language_info": {
   "codemirror_mode": {
    "name": "ipython",
    "version": 3
   },
   "file_extension": ".py",
   "mimetype": "text/x-python",
   "name": "python",
   "nbconvert_exporter": "python",
   "pygments_lexer": "ipython3",
   "version": "3.9.13"
  }
 },
 "nbformat": 4,
 "nbformat_minor": 5
}
