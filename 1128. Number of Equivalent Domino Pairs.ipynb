{
 "cells": [
  {
   "cell_type": "code",
   "execution_count": null,
   "id": "8e6683ae",
   "metadata": {},
   "outputs": [],
   "source": [
    "from collections import defaultdict\n",
    "class Solution:\n",
    "    def numEquivDominoPairs(self, dominoes: List[List[int]]) -> int:\n",
    "        for i, dom in enumerate(dominoes):\n",
    "            dominoes[i] = tuple(sorted(dom))\n",
    "        my_dictionary = defaultdict(int)\n",
    "        for dom in dominoes:\n",
    "            my_dictionary[dom] += 1\n",
    "\n",
    "        answer = 0\n",
    "        for i in my_dictionary.values():\n",
    "            while i > 1:\n",
    "                answer += (i-1)\n",
    "                i -= 1\n",
    "        return answer"
   ]
  },
  {
   "cell_type": "code",
   "execution_count": 6,
   "id": "0f694569",
   "metadata": {},
   "outputs": [],
   "source": [
    "# First answer, a little bit less time efficient\n",
    "class Solution:\n",
    "    def numEquivDominoPairs(self, dominoes: List[List[int]]) -> int:\n",
    "        my_dictionary = {}\n",
    "        for i in range(len(dominoes)):\n",
    "            if tuple(dominoes[i]) in my_dictionary:\n",
    "                my_dictionary[tuple(dominoes[i])] += 1\n",
    "            elif tuple(dominoes[i][::-1]) in my_dictionary:\n",
    "                my_dictionary[tuple(dominoes[i][::-1])] += 1\n",
    "            else:\n",
    "                my_dictionary[tuple(dominoes[i])] = 1\n",
    "        answer = 0\n",
    "        for i in my_dictionary.values():\n",
    "            while i > 1:\n",
    "                answer += (i-1)\n",
    "                i -= 1\n",
    "        return answer"
   ]
  }
 ],
 "metadata": {
  "kernelspec": {
   "display_name": "Python 3 (ipykernel)",
   "language": "python",
   "name": "python3"
  },
  "language_info": {
   "codemirror_mode": {
    "name": "ipython",
    "version": 3
   },
   "file_extension": ".py",
   "mimetype": "text/x-python",
   "name": "python",
   "nbconvert_exporter": "python",
   "pygments_lexer": "ipython3",
   "version": "3.9.13"
  }
 },
 "nbformat": 4,
 "nbformat_minor": 5
}
