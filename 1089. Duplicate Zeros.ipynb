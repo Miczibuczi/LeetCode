{
 "cells": [
  {
   "cell_type": "code",
   "execution_count": 20,
   "id": "0ba5586e",
   "metadata": {},
   "outputs": [],
   "source": [
    "class Solution:\n",
    "    def duplicateZeros(self, arr: List[int]) -> None:\n",
    "        \"\"\"\n",
    "        Do not return anything, modify arr in-place instead.\n",
    "        \"\"\"\n",
    "        len_arr = len(arr)\n",
    "        pointer1 = len_arr-1\n",
    "        count = 0\n",
    "        i = -1\n",
    "        while count < len_arr:\n",
    "            i += 1\n",
    "            if arr[i] == 0:\n",
    "                count +=1\n",
    "            count +=1\n",
    "        pointer2 = i\n",
    "        if count != len_arr:\n",
    "            arr[pointer1] = arr[pointer2]\n",
    "            pointer1 -= 1\n",
    "            pointer2 -= 1\n",
    "\n",
    "        while pointer2 >= 0:\n",
    "            if arr[pointer2] == 0:\n",
    "                arr[pointer1] = arr[pointer2]\n",
    "                pointer1 -= 1\n",
    "            arr[pointer1] = arr[pointer2]\n",
    "            pointer1 -= 1\n",
    "            pointer2 -= 1"
   ]
  },
  {
   "cell_type": "code",
   "execution_count": null,
   "id": "04eded0d",
   "metadata": {},
   "outputs": [],
   "source": [
    "# First solution, but it's not in-place\n",
    "class Solution:\n",
    "    def duplicateZeros(self, arr: List[int]) -> None:\n",
    "        \"\"\"\n",
    "        Do not return anything, modify arr in-place instead.\n",
    "        \"\"\"\n",
    "        pointer = 0\n",
    "        while pointer < len(arr):\n",
    "            if arr[pointer] == 0:\n",
    "                arr.insert(pointer, 0)\n",
    "                pointer += 1\n",
    "                arr.pop()\n",
    "            pointer += 1"
   ]
  }
 ],
 "metadata": {
  "kernelspec": {
   "display_name": "Python 3 (ipykernel)",
   "language": "python",
   "name": "python3"
  },
  "language_info": {
   "codemirror_mode": {
    "name": "ipython",
    "version": 3
   },
   "file_extension": ".py",
   "mimetype": "text/x-python",
   "name": "python",
   "nbconvert_exporter": "python",
   "pygments_lexer": "ipython3",
   "version": "3.9.13"
  }
 },
 "nbformat": 4,
 "nbformat_minor": 5
}
