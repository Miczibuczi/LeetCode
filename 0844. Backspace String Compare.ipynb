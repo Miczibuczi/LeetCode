{
 "cells": [
  {
   "cell_type": "code",
   "execution_count": null,
   "id": "9464f1c3",
   "metadata": {},
   "outputs": [],
   "source": [
    "class Solution:\n",
    "    def backspaceCompare(self, s: str, t: str) -> bool:\n",
    "        new_s = \"\"\n",
    "        new_t = \"\"\n",
    "        for letter in s:\n",
    "            if letter == \"#\":\n",
    "                new_s = new_s[:-1]\n",
    "            else:\n",
    "                new_s += letter\n",
    "        for letter in t:\n",
    "            if letter == \"#\":\n",
    "                new_t = new_t[:-1]\n",
    "            else:\n",
    "                new_t += letter\n",
    "        return new_s == new_t"
   ]
  }
 ],
 "metadata": {
  "kernelspec": {
   "display_name": "Python 3 (ipykernel)",
   "language": "python",
   "name": "python3"
  },
  "language_info": {
   "codemirror_mode": {
    "name": "ipython",
    "version": 3
   },
   "file_extension": ".py",
   "mimetype": "text/x-python",
   "name": "python",
   "nbconvert_exporter": "python",
   "pygments_lexer": "ipython3",
   "version": "3.9.13"
  }
 },
 "nbformat": 4,
 "nbformat_minor": 5
}
