{
 "cells": [
  {
   "cell_type": "code",
   "execution_count": null,
   "id": "f0949be1",
   "metadata": {},
   "outputs": [],
   "source": [
    "class NumArray:\n",
    "\n",
    "    def __init__(self, nums: List[int]):\n",
    "        self.old = nums\n",
    "        self.nums = []\n",
    "        cur_sum = 0\n",
    "        for num in nums:\n",
    "            cur_sum += num\n",
    "            self.nums.append(cur_sum)\n",
    "        self.changes = dict()\n",
    "        \n",
    "\n",
    "    def update(self, index: int, val: int) -> None:\n",
    "        if index in self.changes:\n",
    "            self.changes[index] += val-self.old[index]\n",
    "        else:\n",
    "            self.changes[index] = val-self.old[index]\n",
    "        self.old[index] = val\n",
    "        if len(self.changes) > 240:\n",
    "            cur = 0\n",
    "            for i, num in enumerate(self.nums):\n",
    "                if i in self.changes:\n",
    "                    cur += self.changes[i]\n",
    "                self.nums[i] += cur\n",
    "            self.changes = dict()\n",
    "\n",
    "    def sumRange(self, left: int, right: int) -> int:\n",
    "        ans = self.nums[right]\n",
    "        if left != 0:\n",
    "            ans -= self.nums[left-1]\n",
    "        for change in self.changes:\n",
    "            if left <= change <= right:\n",
    "                ans += self.changes[change]\n",
    "        return ans\n",
    "\n",
    "\n",
    "\n",
    "# Your NumArray object will be instantiated and called as such:\n",
    "# obj = NumArray(nums)\n",
    "# obj.update(index,val)\n",
    "# param_2 = obj.sumRange(left,right)"
   ]
  }
 ],
 "metadata": {
  "kernelspec": {
   "display_name": "Python 3 (ipykernel)",
   "language": "python",
   "name": "python3"
  },
  "language_info": {
   "codemirror_mode": {
    "name": "ipython",
    "version": 3
   },
   "file_extension": ".py",
   "mimetype": "text/x-python",
   "name": "python",
   "nbconvert_exporter": "python",
   "pygments_lexer": "ipython3",
   "version": "3.10.9"
  }
 },
 "nbformat": 4,
 "nbformat_minor": 5
}
