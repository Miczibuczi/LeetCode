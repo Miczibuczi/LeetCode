{
 "cells": [
  {
   "cell_type": "code",
   "execution_count": null,
   "id": "a608530d",
   "metadata": {},
   "outputs": [],
   "source": [
    "# Final answer, 35ms, beats 98,74% other answers\n",
    "class Solution:\n",
    "    def numberOfSubarrays(self, nums: List[int], k: int) -> int:\n",
    "        even_count = []\n",
    "        cur_count = 0\n",
    "        for num in nums:\n",
    "            if num % 2 == 0:\n",
    "                cur_count += 1\n",
    "            else:\n",
    "                even_count.append(cur_count)\n",
    "                cur_count = 0\n",
    "        even_count.append(cur_count)\n",
    "\n",
    "        pointer = 0\n",
    "        ans = 0\n",
    "        while pointer + k < len(even_count):\n",
    "            ans += (even_count[pointer]+1) * (even_count[pointer+k]+1)\n",
    "            pointer += 1\n",
    "        return ans"
   ]
  },
  {
   "cell_type": "code",
   "execution_count": null,
   "id": "6007b762",
   "metadata": {},
   "outputs": [],
   "source": [
    "# First answer, 198ms, very slow\n",
    "class Solution:\n",
    "    def numberOfSubarrays(self, nums: List[int], k: int) -> int:\n",
    "        ans = 0\n",
    "        pointer_left = 0\n",
    "        pointer_right = 0\n",
    "        even_count = 0\n",
    "        even_in_a_row = []\n",
    "\n",
    "        while pointer_right < len(nums):\n",
    "            if k > 0:\n",
    "                if nums[pointer_right] % 2 == 1:\n",
    "                    k -= 1\n",
    "                    even_in_a_row.append(even_count)\n",
    "                    even_count = 0\n",
    "                else:\n",
    "                    even_count += 1\n",
    "                pointer_right += 1\n",
    "            elif k == 0:\n",
    "                if nums[pointer_right] % 2 == 1:\n",
    "                    ans += (1+even_in_a_row.pop(0))*(even_count+1)\n",
    "                    while nums[pointer_left] % 2 == 0:\n",
    "                        pointer_left += 1\n",
    "                    pointer_left += 1\n",
    "                    k += 1\n",
    "                else:\n",
    "                    even_count += 1\n",
    "                    pointer_right += 1\n",
    "        if not even_in_a_row:\n",
    "            return 0\n",
    "        if k == 0:\n",
    "            ans += (1+even_in_a_row.pop(0))*(even_count+1)\n",
    "        return ans"
   ]
  }
 ],
 "metadata": {
  "kernelspec": {
   "display_name": "Python 3 (ipykernel)",
   "language": "python",
   "name": "python3"
  },
  "language_info": {
   "codemirror_mode": {
    "name": "ipython",
    "version": 3
   },
   "file_extension": ".py",
   "mimetype": "text/x-python",
   "name": "python",
   "nbconvert_exporter": "python",
   "pygments_lexer": "ipython3",
   "version": "3.10.9"
  }
 },
 "nbformat": 4,
 "nbformat_minor": 5
}
