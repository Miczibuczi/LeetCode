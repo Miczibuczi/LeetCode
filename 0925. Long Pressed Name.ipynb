{
 "cells": [
  {
   "cell_type": "code",
   "execution_count": null,
   "id": "7498081f",
   "metadata": {},
   "outputs": [],
   "source": [
    "class Solution:\n",
    "    def isLongPressedName(self, name: str, typed: str) -> bool:\n",
    "        pointer = 0\n",
    "        for i in range(len(typed)):\n",
    "            if pointer == len(name):\n",
    "                if typed[i] == name[pointer-1]:\n",
    "                    continue\n",
    "                else:\n",
    "                    return False\n",
    "            elif typed[i] == name[pointer]:\n",
    "                    pointer += 1\n",
    "            elif typed[i] == name[pointer-1:pointer]:\n",
    "                continue\n",
    "            else:\n",
    "                return False\n",
    "        return not name[pointer:]"
   ]
  }
 ],
 "metadata": {
  "kernelspec": {
   "display_name": "Python 3 (ipykernel)",
   "language": "python",
   "name": "python3"
  },
  "language_info": {
   "codemirror_mode": {
    "name": "ipython",
    "version": 3
   },
   "file_extension": ".py",
   "mimetype": "text/x-python",
   "name": "python",
   "nbconvert_exporter": "python",
   "pygments_lexer": "ipython3",
   "version": "3.9.13"
  }
 },
 "nbformat": 4,
 "nbformat_minor": 5
}
