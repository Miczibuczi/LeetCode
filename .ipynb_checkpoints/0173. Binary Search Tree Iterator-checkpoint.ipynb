{
 "cells": [
  {
   "cell_type": "code",
   "execution_count": null,
   "id": "f31fb25a",
   "metadata": {},
   "outputs": [],
   "source": [
    "# Definition for a binary tree node.\n",
    "# class TreeNode:\n",
    "#     def __init__(self, val=0, left=None, right=None):\n",
    "#         self.val = val\n",
    "#         self.left = left\n",
    "#         self.right = right\n",
    "class BSTIterator:\n",
    "\n",
    "    def __init__(self, root: Optional[TreeNode]):\n",
    "        self.node = root\n",
    "        self.stack = []\n",
    "        while self.node.left:\n",
    "            self.stack.append(self.node)\n",
    "            self.node = self.node.left\n",
    "        self.node = TreeNode(val = \"-inf\", right = self.node)\n",
    "\n",
    "    def next(self) -> int:\n",
    "        if self.node.right:\n",
    "            self.node = self.node.right\n",
    "            while self.node.left:\n",
    "                self.stack.append(self.node)\n",
    "                self.node = self.node.left\n",
    "            return self.node.val\n",
    "        else:\n",
    "            self.node = self.stack.pop()\n",
    "            return self.node.val\n",
    "\n",
    "    def hasNext(self) -> bool:\n",
    "        if self.stack or self.node.right:\n",
    "            return True\n",
    "        else:\n",
    "            return False\n",
    "\n",
    "\n",
    "# Your BSTIterator object will be instantiated and called as such:\n",
    "# obj = BSTIterator(root)\n",
    "# param_1 = obj.next()\n",
    "# param_2 = obj.hasNext()"
   ]
  }
 ],
 "metadata": {
  "kernelspec": {
   "display_name": "Python 3 (ipykernel)",
   "language": "python",
   "name": "python3"
  },
  "language_info": {
   "codemirror_mode": {
    "name": "ipython",
    "version": 3
   },
   "file_extension": ".py",
   "mimetype": "text/x-python",
   "name": "python",
   "nbconvert_exporter": "python",
   "pygments_lexer": "ipython3",
   "version": "3.9.13"
  }
 },
 "nbformat": 4,
 "nbformat_minor": 5
}
