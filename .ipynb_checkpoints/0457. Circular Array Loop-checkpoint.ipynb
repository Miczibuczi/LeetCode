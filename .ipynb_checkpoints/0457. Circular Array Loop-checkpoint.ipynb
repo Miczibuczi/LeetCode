{
 "cells": [
  {
   "cell_type": "code",
   "execution_count": null,
   "id": "519dd011",
   "metadata": {},
   "outputs": [],
   "source": [
    "class Solution:\n",
    "    def circularArrayLoop(self, nums: List[int]) -> bool:\n",
    "        to_check = set(i for i in range(len(nums)))\n",
    "        while to_check:\n",
    "            seen = set()\n",
    "            seen_list = list()\n",
    "            indx = to_check.pop()\n",
    "            while indx not in seen:\n",
    "                seen.add(indx)\n",
    "                seen_list.append(indx)\n",
    "                num = nums[indx]\n",
    "                indx = (indx+num)%len(nums)\n",
    "            to_check -= seen\n",
    "            indx_indx = seen_list.index(indx)\n",
    "            loop = seen_list[indx_indx:]\n",
    "            if len(loop) > 1:\n",
    "                if all(nums[x]>0 for x in loop) or all(nums[x]<0 for x in loop):\n",
    "                    return True\n",
    "        return False"
   ]
  }
 ],
 "metadata": {
  "kernelspec": {
   "display_name": "Python 3 (ipykernel)",
   "language": "python",
   "name": "python3"
  },
  "language_info": {
   "codemirror_mode": {
    "name": "ipython",
    "version": 3
   },
   "file_extension": ".py",
   "mimetype": "text/x-python",
   "name": "python",
   "nbconvert_exporter": "python",
   "pygments_lexer": "ipython3",
   "version": "3.10.9"
  }
 },
 "nbformat": 4,
 "nbformat_minor": 5
}
