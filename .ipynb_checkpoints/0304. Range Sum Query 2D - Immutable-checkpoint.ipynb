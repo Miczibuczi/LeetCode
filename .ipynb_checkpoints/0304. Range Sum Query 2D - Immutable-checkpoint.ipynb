{
 "cells": [
  {
   "cell_type": "code",
   "execution_count": null,
   "id": "57e23a79",
   "metadata": {},
   "outputs": [],
   "source": [
    "class NumMatrix:\n",
    "\n",
    "    def __init__(self, matrix: List[List[int]]):\n",
    "        self.new_matrix = matrix\n",
    "        for i in range(1, len(matrix)):\n",
    "            self.new_matrix[i][0] = self.new_matrix[i-1][0]+self.new_matrix[i][0]\n",
    "        for j in range(1, len(matrix[0])):\n",
    "            self.new_matrix[0][j] = self.new_matrix[0][j-1]+self.new_matrix[0][j]\n",
    "        for i in range(1, len(matrix)):\n",
    "            for j in range(1, len(matrix[0])):\n",
    "                self.new_matrix[i][j] += self.new_matrix[i-1][j]+self.new_matrix[i][j-1]-self.new_matrix[i-1][j-1]\n",
    "        print(self.new_matrix)\n",
    "\n",
    "    def sumRegion(self, row1: int, col1: int, row2: int, col2: int) -> int:\n",
    "        ans = self.new_matrix[row2][col2]\n",
    "        if col1 > 0:\n",
    "            ans -= self.new_matrix[row2][col1-1]\n",
    "        if row1 > 0:\n",
    "            ans -= self.new_matrix[row1-1][col2]\n",
    "        if col1 > 0 and row1 > 0:\n",
    "            ans += self.new_matrix[row1-1][col1-1]\n",
    "        return ans\n",
    "\n",
    "# Your NumMatrix object will be instantiated and called as such:\n",
    "# obj = NumMatrix(matrix)\n",
    "# param_1 = obj.sumRegion(row1,col1,row2,col2)"
   ]
  }
 ],
 "metadata": {
  "kernelspec": {
   "display_name": "Python 3 (ipykernel)",
   "language": "python",
   "name": "python3"
  },
  "language_info": {
   "codemirror_mode": {
    "name": "ipython",
    "version": 3
   },
   "file_extension": ".py",
   "mimetype": "text/x-python",
   "name": "python",
   "nbconvert_exporter": "python",
   "pygments_lexer": "ipython3",
   "version": "3.10.9"
  }
 },
 "nbformat": 4,
 "nbformat_minor": 5
}
