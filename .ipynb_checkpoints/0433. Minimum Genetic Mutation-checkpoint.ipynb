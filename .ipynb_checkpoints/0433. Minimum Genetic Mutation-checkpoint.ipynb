{
 "cells": [
  {
   "cell_type": "code",
   "execution_count": null,
   "id": "825c06df",
   "metadata": {},
   "outputs": [],
   "source": [
    "class Solution:\n",
    "    def minMutation(self, startGene: str, endGene: str, bank: List[str]) -> int:\n",
    "        bank = set(bank)\n",
    "        mutations = deque([(startGene, 0)])\n",
    "        while mutations:\n",
    "            x = mutations.popleft()\n",
    "            gene, iteration = x\n",
    "            for i in range(8):\n",
    "                for letter in \"ACGT\":\n",
    "                    new_gen = gene[:i]+letter+gene[i+1:]\n",
    "                    if new_gen in bank:\n",
    "                        if new_gen == endGene:\n",
    "                            return iteration+1\n",
    "                        else:\n",
    "                            mutations.append((new_gen, iteration+1))\n",
    "                            bank.remove(new_gen)\n",
    "        return -1"
   ]
  }
 ],
 "metadata": {
  "kernelspec": {
   "display_name": "Python 3 (ipykernel)",
   "language": "python",
   "name": "python3"
  },
  "language_info": {
   "codemirror_mode": {
    "name": "ipython",
    "version": 3
   },
   "file_extension": ".py",
   "mimetype": "text/x-python",
   "name": "python",
   "nbconvert_exporter": "python",
   "pygments_lexer": "ipython3",
   "version": "3.10.9"
  }
 },
 "nbformat": 4,
 "nbformat_minor": 5
}
