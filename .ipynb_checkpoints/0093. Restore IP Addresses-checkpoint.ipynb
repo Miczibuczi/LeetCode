{
 "cells": [
  {
   "cell_type": "code",
   "execution_count": null,
   "id": "74905803",
   "metadata": {},
   "outputs": [],
   "source": [
    "class Solution:\n",
    "    def restoreIpAddresses(self, s: str) -> List[str]:\n",
    "        def helper(start, cur_num, cur_ans, iterations):\n",
    "            if start == len(s):\n",
    "                return\n",
    "            elif iterations == 0:\n",
    "                if 0<=int(s[start:])<256:\n",
    "                    if s[start:] == \"0\" or s[start] != \"0\":\n",
    "                        ans.append(cur_ans+s[start:])\n",
    "            else:\n",
    "                if cur_num == \"0\":\n",
    "                    helper(start, \"\", cur_ans+\"0\"+\".\", iterations-1)\n",
    "                else:\n",
    "                    i = 0\n",
    "                    while start+i<len(s):\n",
    "                        cur_num += s[start+i]\n",
    "                        if 0 <= int(cur_num) < 256 and (cur_num == \"0\" or cur_num[0] != \"0\"):\n",
    "                            helper(start+1+i, \"\", cur_ans+cur_num+\".\", iterations-1)\n",
    "                            i+=1\n",
    "                        else:\n",
    "                            break\n",
    "        ans = []\n",
    "        helper(0, \"\", \"\", 3)\n",
    "        return ans"
   ]
  }
 ],
 "metadata": {
  "kernelspec": {
   "display_name": "Python 3 (ipykernel)",
   "language": "python",
   "name": "python3"
  },
  "language_info": {
   "codemirror_mode": {
    "name": "ipython",
    "version": 3
   },
   "file_extension": ".py",
   "mimetype": "text/x-python",
   "name": "python",
   "nbconvert_exporter": "python",
   "pygments_lexer": "ipython3",
   "version": "3.10.9"
  }
 },
 "nbformat": 4,
 "nbformat_minor": 5
}
