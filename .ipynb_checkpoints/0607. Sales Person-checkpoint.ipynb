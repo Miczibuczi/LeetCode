{
 "cells": [
  {
   "cell_type": "code",
   "execution_count": null,
   "id": "54e069d7",
   "metadata": {},
   "outputs": [],
   "source": [
    "import pandas as pd\n",
    "\n",
    "def sales_person(sales_person: pd.DataFrame, company: pd.DataFrame, orders: pd.DataFrame) -> pd.DataFrame:\n",
    "    red_id = company.loc[company[\"name\"]==\"RED\", \"com_id\"]\n",
    "    if red_id.any():\n",
    "        red_id = red_id.values[0]\n",
    "    else:\n",
    "        return sales_person[[\"name\"]]\n",
    "    orders = orders[orders[\"com_id\"] == red_id]\n",
    "    sales_person = sales_person[~sales_person[\"sales_id\"].isin(orders[\"sales_id\"])]\n",
    "    return sales_person[[\"name\"]]"
   ]
  }
 ],
 "metadata": {
  "kernelspec": {
   "display_name": "Python 3 (ipykernel)",
   "language": "python",
   "name": "python3"
  },
  "language_info": {
   "codemirror_mode": {
    "name": "ipython",
    "version": 3
   },
   "file_extension": ".py",
   "mimetype": "text/x-python",
   "name": "python",
   "nbconvert_exporter": "python",
   "pygments_lexer": "ipython3",
   "version": "3.10.9"
  }
 },
 "nbformat": 4,
 "nbformat_minor": 5
}
