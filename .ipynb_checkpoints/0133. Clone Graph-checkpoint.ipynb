{
 "cells": [
  {
   "cell_type": "code",
   "execution_count": null,
   "id": "6f62bd9b",
   "metadata": {},
   "outputs": [],
   "source": [
    "\"\"\"\n",
    "# Definition for a Node.\n",
    "class Node:\n",
    "    def __init__(self, val = 0, neighbors = None):\n",
    "        self.val = val\n",
    "        self.neighbors = neighbors if neighbors is not None else []\n",
    "\"\"\"\n",
    "\n",
    "class Solution:\n",
    "    def cloneGraph(self, node: 'Node') -> 'Node':\n",
    "        def check_neighbors(node):\n",
    "            for neighbor in node.neighbors:\n",
    "                if neighbor.val not in seen:\n",
    "                    seen.add(neighbor.val)\n",
    "                    my_dictionary[neighbor.val] = Node(neighbor.val)\n",
    "                    check_neighbors(neighbor)\n",
    "                my_dictionary[node.val].neighbors.append(my_dictionary[neighbor.val])\n",
    "\n",
    "\n",
    "        if not node:\n",
    "            return None\n",
    "        seen = set()\n",
    "        my_dictionary = {}\n",
    "        seen.add(node.val)\n",
    "        my_dictionary[node.val]= Node(node.val)\n",
    "        ans = my_dictionary[node.val]\n",
    "        check_neighbors(node)\n",
    "        return ans"
   ]
  }
 ],
 "metadata": {
  "kernelspec": {
   "display_name": "Python 3 (ipykernel)",
   "language": "python",
   "name": "python3"
  },
  "language_info": {
   "codemirror_mode": {
    "name": "ipython",
    "version": 3
   },
   "file_extension": ".py",
   "mimetype": "text/x-python",
   "name": "python",
   "nbconvert_exporter": "python",
   "pygments_lexer": "ipython3",
   "version": "3.10.9"
  }
 },
 "nbformat": 4,
 "nbformat_minor": 5
}
