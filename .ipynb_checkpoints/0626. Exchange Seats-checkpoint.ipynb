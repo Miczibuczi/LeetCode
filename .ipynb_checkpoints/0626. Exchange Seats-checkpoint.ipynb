{
 "cells": [
  {
   "cell_type": "code",
   "execution_count": null,
   "id": "b3f209d6",
   "metadata": {},
   "outputs": [],
   "source": [
    "import pandas as pd\n",
    "\n",
    "def exchange_seats(seat: pd.DataFrame) -> pd.DataFrame:\n",
    "    i = 1\n",
    "    ans = []\n",
    "    for student in seat[\"student\"]:\n",
    "        if i % 2 == 1:\n",
    "            memo = student\n",
    "        else:\n",
    "            ans.append(student)\n",
    "            ans.append(memo)\n",
    "        i+=1\n",
    "    if i % 2 == 0:\n",
    "        ans.append(memo)\n",
    "    seat[\"student\"] = pd.Series(ans)\n",
    "    return seat"
   ]
  }
 ],
 "metadata": {
  "kernelspec": {
   "display_name": "Python 3 (ipykernel)",
   "language": "python",
   "name": "python3"
  },
  "language_info": {
   "codemirror_mode": {
    "name": "ipython",
    "version": 3
   },
   "file_extension": ".py",
   "mimetype": "text/x-python",
   "name": "python",
   "nbconvert_exporter": "python",
   "pygments_lexer": "ipython3",
   "version": "3.10.9"
  }
 },
 "nbformat": 4,
 "nbformat_minor": 5
}
