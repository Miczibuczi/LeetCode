{
 "cells": [
  {
   "cell_type": "code",
   "execution_count": null,
   "id": "533b4ad8",
   "metadata": {},
   "outputs": [],
   "source": [
    "class Solution:\n",
    "    def isAdditiveNumber(self, num: str) -> bool:\n",
    "        def helper(first, second, cur_num):\n",
    "            if cur_num[0] == \"0\" and second != 0:\n",
    "                return False\n",
    "            cur_sum = first + second\n",
    "            for i in range(1, len(cur_num)+1):\n",
    "                if int(cur_num[:i]) > cur_sum:\n",
    "                    return False\n",
    "                elif int(cur_num[:i]) == cur_sum:\n",
    "                    if i == len(cur_num):\n",
    "                        return True\n",
    "                    elif helper(second, int(cur_num[:i]), cur_num[i:]):\n",
    "                        return True\n",
    "            return False\n",
    "\n",
    "        for i in range(1, len(num)-1):\n",
    "            first = num[:i]\n",
    "            if first[0] == \"0\" and first[-1] != \"0\":\n",
    "                break\n",
    "            else:\n",
    "                first = int(first)\n",
    "            for j in range(i+1, len(num)):\n",
    "                second = num[i:j]\n",
    "                if second[0] == \"0\" and second[-1] != \"0\":\n",
    "                    break\n",
    "                else:\n",
    "                    second = int(second)\n",
    "                if helper(first, second, num[j:]):\n",
    "                    return True\n",
    "        return False"
   ]
  }
 ],
 "metadata": {
  "kernelspec": {
   "display_name": "Python 3 (ipykernel)",
   "language": "python",
   "name": "python3"
  },
  "language_info": {
   "codemirror_mode": {
    "name": "ipython",
    "version": 3
   },
   "file_extension": ".py",
   "mimetype": "text/x-python",
   "name": "python",
   "nbconvert_exporter": "python",
   "pygments_lexer": "ipython3",
   "version": "3.10.9"
  }
 },
 "nbformat": 4,
 "nbformat_minor": 5
}
