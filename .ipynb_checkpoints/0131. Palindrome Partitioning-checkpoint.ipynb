{
 "cells": [
  {
   "cell_type": "code",
   "execution_count": null,
   "id": "9c1bec66",
   "metadata": {},
   "outputs": [],
   "source": [
    "class Solution:\n",
    "    def partition(self, s: str) -> List[List[str]]:\n",
    "        def helper(cur_ans, string):\n",
    "            for i in range(1, len(string)+1):\n",
    "                if string[:i] == string[i-1::-1]:\n",
    "                    if i == len(string):\n",
    "                        ans.append(cur_ans+[string])\n",
    "                    else:\n",
    "                        helper(cur_ans+[string[:i]], string[i:])\n",
    "        ans = []\n",
    "        helper([], s)\n",
    "        return ans"
   ]
  }
 ],
 "metadata": {
  "kernelspec": {
   "display_name": "Python 3 (ipykernel)",
   "language": "python",
   "name": "python3"
  },
  "language_info": {
   "codemirror_mode": {
    "name": "ipython",
    "version": 3
   },
   "file_extension": ".py",
   "mimetype": "text/x-python",
   "name": "python",
   "nbconvert_exporter": "python",
   "pygments_lexer": "ipython3",
   "version": "3.10.9"
  }
 },
 "nbformat": 4,
 "nbformat_minor": 5
}
