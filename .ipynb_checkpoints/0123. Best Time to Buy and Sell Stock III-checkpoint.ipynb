{
 "cells": [
  {
   "cell_type": "code",
   "execution_count": null,
   "id": "35c1a628",
   "metadata": {},
   "outputs": [],
   "source": [
    "class Solution:\n",
    "    def maxProfit(self, prices: List[int]) -> int:\n",
    "        one_best = [0, 0, 0]\n",
    "        two_bests = [[0, 0, 0], [0, 0, 0]]\n",
    "        short_min = 0\n",
    "        long_min = 0\n",
    "        for i in range(1, len(prices)):\n",
    "            if prices[i] <= prices[long_min]:\n",
    "                short_min = i\n",
    "                long_min = i\n",
    "            elif prices[i] < prices[short_min]:\n",
    "                    short_min = i\n",
    "            else:\n",
    "                new_profit = prices[i]-prices[short_min]\n",
    "                if prices[i] > prices[two_bests[1][1]]:\n",
    "                    two_bests[1][2] += prices[i] - prices[two_bests[1][1]]\n",
    "                    two_bests[1][1] = i\n",
    "                if one_best[1] < short_min:\n",
    "                    if one_best[2]+new_profit > two_bests[0][2]+two_bests[1][2]:\n",
    "                        two_bests = [one_best, [long_min, i, new_profit]]\n",
    "                if prices[i] - prices[long_min] > one_best[2]:\n",
    "                    one_best = [long_min, i, prices[i] - prices[long_min]]\n",
    "                    short_min = i\n",
    "        return max(one_best[2], two_bests[0][2]+two_bests[1][2])"
   ]
  }
 ],
 "metadata": {
  "kernelspec": {
   "display_name": "Python 3 (ipykernel)",
   "language": "python",
   "name": "python3"
  },
  "language_info": {
   "codemirror_mode": {
    "name": "ipython",
    "version": 3
   },
   "file_extension": ".py",
   "mimetype": "text/x-python",
   "name": "python",
   "nbconvert_exporter": "python",
   "pygments_lexer": "ipython3",
   "version": "3.10.9"
  }
 },
 "nbformat": 4,
 "nbformat_minor": 5
}
