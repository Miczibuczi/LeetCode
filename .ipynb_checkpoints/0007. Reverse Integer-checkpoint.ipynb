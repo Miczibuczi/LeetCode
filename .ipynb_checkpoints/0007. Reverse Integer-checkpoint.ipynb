{
 "cells": [
  {
   "cell_type": "code",
   "execution_count": null,
   "id": "9ba0cdac",
   "metadata": {},
   "outputs": [],
   "source": [
    "class Solution:\n",
    "    def reverse(self, x: int) -> int:\n",
    "        if x < 0:\n",
    "            x *= (-1)\n",
    "            Negative = True\n",
    "        else:\n",
    "            Negative = False\n",
    "        ans = 0\n",
    "        max_num = (2**31)/10\n",
    "        while x:\n",
    "            if ans >= max_num:\n",
    "                return 0\n",
    "            ans = ans * 10 + (x % 10)\n",
    "            x //= 10\n",
    "        return -ans if Negative else ans"
   ]
  }
 ],
 "metadata": {
  "kernelspec": {
   "display_name": "Python 3 (ipykernel)",
   "language": "python",
   "name": "python3"
  },
  "language_info": {
   "codemirror_mode": {
    "name": "ipython",
    "version": 3
   },
   "file_extension": ".py",
   "mimetype": "text/x-python",
   "name": "python",
   "nbconvert_exporter": "python",
   "pygments_lexer": "ipython3",
   "version": "3.10.9"
  }
 },
 "nbformat": 4,
 "nbformat_minor": 5
}
