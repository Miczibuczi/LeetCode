{
 "cells": [
  {
   "cell_type": "code",
   "execution_count": null,
   "id": "763f83ee",
   "metadata": {},
   "outputs": [],
   "source": [
    "# 39ms, beats 96,36% answers\n",
    "class Solution:\n",
    "    def minimalKSum(self, nums: List[int], k: int) -> int:\n",
    "        cur_sum = 0\n",
    "        nums = list(set(nums)) # removing duplicates\n",
    "        max_num = k\n",
    "        nums.sort()\n",
    "        for num in nums:\n",
    "            if num <= max_num:\n",
    "                cur_sum -= num\n",
    "                max_num += 1\n",
    "        return int(cur_sum + (1+max_num)/2*max_num)"
   ]
  }
 ],
 "metadata": {
  "kernelspec": {
   "display_name": "Python 3 (ipykernel)",
   "language": "python",
   "name": "python3"
  },
  "language_info": {
   "codemirror_mode": {
    "name": "ipython",
    "version": 3
   },
   "file_extension": ".py",
   "mimetype": "text/x-python",
   "name": "python",
   "nbconvert_exporter": "python",
   "pygments_lexer": "ipython3",
   "version": "3.10.9"
  }
 },
 "nbformat": 4,
 "nbformat_minor": 5
}
