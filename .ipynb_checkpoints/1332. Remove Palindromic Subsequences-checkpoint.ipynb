{
 "cells": [
  {
   "cell_type": "code",
   "execution_count": null,
   "id": "3a82ecb9",
   "metadata": {},
   "outputs": [],
   "source": [
    "class Solution:\n",
    "    def removePalindromeSub(self, s: str) -> int:\n",
    "        for i in range(len(s)//2):\n",
    "            if s[i] != s[-1-i]:\n",
    "                return 2\n",
    "        return 1"
   ]
  }
 ],
 "metadata": {
  "kernelspec": {
   "display_name": "Python 3 (ipykernel)",
   "language": "python",
   "name": "python3"
  },
  "language_info": {
   "codemirror_mode": {
    "name": "ipython",
    "version": 3
   },
   "file_extension": ".py",
   "mimetype": "text/x-python",
   "name": "python",
   "nbconvert_exporter": "python",
   "pygments_lexer": "ipython3",
   "version": "3.10.9"
  }
 },
 "nbformat": 4,
 "nbformat_minor": 5
}
