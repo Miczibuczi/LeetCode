{
 "cells": [
  {
   "cell_type": "code",
   "execution_count": null,
   "id": "953f18fa",
   "metadata": {},
   "outputs": [],
   "source": [
    "import pandas as pd\n",
    "\n",
    "def monthly_transactions(transactions: pd.DataFrame) -> pd.DataFrame:\n",
    "    transactions[\"trans_date\"] = transactions[\"trans_date\"].dt.strftime('%Y-%m')\n",
    "    approved = transactions[transactions[\"state\"]==\"approved\"]\n",
    "    transactions = transactions.groupby(by=[\"trans_date\", \"country\"], dropna=False).agg(\n",
    "        trans_count = (\"trans_date\", \"count\"),\n",
    "        trans_total_amount = (\"amount\", \"sum\")\n",
    "    ).reset_index()\n",
    "    approved = approved.groupby(by=[\"trans_date\", \"country\"], dropna=False).agg(\n",
    "        approved_count = (\"trans_date\", \"count\"),\n",
    "        approved_total_amount = (\"amount\", \"sum\")\n",
    "    ).reset_index()\n",
    "    df = transactions.merge(approved, how=\"left\", on=[\"trans_date\", \"country\"])\n",
    "    df[[\"approved_count\", \"approved_total_amount\"]] = df[[\"approved_count\", \"approved_total_amount\"]].fillna(0)\n",
    "    return df[[\"trans_date\", \"country\", \"trans_count\", \"approved_count\", \"trans_total_amount\", \"approved_total_amount\"]].rename(columns={\"trans_date\":\"month\"})"
   ]
  }
 ],
 "metadata": {
  "kernelspec": {
   "display_name": "Python 3 (ipykernel)",
   "language": "python",
   "name": "python3"
  },
  "language_info": {
   "codemirror_mode": {
    "name": "ipython",
    "version": 3
   },
   "file_extension": ".py",
   "mimetype": "text/x-python",
   "name": "python",
   "nbconvert_exporter": "python",
   "pygments_lexer": "ipython3",
   "version": "3.10.9"
  }
 },
 "nbformat": 4,
 "nbformat_minor": 5
}
