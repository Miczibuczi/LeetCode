{
 "cells": [
  {
   "cell_type": "code",
   "execution_count": null,
   "id": "080f15fa",
   "metadata": {},
   "outputs": [],
   "source": [
    "class Solution:\n",
    "    def wordBreak(self, s: str, wordDict: List[str]) -> bool:\n",
    "        wordDict = set(wordDict)\n",
    "        start_positions = {0}\n",
    "        used_start_positions = {0}\n",
    "        while start_positions:\n",
    "            for index in start_positions.copy():\n",
    "                start_positions.remove(index)\n",
    "                for i in range(index+1, len(s)+1):\n",
    "                    if s[index:i] in wordDict:\n",
    "                        if i not in used_start_positions:\n",
    "                            start_positions.add(i)\n",
    "                            used_start_positions.add(i)\n",
    "                            if i == len(s):\n",
    "                                return True\n",
    "        return False"
   ]
  },
  {
   "cell_type": "code",
   "execution_count": null,
   "id": "acdd87b2",
   "metadata": {},
   "outputs": [],
   "source": [
    "# First answer, less efficient in terms of time ans space\n",
    "class Solution:\n",
    "    def wordBreak(self, s: str, wordDict: List[str]) -> bool:\n",
    "        wordDict = set(wordDict)\n",
    "        start_positions = {0}\n",
    "        used_start_positions = set()\n",
    "        while start_positions:\n",
    "            new_start_positions = set()\n",
    "            for index in start_positions:\n",
    "                for i in range(index+1, len(s)+1):\n",
    "                    if s[index:i] in wordDict:\n",
    "                        new_start_positions.add(i)\n",
    "                        if i == len(s):\n",
    "                            return True\n",
    "            start_positions = {item for item in new_start_positions if item not in used_start_positions}\n",
    "            used_start_positions.update(new_start_positions)\n",
    "        return False"
   ]
  }
 ],
 "metadata": {
  "kernelspec": {
   "display_name": "Python 3 (ipykernel)",
   "language": "python",
   "name": "python3"
  },
  "language_info": {
   "codemirror_mode": {
    "name": "ipython",
    "version": 3
   },
   "file_extension": ".py",
   "mimetype": "text/x-python",
   "name": "python",
   "nbconvert_exporter": "python",
   "pygments_lexer": "ipython3",
   "version": "3.10.9"
  }
 },
 "nbformat": 4,
 "nbformat_minor": 5
}
