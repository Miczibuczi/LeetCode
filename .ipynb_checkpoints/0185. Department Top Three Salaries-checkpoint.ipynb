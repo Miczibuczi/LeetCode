{
 "cells": [
  {
   "cell_type": "code",
   "execution_count": null,
   "id": "9d782a6a",
   "metadata": {},
   "outputs": [],
   "source": [
    "import pandas as pd\n",
    "\n",
    "def top_three_salaries(employee: pd.DataFrame, department: pd.DataFrame) -> pd.DataFrame:\n",
    "    salaries = defaultdict(set)\n",
    "    for row in employee[[\"salary\", \"departmentId\"]].itertuples():\n",
    "        salaries[row.departmentId].add(row.salary)\n",
    "    \n",
    "    highest_salaries = dict()\n",
    "    for key, values in salaries.items():\n",
    "        values = sorted(list(values), reverse=True)[:3]\n",
    "        highest_salaries[key] = values\n",
    "    \n",
    "    employee = employee[employee.apply(lambda row: row.salary in highest_salaries[row.departmentId], axis=1)]\n",
    "    employee = employee.merge(department.rename(columns={\"name\":\"Department\"}), how=\"left\", left_on=\"departmentId\", right_on=\"id\")\n",
    "    return employee[[\"Department\", \"name\", \"salary\"]].rename(columns={\"name\":\"Employee\", \"salary\":\"Salary\"})"
   ]
  }
 ],
 "metadata": {
  "kernelspec": {
   "display_name": "Python 3 (ipykernel)",
   "language": "python",
   "name": "python3"
  },
  "language_info": {
   "codemirror_mode": {
    "name": "ipython",
    "version": 3
   },
   "file_extension": ".py",
   "mimetype": "text/x-python",
   "name": "python",
   "nbconvert_exporter": "python",
   "pygments_lexer": "ipython3",
   "version": "3.10.9"
  }
 },
 "nbformat": 4,
 "nbformat_minor": 5
}
