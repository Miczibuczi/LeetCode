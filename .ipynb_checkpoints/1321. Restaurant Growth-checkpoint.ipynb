{
 "cells": [
  {
   "cell_type": "code",
   "execution_count": null,
   "id": "0e137cfd",
   "metadata": {},
   "outputs": [],
   "source": [
    "import pandas as pd\n",
    "\n",
    "def restaurant_growth(customer: pd.DataFrame) -> pd.DataFrame:\n",
    "    customer = customer.groupby(\"visited_on\").agg({\"amount\":\"sum\"}).reset_index()\n",
    "    customer[\"total\"] = pd.NA\n",
    "    customer.loc[6,\"total\"] = sum(customer.iloc[0:7][\"amount\"])\n",
    "    customer = pd.concat([customer, customer[[\"amount\"]].rename(columns={\"amount\":\"past_amount\"}).shift(7)], axis=1)\n",
    "    index = 7\n",
    "    last = customer.loc[6, \"total\"]\n",
    "    for row in customer.iloc[7:].itertuples():\n",
    "        last += row.amount - row.past_amount\n",
    "        customer.loc[index, \"total\"] = last\n",
    "        index += 1\n",
    "    customer.dropna(subset=\"total\", inplace=True)\n",
    "    customer[\"average_amount\"] = customer[\"total\"].apply(lambda x: round(x/7, 2))\n",
    "    return customer[[\"visited_on\", \"total\", \"average_amount\"]].rename(columns={\"total\":\"amount\"})"
   ]
  }
 ],
 "metadata": {
  "kernelspec": {
   "display_name": "Python 3 (ipykernel)",
   "language": "python",
   "name": "python3"
  },
  "language_info": {
   "codemirror_mode": {
    "name": "ipython",
    "version": 3
   },
   "file_extension": ".py",
   "mimetype": "text/x-python",
   "name": "python",
   "nbconvert_exporter": "python",
   "pygments_lexer": "ipython3",
   "version": "3.10.9"
  }
 },
 "nbformat": 4,
 "nbformat_minor": 5
}
