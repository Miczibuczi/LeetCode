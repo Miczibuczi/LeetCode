{
 "cells": [
  {
   "cell_type": "code",
   "execution_count": null,
   "id": "1bf2fb68",
   "metadata": {},
   "outputs": [],
   "source": [
    "class Solution:\n",
    "    def lengthOfLIS(self, nums: List[int]) -> int:\n",
    "        ans = 1\n",
    "        stack = [[nums[0]]]\n",
    "        for num in nums[1:]:\n",
    "            if stack[-1][-1] < num:\n",
    "                stack.append(stack[-1]+[num])\n",
    "                ans += 1\n",
    "            else:\n",
    "                for i in range(ans):\n",
    "                    if stack[i][-1] > num:\n",
    "                        if len(stack[i])>1:\n",
    "                            if stack[i-1][-1] < num:\n",
    "                                stack[i] = stack[i-1]+[num]\n",
    "                        else:\n",
    "                            stack[i][-1] = num\n",
    "        return ans"
   ]
  }
 ],
 "metadata": {
  "kernelspec": {
   "display_name": "Python 3 (ipykernel)",
   "language": "python",
   "name": "python3"
  },
  "language_info": {
   "codemirror_mode": {
    "name": "ipython",
    "version": 3
   },
   "file_extension": ".py",
   "mimetype": "text/x-python",
   "name": "python",
   "nbconvert_exporter": "python",
   "pygments_lexer": "ipython3",
   "version": "3.9.13"
  }
 },
 "nbformat": 4,
 "nbformat_minor": 5
}
