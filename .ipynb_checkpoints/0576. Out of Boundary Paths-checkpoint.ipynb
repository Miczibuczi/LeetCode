{
 "cells": [
  {
   "cell_type": "code",
   "execution_count": null,
   "id": "a497c302",
   "metadata": {},
   "outputs": [],
   "source": [
    "class Solution:\n",
    "    def findPaths(self, m: int, n: int, maxMove: int, startRow: int, startColumn: int) -> int:\n",
    "        if maxMove == 0:\n",
    "            return 0\n",
    "        max_row = m-1\n",
    "        max_col = n-1\n",
    "        self.seen = dict()\n",
    "        def helper(row, col, max_move):\n",
    "            if row < 0 or row > max_row or col < 0 or col > max_col:\n",
    "                return 1\n",
    "            if max_move > 0:\n",
    "                l = self.seen[(row-1, col, max_move-1)] if (row-1, col, max_move-1) in self.seen else helper(row-1, col, max_move-1)\n",
    "                r = self.seen[(row+1, col, max_move-1)] if (row+1, col, max_move-1) in self.seen else helper(row+1, col, max_move-1)\n",
    "                u = self.seen[(row, col+1, max_move-1)] if (row, col+1, max_move-1) in self.seen else helper(row, col+1, max_move-1)\n",
    "                d = self.seen[(row, col-1, max_move-1)] if (row, col-1, max_move-1) in self.seen else helper(row, col-1, max_move-1)\n",
    "                self.seen[(row, col, max_move)] = l+r+u+d\n",
    "                return l+r+u+d\n",
    "            return 0\n",
    "        helper(startRow, startColumn, maxMove)\n",
    "        return self.seen[(startRow, startColumn, maxMove)] % (10**9+7)"
   ]
  }
 ],
 "metadata": {
  "kernelspec": {
   "display_name": "Python 3 (ipykernel)",
   "language": "python",
   "name": "python3"
  },
  "language_info": {
   "codemirror_mode": {
    "name": "ipython",
    "version": 3
   },
   "file_extension": ".py",
   "mimetype": "text/x-python",
   "name": "python",
   "nbconvert_exporter": "python",
   "pygments_lexer": "ipython3",
   "version": "3.10.9"
  }
 },
 "nbformat": 4,
 "nbformat_minor": 5
}
