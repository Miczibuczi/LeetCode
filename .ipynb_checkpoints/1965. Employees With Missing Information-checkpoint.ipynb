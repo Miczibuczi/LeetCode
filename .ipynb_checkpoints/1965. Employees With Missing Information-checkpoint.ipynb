{
 "cells": [
  {
   "cell_type": "code",
   "execution_count": null,
   "id": "7ad63e40",
   "metadata": {},
   "outputs": [],
   "source": [
    "import pandas as pd\n",
    "\n",
    "def find_employees(employees: pd.DataFrame, salaries: pd.DataFrame) -> pd.DataFrame:\n",
    "    employees = employees.merge(salaries, how=\"outer\", on=\"employee_id\")\n",
    "    employees = employees[(employees[\"name\"].isna()) | (employees[\"salary\"].isna())]\n",
    "    return employees[[\"employee_id\"]].sort_values(by=\"employee_id\")"
   ]
  }
 ],
 "metadata": {
  "kernelspec": {
   "display_name": "Python 3 (ipykernel)",
   "language": "python",
   "name": "python3"
  },
  "language_info": {
   "codemirror_mode": {
    "name": "ipython",
    "version": 3
   },
   "file_extension": ".py",
   "mimetype": "text/x-python",
   "name": "python",
   "nbconvert_exporter": "python",
   "pygments_lexer": "ipython3",
   "version": "3.10.9"
  }
 },
 "nbformat": 4,
 "nbformat_minor": 5
}
