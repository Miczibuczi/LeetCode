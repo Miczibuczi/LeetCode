{
 "cells": [
  {
   "cell_type": "code",
   "execution_count": null,
   "id": "4ff969c8",
   "metadata": {},
   "outputs": [],
   "source": [
    "class SeatManager:\n",
    "\n",
    "    def __init__(self, n: int):\n",
    "        # For each call to reserve, it is guaranteed that there will be at least one unreserved seat --> so we don't have to track n\n",
    "        self.cur = 0\n",
    "        self.heap = []\n",
    "\n",
    "    def reserve(self) -> int:\n",
    "        if self.heap:\n",
    "            return heappop(self.heap)\n",
    "        else:\n",
    "            self.cur += 1\n",
    "            return self.cur\n",
    "\n",
    "    def unreserve(self, seatNumber: int) -> None:\n",
    "        # For each call to unreserve, it is guaranteed that seatNumber will be reserved\n",
    "        heappush(self.heap, seatNumber)\n",
    "\n",
    "\n",
    "# Your SeatManager object will be instantiated and called as such:\n",
    "# obj = SeatManager(n)\n",
    "# param_1 = obj.reserve()\n",
    "# obj.unreserve(seatNumber)"
   ]
  }
 ],
 "metadata": {
  "kernelspec": {
   "display_name": "Python 3 (ipykernel)",
   "language": "python",
   "name": "python3"
  },
  "language_info": {
   "codemirror_mode": {
    "name": "ipython",
    "version": 3
   },
   "file_extension": ".py",
   "mimetype": "text/x-python",
   "name": "python",
   "nbconvert_exporter": "python",
   "pygments_lexer": "ipython3",
   "version": "3.10.9"
  }
 },
 "nbformat": 4,
 "nbformat_minor": 5
}
