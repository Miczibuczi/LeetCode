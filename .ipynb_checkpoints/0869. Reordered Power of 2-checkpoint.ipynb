{
 "cells": [
  {
   "cell_type": "code",
   "execution_count": null,
   "id": "5ec6f3f3",
   "metadata": {},
   "outputs": [],
   "source": [
    "class Solution:\n",
    "    def reorderedPowerOf2(self, n: int) -> bool:\n",
    "        if n == 1:\n",
    "            return True\n",
    "        nums = Counter(str(n))\n",
    "        min_number = 10**(len(str(n))-1)\n",
    "        min_power = len(bin(min_number))-2\n",
    "        cur = 2**min_power\n",
    "        while len(str(cur)) <= len(str(n)):\n",
    "            check = Counter(str(cur))\n",
    "            if check == nums:\n",
    "                return True\n",
    "            cur *= 2\n",
    "        return False"
   ]
  }
 ],
 "metadata": {
  "kernelspec": {
   "display_name": "Python 3 (ipykernel)",
   "language": "python",
   "name": "python3"
  },
  "language_info": {
   "codemirror_mode": {
    "name": "ipython",
    "version": 3
   },
   "file_extension": ".py",
   "mimetype": "text/x-python",
   "name": "python",
   "nbconvert_exporter": "python",
   "pygments_lexer": "ipython3",
   "version": "3.10.9"
  }
 },
 "nbformat": 4,
 "nbformat_minor": 5
}
