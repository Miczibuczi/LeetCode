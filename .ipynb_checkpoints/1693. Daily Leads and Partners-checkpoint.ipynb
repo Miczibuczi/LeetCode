{
 "cells": [
  {
   "cell_type": "code",
   "execution_count": null,
   "id": "e8dfaf09",
   "metadata": {},
   "outputs": [],
   "source": [
    "import pandas as pd\n",
    "\n",
    "def daily_leads_and_partners(daily_sales: pd.DataFrame) -> pd.DataFrame:\n",
    "    daily_sales = daily_sales.groupby(by=[\"date_id\", \"make_name\"]).agg(\n",
    "        unique_leads = (\"lead_id\", lambda x: len(set(x))),\n",
    "        unique_partners =  (\"partner_id\", lambda x: len(set(x)))\n",
    "    ).reset_index()\n",
    "    return daily_sales"
   ]
  },
  {
   "cell_type": "code",
   "execution_count": null,
   "id": "51787ed1",
   "metadata": {},
   "outputs": [],
   "source": [
    "# The same approach, but using built-in \"nunique\" function instead of lambda function\n",
    "import pandas as pd\n",
    "\n",
    "def daily_leads_and_partners(daily_sales: pd.DataFrame) -> pd.DataFrame:\n",
    "    daily_sales = daily_sales.groupby(by=[\"date_id\", \"make_name\"]).agg(\n",
    "        unique_leads = (\"lead_id\", \"nunique\"),\n",
    "        unique_partners =  (\"partner_id\", \"nunique\")\n",
    "    ).reset_index()\n",
    "    return daily_sales"
   ]
  }
 ],
 "metadata": {
  "kernelspec": {
   "display_name": "Python 3 (ipykernel)",
   "language": "python",
   "name": "python3"
  },
  "language_info": {
   "codemirror_mode": {
    "name": "ipython",
    "version": 3
   },
   "file_extension": ".py",
   "mimetype": "text/x-python",
   "name": "python",
   "nbconvert_exporter": "python",
   "pygments_lexer": "ipython3",
   "version": "3.10.9"
  }
 },
 "nbformat": 4,
 "nbformat_minor": 5
}
