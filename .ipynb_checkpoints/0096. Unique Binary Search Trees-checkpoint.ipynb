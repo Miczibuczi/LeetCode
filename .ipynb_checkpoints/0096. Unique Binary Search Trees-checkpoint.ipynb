{
 "cells": [
  {
   "cell_type": "code",
   "execution_count": null,
   "id": "53c38d97",
   "metadata": {},
   "outputs": [],
   "source": [
    "class Solution:\n",
    "    def numTrees(self, n: int) -> int:\n",
    "        def helper(n):\n",
    "            cur_sum = 0\n",
    "            for i in range(n):\n",
    "                if i in memo:\n",
    "                    left = memo[i]\n",
    "                else:\n",
    "                    left = self.numTrees(i)\n",
    "                    memo[i] = left\n",
    "                if (n-1-i) in memo:\n",
    "                    right = memo[n-1-i]\n",
    "                else:\n",
    "                    right = self.numTrees(n-1-i)\n",
    "                    memo[n-1-i] = right\n",
    "                cur_sum += left*right\n",
    "            return cur_sum\n",
    "        memo = {0:1, 1:1}\n",
    "        return helper(n)"
   ]
  }
 ],
 "metadata": {
  "kernelspec": {
   "display_name": "Python 3 (ipykernel)",
   "language": "python",
   "name": "python3"
  },
  "language_info": {
   "codemirror_mode": {
    "name": "ipython",
    "version": 3
   },
   "file_extension": ".py",
   "mimetype": "text/x-python",
   "name": "python",
   "nbconvert_exporter": "python",
   "pygments_lexer": "ipython3",
   "version": "3.10.9"
  }
 },
 "nbformat": 4,
 "nbformat_minor": 5
}
