{
 "cells": [
  {
   "cell_type": "code",
   "execution_count": null,
   "id": "1331a22c",
   "metadata": {},
   "outputs": [],
   "source": [
    "import pandas as pd\n",
    "\n",
    "def combine_two_tables(person: pd.DataFrame, address: pd.DataFrame) -> pd.DataFrame:\n",
    "    out = pd.merge(person, address[[\"personId\", \"city\", \"state\"]], how='left', on='personId')\n",
    "    return out[[\"firstName\", \"lastName\", \"city\", \"state\"]]"
   ]
  },
  {
   "cell_type": "code",
   "execution_count": null,
   "id": "40d3c139",
   "metadata": {},
   "outputs": [],
   "source": [
    "# Similar answer\n",
    "import pandas as pd\n",
    "\n",
    "def combine_two_tables(person: pd.DataFrame, address: pd.DataFrame) -> pd.DataFrame:\n",
    "    out = pd.merge(person, address.iloc[:, 1:], how='left', on='personId')\n",
    "    return out[[\"firstName\", \"lastName\", \"city\", \"state\"]]"
   ]
  }
 ],
 "metadata": {
  "kernelspec": {
   "display_name": "Python 3 (ipykernel)",
   "language": "python",
   "name": "python3"
  },
  "language_info": {
   "codemirror_mode": {
    "name": "ipython",
    "version": 3
   },
   "file_extension": ".py",
   "mimetype": "text/x-python",
   "name": "python",
   "nbconvert_exporter": "python",
   "pygments_lexer": "ipython3",
   "version": "3.10.9"
  }
 },
 "nbformat": 4,
 "nbformat_minor": 5
}
