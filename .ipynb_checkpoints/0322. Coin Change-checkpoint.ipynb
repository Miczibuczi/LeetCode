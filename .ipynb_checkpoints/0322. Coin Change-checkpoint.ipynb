{
 "cells": [
  {
   "cell_type": "code",
   "execution_count": null,
   "id": "8927b742",
   "metadata": {},
   "outputs": [],
   "source": [
    "class Solution:\n",
    "    def coinChange(self, coins: List[int], amount: int) -> int:\n",
    "        if amount == 0:\n",
    "            return 0\n",
    "        ans = 0\n",
    "        stack = {amount}\n",
    "        seen = set()\n",
    "        while stack:\n",
    "            ans += 1\n",
    "            new_stack = set()\n",
    "            for amount in stack:\n",
    "                for coin in coins:\n",
    "                    cur = amount-coin\n",
    "                    if cur >= 0 and cur not in seen:\n",
    "                        new_stack.add(cur)\n",
    "                        seen.add(cur)\n",
    "            if 0 in new_stack:\n",
    "                return ans\n",
    "            stack = new_stack\n",
    "        return -1"
   ]
  }
 ],
 "metadata": {
  "kernelspec": {
   "display_name": "Python 3 (ipykernel)",
   "language": "python",
   "name": "python3"
  },
  "language_info": {
   "codemirror_mode": {
    "name": "ipython",
    "version": 3
   },
   "file_extension": ".py",
   "mimetype": "text/x-python",
   "name": "python",
   "nbconvert_exporter": "python",
   "pygments_lexer": "ipython3",
   "version": "3.10.9"
  }
 },
 "nbformat": 4,
 "nbformat_minor": 5
}
