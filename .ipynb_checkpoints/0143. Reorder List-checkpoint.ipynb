{
 "cells": [
  {
   "cell_type": "code",
   "execution_count": null,
   "id": "9fbe92c5",
   "metadata": {},
   "outputs": [],
   "source": [
    "# Definition for singly-linked list.\n",
    "# class ListNode:\n",
    "#     def __init__(self, val=0, next=None):\n",
    "#         self.val = val\n",
    "#         self.next = next\n",
    "class Solution:\n",
    "    def reorderList(self, head: Optional[ListNode]) -> None:\n",
    "        \"\"\"\n",
    "        Do not return anything, modify head in-place instead.\n",
    "        \"\"\"\n",
    "        my_dict = {}\n",
    "        start = head\n",
    "        while head.next:\n",
    "            my_dict[head.next] = head\n",
    "            head = head.next\n",
    "        head, tail = start, head\n",
    "        while head != tail:\n",
    "            memo = head.next\n",
    "            head.next = tail\n",
    "            head = head.next\n",
    "            tail = my_dict[tail]\n",
    "            if head == memo:\n",
    "                break\n",
    "            head.next = memo\n",
    "            head = head.next\n",
    "        head.next = None"
   ]
  }
 ],
 "metadata": {
  "kernelspec": {
   "display_name": "Python 3 (ipykernel)",
   "language": "python",
   "name": "python3"
  },
  "language_info": {
   "codemirror_mode": {
    "name": "ipython",
    "version": 3
   },
   "file_extension": ".py",
   "mimetype": "text/x-python",
   "name": "python",
   "nbconvert_exporter": "python",
   "pygments_lexer": "ipython3",
   "version": "3.10.9"
  }
 },
 "nbformat": 4,
 "nbformat_minor": 5
}
