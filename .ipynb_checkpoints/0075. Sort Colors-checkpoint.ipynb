{
 "cells": [
  {
   "cell_type": "code",
   "execution_count": null,
   "id": "27989279",
   "metadata": {},
   "outputs": [],
   "source": [
    "class Solution:\n",
    "    def sortColors(self, nums: List[int]) -> None:\n",
    "        \"\"\"\n",
    "        Do not return anything, modify nums in-place instead.\n",
    "        \"\"\"\n",
    "        left = 0\n",
    "        right = len(nums)-1\n",
    "        cur = 0\n",
    "        while cur <= right:\n",
    "            if nums[cur] == 0:\n",
    "                nums[cur], nums[left] = nums[left], nums[cur]\n",
    "                left += 1\n",
    "                cur += 1\n",
    "            elif nums[cur] == 2:\n",
    "                nums[cur], nums[right] = nums[right], nums[cur]\n",
    "                right -= 1\n",
    "            else:\n",
    "                cur += 1"
   ]
  }
 ],
 "metadata": {
  "kernelspec": {
   "display_name": "Python 3 (ipykernel)",
   "language": "python",
   "name": "python3"
  },
  "language_info": {
   "codemirror_mode": {
    "name": "ipython",
    "version": 3
   },
   "file_extension": ".py",
   "mimetype": "text/x-python",
   "name": "python",
   "nbconvert_exporter": "python",
   "pygments_lexer": "ipython3",
   "version": "3.10.9"
  }
 },
 "nbformat": 4,
 "nbformat_minor": 5
}
