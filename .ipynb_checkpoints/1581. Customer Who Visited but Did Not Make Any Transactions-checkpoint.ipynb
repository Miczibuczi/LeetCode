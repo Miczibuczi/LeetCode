{
 "cells": [
  {
   "cell_type": "code",
   "execution_count": null,
   "id": "e1f79b27",
   "metadata": {},
   "outputs": [],
   "source": [
    "import pandas as pd\n",
    "\n",
    "def find_customers(visits: pd.DataFrame, transactions: pd.DataFrame) -> pd.DataFrame:\n",
    "    df = visits.merge(transactions, how=\"left\", on=\"visit_id\")\n",
    "    df = df[df[\"transaction_id\"].isnull()]\n",
    "    df = df.groupby(by=\"customer_id\").size().reset_index(name=\"count_no_trans\")\n",
    "    return df[[\"customer_id\", \"count_no_trans\"]]"
   ]
  }
 ],
 "metadata": {
  "kernelspec": {
   "display_name": "Python 3 (ipykernel)",
   "language": "python",
   "name": "python3"
  },
  "language_info": {
   "codemirror_mode": {
    "name": "ipython",
    "version": 3
   },
   "file_extension": ".py",
   "mimetype": "text/x-python",
   "name": "python",
   "nbconvert_exporter": "python",
   "pygments_lexer": "ipython3",
   "version": "3.10.9"
  }
 },
 "nbformat": 4,
 "nbformat_minor": 5
}
