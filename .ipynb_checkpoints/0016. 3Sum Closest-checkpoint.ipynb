{
 "cells": [
  {
   "cell_type": "code",
   "execution_count": null,
   "id": "05432b62",
   "metadata": {},
   "outputs": [],
   "source": [
    "class Solution:\n",
    "    def threeSumClosest(self, nums: List[int], target: int) -> int:\n",
    "        nums.sort()\n",
    "        ans = float(inf)\n",
    "        for i, num in enumerate(nums):\n",
    "            new_target = target - num\n",
    "            left = i+1\n",
    "            right = len(nums)-1\n",
    "            while left < right:\n",
    "                cur_diff = new_target - nums[left] - nums[right]\n",
    "                if abs(ans) > abs(cur_diff):\n",
    "                    ans = cur_diff\n",
    "                    if ans == 0:\n",
    "                        return target\n",
    "                if cur_diff > 0:\n",
    "                    left += 1\n",
    "                else:\n",
    "                    right -= 1\n",
    "        return target-ans"
   ]
  }
 ],
 "metadata": {
  "kernelspec": {
   "display_name": "Python 3 (ipykernel)",
   "language": "python",
   "name": "python3"
  },
  "language_info": {
   "codemirror_mode": {
    "name": "ipython",
    "version": 3
   },
   "file_extension": ".py",
   "mimetype": "text/x-python",
   "name": "python",
   "nbconvert_exporter": "python",
   "pygments_lexer": "ipython3",
   "version": "3.10.9"
  }
 },
 "nbformat": 4,
 "nbformat_minor": 5
}
