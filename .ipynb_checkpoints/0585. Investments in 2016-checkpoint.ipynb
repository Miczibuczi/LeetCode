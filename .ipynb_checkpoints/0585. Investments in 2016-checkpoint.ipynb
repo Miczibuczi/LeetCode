{
 "cells": [
  {
   "cell_type": "code",
   "execution_count": null,
   "id": "4de57c48",
   "metadata": {},
   "outputs": [],
   "source": [
    "import pandas as pd\n",
    "\n",
    "def find_investments(insurance: pd.DataFrame) -> pd.DataFrame:\n",
    "    unique_2015 = insurance.drop_duplicates(subset=\"tiv_2015\", keep=False)\n",
    "    unique_2015 = set(unique_2015[\"pid\"])\n",
    "    insurance = insurance.drop_duplicates(subset=[\"lat\", \"lon\"], keep=False)\n",
    "    insurance[\"tiv_2016\"] = insurance.apply(lambda x: 0 if x[\"pid\"] in unique_2015 else x[\"tiv_2016\"], axis=1)\n",
    "    return pd.DataFrame({\"tiv_2016\":[round(sum(insurance[\"tiv_2016\"]), 2)]})"
   ]
  },
  {
   "cell_type": "code",
   "execution_count": null,
   "id": "1218404e",
   "metadata": {},
   "outputs": [],
   "source": [
    "# First answer, not time-efficient\n",
    "import pandas as pd\n",
    "\n",
    "def find_investments(insurance: pd.DataFrame) -> pd.DataFrame:\n",
    "    unique_2015 = insurance.drop_duplicates(subset=\"tiv_2015\", keep=False)\n",
    "    insurance[\"tiv_2016\"] = insurance.apply(lambda x: 0 if x[\"pid\"] in (unique_2015[\"pid\"]).values else x[\"tiv_2016\"], axis=1)\n",
    "    insurance = insurance.drop_duplicates(subset=[\"lat\", \"lon\"], keep=False)\n",
    "    return pd.DataFrame({\"tiv_2016\":[round(sum(insurance[\"tiv_2016\"]), 2)]})"
   ]
  }
 ],
 "metadata": {
  "kernelspec": {
   "display_name": "Python 3 (ipykernel)",
   "language": "python",
   "name": "python3"
  },
  "language_info": {
   "codemirror_mode": {
    "name": "ipython",
    "version": 3
   },
   "file_extension": ".py",
   "mimetype": "text/x-python",
   "name": "python",
   "nbconvert_exporter": "python",
   "pygments_lexer": "ipython3",
   "version": "3.10.9"
  }
 },
 "nbformat": 4,
 "nbformat_minor": 5
}
