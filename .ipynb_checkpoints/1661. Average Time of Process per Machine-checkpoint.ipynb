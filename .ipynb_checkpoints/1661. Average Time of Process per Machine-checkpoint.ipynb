{
 "cells": [
  {
   "cell_type": "code",
   "execution_count": null,
   "id": "b1618921",
   "metadata": {},
   "outputs": [],
   "source": [
    "import pandas as pd\n",
    "\n",
    "def get_average_time(activity: pd.DataFrame) -> pd.DataFrame:\n",
    "    activity[\"timestamp\"] = activity.apply(lambda row: -row[\"timestamp\"] if row[\"activity_type\"]==\"start\" else row[\"timestamp\"], axis=1)\n",
    "    activity = activity.groupby(by=[\"machine_id\", \"process_id\"]).agg({\"timestamp\":sum})\n",
    "    activity = activity.groupby(by=\"machine_id\").agg({\"timestamp\":mean}).reset_index()\n",
    "    activity[\"timestamp\"] = activity[\"timestamp\"].apply(lambda x: round(x, 3))\n",
    "    return activity.rename(columns={\"timestamp\":\"processing_time\"})"
   ]
  },
  {
   "cell_type": "code",
   "execution_count": null,
   "id": "b8b04ab5",
   "metadata": {},
   "outputs": [],
   "source": [
    "# Second answer\n",
    "import pandas as pd\n",
    "\n",
    "def get_average_time(activity: pd.DataFrame) -> pd.DataFrame:\n",
    "    activity[\"timestamp\"] = activity.apply(lambda row: -row[\"timestamp\"] if row[\"activity_type\"]==\"start\" else row[\"timestamp\"], axis=1)\n",
    "    activity = activity.groupby(by=\"machine_id\").agg({\"timestamp\":lambda x: round(2*mean(x), 3)}).reset_index()\n",
    "    return activity.rename(columns={\"timestamp\":\"processing_time\"})"
   ]
  }
 ],
 "metadata": {
  "kernelspec": {
   "display_name": "Python 3 (ipykernel)",
   "language": "python",
   "name": "python3"
  },
  "language_info": {
   "codemirror_mode": {
    "name": "ipython",
    "version": 3
   },
   "file_extension": ".py",
   "mimetype": "text/x-python",
   "name": "python",
   "nbconvert_exporter": "python",
   "pygments_lexer": "ipython3",
   "version": "3.10.9"
  }
 },
 "nbformat": 4,
 "nbformat_minor": 5
}
