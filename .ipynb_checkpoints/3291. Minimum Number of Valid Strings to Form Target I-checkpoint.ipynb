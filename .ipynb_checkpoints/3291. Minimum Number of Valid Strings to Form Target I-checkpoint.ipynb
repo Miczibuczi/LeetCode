{
 "cells": [
  {
   "cell_type": "code",
   "execution_count": null,
   "id": "13b1f3f0",
   "metadata": {},
   "outputs": [],
   "source": [
    "class Solution:\n",
    "    def minValidStrings(self, words: List[str], target: str) -> int:\n",
    "        Trie = dict()\n",
    "        for word in words:\n",
    "            cur = Trie\n",
    "            for letter in word:\n",
    "                if letter in cur:\n",
    "                    cur = cur[letter]\n",
    "                else:\n",
    "                    cur[letter] = dict()\n",
    "                    cur = cur[letter]\n",
    "        def helper(ans, target, cur):\n",
    "            print(ans, target, cur)\n",
    "            if not target:\n",
    "                return ans\n",
    "            possible_answers = []\n",
    "            for i, letter in enumerate(target):\n",
    "                if target[i] in cur:\n",
    "                    possible_answers.append(helper(ans, target[i+1:], cur[target[i]]))\n",
    "                else:\n",
    "                    if target[i] in Trie:\n",
    "                        possible_answers.append(helper(ans+1, target, Trie))\n",
    "                    else:\n",
    "                        break\n",
    "            if possible_answers:\n",
    "                return min(possible_answers)\n",
    "            return float(\"inf\")\n",
    "        return helper(0, target, Trie)"
   ]
  },
  {
   "cell_type": "code",
   "execution_count": null,
   "id": "8c57d3fa",
   "metadata": {},
   "outputs": [],
   "source": []
  },
  {
   "cell_type": "code",
   "execution_count": null,
   "id": "60da3fe3",
   "metadata": {},
   "outputs": [],
   "source": []
  },
  {
   "cell_type": "code",
   "execution_count": null,
   "id": "78281212",
   "metadata": {},
   "outputs": [],
   "source": []
  },
  {
   "cell_type": "code",
   "execution_count": null,
   "id": "483a274c",
   "metadata": {},
   "outputs": [],
   "source": []
  },
  {
   "cell_type": "code",
   "execution_count": null,
   "id": "e2759fd3",
   "metadata": {},
   "outputs": [],
   "source": []
  },
  {
   "cell_type": "code",
   "execution_count": null,
   "id": "6cfe5d98",
   "metadata": {},
   "outputs": [],
   "source": []
  },
  {
   "cell_type": "code",
   "execution_count": null,
   "id": "bf3dd591",
   "metadata": {},
   "outputs": [],
   "source": [
    "class Solution:\n",
    "    def minValidStrings(self, words: List[str], target: str) -> int:\n",
    "        Trie = dict()\n",
    "        for word in words:\n",
    "            cur = Trie\n",
    "            for letter in word:\n",
    "                if letter in cur:\n",
    "                    cur = cur[letter]\n",
    "                else:\n",
    "                    cur[letter] = dict()\n",
    "                    cur = cur[letter]\n",
    "\n",
    "        def helper(ans, target, cur):\n",
    "            if not target:\n",
    "                return ans\n",
    "            if target in seen and seen[target][0] == cur and seen[target][2] <= ans:\n",
    "                return seen[target][1]\n",
    "            possible_answers = []\n",
    "            if target[0] in cur:\n",
    "                possible_answers.append(helper(ans, target[1:], cur[target[0]]))\n",
    "            if target[0] in Trie:\n",
    "                possible_answers.append(helper(ans+1, target[1:], Trie[target[0]]))\n",
    "            if possible_answers:\n",
    "                seen[target] = (deepcopy(cur), min(possible_answers), ans)\n",
    "                return min(possible_answers)\n",
    "            seen[target] = (deepcopy(cur), float(\"inf\"), ans)\n",
    "            return float(\"inf\")\n",
    "        \n",
    "        seen = dict()\n",
    "        final_answer = helper(1, target, Trie)\n",
    "        if final_answer == float(\"inf\"):\n",
    "            return -1\n",
    "        return final_answer"
   ]
  },
  {
   "cell_type": "code",
   "execution_count": null,
   "id": "88776548",
   "metadata": {},
   "outputs": [],
   "source": []
  },
  {
   "cell_type": "code",
   "execution_count": null,
   "id": "f5672db0",
   "metadata": {},
   "outputs": [],
   "source": []
  },
  {
   "cell_type": "code",
   "execution_count": null,
   "id": "d926e042",
   "metadata": {},
   "outputs": [],
   "source": []
  },
  {
   "cell_type": "code",
   "execution_count": null,
   "id": "705b28f6",
   "metadata": {},
   "outputs": [],
   "source": []
  },
  {
   "cell_type": "code",
   "execution_count": null,
   "id": "d3d75809",
   "metadata": {},
   "outputs": [],
   "source": []
  },
  {
   "cell_type": "code",
   "execution_count": null,
   "id": "52dee6c1",
   "metadata": {},
   "outputs": [],
   "source": []
  },
  {
   "cell_type": "code",
   "execution_count": null,
   "id": "f190421f",
   "metadata": {},
   "outputs": [],
   "source": []
  },
  {
   "cell_type": "code",
   "execution_count": null,
   "id": "54026871",
   "metadata": {},
   "outputs": [],
   "source": []
  },
  {
   "cell_type": "code",
   "execution_count": null,
   "id": "9d2194aa",
   "metadata": {},
   "outputs": [],
   "source": []
  },
  {
   "cell_type": "code",
   "execution_count": null,
   "id": "60f91cb8",
   "metadata": {},
   "outputs": [],
   "source": []
  },
  {
   "cell_type": "code",
   "execution_count": null,
   "id": "a7884741",
   "metadata": {},
   "outputs": [],
   "source": []
  },
  {
   "cell_type": "code",
   "execution_count": null,
   "id": "ddf766fd",
   "metadata": {},
   "outputs": [],
   "source": []
  },
  {
   "cell_type": "code",
   "execution_count": null,
   "id": "b72b5f41",
   "metadata": {},
   "outputs": [],
   "source": []
  },
  {
   "cell_type": "code",
   "execution_count": null,
   "id": "a9797905",
   "metadata": {},
   "outputs": [],
   "source": []
  },
  {
   "cell_type": "code",
   "execution_count": null,
   "id": "34efecf7",
   "metadata": {},
   "outputs": [],
   "source": []
  },
  {
   "cell_type": "code",
   "execution_count": null,
   "id": "e77fb061",
   "metadata": {},
   "outputs": [],
   "source": [
    "class Solution:\n",
    "    def minValidStrings(self, words: List[str], target: str) -> int:\n",
    "        self.Trie = dict()\n",
    "        for word in words:\n",
    "            cur = Trie\n",
    "            for letter in word:\n",
    "                if letter in cur:\n",
    "                    cur = cur[letter]\n",
    "                else:\n",
    "                    cur[letter] = dict()\n",
    "                    cur = cur[letter]\n",
    "\n",
    "        def helper(ans, target):\n",
    "            if not target:\n",
    "                return ans\n",
    "            if target in seen and seen[target][0] == self.cur and seen[target][2] <= ans:\n",
    "                return seen[target][1]\n",
    "            possible_answers = []\n",
    "            if target[0] in self.cur:\n",
    "                self.cur = self.cur[target[0]]\n",
    "                possible_answers.append(helper(ans, target[1:]))\n",
    "            if target[0] in self.Trie:\n",
    "                self.cur = self.Trie[target[0]]\n",
    "                possible_answers.append(helper(ans+1, target[1:]))\n",
    "            if possible_answers:\n",
    "                seen[target] = (deepcopy(self.cur), min(possible_answers), ans)\n",
    "                return min(possible_answers)\n",
    "            seen[target] = (deepcopy(cur), float(\"inf\"), ans)\n",
    "            return float(\"inf\")\n",
    "        \n",
    "        seen = dict()\n",
    "        self.cur = Trie\n",
    "        final_answer = helper(1, target)\n",
    "        if final_answer == float(\"inf\"):\n",
    "            return -1\n",
    "        return final_answer"
   ]
  },
  {
   "cell_type": "code",
   "execution_count": null,
   "id": "c863cc4c",
   "metadata": {},
   "outputs": [],
   "source": []
  },
  {
   "cell_type": "code",
   "execution_count": null,
   "id": "1abdd143",
   "metadata": {},
   "outputs": [],
   "source": []
  },
  {
   "cell_type": "code",
   "execution_count": null,
   "id": "f9ad44e7",
   "metadata": {},
   "outputs": [],
   "source": []
  },
  {
   "cell_type": "code",
   "execution_count": null,
   "id": "f2def168",
   "metadata": {},
   "outputs": [],
   "source": []
  },
  {
   "cell_type": "code",
   "execution_count": null,
   "id": "404b40a9",
   "metadata": {},
   "outputs": [],
   "source": []
  },
  {
   "cell_type": "code",
   "execution_count": null,
   "id": "c8c5baed",
   "metadata": {},
   "outputs": [],
   "source": []
  },
  {
   "cell_type": "code",
   "execution_count": null,
   "id": "319a4cc4",
   "metadata": {},
   "outputs": [],
   "source": []
  },
  {
   "cell_type": "code",
   "execution_count": null,
   "id": "849faf41",
   "metadata": {},
   "outputs": [],
   "source": []
  },
  {
   "cell_type": "code",
   "execution_count": null,
   "id": "47ffce0b",
   "metadata": {},
   "outputs": [],
   "source": []
  },
  {
   "cell_type": "code",
   "execution_count": null,
   "id": "1fdf209f",
   "metadata": {},
   "outputs": [],
   "source": []
  },
  {
   "cell_type": "code",
   "execution_count": null,
   "id": "d3b8a350",
   "metadata": {},
   "outputs": [],
   "source": []
  },
  {
   "cell_type": "code",
   "execution_count": null,
   "id": "dabd0c1f",
   "metadata": {},
   "outputs": [],
   "source": []
  },
  {
   "cell_type": "code",
   "execution_count": null,
   "id": "76463518",
   "metadata": {},
   "outputs": [],
   "source": []
  },
  {
   "cell_type": "code",
   "execution_count": null,
   "id": "8fee4241",
   "metadata": {},
   "outputs": [],
   "source": [
    "class Solution:\n",
    "    def minValidStrings(self, words: List[str], target: str) -> int:\n",
    "        self.Trie = dict()\n",
    "        for word in words:\n",
    "            cur = Trie\n",
    "            for letter in word:\n",
    "                if letter in cur:\n",
    "                    cur = cur[letter]\n",
    "                else:\n",
    "                    cur[letter] = dict()\n",
    "                    cur = cur[letter]\n",
    "\n",
    "        def helper(ans, target):\n",
    "            if not target:\n",
    "                return ans\n",
    "            if target in seen and seen[target][0] == self.cur and seen[target][2] <= ans:\n",
    "                return seen[target][1]\n",
    "            possible_answers = []\n",
    "            if target[0] in self.cur:\n",
    "                self.cur = self.cur[target[0]]\n",
    "                possible_answers.append(helper(ans, target[1:]))\n",
    "            if target[0] in self.Trie:\n",
    "                self.cur = self.Trie[target[0]]\n",
    "                possible_answers.append(helper(ans+1, target[1:]))\n",
    "            if possible_answers:\n",
    "                seen[target] = (deepcopy(self.cur), min(possible_answers), ans)\n",
    "                return min(possible_answers)\n",
    "            seen[target] = (deepcopy(cur), float(\"inf\"), ans)\n",
    "            return float(\"inf\")\n",
    "        \n",
    "        seen = dict()\n",
    "        self.cur = Trie\n",
    "        final_answer = helper(1, target)\n",
    "        if final_answer == float(\"inf\"):\n",
    "            return -1\n",
    "        return final_answer"
   ]
  },
  {
   "cell_type": "code",
   "execution_count": null,
   "id": "c2128235",
   "metadata": {},
   "outputs": [],
   "source": []
  },
  {
   "cell_type": "code",
   "execution_count": null,
   "id": "b0ca151c",
   "metadata": {},
   "outputs": [],
   "source": []
  },
  {
   "cell_type": "code",
   "execution_count": null,
   "id": "bf890b53",
   "metadata": {},
   "outputs": [],
   "source": []
  },
  {
   "cell_type": "code",
   "execution_count": null,
   "id": "33e907f6",
   "metadata": {},
   "outputs": [],
   "source": []
  },
  {
   "cell_type": "code",
   "execution_count": null,
   "id": "7f398974",
   "metadata": {},
   "outputs": [],
   "source": []
  },
  {
   "cell_type": "code",
   "execution_count": null,
   "id": "044ac603",
   "metadata": {},
   "outputs": [],
   "source": []
  },
  {
   "cell_type": "code",
   "execution_count": null,
   "id": "bf3fcbd7",
   "metadata": {},
   "outputs": [],
   "source": []
  },
  {
   "cell_type": "code",
   "execution_count": null,
   "id": "7c959fe2",
   "metadata": {},
   "outputs": [],
   "source": []
  },
  {
   "cell_type": "code",
   "execution_count": null,
   "id": "97c738a9",
   "metadata": {},
   "outputs": [],
   "source": []
  },
  {
   "cell_type": "code",
   "execution_count": null,
   "id": "8d2a9a5d",
   "metadata": {},
   "outputs": [],
   "source": []
  },
  {
   "cell_type": "code",
   "execution_count": null,
   "id": "e8da95b4",
   "metadata": {},
   "outputs": [],
   "source": []
  },
  {
   "cell_type": "code",
   "execution_count": null,
   "id": "398ed437",
   "metadata": {},
   "outputs": [],
   "source": []
  },
  {
   "cell_type": "code",
   "execution_count": null,
   "id": "e4af6226",
   "metadata": {},
   "outputs": [],
   "source": []
  },
  {
   "cell_type": "code",
   "execution_count": null,
   "id": "aadaa261",
   "metadata": {},
   "outputs": [],
   "source": []
  },
  {
   "cell_type": "code",
   "execution_count": null,
   "id": "744f048b",
   "metadata": {},
   "outputs": [],
   "source": [
    "class Solution:\n",
    "    def minValidStrings(self, words: List[str], target: str) -> int:\n",
    "        self.Trie = dict()\n",
    "        for word in words:\n",
    "            cur = self.Trie\n",
    "            for letter in word:\n",
    "                if letter in cur:\n",
    "                    cur = cur[letter]\n",
    "                else:\n",
    "                    cur[letter] = dict()\n",
    "                    cur = cur[letter]\n",
    "\n",
    "        def helper(ans, target):\n",
    "            if not target:\n",
    "                return ans\n",
    "            possible_answers = []\n",
    "            if target[0] in self.cur:\n",
    "                self.cur = self.cur[target[0]]\n",
    "                possible_answers.append(helper(ans, target[1:]))\n",
    "            if target[0] in self.Trie:\n",
    "                self.cur = self.Trie[target[0]]\n",
    "                possible_answers.append(helper(ans+1, target[1:]))\n",
    "            if possible_answers:\n",
    "                return min(possible_answers)\n",
    "            return float(\"inf\")\n",
    "        \n",
    "        self.cur = self.Trie\n",
    "        final_answer = helper(1, target)\n",
    "        if final_answer == float(\"inf\"):\n",
    "            return -1\n",
    "        return final_answer"
   ]
  },
  {
   "cell_type": "code",
   "execution_count": null,
   "id": "001d3161",
   "metadata": {},
   "outputs": [],
   "source": []
  },
  {
   "cell_type": "code",
   "execution_count": null,
   "id": "8991d00c",
   "metadata": {},
   "outputs": [],
   "source": []
  },
  {
   "cell_type": "code",
   "execution_count": null,
   "id": "e6ba0904",
   "metadata": {},
   "outputs": [],
   "source": []
  },
  {
   "cell_type": "code",
   "execution_count": null,
   "id": "72e19517",
   "metadata": {},
   "outputs": [],
   "source": []
  },
  {
   "cell_type": "code",
   "execution_count": null,
   "id": "bfdc44a0",
   "metadata": {},
   "outputs": [],
   "source": []
  },
  {
   "cell_type": "code",
   "execution_count": null,
   "id": "d046b994",
   "metadata": {},
   "outputs": [],
   "source": []
  },
  {
   "cell_type": "code",
   "execution_count": null,
   "id": "772dfc9c",
   "metadata": {},
   "outputs": [],
   "source": []
  },
  {
   "cell_type": "code",
   "execution_count": null,
   "id": "e7a63e09",
   "metadata": {},
   "outputs": [],
   "source": []
  },
  {
   "cell_type": "code",
   "execution_count": null,
   "id": "192ec5c5",
   "metadata": {},
   "outputs": [],
   "source": []
  },
  {
   "cell_type": "code",
   "execution_count": null,
   "id": "53eec577",
   "metadata": {},
   "outputs": [],
   "source": []
  },
  {
   "cell_type": "code",
   "execution_count": null,
   "id": "d8dc4d65",
   "metadata": {},
   "outputs": [],
   "source": []
  },
  {
   "cell_type": "code",
   "execution_count": null,
   "id": "94ef8ea2",
   "metadata": {},
   "outputs": [],
   "source": []
  },
  {
   "cell_type": "code",
   "execution_count": null,
   "id": "b82fcd22",
   "metadata": {},
   "outputs": [],
   "source": []
  },
  {
   "cell_type": "code",
   "execution_count": null,
   "id": "407e1632",
   "metadata": {},
   "outputs": [],
   "source": []
  },
  {
   "cell_type": "code",
   "execution_count": null,
   "id": "4069ecfd",
   "metadata": {},
   "outputs": [],
   "source": []
  },
  {
   "cell_type": "code",
   "execution_count": null,
   "id": "15f5d2bb",
   "metadata": {},
   "outputs": [],
   "source": []
  },
  {
   "cell_type": "code",
   "execution_count": null,
   "id": "1e767b44",
   "metadata": {},
   "outputs": [],
   "source": []
  },
  {
   "cell_type": "code",
   "execution_count": null,
   "id": "814fff3a",
   "metadata": {},
   "outputs": [],
   "source": []
  },
  {
   "cell_type": "code",
   "execution_count": null,
   "id": "cd96a082",
   "metadata": {},
   "outputs": [],
   "source": []
  },
  {
   "cell_type": "code",
   "execution_count": null,
   "id": "28930d6b",
   "metadata": {},
   "outputs": [],
   "source": []
  },
  {
   "cell_type": "code",
   "execution_count": null,
   "id": "45f08fd1",
   "metadata": {},
   "outputs": [],
   "source": []
  },
  {
   "cell_type": "code",
   "execution_count": null,
   "id": "3710f41d",
   "metadata": {},
   "outputs": [],
   "source": []
  },
  {
   "cell_type": "code",
   "execution_count": null,
   "id": "b55d0551",
   "metadata": {},
   "outputs": [],
   "source": []
  },
  {
   "cell_type": "code",
   "execution_count": null,
   "id": "c7e2e8e5",
   "metadata": {},
   "outputs": [],
   "source": []
  },
  {
   "cell_type": "code",
   "execution_count": null,
   "id": "3cad93e4",
   "metadata": {},
   "outputs": [],
   "source": []
  },
  {
   "cell_type": "code",
   "execution_count": null,
   "id": "89037c29",
   "metadata": {},
   "outputs": [],
   "source": []
  },
  {
   "cell_type": "code",
   "execution_count": null,
   "id": "7b9f83bc",
   "metadata": {},
   "outputs": [],
   "source": []
  },
  {
   "cell_type": "code",
   "execution_count": null,
   "id": "4760f9a4",
   "metadata": {},
   "outputs": [],
   "source": []
  },
  {
   "cell_type": "code",
   "execution_count": null,
   "id": "21a88964",
   "metadata": {},
   "outputs": [],
   "source": []
  },
  {
   "cell_type": "code",
   "execution_count": null,
   "id": "9d9542be",
   "metadata": {},
   "outputs": [],
   "source": []
  },
  {
   "cell_type": "code",
   "execution_count": null,
   "id": "7728881f",
   "metadata": {},
   "outputs": [],
   "source": [
    "class Solution:\n",
    "    def minValidStrings(self, words: List[str], target: str) -> int:\n",
    "        self.Trie = dict()\n",
    "        for word in words:\n",
    "            cur = self.Trie\n",
    "            for letter in word:\n",
    "                if letter in cur:\n",
    "                    cur = cur[letter]\n",
    "                else:\n",
    "                    cur[letter] = dict()\n",
    "                    cur = cur[letter]\n",
    "\n",
    "        def helper(ans, target):\n",
    "            if not target:\n",
    "                return ans\n",
    "            possible_answers = []\n",
    "            if target[0] in self.cur:\n",
    "                self.cur = self.cur[target[0]]\n",
    "                possible_answers.append(helper(ans, target[1:]))\n",
    "            if target[0] in self.Trie:\n",
    "                self.cur = self.Trie[target[0]]\n",
    "                if (target, ans) not in seen:\n",
    "                    seen.add((target, ans))\n",
    "                    possible_answers.append(helper(ans+1, target[1:]))\n",
    "            if possible_answers:\n",
    "                return min(possible_answers)\n",
    "            return float(\"inf\")\n",
    "        \n",
    "        seen = set()\n",
    "        self.cur = self.Trie\n",
    "        final_answer = helper(1, target)\n",
    "        if final_answer == float(\"inf\"):\n",
    "            return -1\n",
    "        return final_answer"
   ]
  },
  {
   "cell_type": "code",
   "execution_count": null,
   "id": "a8fd42b2",
   "metadata": {},
   "outputs": [],
   "source": []
  },
  {
   "cell_type": "code",
   "execution_count": null,
   "id": "5e6884b6",
   "metadata": {},
   "outputs": [],
   "source": []
  },
  {
   "cell_type": "code",
   "execution_count": null,
   "id": "692d62c7",
   "metadata": {},
   "outputs": [],
   "source": []
  },
  {
   "cell_type": "code",
   "execution_count": null,
   "id": "18e6fb8f",
   "metadata": {},
   "outputs": [],
   "source": []
  },
  {
   "cell_type": "code",
   "execution_count": null,
   "id": "50c99250",
   "metadata": {},
   "outputs": [],
   "source": []
  },
  {
   "cell_type": "code",
   "execution_count": null,
   "id": "88ce2508",
   "metadata": {},
   "outputs": [],
   "source": []
  },
  {
   "cell_type": "code",
   "execution_count": null,
   "id": "c4e54f62",
   "metadata": {},
   "outputs": [],
   "source": []
  },
  {
   "cell_type": "code",
   "execution_count": null,
   "id": "85a9c8f9",
   "metadata": {},
   "outputs": [],
   "source": []
  },
  {
   "cell_type": "code",
   "execution_count": null,
   "id": "05c29486",
   "metadata": {},
   "outputs": [],
   "source": []
  },
  {
   "cell_type": "code",
   "execution_count": null,
   "id": "cd8eb469",
   "metadata": {},
   "outputs": [],
   "source": []
  },
  {
   "cell_type": "code",
   "execution_count": null,
   "id": "43358f5d",
   "metadata": {},
   "outputs": [],
   "source": []
  },
  {
   "cell_type": "code",
   "execution_count": null,
   "id": "b30ff958",
   "metadata": {},
   "outputs": [],
   "source": []
  },
  {
   "cell_type": "code",
   "execution_count": null,
   "id": "0a9d10a1",
   "metadata": {},
   "outputs": [],
   "source": []
  },
  {
   "cell_type": "code",
   "execution_count": null,
   "id": "82aa9cf3",
   "metadata": {},
   "outputs": [],
   "source": []
  },
  {
   "cell_type": "code",
   "execution_count": null,
   "id": "dee4db31",
   "metadata": {},
   "outputs": [],
   "source": []
  },
  {
   "cell_type": "code",
   "execution_count": null,
   "id": "fa3ccb79",
   "metadata": {},
   "outputs": [],
   "source": []
  },
  {
   "cell_type": "code",
   "execution_count": null,
   "id": "f7024716",
   "metadata": {},
   "outputs": [],
   "source": []
  },
  {
   "cell_type": "code",
   "execution_count": null,
   "id": "8349305f",
   "metadata": {},
   "outputs": [],
   "source": []
  },
  {
   "cell_type": "code",
   "execution_count": null,
   "id": "6fa4f4c0",
   "metadata": {},
   "outputs": [],
   "source": [
    "class Solution:\n",
    "    def minValidStrings(self, words: List[str], target: str) -> int:\n",
    "        self.Trie = dict()\n",
    "        for word in words:\n",
    "            cur = self.Trie\n",
    "            for letter in word:\n",
    "                if letter in cur:\n",
    "                    cur = cur[letter]\n",
    "                else:\n",
    "                    cur[letter] = dict()\n",
    "                    cur = cur[letter]\n",
    "\n",
    "        def helper(ans, i):\n",
    "            if i == len(target):\n",
    "                return ans\n",
    "            possible_answers = []\n",
    "            if target[i] in self.cur:\n",
    "                self.cur = self.cur[target[i]]\n",
    "                possible_answers.append(helper(ans, i+1))\n",
    "            if target[i] in self.Trie:\n",
    "                self.cur = self.Trie[target[i]]\n",
    "                if (i, ans) not in seen:\n",
    "                    seen.add((i, ans))\n",
    "                    possible_answers.append(helper(ans+1, i+1))\n",
    "            if possible_answers:\n",
    "                return min(possible_answers)\n",
    "            return float(\"inf\")\n",
    "        \n",
    "        seen = set()\n",
    "        self.cur = self.Trie\n",
    "        final_answer = helper(1, 0)\n",
    "        if final_answer == float(\"inf\"):\n",
    "            return -1\n",
    "        return final_answer"
   ]
  },
  {
   "cell_type": "code",
   "execution_count": null,
   "id": "a6c8ed96",
   "metadata": {},
   "outputs": [],
   "source": []
  },
  {
   "cell_type": "code",
   "execution_count": null,
   "id": "2244d359",
   "metadata": {},
   "outputs": [],
   "source": []
  },
  {
   "cell_type": "code",
   "execution_count": null,
   "id": "a2559c6d",
   "metadata": {},
   "outputs": [],
   "source": []
  },
  {
   "cell_type": "code",
   "execution_count": null,
   "id": "de2a07c8",
   "metadata": {},
   "outputs": [],
   "source": []
  },
  {
   "cell_type": "code",
   "execution_count": null,
   "id": "20c89c64",
   "metadata": {},
   "outputs": [],
   "source": []
  },
  {
   "cell_type": "code",
   "execution_count": null,
   "id": "93b6e551",
   "metadata": {},
   "outputs": [],
   "source": []
  },
  {
   "cell_type": "code",
   "execution_count": null,
   "id": "ad1993a8",
   "metadata": {},
   "outputs": [],
   "source": []
  },
  {
   "cell_type": "code",
   "execution_count": null,
   "id": "568b2771",
   "metadata": {},
   "outputs": [],
   "source": []
  },
  {
   "cell_type": "code",
   "execution_count": null,
   "id": "2f5d4ab2",
   "metadata": {},
   "outputs": [],
   "source": []
  },
  {
   "cell_type": "code",
   "execution_count": null,
   "id": "ed0a92ce",
   "metadata": {},
   "outputs": [],
   "source": []
  },
  {
   "cell_type": "code",
   "execution_count": null,
   "id": "ee0a15c5",
   "metadata": {},
   "outputs": [],
   "source": []
  },
  {
   "cell_type": "code",
   "execution_count": null,
   "id": "dd630845",
   "metadata": {},
   "outputs": [],
   "source": []
  },
  {
   "cell_type": "code",
   "execution_count": null,
   "id": "d39f1af7",
   "metadata": {},
   "outputs": [],
   "source": []
  },
  {
   "cell_type": "code",
   "execution_count": null,
   "id": "2845a6bc",
   "metadata": {},
   "outputs": [],
   "source": []
  },
  {
   "cell_type": "code",
   "execution_count": null,
   "id": "7f52a562",
   "metadata": {},
   "outputs": [],
   "source": [
    "class Solution:\n",
    "    def minValidStrings(self, words: List[str], target: str) -> int:\n",
    "        self.Trie = dict()\n",
    "        for word in words:\n",
    "            cur = self.Trie\n",
    "            for letter in word:\n",
    "                if letter in cur:\n",
    "                    cur = cur[letter]\n",
    "                else:\n",
    "                    cur[letter] = dict()\n",
    "                    cur = cur[letter]\n",
    "\n",
    "        def helper(ans, i):\n",
    "            if i == len(target):\n",
    "                return ans\n",
    "            possible_answers = []\n",
    "            if target[i] in self.cur:\n",
    "                self.cur = self.cur[target[i]]\n",
    "                possible_answers.append(helper(ans, i+1))\n",
    "            if target[i] in self.Trie:\n",
    "                self.cur = self.Trie[target[i]]\n",
    "                if i not in seen or seen[i] > ans:\n",
    "                    seen[i] = ans\n",
    "                    possible_answers.append(helper(ans+1, i+1))\n",
    "            if possible_answers:\n",
    "                return min(possible_answers)\n",
    "            return float(\"inf\")\n",
    "        \n",
    "        seen = dict()\n",
    "        self.cur = self.Trie\n",
    "        final_answer = helper(1, 0)\n",
    "        if final_answer == float(\"inf\"):\n",
    "            return -1\n",
    "        return final_answer"
   ]
  }
 ],
 "metadata": {
  "kernelspec": {
   "display_name": "Python 3 (ipykernel)",
   "language": "python",
   "name": "python3"
  },
  "language_info": {
   "codemirror_mode": {
    "name": "ipython",
    "version": 3
   },
   "file_extension": ".py",
   "mimetype": "text/x-python",
   "name": "python",
   "nbconvert_exporter": "python",
   "pygments_lexer": "ipython3",
   "version": "3.10.9"
  }
 },
 "nbformat": 4,
 "nbformat_minor": 5
}
