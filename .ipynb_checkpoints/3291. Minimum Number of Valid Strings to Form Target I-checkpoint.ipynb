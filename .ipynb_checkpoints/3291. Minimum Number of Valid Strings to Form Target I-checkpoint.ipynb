{
 "cells": [
  {
   "cell_type": "code",
   "execution_count": null,
   "id": "8a870cd2",
   "metadata": {},
   "outputs": [],
   "source": [
    "# 12,23s runtime\n",
    "# I am not proud of this answer, but I don't know for now how to do it better. It solves all the test cases that are currently on leetcode, but I think that some test cases could be created which would exceed the time limit\n",
    "class Solution:\n",
    "    def minValidStrings(self, words: List[str], target: str) -> int:\n",
    "        self.Trie = dict()\n",
    "        for word in words:\n",
    "            cur = self.Trie\n",
    "            for letter in word:\n",
    "                if letter in cur:\n",
    "                    cur = cur[letter]\n",
    "                else:\n",
    "                    cur[letter] = dict()\n",
    "                    cur = cur[letter]\n",
    "                    \n",
    "        def helper(ans, i):\n",
    "            if i == len(target):\n",
    "                return ans\n",
    "            if target[i] in self.cur:\n",
    "                self.cur = self.cur[target[i]]\n",
    "                return helper(ans, i+1)\n",
    "            elif target[i] in self.Trie:\n",
    "                self.cur = self.Trie[target[i]]\n",
    "                return helper(ans+1, i+1)\n",
    "            return float(\"inf\")\n",
    "    \n",
    "        def helper2(ans, i):\n",
    "            if i == len(target):\n",
    "                return ans\n",
    "            possible_answers = []\n",
    "            if target[i] in self.cur:\n",
    "                self.cur = self.cur[target[i]]\n",
    "                possible_answers.append(helper2(ans, i+1))\n",
    "            if target[i] in self.Trie:\n",
    "                self.cur = self.Trie[target[i]]\n",
    "                if i not in seen or seen[i] > ans:\n",
    "                    seen[i] = ans\n",
    "                    possible_answers.append(helper2(ans+1, i+1))\n",
    "            if possible_answers:\n",
    "                return min(possible_answers)\n",
    "            return float(\"inf\")\n",
    "        \n",
    "        seen = dict()\n",
    "        self.cur = self.Trie\n",
    "        final_answer = helper(1, 0)\n",
    "        max_word_len = 0\n",
    "        for word in words:\n",
    "            max_word_len = max(max_word_len, len(word))\n",
    "        if ceil(len(target)/max_word_len) == final_answer:\n",
    "            return final_answer\n",
    "        \n",
    "        self.cur = self.Trie\n",
    "        final_answer = helper2(1, 0)\n",
    "        if final_answer == float(\"inf\"):\n",
    "            return -1\n",
    "        return final_answer"
   ]
  }
 ],
 "metadata": {
  "kernelspec": {
   "display_name": "Python 3 (ipykernel)",
   "language": "python",
   "name": "python3"
  },
  "language_info": {
   "codemirror_mode": {
    "name": "ipython",
    "version": 3
   },
   "file_extension": ".py",
   "mimetype": "text/x-python",
   "name": "python",
   "nbconvert_exporter": "python",
   "pygments_lexer": "ipython3",
   "version": "3.10.9"
  }
 },
 "nbformat": 4,
 "nbformat_minor": 5
}
