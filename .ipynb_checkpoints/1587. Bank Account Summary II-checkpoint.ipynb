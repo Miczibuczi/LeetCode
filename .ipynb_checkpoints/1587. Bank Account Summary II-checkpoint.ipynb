{
 "cells": [
  {
   "cell_type": "code",
   "execution_count": null,
   "id": "82fcfb3d",
   "metadata": {},
   "outputs": [],
   "source": [
    "import pandas as pd\n",
    "\n",
    "def account_summary(users: pd.DataFrame, transactions: pd.DataFrame) -> pd.DataFrame:\n",
    "    transactions = transactions.groupby(by=\"account\").agg({\"amount\":sum})\n",
    "    df = users.merge(transactions, how=\"left\", on=\"account\")\n",
    "    df = df[df[\"amount\"] > 10000]\n",
    "    return df[[\"name\", \"amount\"]].rename(columns={\"amount\":\"balance\"})"
   ]
  }
 ],
 "metadata": {
  "kernelspec": {
   "display_name": "Python 3 (ipykernel)",
   "language": "python",
   "name": "python3"
  },
  "language_info": {
   "codemirror_mode": {
    "name": "ipython",
    "version": 3
   },
   "file_extension": ".py",
   "mimetype": "text/x-python",
   "name": "python",
   "nbconvert_exporter": "python",
   "pygments_lexer": "ipython3",
   "version": "3.10.9"
  }
 },
 "nbformat": 4,
 "nbformat_minor": 5
}
