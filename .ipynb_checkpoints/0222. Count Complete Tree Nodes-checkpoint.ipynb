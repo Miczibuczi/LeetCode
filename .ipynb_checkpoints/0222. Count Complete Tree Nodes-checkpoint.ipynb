{
 "cells": [
  {
   "cell_type": "code",
   "execution_count": null,
   "id": "a2fbebd3",
   "metadata": {},
   "outputs": [],
   "source": [
    "# Definition for a binary tree node.\n",
    "# class TreeNode:\n",
    "#     def __init__(self, val=0, left=None, right=None):\n",
    "#         self.val = val\n",
    "#         self.left = left\n",
    "#         self.right = right\n",
    "class Solution:\n",
    "    def countNodes(self, root: Optional[TreeNode]) -> int:\n",
    "        def Traverse(node, depth):\n",
    "            if depth == self.max_depth and not node:\n",
    "                return 2**depth-1+self.count\n",
    "            elif not node:\n",
    "                return\n",
    "            if depth > self.max_depth:\n",
    "                self.max_depth = depth\n",
    "                self.count = 0\n",
    "            if depth == self.max_depth:\n",
    "                self.count += 1\n",
    "            return Traverse(node.left, depth+1) or Traverse(node.right, depth+1)\n",
    "        \n",
    "        if not root:\n",
    "            return 0\n",
    "        self.count = 0\n",
    "        self.max_depth = 0\n",
    "        return Traverse(root, 0) or 2**(self.max_depth+1)-1"
   ]
  }
 ],
 "metadata": {
  "kernelspec": {
   "display_name": "Python 3 (ipykernel)",
   "language": "python",
   "name": "python3"
  },
  "language_info": {
   "codemirror_mode": {
    "name": "ipython",
    "version": 3
   },
   "file_extension": ".py",
   "mimetype": "text/x-python",
   "name": "python",
   "nbconvert_exporter": "python",
   "pygments_lexer": "ipython3",
   "version": "3.10.9"
  }
 },
 "nbformat": 4,
 "nbformat_minor": 5
}
