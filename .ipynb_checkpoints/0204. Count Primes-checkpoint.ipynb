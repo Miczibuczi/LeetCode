{
 "cells": [
  {
   "cell_type": "code",
   "execution_count": null,
   "id": "9f51ebfa",
   "metadata": {},
   "outputs": [],
   "source": [
    "# Working solution, but exceeds the time\n",
    "class Solution:\n",
    "    def countPrimes(self, n: int) -> int:\n",
    "        ans = 0\n",
    "        for i in range(2, n):\n",
    "            for j in range(2, int(sqrt(i))+1):\n",
    "                if i % j == 0:\n",
    "                    break\n",
    "            else:\n",
    "                ans += 1\n",
    "        return ans"
   ]
  },
  {
   "cell_type": "code",
   "execution_count": null,
   "id": "8d41e4aa",
   "metadata": {},
   "outputs": [],
   "source": [
    "# Not my answer, but a briliant one\n",
    "class Solution:\n",
    "    def countPrimes(self, n: int) -> int:\n",
    "        if n < 3:\n",
    "            return 0\n",
    "        primes = [True] * n\n",
    "        primes[0] = primes[1] = False\n",
    "        for i in range(2, int(n ** 0.5) + 1):\n",
    "            if primes[i]:\n",
    "                primes[i * i: n: i] = [False] * len(primes[i * i: n: i])\n",
    "        return sum(primes)"
   ]
  }
 ],
 "metadata": {
  "kernelspec": {
   "display_name": "Python 3 (ipykernel)",
   "language": "python",
   "name": "python3"
  },
  "language_info": {
   "codemirror_mode": {
    "name": "ipython",
    "version": 3
   },
   "file_extension": ".py",
   "mimetype": "text/x-python",
   "name": "python",
   "nbconvert_exporter": "python",
   "pygments_lexer": "ipython3",
   "version": "3.10.9"
  }
 },
 "nbformat": 4,
 "nbformat_minor": 5
}
