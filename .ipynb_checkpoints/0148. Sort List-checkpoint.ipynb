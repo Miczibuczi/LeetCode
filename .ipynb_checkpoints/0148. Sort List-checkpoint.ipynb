{
 "cells": [
  {
   "cell_type": "code",
   "execution_count": null,
   "id": "7b5ed5d2",
   "metadata": {},
   "outputs": [],
   "source": [
    "# Definition for singly-linked list.\n",
    "# class ListNode:\n",
    "#     def __init__(self, val=0, next=None):\n",
    "#         self.val = val\n",
    "#         self.next = next\n",
    "class Solution:\n",
    "    def sortList(self, head: Optional[ListNode]) -> Optional[ListNode]:\n",
    "        stack = []\n",
    "        indexes = []\n",
    "        cur_indx = 0\n",
    "        while head:\n",
    "            stack.append(head)\n",
    "            indexes.append(([head.val], cur_indx))\n",
    "            head = head.next\n",
    "            cur_indx += 1\n",
    "        indexes.sort(key = lambda x: x[0])\n",
    "        head = ListNode(None, None)\n",
    "        answer = head\n",
    "        for item in indexes:\n",
    "            head.next = stack[item[1]]\n",
    "            head = head.next\n",
    "        head.next = None\n",
    "        \n",
    "        return answer.next"
   ]
  },
  {
   "cell_type": "code",
   "execution_count": null,
   "id": "90bce10e",
   "metadata": {},
   "outputs": [],
   "source": [
    "# Not mine solution, uses constant space\n",
    "\n",
    "class Solution(object):\n",
    "    def sortList(self, head):\n",
    "        if not head or not head.next:\n",
    "            return head\n",
    "        fast, slow = head.next, head\n",
    "        while fast and fast.next:\n",
    "            fast = fast.next.next\n",
    "            slow = slow.next\n",
    "        start = slow.next\n",
    "        slow.next = None\n",
    "        l, r = self.sortList(head), self.sortList(start)\n",
    "        return self.merge(l, r)\n",
    "        \n",
    "        \n",
    "    def merge(self, l, r):\n",
    "        if not l or not r:\n",
    "            return l or r\n",
    "        dummy = p = ListNode(0)\n",
    "        while l and r:\n",
    "            if l.val < r.val:\n",
    "                p.next = l\n",
    "                l = l.next\n",
    "            else:\n",
    "                p.next = r\n",
    "                r = r.next\n",
    "            p = p.next\n",
    "        p.next = l or r\n",
    "        return dummy.next"
   ]
  }
 ],
 "metadata": {
  "kernelspec": {
   "display_name": "Python 3 (ipykernel)",
   "language": "python",
   "name": "python3"
  },
  "language_info": {
   "codemirror_mode": {
    "name": "ipython",
    "version": 3
   },
   "file_extension": ".py",
   "mimetype": "text/x-python",
   "name": "python",
   "nbconvert_exporter": "python",
   "pygments_lexer": "ipython3",
   "version": "3.10.9"
  }
 },
 "nbformat": 4,
 "nbformat_minor": 5
}
