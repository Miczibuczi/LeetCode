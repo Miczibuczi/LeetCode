{
 "cells": [
  {
   "cell_type": "code",
   "execution_count": null,
   "id": "9011e061",
   "metadata": {},
   "outputs": [],
   "source": [
    "import pandas as pd\n",
    "from decimal import Decimal, ROUND_HALF_UP\n",
    "\n",
    "def queries_stats(queries: pd.DataFrame) -> pd.DataFrame:\n",
    "    def round_decimal(value):\n",
    "        return Decimal(str(value)).quantize(Decimal('0.01'), rounding=ROUND_HALF_UP)\n",
    "    queries = queries.dropna(subset=[\"query_name\"])\n",
    "    queries['query_name'] = pd.Categorical(queries['query_name'], categories=queries['query_name'].unique(), ordered=True)\n",
    "    queries[\"quality\"] = (queries[\"rating\"]/queries[\"position\"])\n",
    "    queries[\"poor_query_percentage\"] = queries[\"rating\"].apply(lambda x: 100 if x<3 else 0)\n",
    "    queries = queries.groupby(by=\"query_name\").agg({\n",
    "        \"quality\":lambda x: round_decimal(x.mean()),\n",
    "        \"poor_query_percentage\": lambda x: round_decimal(x.mean())})\n",
    "    return queries.reset_index()"
   ]
  },
  {
   "cell_type": "code",
   "execution_count": null,
   "id": "ab4ccdc7",
   "metadata": {},
   "outputs": [],
   "source": [
    "import pandas as pd\n",
    "\n",
    "def queries_stats(queries: pd.DataFrame) -> pd.DataFrame:\n",
    "    queries = queries.dropna(subset=[\"query_name\"])\n",
    "    queries['query_name'] = pd.Categorical(queries['query_name'], categories=queries['query_name'].unique(), ordered=True)\n",
    "    queries[\"quality\"] = (queries[\"rating\"]/queries[\"position\"])\n",
    "    queries[\"poor_query_percentage\"] = queries[\"rating\"].apply(lambda x: 100 if x<3 else 0)\n",
    "    queries = queries.groupby(by=\"query_name\").agg({\n",
    "        \"quality\":lambda x: round(x.mean()+0.0000000001, 2),\n",
    "        \"poor_query_percentage\": lambda x: round(x.mean(), 2)})\n",
    "    return queries.reset_index()"
   ]
  }
 ],
 "metadata": {
  "kernelspec": {
   "display_name": "Python 3 (ipykernel)",
   "language": "python",
   "name": "python3"
  },
  "language_info": {
   "codemirror_mode": {
    "name": "ipython",
    "version": 3
   },
   "file_extension": ".py",
   "mimetype": "text/x-python",
   "name": "python",
   "nbconvert_exporter": "python",
   "pygments_lexer": "ipython3",
   "version": "3.10.9"
  }
 },
 "nbformat": 4,
 "nbformat_minor": 5
}
