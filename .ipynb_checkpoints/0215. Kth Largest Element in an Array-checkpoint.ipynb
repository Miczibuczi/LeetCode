{
 "cells": [
  {
   "cell_type": "code",
   "execution_count": null,
   "id": "eeffe5ca",
   "metadata": {},
   "outputs": [],
   "source": [
    "class Solution:\n",
    "    def findKthLargest(self, nums: List[int], k: int) -> int:\n",
    "        ans = []\n",
    "        for i in range(k):\n",
    "            heappush(ans, nums[i])\n",
    "        for j in range(i+1, len(nums)):\n",
    "            heappushpop(ans, nums[j])\n",
    "        return ans[-k]"
   ]
  }
 ],
 "metadata": {
  "kernelspec": {
   "display_name": "Python 3 (ipykernel)",
   "language": "python",
   "name": "python3"
  },
  "language_info": {
   "codemirror_mode": {
    "name": "ipython",
    "version": 3
   },
   "file_extension": ".py",
   "mimetype": "text/x-python",
   "name": "python",
   "nbconvert_exporter": "python",
   "pygments_lexer": "ipython3",
   "version": "3.10.9"
  }
 },
 "nbformat": 4,
 "nbformat_minor": 5
}
