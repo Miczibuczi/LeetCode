{
 "cells": [
  {
   "cell_type": "code",
   "execution_count": 10,
   "id": "ad84e8c5",
   "metadata": {},
   "outputs": [],
   "source": [
    "class Solution:\n",
    "    def largestNumber(self, nums: List[int]) -> str:\n",
    "        ans = \"\"\n",
    "        curr_list = []\n",
    "        for num in nums:\n",
    "            num = str(num)\n",
    "            curr_list.append(num)\n",
    "        while curr_list:\n",
    "            highest = \"0\"\n",
    "            for num in curr_list:\n",
    "                x = math.lcm(len(num), len(highest))\n",
    "                if int(num*int(x/len(num))) > int(highest*int(x/len(highest))):\n",
    "                    highest = num\n",
    "            ans += highest\n",
    "            curr_list.remove(highest)\n",
    "        if ans[0] == \"0\":\n",
    "            return \"0\"\n",
    "        return ans"
   ]
  }
 ],
 "metadata": {
  "kernelspec": {
   "display_name": "Python 3 (ipykernel)",
   "language": "python",
   "name": "python3"
  },
  "language_info": {
   "codemirror_mode": {
    "name": "ipython",
    "version": 3
   },
   "file_extension": ".py",
   "mimetype": "text/x-python",
   "name": "python",
   "nbconvert_exporter": "python",
   "pygments_lexer": "ipython3",
   "version": "3.10.9"
  }
 },
 "nbformat": 4,
 "nbformat_minor": 5
}
