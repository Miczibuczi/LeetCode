{
 "cells": [
  {
   "cell_type": "code",
   "execution_count": null,
   "id": "9aaf155e",
   "metadata": {},
   "outputs": [],
   "source": [
    "# More time efficient solution generated with help of ChatGPT\n",
    "import pandas as pd\n",
    "\n",
    "def order_scores(scores: pd.DataFrame) -> pd.DataFrame:\n",
    "    if len(scores) == 0:\n",
    "        return pd.DataFrame({\"score\": [], \"rank\": []})\n",
    "    scores.sort_values(by=\"score\", inplace=True, ascending=False)\n",
    "    scores['rank'] = scores['score'].rank(method='dense', ascending=False).astype(int)\n",
    "    return scores[['score', 'rank']]"
   ]
  },
  {
   "cell_type": "code",
   "execution_count": null,
   "id": "86db15c1",
   "metadata": {},
   "outputs": [],
   "source": [
    "# First answer\n",
    "import pandas as pd\n",
    "\n",
    "def order_scores(scores: pd.DataFrame) -> pd.DataFrame:\n",
    "    if len(scores)==0:\n",
    "        return pd.DataFrame({\"score\":[], \"rank\":[]})\n",
    "    scores.sort_values(by=\"score\", inplace=True, ascending=False)\n",
    "    prev = scores.iloc[0, 1]\n",
    "    scores[\"rank\"] = pd.NA\n",
    "    i = 1\n",
    "    for j, score in enumerate(scores.score):\n",
    "        if score < prev:\n",
    "            i += 1\n",
    "            prev = score\n",
    "        scores.iloc[j, 2] = i\n",
    "    return scores[[\"score\", \"rank\"]]"
   ]
  }
 ],
 "metadata": {
  "kernelspec": {
   "display_name": "Python 3 (ipykernel)",
   "language": "python",
   "name": "python3"
  },
  "language_info": {
   "codemirror_mode": {
    "name": "ipython",
    "version": 3
   },
   "file_extension": ".py",
   "mimetype": "text/x-python",
   "name": "python",
   "nbconvert_exporter": "python",
   "pygments_lexer": "ipython3",
   "version": "3.10.9"
  }
 },
 "nbformat": 4,
 "nbformat_minor": 5
}
