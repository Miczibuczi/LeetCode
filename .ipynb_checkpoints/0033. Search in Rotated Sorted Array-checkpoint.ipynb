{
 "cells": [
  {
   "cell_type": "code",
   "execution_count": null,
   "id": "98f06bf2",
   "metadata": {},
   "outputs": [],
   "source": [
    "class Solution:\n",
    "    def search(self, nums: List[int], target: int) -> int:\n",
    "        left = 0\n",
    "        right = len(nums)-1\n",
    "        while right >= left:\n",
    "            mid = (left+right)//2\n",
    "            if nums[mid] == target:\n",
    "                return mid\n",
    "            elif target < nums[mid]:\n",
    "                if target < nums[left]:\n",
    "                    if nums[mid] < nums[left]:\n",
    "                        right = mid-1\n",
    "                    elif nums[mid] >= nums[left]:\n",
    "                        left = mid+1\n",
    "                elif target > nums[left]:\n",
    "                    right = mid-1\n",
    "                else:\n",
    "                    return left\n",
    "            elif target > nums[mid]:\n",
    "                if target < nums[left]:\n",
    "                    left = mid+1\n",
    "                elif target > nums[left]:\n",
    "                    if nums[mid] < nums[left]:\n",
    "                        right = mid-1\n",
    "                    elif nums[mid] >= nums[left]:\n",
    "                        left = mid+1\n",
    "                else:\n",
    "                    return left\n",
    "        return -1"
   ]
  }
 ],
 "metadata": {
  "kernelspec": {
   "display_name": "Python 3 (ipykernel)",
   "language": "python",
   "name": "python3"
  },
  "language_info": {
   "codemirror_mode": {
    "name": "ipython",
    "version": 3
   },
   "file_extension": ".py",
   "mimetype": "text/x-python",
   "name": "python",
   "nbconvert_exporter": "python",
   "pygments_lexer": "ipython3",
   "version": "3.10.9"
  }
 },
 "nbformat": 4,
 "nbformat_minor": 5
}
