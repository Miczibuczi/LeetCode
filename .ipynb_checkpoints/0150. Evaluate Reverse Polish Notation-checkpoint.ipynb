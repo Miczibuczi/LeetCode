{
 "cells": [
  {
   "cell_type": "code",
   "execution_count": null,
   "id": "1f7a601d",
   "metadata": {},
   "outputs": [],
   "source": [
    "class Solution:\n",
    "    def evalRPN(self, tokens: List[str]) -> int:\n",
    "        stack = []\n",
    "        for token in tokens:\n",
    "            if token == \"+\":\n",
    "                stack[-1] = stack[-2]+stack.pop()\n",
    "            elif token == \"-\":\n",
    "                stack[-1] = stack[-2]-stack.pop()\n",
    "            elif token == \"*\":\n",
    "                stack[-1] = stack[-2]*stack.pop()\n",
    "            elif token == \"/\":\n",
    "                stack[-1] = int(stack[-2]/stack.pop())\n",
    "            else:\n",
    "                stack.append(int(token))\n",
    "        return stack[-1]"
   ]
  }
 ],
 "metadata": {
  "kernelspec": {
   "display_name": "Python 3 (ipykernel)",
   "language": "python",
   "name": "python3"
  },
  "language_info": {
   "codemirror_mode": {
    "name": "ipython",
    "version": 3
   },
   "file_extension": ".py",
   "mimetype": "text/x-python",
   "name": "python",
   "nbconvert_exporter": "python",
   "pygments_lexer": "ipython3",
   "version": "3.10.9"
  }
 },
 "nbformat": 4,
 "nbformat_minor": 5
}
