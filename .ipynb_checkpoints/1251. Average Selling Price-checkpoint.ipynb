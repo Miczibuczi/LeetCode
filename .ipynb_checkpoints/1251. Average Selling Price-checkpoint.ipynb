{
 "cells": [
  {
   "cell_type": "code",
   "execution_count": null,
   "id": "63504556",
   "metadata": {},
   "outputs": [],
   "source": [
    "import pandas as pd\n",
    "from decimal import Decimal, ROUND_HALF_UP\n",
    "\n",
    "def average_selling_price(prices: pd.DataFrame, units_sold: pd.DataFrame) -> pd.DataFrame:\n",
    "    df = units_sold.merge(prices, on=\"product_id\", how=\"left\")\n",
    "    df = df[df[\"purchase_date\"].between(df[\"start_date\"], df[\"end_date\"], inclusive=\"both\")]\n",
    "    df[\"total_price\"] = df[\"units\"]*df[\"price\"]\n",
    "    df = df.groupby(by=\"product_id\").agg({\n",
    "        \"total_price\":sum,\n",
    "        \"units\":sum\n",
    "    }).reset_index()\n",
    "    df[\"average_price\"] = df[\"total_price\"]/df[\"units\"]\n",
    "    df[\"average_price\"] = df[\"average_price\"].apply(lambda x: Decimal(str(x)).quantize(Decimal(\"0.01\"), rounding=ROUND_HALF_UP))\n",
    "    seen = set(units_sold[\"product_id\"])\n",
    "    for product_id in prices[\"product_id\"]:\n",
    "        if product_id not in seen:\n",
    "            df = df._append({\"product_id\":product_id, \"average_price\":0}, ignore_index=True)\n",
    "    return df[[\"product_id\", \"average_price\"]]"
   ]
  }
 ],
 "metadata": {
  "kernelspec": {
   "display_name": "Python 3 (ipykernel)",
   "language": "python",
   "name": "python3"
  },
  "language_info": {
   "codemirror_mode": {
    "name": "ipython",
    "version": 3
   },
   "file_extension": ".py",
   "mimetype": "text/x-python",
   "name": "python",
   "nbconvert_exporter": "python",
   "pygments_lexer": "ipython3",
   "version": "3.10.9"
  }
 },
 "nbformat": 4,
 "nbformat_minor": 5
}
