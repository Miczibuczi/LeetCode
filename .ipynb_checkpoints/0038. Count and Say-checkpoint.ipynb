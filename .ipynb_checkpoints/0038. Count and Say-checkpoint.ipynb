{
 "cells": [
  {
   "cell_type": "code",
   "execution_count": null,
   "id": "bd911f0f",
   "metadata": {},
   "outputs": [],
   "source": [
    "class Solution:\n",
    "    def countAndSay(self, n: int) -> str:\n",
    "        def helper(cur):\n",
    "            self.ans = \"\"\n",
    "            count = 1\n",
    "            cur_num = cur[0]\n",
    "            for num in cur[1:]:\n",
    "                if num == cur_num:\n",
    "                    count += 1\n",
    "                else:\n",
    "                    self.ans += str(count)+cur_num\n",
    "                    count = 1\n",
    "                    cur_num = num\n",
    "            self.ans += str(count)+cur_num\n",
    "\n",
    "        self.ans = \"1\"\n",
    "        for i in range(n-1):\n",
    "            helper(self.ans)\n",
    "        return self.ans"
   ]
  }
 ],
 "metadata": {
  "kernelspec": {
   "display_name": "Python 3 (ipykernel)",
   "language": "python",
   "name": "python3"
  },
  "language_info": {
   "codemirror_mode": {
    "name": "ipython",
    "version": 3
   },
   "file_extension": ".py",
   "mimetype": "text/x-python",
   "name": "python",
   "nbconvert_exporter": "python",
   "pygments_lexer": "ipython3",
   "version": "3.10.9"
  }
 },
 "nbformat": 4,
 "nbformat_minor": 5
}
