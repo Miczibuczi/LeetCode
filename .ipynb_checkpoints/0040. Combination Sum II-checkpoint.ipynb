{
 "cells": [
  {
   "cell_type": "code",
   "execution_count": null,
   "id": "cbc5b29f",
   "metadata": {},
   "outputs": [],
   "source": [
    "class Solution:\n",
    "    def combinationSum2(self, candidates: List[int], target: int) -> List[List[int]]:\n",
    "        def helper(start_index, cur_ans, cur_target):\n",
    "            if tuple(cur_ans) in seen:\n",
    "                return\n",
    "            seen.add(tuple(cur_ans))\n",
    "            for i in range(start_index, len(candidates)):\n",
    "                if cur_target < candidates[i]:\n",
    "                    break\n",
    "                elif cur_target == candidates[i]:\n",
    "                    ans.append(cur_ans+[candidates[i]])\n",
    "                    break\n",
    "                else:\n",
    "                    helper(i+1, cur_ans+[candidates[i]], cur_target-candidates[i])\n",
    "\n",
    "\n",
    "        seen = set()\n",
    "        ans = []\n",
    "        candidates.sort()\n",
    "        helper(0, [], target)\n",
    "        return {tuple(item) for item in ans}"
   ]
  }
 ],
 "metadata": {
  "kernelspec": {
   "display_name": "Python 3 (ipykernel)",
   "language": "python",
   "name": "python3"
  },
  "language_info": {
   "codemirror_mode": {
    "name": "ipython",
    "version": 3
   },
   "file_extension": ".py",
   "mimetype": "text/x-python",
   "name": "python",
   "nbconvert_exporter": "python",
   "pygments_lexer": "ipython3",
   "version": "3.10.9"
  }
 },
 "nbformat": 4,
 "nbformat_minor": 5
}
