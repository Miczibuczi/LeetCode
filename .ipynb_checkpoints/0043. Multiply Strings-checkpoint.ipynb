{
 "cells": [
  {
   "cell_type": "code",
   "execution_count": null,
   "id": "1d612d0d",
   "metadata": {},
   "outputs": [],
   "source": [
    "class Solution:\n",
    "    def multiply(self, num1: str, num2: str) -> str:\n",
    "        def change(num):\n",
    "            out = 0\n",
    "            for i, num in enumerate(num[::-1]):\n",
    "                if num == \"1\":\n",
    "                    out += 10**i\n",
    "                elif num == \"2\":\n",
    "                    out += 2*10**i\n",
    "                elif num == \"3\":\n",
    "                    out += 3*10**i\n",
    "                elif num == \"4\":\n",
    "                    out += 4*10**i\n",
    "                elif num == \"5\":\n",
    "                    out += 5*10**i\n",
    "                elif num == \"6\":\n",
    "                    out += 6*10**i\n",
    "                elif num == \"7\":\n",
    "                    out += 7*10**i\n",
    "                elif num == \"8\":\n",
    "                    out += 8*10**i\n",
    "                elif num == \"9\":\n",
    "                    out += 9*10**i\n",
    "            return out\n",
    "        \n",
    "        num1 = change(num1)\n",
    "        num2 = change(num2)\n",
    "        return str(num1*num2)"
   ]
  },
  {
   "cell_type": "code",
   "execution_count": null,
   "id": "72a97231",
   "metadata": {},
   "outputs": [],
   "source": [
    "# First answer, not efficient in terms of time\n",
    "class Solution:\n",
    "    def multiply(self, num1: str, num2: str) -> str:\n",
    "        ans = 0\n",
    "        power1 = -1\n",
    "        for digit1 in num1[::-1]:\n",
    "            power1 += 1\n",
    "            power2 = -1\n",
    "            for digit2 in num2[::-1]:\n",
    "                power2 += 1\n",
    "                ans += (int(digit1)*10**power1)*(int(digit2)*10**power2)\n",
    "        return str(ans)"
   ]
  }
 ],
 "metadata": {
  "kernelspec": {
   "display_name": "Python 3 (ipykernel)",
   "language": "python",
   "name": "python3"
  },
  "language_info": {
   "codemirror_mode": {
    "name": "ipython",
    "version": 3
   },
   "file_extension": ".py",
   "mimetype": "text/x-python",
   "name": "python",
   "nbconvert_exporter": "python",
   "pygments_lexer": "ipython3",
   "version": "3.10.9"
  }
 },
 "nbformat": 4,
 "nbformat_minor": 5
}
