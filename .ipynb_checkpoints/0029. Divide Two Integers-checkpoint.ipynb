{
 "cells": [
  {
   "cell_type": "code",
   "execution_count": null,
   "id": "8e684e47",
   "metadata": {},
   "outputs": [],
   "source": [
    "class Solution:\n",
    "    def divide(self, dividend: int, divisor: int) -> int:\n",
    "        ans = 0\n",
    "        negative = dividend < 0\n",
    "        if divisor < 0:\n",
    "            negative = not negative\n",
    "        dividend, divisor = abs(dividend), abs(divisor)\n",
    "        if divisor == 1:\n",
    "            if dividend < 2**31-1 and not negative or dividend < 2**31 and negative:\n",
    "                return dividend * (-1 if negative else 1)\n",
    "            elif dividend >= 2**31-1 and not negative:\n",
    "                return 2**31-1\n",
    "            else:\n",
    "                return -1*2**31\n",
    "\n",
    "        cur_divisor = divisor\n",
    "        power = 1\n",
    "        while dividend >= cur_divisor:\n",
    "            power += 1\n",
    "            cur_divisor = divisor ** power        \n",
    "        power -= 1\n",
    "        cur_divisor = divisor ** power\n",
    "        while power > 0:\n",
    "            print(\"start\", ans, cur_divisor, power, dividend)\n",
    "            while dividend >= cur_divisor:\n",
    "                dividend -= (divisor)**power\n",
    "                ans += (divisor)**(power-1)\n",
    "            power -= 1\n",
    "            cur_divisor = divisor ** power\n",
    "        return ans * (-1 if negative else 1)"
   ]
  }
 ],
 "metadata": {
  "kernelspec": {
   "display_name": "Python 3 (ipykernel)",
   "language": "python",
   "name": "python3"
  },
  "language_info": {
   "codemirror_mode": {
    "name": "ipython",
    "version": 3
   },
   "file_extension": ".py",
   "mimetype": "text/x-python",
   "name": "python",
   "nbconvert_exporter": "python",
   "pygments_lexer": "ipython3",
   "version": "3.10.9"
  }
 },
 "nbformat": 4,
 "nbformat_minor": 5
}
