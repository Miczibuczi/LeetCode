{
 "cells": [
  {
   "cell_type": "code",
   "execution_count": null,
   "id": "8224f0ea",
   "metadata": {},
   "outputs": [],
   "source": [
    "# Brilliant answers:\n",
    "# 0221. Maximal Square\n",
    "# 0373. Find K Pairs with Smallest Sums\n",
    "# 0918. Maximum Sum Circular Subarray\n",
    "# 1503. Last Moment Before All Ants Fall Out of a Plank [Runtime beats 100% other solutions]\n",
    "# 3122. Minimum Number of Operations to Satisfy Conditions [188ms runtime, beats 100% other solutions]"
   ]
  }
 ],
 "metadata": {
  "kernelspec": {
   "display_name": "Python 3 (ipykernel)",
   "language": "python",
   "name": "python3"
  },
  "language_info": {
   "codemirror_mode": {
    "name": "ipython",
    "version": 3
   },
   "file_extension": ".py",
   "mimetype": "text/x-python",
   "name": "python",
   "nbconvert_exporter": "python",
   "pygments_lexer": "ipython3",
   "version": "3.10.9"
  }
 },
 "nbformat": 4,
 "nbformat_minor": 5
}
