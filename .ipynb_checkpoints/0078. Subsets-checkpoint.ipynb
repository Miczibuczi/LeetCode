{
 "cells": [
  {
   "cell_type": "code",
   "execution_count": null,
   "id": "71196626",
   "metadata": {},
   "outputs": [],
   "source": [
    "class Solution:\n",
    "    def subsets(self, nums: List[int]) -> List[List[int]]:\n",
    "        def helper(start, cur_ans):\n",
    "            for i in range(start, len(nums)+1):\n",
    "                if i == len(nums):\n",
    "                    ans.append(cur_ans)\n",
    "                else:\n",
    "                    helper(i+1, cur_ans+[nums[i]])\n",
    "        ans = []\n",
    "        helper(0, [])\n",
    "        return ans"
   ]
  }
 ],
 "metadata": {
  "kernelspec": {
   "display_name": "Python 3 (ipykernel)",
   "language": "python",
   "name": "python3"
  },
  "language_info": {
   "codemirror_mode": {
    "name": "ipython",
    "version": 3
   },
   "file_extension": ".py",
   "mimetype": "text/x-python",
   "name": "python",
   "nbconvert_exporter": "python",
   "pygments_lexer": "ipython3",
   "version": "3.10.9"
  }
 },
 "nbformat": 4,
 "nbformat_minor": 5
}
