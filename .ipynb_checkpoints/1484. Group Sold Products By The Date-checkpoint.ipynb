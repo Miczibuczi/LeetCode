{
 "cells": [
  {
   "cell_type": "code",
   "execution_count": null,
   "id": "d85b550a",
   "metadata": {},
   "outputs": [],
   "source": [
    "import pandas as pd\n",
    "\n",
    "def categorize_products(activities: pd.DataFrame) -> pd.DataFrame:\n",
    "    activities = activities.groupby(by=\"sell_date\").agg(\n",
    "        num_sold = (\"product\", lambda x: len(set(x))),\n",
    "        products = (\"product\", lambda x: \",\".join(sorted(set(x))))\n",
    "    ).reset_index()\n",
    "    return activities[[\"sell_date\", \"num_sold\", \"products\"]]"
   ]
  },
  {
   "cell_type": "code",
   "execution_count": null,
   "id": "89e9f97f",
   "metadata": {},
   "outputs": [],
   "source": [
    "# First answer. The output looks the same as the expected one, but it's not accepted by LeetCode\n",
    "import pandas as pd\n",
    "\n",
    "def categorize_products(activities: pd.DataFrame) -> pd.DataFrame:\n",
    "    activities = activities.groupby(by=\"sell_date\").agg(\n",
    "        num_sold = (\"product\", lambda x: len(set(x))),\n",
    "        products = (\"product\", lambda x: x.sort_values().drop_duplicates())\n",
    "    ).reset_index()\n",
    "    return activities[[\"sell_date\", \"num_sold\", \"products\"]]"
   ]
  }
 ],
 "metadata": {
  "kernelspec": {
   "display_name": "Python 3 (ipykernel)",
   "language": "python",
   "name": "python3"
  },
  "language_info": {
   "codemirror_mode": {
    "name": "ipython",
    "version": 3
   },
   "file_extension": ".py",
   "mimetype": "text/x-python",
   "name": "python",
   "nbconvert_exporter": "python",
   "pygments_lexer": "ipython3",
   "version": "3.10.9"
  }
 },
 "nbformat": 4,
 "nbformat_minor": 5
}
