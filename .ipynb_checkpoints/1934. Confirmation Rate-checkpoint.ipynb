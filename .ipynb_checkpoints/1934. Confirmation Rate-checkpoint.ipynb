{
 "cells": [
  {
   "cell_type": "code",
   "execution_count": null,
   "id": "36c0a83d",
   "metadata": {},
   "outputs": [],
   "source": [
    "import pandas as pd\n",
    "\n",
    "def confirmation_rate(signups: pd.DataFrame, confirmations: pd.DataFrame) -> pd.DataFrame:\n",
    "    confirmations = confirmations.groupby(\"user_id\").agg(\n",
    "        confirmed = (\"action\", lambda x: (x == \"confirmed\").sum()),\n",
    "        total = (\"action\", \"count\")\n",
    "    ).reset_index()\n",
    "    confirmations[\"confirmation_rate\"] = (confirmations[\"confirmed\"]/confirmations[\"total\"]).round(2)\n",
    "    df = signups.merge(confirmations, how=\"left\", on=\"user_id\")\n",
    "    df.fillna(0.00, inplace=True)\n",
    "    return df[[\"user_id\", \"confirmation_rate\"]]"
   ]
  }
 ],
 "metadata": {
  "kernelspec": {
   "display_name": "Python 3 (ipykernel)",
   "language": "python",
   "name": "python3"
  },
  "language_info": {
   "codemirror_mode": {
    "name": "ipython",
    "version": 3
   },
   "file_extension": ".py",
   "mimetype": "text/x-python",
   "name": "python",
   "nbconvert_exporter": "python",
   "pygments_lexer": "ipython3",
   "version": "3.10.9"
  }
 },
 "nbformat": 4,
 "nbformat_minor": 5
}
