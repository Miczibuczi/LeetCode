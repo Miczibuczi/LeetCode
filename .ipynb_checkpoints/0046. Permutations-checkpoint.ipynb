{
 "cells": [
  {
   "cell_type": "code",
   "execution_count": null,
   "id": "55fbad3f",
   "metadata": {},
   "outputs": [],
   "source": [
    "class Solution:\n",
    "    def permute(self, nums: List[int]) -> List[List[int]]:\n",
    "        nums = set(nums)\n",
    "        self.ans = []\n",
    "        self.helper([], nums)\n",
    "        return self.ans\n",
    "\n",
    "    def helper(self, cur_list, nums):\n",
    "        for num in nums:\n",
    "            if num in cur_list:\n",
    "                continue\n",
    "            nums.remove(num)\n",
    "            if nums:\n",
    "                self.helper(cur_list+[num], nums.copy())\n",
    "            else:\n",
    "                self.ans.append(cur_list+[num])\n",
    "            nums.add(num)"
   ]
  }
 ],
 "metadata": {
  "kernelspec": {
   "display_name": "Python 3 (ipykernel)",
   "language": "python",
   "name": "python3"
  },
  "language_info": {
   "codemirror_mode": {
    "name": "ipython",
    "version": 3
   },
   "file_extension": ".py",
   "mimetype": "text/x-python",
   "name": "python",
   "nbconvert_exporter": "python",
   "pygments_lexer": "ipython3",
   "version": "3.10.9"
  }
 },
 "nbformat": 4,
 "nbformat_minor": 5
}
