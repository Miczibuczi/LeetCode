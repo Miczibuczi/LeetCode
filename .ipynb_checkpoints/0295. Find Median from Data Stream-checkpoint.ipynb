{
 "cells": [
  {
   "cell_type": "code",
   "execution_count": null,
   "id": "a1decb15",
   "metadata": {},
   "outputs": [],
   "source": [
    "class MedianFinder:\n",
    "\n",
    "    def __init__(self):\n",
    "        self.left = []\n",
    "        self.mid = deque()\n",
    "        self.right = []        \n",
    "\n",
    "    def addNum(self, num: int) -> None:\n",
    "        self.mid.append(num)\n",
    "\n",
    "    def findMedian(self) -> float:\n",
    "        self.mid = deque(sorted(self.mid))\n",
    "        while len(self.mid) > 2:\n",
    "            heappush(self.left, -self.mid.popleft())\n",
    "            heappush(self.right, self.mid.pop())\n",
    "        if self.left:\n",
    "            while -self.left[0] > self.right[0]:\n",
    "                heappush(self.right, -heapreplace(self.left, -self.right.pop()))\n",
    "            if -self.left[0] > self.mid[0]:\n",
    "                self.mid[0] = -heapreplace(self.left, -self.mid[0])\n",
    "            if self.right[0] < self.mid[-1]:\n",
    "                self.mid[-1] = heapreplace(self.right, self.mid[-1])\n",
    "        return sum(self.mid)/len(self.mid)\n",
    "\n",
    "# Your MedianFinder object will be instantiated and called as such:\n",
    "# obj = MedianFinder()\n",
    "# obj.addNum(num)\n",
    "# param_2 = obj.findMedian()"
   ]
  },
  {
   "cell_type": "code",
   "execution_count": null,
   "id": "fc2a4110",
   "metadata": {},
   "outputs": [],
   "source": [
    "# First answer, not time efficient\n",
    "\n",
    "class MedianFinder:\n",
    "\n",
    "    def __init__(self):\n",
    "        self.data = []\n",
    "\n",
    "    def addNum(self, num: int) -> None:\n",
    "        insort(self.data, num)\n",
    "\n",
    "    def findMedian(self) -> float:\n",
    "        if len(self.data) % 2 == 1:\n",
    "            return self.data[len(self.data)//2]\n",
    "        return (self.data[len(self.data)//2-1]+self.data[len(self.data)//2])/2\n",
    "\n",
    "\n",
    "# Your MedianFinder object will be instantiated and called as such:\n",
    "# obj = MedianFinder()\n",
    "# obj.addNum(num)\n",
    "# param_2 = obj.findMedian()"
   ]
  }
 ],
 "metadata": {
  "kernelspec": {
   "display_name": "Python 3 (ipykernel)",
   "language": "python",
   "name": "python3"
  },
  "language_info": {
   "codemirror_mode": {
    "name": "ipython",
    "version": 3
   },
   "file_extension": ".py",
   "mimetype": "text/x-python",
   "name": "python",
   "nbconvert_exporter": "python",
   "pygments_lexer": "ipython3",
   "version": "3.10.9"
  }
 },
 "nbformat": 4,
 "nbformat_minor": 5
}
