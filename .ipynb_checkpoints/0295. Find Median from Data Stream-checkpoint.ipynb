{
 "cells": [
  {
   "cell_type": "code",
   "execution_count": null,
   "id": "fc2a4110",
   "metadata": {},
   "outputs": [],
   "source": [
    "class MedianFinder:\n",
    "\n",
    "    def __init__(self):\n",
    "        self.data = []\n",
    "\n",
    "    def addNum(self, num: int) -> None:\n",
    "        insort(self.data, num)\n",
    "\n",
    "    def findMedian(self) -> float:\n",
    "        if len(self.data) % 2 == 1:\n",
    "            return self.data[len(self.data)//2]\n",
    "        return (self.data[len(self.data)//2-1]+self.data[len(self.data)//2])/2\n",
    "\n",
    "\n",
    "# Your MedianFinder object will be instantiated and called as such:\n",
    "# obj = MedianFinder()\n",
    "# obj.addNum(num)\n",
    "# param_2 = obj.findMedian()"
   ]
  },
  {
   "cell_type": "code",
   "execution_count": null,
   "id": "ceec380b",
   "metadata": {},
   "outputs": [],
   "source": [
    "# Time Limit Exceeded\n",
    "class MedianFinder:\n",
    "\n",
    "    def __init__(self):\n",
    "        self.data = []\n",
    "\n",
    "    def addNum(self, num: int) -> None:\n",
    "        self.data.append(num)\n",
    "\n",
    "    def findMedian(self) -> float:\n",
    "        def helper(nums, k):\n",
    "            left = []\n",
    "            cur = nums[0]\n",
    "            right = []\n",
    "            for num in nums[1:]:\n",
    "                if num < cur:\n",
    "                    left.append(num)\n",
    "                else:\n",
    "                    right.append(num)\n",
    "            if self.two_nums:\n",
    "                if len(left) == k:\n",
    "                    self.two_nums = False\n",
    "                    return (cur+helper(left, k))/2\n",
    "                elif len(left) > k:\n",
    "                    return helper(left, k)\n",
    "                elif len(left)+1 < k:\n",
    "                    return helper(right, k-len(left)-1)\n",
    "                else:\n",
    "                    self.two_nums = False\n",
    "                    return (cur+helper(right, 1))/2\n",
    "            else:\n",
    "                if len(left) >= k:\n",
    "                    return helper(left, k)\n",
    "                elif len(left)+1 < k:\n",
    "                    return helper(right, k-len(left)-1)\n",
    "                else:\n",
    "                    return cur\n",
    "        self.two_nums = len(self.data) % 2 == 0\n",
    "        return helper(self.data, (len(self.data)+1)//2)\n",
    "\n",
    "# Your MedianFinder object will be instantiated and called as such:\n",
    "# obj = MedianFinder()\n",
    "# obj.addNum(num)\n",
    "# param_2 = obj.findMedian()"
   ]
  }
 ],
 "metadata": {
  "kernelspec": {
   "display_name": "Python 3 (ipykernel)",
   "language": "python",
   "name": "python3"
  },
  "language_info": {
   "codemirror_mode": {
    "name": "ipython",
    "version": 3
   },
   "file_extension": ".py",
   "mimetype": "text/x-python",
   "name": "python",
   "nbconvert_exporter": "python",
   "pygments_lexer": "ipython3",
   "version": "3.10.9"
  }
 },
 "nbformat": 4,
 "nbformat_minor": 5
}
