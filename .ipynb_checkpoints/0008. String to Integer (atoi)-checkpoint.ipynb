{
 "cells": [
  {
   "cell_type": "code",
   "execution_count": null,
   "id": "1f06c701",
   "metadata": {},
   "outputs": [],
   "source": [
    "class Solution:\n",
    "    def myAtoi(self, s: str) -> int:\n",
    "        def create_string(i):\n",
    "            nonlocal ans\n",
    "            for digit in s[i:]:\n",
    "                if not digit.isdigit():\n",
    "                    break\n",
    "                else:\n",
    "                    ans += digit\n",
    "        negative = False\n",
    "        ans = \"0\"\n",
    "        for i, sign in enumerate(s):\n",
    "            if sign == \" \":\n",
    "                continue\n",
    "            elif sign == \"-\":\n",
    "                negative = True\n",
    "                create_string(i+1)\n",
    "            elif sign == \"+\":\n",
    "                create_string(i+1)\n",
    "            else:\n",
    "                create_string(i)\n",
    "            break\n",
    "        if negative:\n",
    "            out = -int(ans)\n",
    "            if out > -2**31:\n",
    "                return out\n",
    "            else:\n",
    "                return -2**31\n",
    "        else:\n",
    "            out = int(ans)\n",
    "            if out < 2**31-1:\n",
    "                return out\n",
    "            else:\n",
    "                return 2**31-1"
   ]
  }
 ],
 "metadata": {
  "kernelspec": {
   "display_name": "Python 3 (ipykernel)",
   "language": "python",
   "name": "python3"
  },
  "language_info": {
   "codemirror_mode": {
    "name": "ipython",
    "version": 3
   },
   "file_extension": ".py",
   "mimetype": "text/x-python",
   "name": "python",
   "nbconvert_exporter": "python",
   "pygments_lexer": "ipython3",
   "version": "3.10.9"
  }
 },
 "nbformat": 4,
 "nbformat_minor": 5
}
