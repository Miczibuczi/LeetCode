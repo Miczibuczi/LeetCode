{
 "cells": [
  {
   "cell_type": "code",
   "execution_count": null,
   "id": "7dca9474",
   "metadata": {},
   "outputs": [],
   "source": [
    "\"\"\"\n",
    "# Definition for a QuadTree node.\n",
    "class Node:\n",
    "    def __init__(self, val, isLeaf, topLeft, topRight, bottomLeft, bottomRight):\n",
    "        self.val = val\n",
    "        self.isLeaf = isLeaf\n",
    "        self.topLeft = topLeft\n",
    "        self.topRight = topRight\n",
    "        self.bottomLeft = bottomLeft\n",
    "        self.bottomRight = bottomRight\n",
    "\"\"\"\n",
    "\n",
    "class Solution:\n",
    "    def construct(self, grid: List[List[int]]) -> 'Node':\n",
    "        self.grid = grid\n",
    "        i = len(grid)\n",
    "        j = len(grid[0])\n",
    "        root = self.helper(0, i, 0, j)\n",
    "        return root\n",
    "\n",
    "    def helper(self, start_i, stop_i, start_j, stop_j):\n",
    "        val = self.grid[start_i][start_j]\n",
    "        isLeaf = True\n",
    "        for i in range(start_i, stop_i):\n",
    "            for j in range(start_j, stop_j):\n",
    "                if self.grid[i][j] != val:\n",
    "                    isLeaf = False\n",
    "                    break\n",
    "        if isLeaf:\n",
    "            return Node(val, isLeaf, None, None, None, None)\n",
    "        else:\n",
    "            topLeft = self.helper(start_i, (start_i+stop_i)//2, start_j, (start_j+stop_j)//2)\n",
    "            topRight = self.helper (start_i, (start_i+stop_i)//2, (start_j+stop_j)//2, stop_j)\n",
    "            bottomLeft = self.helper((start_i+stop_i)//2, stop_i, start_j, (start_j+stop_j)//2)\n",
    "            bottomRight = self.helper((start_i+stop_i)//2, stop_i, ((start_j+stop_j)//2), stop_j)\n",
    "            return Node(val, isLeaf, topLeft, topRight, bottomLeft, bottomRight)"
   ]
  }
 ],
 "metadata": {
  "kernelspec": {
   "display_name": "Python 3 (ipykernel)",
   "language": "python",
   "name": "python3"
  },
  "language_info": {
   "codemirror_mode": {
    "name": "ipython",
    "version": 3
   },
   "file_extension": ".py",
   "mimetype": "text/x-python",
   "name": "python",
   "nbconvert_exporter": "python",
   "pygments_lexer": "ipython3",
   "version": "3.10.9"
  }
 },
 "nbformat": 4,
 "nbformat_minor": 5
}
