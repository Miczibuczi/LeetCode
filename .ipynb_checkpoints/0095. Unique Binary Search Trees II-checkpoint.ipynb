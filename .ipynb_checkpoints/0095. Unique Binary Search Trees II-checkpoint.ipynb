{
 "cells": [
  {
   "cell_type": "code",
   "execution_count": null,
   "id": "04dafde0",
   "metadata": {},
   "outputs": [],
   "source": [
    "# Definition for a binary tree node.\n",
    "# class TreeNode:\n",
    "#     def __init__(self, val=0, left=None, right=None):\n",
    "#         self.val = val\n",
    "#         self.left = left\n",
    "#         self.right = right\n",
    "class Solution:\n",
    "    def generateTrees(self, n: int) -> List[Optional[TreeNode]]:\n",
    "        def buildTree(nums):\n",
    "            root = TreeNode(nums[0])\n",
    "            for num in nums[1:]:\n",
    "                head = root\n",
    "                while True:\n",
    "                    if head.val > num:\n",
    "                        if not head.left:\n",
    "                            head.left = TreeNode(num)\n",
    "                            break\n",
    "                        else:\n",
    "                            head = head.left\n",
    "                    elif head.val < num:\n",
    "                        if not head.right:\n",
    "                            head.right = TreeNode(num)\n",
    "                            break\n",
    "                        else:\n",
    "                            head = head.right\n",
    "            self.ans.append(root)\n",
    "\n",
    "        def helper(cur, lists):\n",
    "            if not lists:\n",
    "                buildTree(cur)\n",
    "                return\n",
    "            my_list = lists[0]\n",
    "            if my_list == []:\n",
    "                helper(cur, lists[1:])\n",
    "                return\n",
    "            if type(my_list) == int:\n",
    "                helper(cur+[my_list], lists[1:])\n",
    "            else:\n",
    "                for i in range(len(my_list)):\n",
    "                    helper(cur+[my_list[i]], [my_list[:i]]+[my_list[i+1:]]+lists[1:])\n",
    "        \n",
    "        self.ans = []\n",
    "        helper([], [[x for x in range(1, n+1)]])\n",
    "        return self.ans"
   ]
  }
 ],
 "metadata": {
  "kernelspec": {
   "display_name": "Python 3 (ipykernel)",
   "language": "python",
   "name": "python3"
  },
  "language_info": {
   "codemirror_mode": {
    "name": "ipython",
    "version": 3
   },
   "file_extension": ".py",
   "mimetype": "text/x-python",
   "name": "python",
   "nbconvert_exporter": "python",
   "pygments_lexer": "ipython3",
   "version": "3.10.9"
  }
 },
 "nbformat": 4,
 "nbformat_minor": 5
}
