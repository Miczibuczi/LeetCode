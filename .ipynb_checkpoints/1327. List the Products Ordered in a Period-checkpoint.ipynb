{
 "cells": [
  {
   "cell_type": "code",
   "execution_count": null,
   "id": "456c6839",
   "metadata": {},
   "outputs": [],
   "source": [
    "import pandas as pd\n",
    "\n",
    "def list_products(products: pd.DataFrame, orders: pd.DataFrame) -> pd.DataFrame:\n",
    "    orders = orders[orders[\"order_date\"].between(pd.Timestamp(\"2020-02-01\"), pd.Timestamp(\"2020-02-29\"), inclusive=\"both\")]\n",
    "    products = products.merge(orders, how=\"right\", on=\"product_id\")\n",
    "    products = products.groupby(by=[\"product_id\", \"product_name\"]).agg({\"unit\":sum}).reset_index()\n",
    "    products = products[products[\"unit\"] >= 100]\n",
    "    return products[[\"product_name\", \"unit\"]]"
   ]
  }
 ],
 "metadata": {
  "kernelspec": {
   "display_name": "Python 3 (ipykernel)",
   "language": "python",
   "name": "python3"
  },
  "language_info": {
   "codemirror_mode": {
    "name": "ipython",
    "version": 3
   },
   "file_extension": ".py",
   "mimetype": "text/x-python",
   "name": "python",
   "nbconvert_exporter": "python",
   "pygments_lexer": "ipython3",
   "version": "3.10.9"
  }
 },
 "nbformat": 4,
 "nbformat_minor": 5
}
