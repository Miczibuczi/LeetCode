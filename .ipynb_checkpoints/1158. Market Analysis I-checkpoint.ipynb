{
 "cells": [
  {
   "cell_type": "code",
   "execution_count": null,
   "id": "e8187e18",
   "metadata": {},
   "outputs": [],
   "source": [
    "import pandas as pd\n",
    "\n",
    "def market_analysis(users: pd.DataFrame, orders: pd.DataFrame, items: pd.DataFrame) -> pd.DataFrame:\n",
    "    orders = orders[orders[\"order_date\"].between(pd.Timestamp(\"2019-01-01\"), pd.Timestamp(\"2019-12-31\"), inclusive=\"both\")]\n",
    "    orders = orders.groupby(\"buyer_id\").size().reset_index(name=\"orders_in_2019\")\n",
    "    orders = orders.merge(users[[\"user_id\", \"join_date\"]], how=\"right\", left_on=\"buyer_id\", right_on=\"user_id\")\n",
    "    orders.fillna(0, inplace=True)\n",
    "    return orders[[\"user_id\", \"join_date\", \"orders_in_2019\"]].rename(columns={\"user_id\":\"buyer_id\"})"
   ]
  },
  {
   "cell_type": "code",
   "execution_count": null,
   "id": "97f63deb",
   "metadata": {},
   "outputs": [],
   "source": [
    "# First answer, the same approach but more code\n",
    "import pandas as pd\n",
    "\n",
    "def market_analysis(users: pd.DataFrame, orders: pd.DataFrame, items: pd.DataFrame) -> pd.DataFrame:\n",
    "    orders = orders[\n",
    "        (pd.Timestamp(\"2019-01-01\") <= orders[\"order_date\"])&\n",
    "        (pd.Timestamp(\"2019-12-31\") >= orders[\"order_date\"])\n",
    "        ]\n",
    "    orders = orders.groupby(\"buyer_id\").size().reset_index(name=\"orders_in_2019\")\n",
    "    orders = orders.merge(users[[\"user_id\", \"join_date\"]], how=\"right\", left_on=\"buyer_id\", right_on=\"user_id\")\n",
    "    orders.fillna(0, inplace=True)\n",
    "    return orders[[\"user_id\", \"join_date\", \"orders_in_2019\"]].rename(columns={\"user_id\":\"buyer_id\"})"
   ]
  }
 ],
 "metadata": {
  "kernelspec": {
   "display_name": "Python 3 (ipykernel)",
   "language": "python",
   "name": "python3"
  },
  "language_info": {
   "codemirror_mode": {
    "name": "ipython",
    "version": 3
   },
   "file_extension": ".py",
   "mimetype": "text/x-python",
   "name": "python",
   "nbconvert_exporter": "python",
   "pygments_lexer": "ipython3",
   "version": "3.10.9"
  }
 },
 "nbformat": 4,
 "nbformat_minor": 5
}
