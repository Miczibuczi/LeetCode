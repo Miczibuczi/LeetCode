{
 "cells": [
  {
   "cell_type": "code",
   "execution_count": null,
   "id": "3e8fd0c6",
   "metadata": {},
   "outputs": [],
   "source": [
    "class Solution:\n",
    "    def calcEquation(self, equations: List[List[str]], values: List[float], queries: List[List[str]]) -> List[float]:\n",
    "        value = defaultdict(list)\n",
    "        for i, equation in enumerate(equations):\n",
    "            if equation[0] not in value:\n",
    "                value[equation[0]] = [(1, equation[0])]\n",
    "            value[equation[1]].append((value[equation[0]][0][0]/values[i], value[equation[0]][0][1]))\n",
    "        \n",
    "        ans = []\n",
    "        for computation in queries:\n",
    "            no_answer = True\n",
    "            for item1 in value[computation[0]]:\n",
    "                if no_answer:\n",
    "                    for item2 in value[computation[1]]:\n",
    "                        if item1[1] == item2[1]:\n",
    "                            ans.append(item1[0]/item2[0])\n",
    "                            no_answer = False\n",
    "                            break\n",
    "            if no_answer:\n",
    "                ans.append(-1)\n",
    "        return ans"
   ]
  }
 ],
 "metadata": {
  "kernelspec": {
   "display_name": "Python 3 (ipykernel)",
   "language": "python",
   "name": "python3"
  },
  "language_info": {
   "codemirror_mode": {
    "name": "ipython",
    "version": 3
   },
   "file_extension": ".py",
   "mimetype": "text/x-python",
   "name": "python",
   "nbconvert_exporter": "python",
   "pygments_lexer": "ipython3",
   "version": "3.10.9"
  }
 },
 "nbformat": 4,
 "nbformat_minor": 5
}
