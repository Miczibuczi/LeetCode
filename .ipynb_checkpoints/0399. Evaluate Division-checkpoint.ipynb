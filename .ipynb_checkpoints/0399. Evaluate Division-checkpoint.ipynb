{
 "cells": [
  {
   "cell_type": "code",
   "execution_count": null,
   "id": "4fa108e8",
   "metadata": {},
   "outputs": [],
   "source": [
    "class Solution:\n",
    "    def calcEquation(self, equations: List[List[str]], values: List[float], queries: List[List[str]]) -> List[float]:\n",
    "        def find_answer(x, y, multiplier):\n",
    "            for item in my_dictionary[x]:\n",
    "                seen.add(x)\n",
    "                if item[0] == y:\n",
    "                    return multiplier*item[1]\n",
    "                else:\n",
    "                    if item[0] not in seen:\n",
    "                        potential_answer = find_answer(item[0], y, multiplier*item[1])\n",
    "                        if potential_answer != -1:\n",
    "                            return potential_answer\n",
    "            return -1\n",
    "\n",
    "        my_dictionary = defaultdict(list)\n",
    "        for i, equation in enumerate(equations):\n",
    "            my_dictionary[equation[0]].append((equation[1], values[i]))\n",
    "            my_dictionary[equation[1]].append((equation[0], 1/values[i]))\n",
    "        \n",
    "        ans = []\n",
    "        for query in queries:\n",
    "            seen = set()\n",
    "            ans.append(find_answer(query[0], query[1], 1))\n",
    "        \n",
    "        return ans"
   ]
  }
 ],
 "metadata": {
  "kernelspec": {
   "display_name": "Python 3 (ipykernel)",
   "language": "python",
   "name": "python3"
  },
  "language_info": {
   "codemirror_mode": {
    "name": "ipython",
    "version": 3
   },
   "file_extension": ".py",
   "mimetype": "text/x-python",
   "name": "python",
   "nbconvert_exporter": "python",
   "pygments_lexer": "ipython3",
   "version": "3.10.9"
  }
 },
 "nbformat": 4,
 "nbformat_minor": 5
}
