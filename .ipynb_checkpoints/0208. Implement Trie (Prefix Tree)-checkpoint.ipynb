{
 "cells": [
  {
   "cell_type": "code",
   "execution_count": null,
   "id": "d3f0cb35",
   "metadata": {},
   "outputs": [],
   "source": [
    "class Trie:\n",
    "\n",
    "    def __init__(self):\n",
    "        self.my_Trie = {}\n",
    "\n",
    "    def insert(self, word: str) -> None:\n",
    "        dummy = self.my_Trie\n",
    "        for letter in word:\n",
    "            if letter not in dummy:\n",
    "                dummy[letter] = {}\n",
    "            dummy = dummy[letter]\n",
    "        dummy[None] = None\n",
    "\n",
    "    def search(self, word: str) -> bool:\n",
    "        dummy = self.my_Trie\n",
    "        for letter in word:\n",
    "            if letter not in dummy:\n",
    "                return False\n",
    "            dummy = dummy[letter]\n",
    "        return True if None in dummy else False\n",
    "\n",
    "    def startsWith(self, prefix: str) -> bool:\n",
    "        dummy = self.my_Trie\n",
    "        for letter in prefix:\n",
    "            if letter not in dummy:\n",
    "                return False\n",
    "            dummy = dummy[letter]\n",
    "        return True\n",
    "\n",
    "# Your Trie object will be instantiated and called as such:\n",
    "# obj = Trie()\n",
    "# obj.insert(word)\n",
    "# param_2 = obj.search(word)\n",
    "# param_3 = obj.startsWith(prefix)"
   ]
  }
 ],
 "metadata": {
  "kernelspec": {
   "display_name": "Python 3 (ipykernel)",
   "language": "python",
   "name": "python3"
  },
  "language_info": {
   "codemirror_mode": {
    "name": "ipython",
    "version": 3
   },
   "file_extension": ".py",
   "mimetype": "text/x-python",
   "name": "python",
   "nbconvert_exporter": "python",
   "pygments_lexer": "ipython3",
   "version": "3.10.9"
  }
 },
 "nbformat": 4,
 "nbformat_minor": 5
}
