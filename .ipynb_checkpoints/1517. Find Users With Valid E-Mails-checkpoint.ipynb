{
 "cells": [
  {
   "cell_type": "code",
   "execution_count": 5,
   "id": "0967d2de",
   "metadata": {},
   "outputs": [],
   "source": [
    "import pandas as pd\n",
    "\n",
    "def valid_emails(users: pd.DataFrame) -> pd.DataFrame:\n",
    "    valid = set()\n",
    "    for mail in users.mail:\n",
    "        if mail.count(\"@\") != 1:\n",
    "            continue\n",
    "        prefix, domain = mail.split(\"@\")\n",
    "        if domain != \"leetcode.com\":\n",
    "            continue\n",
    "        if not prefix[0].isalpha():\n",
    "            continue\n",
    "        for letter in prefix:\n",
    "            if not (letter.isalnum() or letter in \"_.-\"):\n",
    "                 break\n",
    "        else:\n",
    "            valid.add(mail)\n",
    "    users = users[users[\"mail\"].isin(valid)]\n",
    "    return users"
   ]
  }
 ],
 "metadata": {
  "kernelspec": {
   "display_name": "Python 3 (ipykernel)",
   "language": "python",
   "name": "python3"
  },
  "language_info": {
   "codemirror_mode": {
    "name": "ipython",
    "version": 3
   },
   "file_extension": ".py",
   "mimetype": "text/x-python",
   "name": "python",
   "nbconvert_exporter": "python",
   "pygments_lexer": "ipython3",
   "version": "3.10.9"
  }
 },
 "nbformat": 4,
 "nbformat_minor": 5
}
