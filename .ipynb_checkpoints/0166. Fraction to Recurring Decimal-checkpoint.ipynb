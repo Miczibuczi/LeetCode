{
 "cells": [
  {
   "cell_type": "code",
   "execution_count": null,
   "id": "7337f1e6",
   "metadata": {},
   "outputs": [],
   "source": [
    "class Solution:\n",
    "    def fractionToDecimal(self, numerator: int, denominator: int) -> str:\n",
    "        ans = \"\"\n",
    "        x = numerator // denominator\n",
    "        numerator %= denominator\n",
    "        if numerator == 0:\n",
    "            return str(x)\n",
    "        elif x < 0:\n",
    "            x += 1\n",
    "            numerator = denominator - numerator\n",
    "            if x > -1:\n",
    "                ans += \"-\"\n",
    "        ans += str(x) + \".\"\n",
    "        seen = dict()\n",
    "        i = len(ans)\n",
    "        while numerator != 0:\n",
    "            if numerator in seen:\n",
    "                return ans[:seen[numerator]] + \"(\" + ans[seen[numerator]:] + \")\"\n",
    "            else:\n",
    "                seen[numerator] = i\n",
    "                i += 1\n",
    "                numerator *= 10\n",
    "                x = numerator // denominator\n",
    "                numerator %= denominator\n",
    "                ans += str(x)\n",
    "        return ans"
   ]
  }
 ],
 "metadata": {
  "kernelspec": {
   "display_name": "Python 3 (ipykernel)",
   "language": "python",
   "name": "python3"
  },
  "language_info": {
   "codemirror_mode": {
    "name": "ipython",
    "version": 3
   },
   "file_extension": ".py",
   "mimetype": "text/x-python",
   "name": "python",
   "nbconvert_exporter": "python",
   "pygments_lexer": "ipython3",
   "version": "3.10.9"
  }
 },
 "nbformat": 4,
 "nbformat_minor": 5
}
