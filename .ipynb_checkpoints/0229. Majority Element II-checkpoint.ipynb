{
 "cells": [
  {
   "cell_type": "code",
   "execution_count": null,
   "id": "4bae4fb3",
   "metadata": {},
   "outputs": [],
   "source": [
    "class Solution:\n",
    "    def majorityElement(self, nums: List[int]) -> List[int]:\n",
    "        ans = set()\n",
    "        seen = defaultdict(int)\n",
    "        cap = len(nums)/3\n",
    "        for num in nums:\n",
    "            seen[num] += 1\n",
    "            if seen[num] > cap:\n",
    "                ans.add(num)\n",
    "        return ans"
   ]
  }
 ],
 "metadata": {
  "kernelspec": {
   "display_name": "Python 3 (ipykernel)",
   "language": "python",
   "name": "python3"
  },
  "language_info": {
   "codemirror_mode": {
    "name": "ipython",
    "version": 3
   },
   "file_extension": ".py",
   "mimetype": "text/x-python",
   "name": "python",
   "nbconvert_exporter": "python",
   "pygments_lexer": "ipython3",
   "version": "3.10.9"
  }
 },
 "nbformat": 4,
 "nbformat_minor": 5
}
