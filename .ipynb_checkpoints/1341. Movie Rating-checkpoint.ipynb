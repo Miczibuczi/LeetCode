{
 "cells": [
  {
   "cell_type": "code",
   "execution_count": null,
   "id": "17353653",
   "metadata": {},
   "outputs": [],
   "source": [
    "import pandas as pd\n",
    "\n",
    "def movie_rating(movies: pd.DataFrame, users: pd.DataFrame, movie_rating: pd.DataFrame) -> pd.DataFrame:\n",
    "    most_rates = movie_rating.groupby(\"user_id\").size().reset_index(name=\"count\")\n",
    "    highest_count = most_rates[\"count\"].max()\n",
    "    most_rates = most_rates[most_rates[\"count\"] == highest_count]\n",
    "    most_rates = most_rates.merge(users, how=\"left\", on=\"user_id\")\n",
    "    most_rates = most_rates.sort_values(by=\"name\")\n",
    "    most_rates.reset_index(inplace=True)\n",
    "\n",
    "    movie_rating = movie_rating[movie_rating[\"created_at\"].between(pd.Timestamp(\"2020-02-01\"), pd.Timestamp(\"2020-03-01\"), inclusive=\"left\")]\n",
    "    movie_rating = movie_rating.groupby(by=\"movie_id\").agg({\"rating\":\"mean\"}).reset_index()\n",
    "    max_rating = movie_rating[\"rating\"].max()\n",
    "    movie_rating = movie_rating[movie_rating[\"rating\"] == max_rating]\n",
    "    movie_rating = movie_rating.merge(movies, how=\"left\", on=\"movie_id\")\n",
    "    movie_rating = movie_rating.sort_values(by=\"title\")\n",
    "    movie_rating.reset_index(inplace=True)\n",
    "\n",
    "    return pd.DataFrame({\"results\":[most_rates.loc[0, \"name\"], movie_rating.loc[0, \"title\"]]})"
   ]
  }
 ],
 "metadata": {
  "kernelspec": {
   "display_name": "Python 3 (ipykernel)",
   "language": "python",
   "name": "python3"
  },
  "language_info": {
   "codemirror_mode": {
    "name": "ipython",
    "version": 3
   },
   "file_extension": ".py",
   "mimetype": "text/x-python",
   "name": "python",
   "nbconvert_exporter": "python",
   "pygments_lexer": "ipython3",
   "version": "3.10.9"
  }
 },
 "nbformat": 4,
 "nbformat_minor": 5
}
