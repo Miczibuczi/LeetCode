{
 "cells": [
  {
   "cell_type": "code",
   "execution_count": null,
   "id": "18998b9a",
   "metadata": {},
   "outputs": [],
   "source": [
    "class Solution:\n",
    "    def exist(self, board: List[List[str]], word: str) -> bool:\n",
    "        my_dictionary = defaultdict(set)\n",
    "        for i in range(len(board)):\n",
    "            for j in range(len(board[0])):\n",
    "                my_dictionary[board[i][j]].add((i, j))\n",
    "\n",
    "        def check(i, j, seen, k):\n",
    "            if (i, j) in seen:\n",
    "                return\n",
    "            if k == len(word)-1:\n",
    "                return True\n",
    "            for l, m in my_dictionary[word[k+1]]:\n",
    "                if ((i-1 == l or i+1 == l) and j == m) or ((j+1 == m or j-1 == m) and i == l):\n",
    "                    seen.add((i, j))\n",
    "                    if check(l, m, seen, k+1):\n",
    "                        return True\n",
    "                    seen.remove((i, j))\n",
    "            return False\n",
    "        \n",
    "        for letter in word:\n",
    "            if letter not in my_dictionary:\n",
    "                return False\n",
    "                \n",
    "        for i, j in my_dictionary[word[0]]:\n",
    "            if check(i, j, set(), 0):\n",
    "                return True\n",
    "        return False"
   ]
  },
  {
   "cell_type": "code",
   "execution_count": null,
   "id": "b8689968",
   "metadata": {},
   "outputs": [],
   "source": [
    "# Firs answer, less efficient in terms of time\n",
    "\n",
    "class Solution:\n",
    "    def exist(self, board: List[List[str]], word: str) -> bool:      \n",
    "        def check(i, j, seen, k):\n",
    "            if (i, j) in seen:\n",
    "                return\n",
    "            if board[i][j] == word[k]:\n",
    "                seen.add((i, j))\n",
    "                if k == len(word)-1:\n",
    "                    return True\n",
    "                if (\n",
    "                    (i > 0 and check(i-1, j, seen, k+1))\n",
    "                    or (i < len(board)-1 and check(i+1, j, seen, k+1))\n",
    "                    or (j > 0 and check(i, j-1, seen, k+1))\n",
    "                    or (j < len(board[0])-1 and check(i, j+1, seen, k+1))\n",
    "                ):\n",
    "                    return True\n",
    "                seen.remove((i, j))\n",
    "        \n",
    "        for i in range(len(board)):\n",
    "            for j in range(len(board[0])):\n",
    "                if check(i, j, set(), 0):\n",
    "                    return True\n",
    "        return False"
   ]
  }
 ],
 "metadata": {
  "kernelspec": {
   "display_name": "Python 3 (ipykernel)",
   "language": "python",
   "name": "python3"
  },
  "language_info": {
   "codemirror_mode": {
    "name": "ipython",
    "version": 3
   },
   "file_extension": ".py",
   "mimetype": "text/x-python",
   "name": "python",
   "nbconvert_exporter": "python",
   "pygments_lexer": "ipython3",
   "version": "3.10.9"
  }
 },
 "nbformat": 4,
 "nbformat_minor": 5
}
