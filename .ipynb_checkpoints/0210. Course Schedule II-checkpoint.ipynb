{
 "cells": [
  {
   "cell_type": "code",
   "execution_count": null,
   "id": "df06d4ae",
   "metadata": {},
   "outputs": [],
   "source": [
    "class Solution:\n",
    "    def findOrder(self, numCourses: int, prerequisites: List[List[int]]) -> List[int]:\n",
    "        def remove_item(i):\n",
    "            ans.append(i)\n",
    "            courses.remove(i)\n",
    "            for course in is_prere[i]:\n",
    "                prere_count[course] -= 1\n",
    "                if prere_count[course] == 0:\n",
    "                    remove_item(course)\n",
    "\n",
    "        prere_count = defaultdict(int)\n",
    "        is_prere = defaultdict(list)\n",
    "        for prerequisite in prerequisites:\n",
    "            prere_count[prerequisite[0]] += 1\n",
    "            is_prere[prerequisite[1]].append(prerequisite[0])\n",
    "        ans = []\n",
    "        courses = {i for i in range(numCourses)}\n",
    "        for course in courses.copy():\n",
    "            if course in courses:\n",
    "                if prere_count[course] == 0:\n",
    "                    remove_item(course)\n",
    "\n",
    "        if len(ans) == numCourses:\n",
    "            return ans\n",
    "        return []"
   ]
  },
  {
   "cell_type": "code",
   "execution_count": null,
   "id": "45331186",
   "metadata": {},
   "outputs": [],
   "source": [
    "# First answer, less efficient in terms of time\n",
    "\n",
    "class Solution:\n",
    "    def findOrder(self, numCourses: int, prerequisites: List[List[int]]) -> List[int]:\n",
    "        prere_count = defaultdict(int)\n",
    "        is_prere = defaultdict(list)\n",
    "        for prerequisite in prerequisites:\n",
    "            prere_count[prerequisite[0]] += 1\n",
    "            is_prere[prerequisite[1]].append(prerequisite[0])\n",
    "        ans = []\n",
    "        for i in range(numCourses):\n",
    "            if prere_count[i] == 0:\n",
    "                ans.append(i)\n",
    "                del prere_count[i]\n",
    "                for item in is_prere[i]:\n",
    "                    prere_count[item] -= 1\n",
    "        n = -1\n",
    "        while len(ans) != n:\n",
    "            n = len(ans)\n",
    "            for key in prere_count.copy():\n",
    "                if prere_count[key] == 0:\n",
    "                    ans.append(key)\n",
    "                    del prere_count[key]\n",
    "                    for item in is_prere[key]:\n",
    "                        prere_count[item] -= 1\n",
    "\n",
    "        if len(ans) == numCourses:\n",
    "            return ans\n",
    "        return []"
   ]
  }
 ],
 "metadata": {
  "kernelspec": {
   "display_name": "Python 3 (ipykernel)",
   "language": "python",
   "name": "python3"
  },
  "language_info": {
   "codemirror_mode": {
    "name": "ipython",
    "version": 3
   },
   "file_extension": ".py",
   "mimetype": "text/x-python",
   "name": "python",
   "nbconvert_exporter": "python",
   "pygments_lexer": "ipython3",
   "version": "3.10.9"
  }
 },
 "nbformat": 4,
 "nbformat_minor": 5
}
