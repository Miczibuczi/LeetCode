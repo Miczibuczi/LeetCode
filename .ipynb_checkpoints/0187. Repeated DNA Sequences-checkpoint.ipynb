{
 "cells": [
  {
   "cell_type": "code",
   "execution_count": null,
   "id": "8739e6eb",
   "metadata": {},
   "outputs": [],
   "source": [
    "class Solution:\n",
    "    def findRepeatedDnaSequences(self, s: str) -> List[str]:\n",
    "        seen = set()\n",
    "        ans = set()\n",
    "        pos = len(s)\n",
    "        while pos > 9:\n",
    "            sub_s = s[pos-10:pos]\n",
    "            if sub_s in seen:\n",
    "                ans.add(sub_s)\n",
    "            seen.add(sub_s)\n",
    "            pos -= 1\n",
    "        return ans"
   ]
  }
 ],
 "metadata": {
  "kernelspec": {
   "display_name": "Python 3 (ipykernel)",
   "language": "python",
   "name": "python3"
  },
  "language_info": {
   "codemirror_mode": {
    "name": "ipython",
    "version": 3
   },
   "file_extension": ".py",
   "mimetype": "text/x-python",
   "name": "python",
   "nbconvert_exporter": "python",
   "pygments_lexer": "ipython3",
   "version": "3.10.9"
  }
 },
 "nbformat": 4,
 "nbformat_minor": 5
}
