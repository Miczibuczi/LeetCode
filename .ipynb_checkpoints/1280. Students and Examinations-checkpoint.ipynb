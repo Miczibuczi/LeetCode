{
 "cells": [
  {
   "cell_type": "code",
   "execution_count": null,
   "id": "f21ea1bc",
   "metadata": {},
   "outputs": [],
   "source": [
    "import pandas as pd\n",
    "\n",
    "def students_and_examinations(students: pd.DataFrame, subjects: pd.DataFrame, examinations: pd.DataFrame) -> pd.DataFrame:\n",
    "    examinations = examinations.groupby(by=[\"subject_name\", \"student_id\"]).size().reset_index(name=\"attended_exams\")\n",
    "    students = subjects.merge(students, how=\"cross\")\n",
    "    ans = students.merge(examinations, how=\"left\", on=[\"student_id\", \"subject_name\"])\n",
    "    ans[\"attended_exams\"] = ans[\"attended_exams\"].fillna(0)\n",
    "    ans.sort_values(by=[\"student_id\", \"subject_name\"], inplace=True)\n",
    "    return ans[[\"student_id\", \"student_name\", \"subject_name\", \"attended_exams\"]]"
   ]
  }
 ],
 "metadata": {
  "kernelspec": {
   "display_name": "Python 3 (ipykernel)",
   "language": "python",
   "name": "python3"
  },
  "language_info": {
   "codemirror_mode": {
    "name": "ipython",
    "version": 3
   },
   "file_extension": ".py",
   "mimetype": "text/x-python",
   "name": "python",
   "nbconvert_exporter": "python",
   "pygments_lexer": "ipython3",
   "version": "3.10.9"
  }
 },
 "nbformat": 4,
 "nbformat_minor": 5
}
