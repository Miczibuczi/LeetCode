{
 "cells": [
  {
   "cell_type": "code",
   "execution_count": null,
   "id": "319e8032",
   "metadata": {},
   "outputs": [],
   "source": [
    "class Solution:\n",
    "    def generateMatrix(self, n: int) -> List[List[int]]:\n",
    "        matrix = [[0 for i in range(n)] for j in range(n)]\n",
    "        forward = True\n",
    "        operations = n\n",
    "        num = 1\n",
    "        while operations > 0:\n",
    "            if forward:\n",
    "                for i in range((n-operations)//2, (operations+n)//2):\n",
    "                    matrix[(n-operations)//2][i] = num\n",
    "                    num += 1\n",
    "                operations -= 1\n",
    "                for j in range((n-operations)//2+1, (operations+n)//2+1):\n",
    "                    matrix[j][(n+operations)//2] = num\n",
    "                    num += 1\n",
    "            else:\n",
    "                for i in range((n+operations)//2-1, (n-operations)//2-1, -1):\n",
    "                    matrix[(n+operations)//2][i] = num\n",
    "                    num += 1\n",
    "                operations -= 1\n",
    "                for j in range((n+operations)//2-1, (n-operations)//2-1, -1):\n",
    "                    matrix[j][(n-operations)//2-1] = num\n",
    "                    num += 1\n",
    "            forward = not forward\n",
    "        return matrix"
   ]
  }
 ],
 "metadata": {
  "kernelspec": {
   "display_name": "Python 3 (ipykernel)",
   "language": "python",
   "name": "python3"
  },
  "language_info": {
   "codemirror_mode": {
    "name": "ipython",
    "version": 3
   },
   "file_extension": ".py",
   "mimetype": "text/x-python",
   "name": "python",
   "nbconvert_exporter": "python",
   "pygments_lexer": "ipython3",
   "version": "3.10.9"
  }
 },
 "nbformat": 4,
 "nbformat_minor": 5
}
