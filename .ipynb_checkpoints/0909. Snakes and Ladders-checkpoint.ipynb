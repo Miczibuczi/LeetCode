{
 "cells": [
  {
   "cell_type": "code",
   "execution_count": null,
   "id": "b767864f",
   "metadata": {},
   "outputs": [],
   "source": [
    "class Solution:\n",
    "    def snakesAndLadders(self, board: List[List[int]]) -> int:\n",
    "        n = len(board)\n",
    "        moves_dictionary = defaultdict(set)\n",
    "        moves_dictionary[0].add(1)\n",
    "        seen = set()\n",
    "        i = 0\n",
    "        while True:\n",
    "            for start in moves_dictionary[i]:\n",
    "                for end in range(start+1, min(start+7, n**2+1)):\n",
    "                    if end == n**2:\n",
    "                        return i+1\n",
    "                    y = -1-((end-1)//n)\n",
    "                    if y % 2 == 1:\n",
    "                        x = (end-1) % n\n",
    "                    else:\n",
    "                        x = -(end % n)\n",
    "                    if board[y][x] == -1:\n",
    "                        if end not in seen:\n",
    "                            moves_dictionary[i+1].add(end)\n",
    "                            seen.add(end)\n",
    "                    else:\n",
    "                        if board[y][x] not in seen:\n",
    "                            if board[y][x] == n**2:\n",
    "                                return i+1\n",
    "                            else:\n",
    "                                moves_dictionary[i+1].add(board[y][x])\n",
    "                                seen.add(board[y][x])\n",
    "            i += 1\n",
    "            if i == n**2:\n",
    "                return -1"
   ]
  },
  {
   "cell_type": "code",
   "execution_count": null,
   "id": "594f192f",
   "metadata": {},
   "outputs": [],
   "source": [
    "# First answer, less efficient in terms of time\n",
    "class Solution:\n",
    "    def snakesAndLadders(self, board: List[List[int]]) -> int:\n",
    "        n = len(board)\n",
    "        my_dictionary = {1:0}\n",
    "        possible_starts = {1}\n",
    "        starts_executed = set()\n",
    "        while possible_starts:\n",
    "            new_possible_starts = set()\n",
    "            for start in possible_starts:\n",
    "                if start not in starts_executed:\n",
    "                    for end in range(start+1, min(start+7, n**2+1)):\n",
    "                        y = -1-((end-1)//n)\n",
    "                        if y % 2 == 1:\n",
    "                            x = (end-1) % n\n",
    "                        else:\n",
    "                            x = -(end % n)\n",
    "                        if board[y][x] == -1:\n",
    "                            my_dictionary[end] = min(my_dictionary.get(end, float(\"inf\")), my_dictionary[start]+1)\n",
    "                            new_possible_starts.add(end)\n",
    "                        else:\n",
    "                            my_dictionary[board[y][x]] = min(my_dictionary.get(board[y][x], float(\"inf\")), my_dictionary[start]+1)\n",
    "                            new_possible_starts.add(board[y][x])\n",
    "            starts_executed.update(possible_starts)\n",
    "            possible_starts = new_possible_starts          \n",
    "        return my_dictionary.get(n**2, -1)"
   ]
  }
 ],
 "metadata": {
  "kernelspec": {
   "display_name": "Python 3 (ipykernel)",
   "language": "python",
   "name": "python3"
  },
  "language_info": {
   "codemirror_mode": {
    "name": "ipython",
    "version": 3
   },
   "file_extension": ".py",
   "mimetype": "text/x-python",
   "name": "python",
   "nbconvert_exporter": "python",
   "pygments_lexer": "ipython3",
   "version": "3.10.9"
  }
 },
 "nbformat": 4,
 "nbformat_minor": 5
}
