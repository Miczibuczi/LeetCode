{
 "cells": [
  {
   "cell_type": "code",
   "execution_count": null,
   "id": "e1f4819d",
   "metadata": {},
   "outputs": [],
   "source": [
    "import pandas as pd\n",
    "\n",
    "def rising_temperature(weather: pd.DataFrame) -> pd.DataFrame:\n",
    "    weather[\"previous_day\"] = weather[\"recordDate\"]-pd.Timedelta(days=1)\n",
    "    weather = weather.merge(weather[[\"recordDate\", \"temperature\"]], how=\"left\", left_on=\"previous_day\", right_on=\"recordDate\")\n",
    "    weather = weather[weather[\"temperature_x\"] > weather[\"temperature_y\"]]\n",
    "    return weather[[\"id\"]]"
   ]
  }
 ],
 "metadata": {
  "kernelspec": {
   "display_name": "Python 3 (ipykernel)",
   "language": "python",
   "name": "python3"
  },
  "language_info": {
   "codemirror_mode": {
    "name": "ipython",
    "version": 3
   },
   "file_extension": ".py",
   "mimetype": "text/x-python",
   "name": "python",
   "nbconvert_exporter": "python",
   "pygments_lexer": "ipython3",
   "version": "3.10.9"
  }
 },
 "nbformat": 4,
 "nbformat_minor": 5
}
