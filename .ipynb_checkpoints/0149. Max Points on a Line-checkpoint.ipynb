{
 "cells": [
  {
   "cell_type": "code",
   "execution_count": null,
   "id": "7d3dc085",
   "metadata": {},
   "outputs": [],
   "source": [
    "class Solution:\n",
    "    def maxPoints(self, points: List[List[int]]) -> int:\n",
    "        if len(points) == 1:\n",
    "            return 1\n",
    "        ans = 0\n",
    "        lines_dictionary = defaultdict(list)\n",
    "        points_seen = []\n",
    "        for point in points:\n",
    "            for x, y in points_seen:\n",
    "                ratio = (point[1]-y)/(point[0]-x) if point[0] != x else float(\"inf\")\n",
    "                for item in lines_dictionary[(x, y)]:\n",
    "                    if item[0] == ratio:\n",
    "                        item[1] += 1\n",
    "                        ans = max(ans, item[1])\n",
    "                        break\n",
    "                else:\n",
    "                    lines_dictionary[(x, y)].append([ratio, 2])\n",
    "            points_seen.append(point)\n",
    "        \n",
    "        return max(ans, 2)"
   ]
  }
 ],
 "metadata": {
  "kernelspec": {
   "display_name": "Python 3 (ipykernel)",
   "language": "python",
   "name": "python3"
  },
  "language_info": {
   "codemirror_mode": {
    "name": "ipython",
    "version": 3
   },
   "file_extension": ".py",
   "mimetype": "text/x-python",
   "name": "python",
   "nbconvert_exporter": "python",
   "pygments_lexer": "ipython3",
   "version": "3.10.9"
  }
 },
 "nbformat": 4,
 "nbformat_minor": 5
}
