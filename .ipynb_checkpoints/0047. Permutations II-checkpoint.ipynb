{
 "cells": [
  {
   "cell_type": "code",
   "execution_count": null,
   "id": "bf4b2b38",
   "metadata": {},
   "outputs": [],
   "source": [
    "class Solution:\n",
    "    def permuteUnique(self, nums: List[int]) -> List[List[int]]:\n",
    "        def helper(cur_ans, used):\n",
    "            if tuple(cur_ans) in seen:\n",
    "                return\n",
    "            seen.add(tuple(cur_ans))\n",
    "            if len(cur_ans) == len(nums):\n",
    "                ans.append(cur_ans)\n",
    "                return\n",
    "            for i in range(len(nums)):\n",
    "                if i in used:\n",
    "                    continue\n",
    "                helper(cur_ans+[nums[i]], used|{i})\n",
    "        \n",
    "        seen = set()\n",
    "        ans = []\n",
    "        helper([], set())\n",
    "        return ans"
   ]
  }
 ],
 "metadata": {
  "kernelspec": {
   "display_name": "Python 3 (ipykernel)",
   "language": "python",
   "name": "python3"
  },
  "language_info": {
   "codemirror_mode": {
    "name": "ipython",
    "version": 3
   },
   "file_extension": ".py",
   "mimetype": "text/x-python",
   "name": "python",
   "nbconvert_exporter": "python",
   "pygments_lexer": "ipython3",
   "version": "3.10.9"
  }
 },
 "nbformat": 4,
 "nbformat_minor": 5
}
