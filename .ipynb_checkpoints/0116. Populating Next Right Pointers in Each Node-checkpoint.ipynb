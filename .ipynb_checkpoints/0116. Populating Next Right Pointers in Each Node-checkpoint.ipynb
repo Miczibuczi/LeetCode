{
 "cells": [
  {
   "cell_type": "code",
   "execution_count": null,
   "id": "0d7fec5d",
   "metadata": {},
   "outputs": [],
   "source": [
    "\"\"\"\n",
    "# Definition for a Node.\n",
    "class Node:\n",
    "    def __init__(self, val: int = 0, left: 'Node' = None, right: 'Node' = None, next: 'Node' = None):\n",
    "        self.val = val\n",
    "        self.left = left\n",
    "        self.right = right\n",
    "        self.next = next\n",
    "\"\"\"\n",
    "\n",
    "class Solution:\n",
    "    def connect(self, root: 'Optional[Node]') -> 'Optional[Node]':\n",
    "        def Traverse(node, depth):\n",
    "            if not node:\n",
    "                return\n",
    "            if len(memo) > depth:\n",
    "                node.next = memo[depth]\n",
    "                memo[depth] = node\n",
    "            else:\n",
    "                memo.append(node)\n",
    "            Traverse(node.right, depth+1)\n",
    "            Traverse(node.left, depth+1)\n",
    "\n",
    "        memo = []\n",
    "        Traverse(root, 0)\n",
    "        return root"
   ]
  }
 ],
 "metadata": {
  "kernelspec": {
   "display_name": "Python 3 (ipykernel)",
   "language": "python",
   "name": "python3"
  },
  "language_info": {
   "codemirror_mode": {
    "name": "ipython",
    "version": 3
   },
   "file_extension": ".py",
   "mimetype": "text/x-python",
   "name": "python",
   "nbconvert_exporter": "python",
   "pygments_lexer": "ipython3",
   "version": "3.10.9"
  }
 },
 "nbformat": 4,
 "nbformat_minor": 5
}
