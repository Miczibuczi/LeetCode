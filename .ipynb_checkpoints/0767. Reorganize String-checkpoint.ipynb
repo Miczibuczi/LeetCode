{
 "cells": [
  {
   "cell_type": "code",
   "execution_count": null,
   "id": "375a8955",
   "metadata": {},
   "outputs": [],
   "source": [
    "class Solution:\n",
    "    def reorganizeString(self, s: str) -> str:\n",
    "        def finish_task(occurences_rev, max_occur):\n",
    "            cur = occurences_rev[max_occur]\n",
    "            if cur[0] == self.ans[-1]:\n",
    "                cur.append(cur.pop(0))\n",
    "            self.ans += \"\".join(cur)\n",
    "            max_occur -= 1\n",
    "            while len(self.ans) < len(s):\n",
    "                if occurences_rev[max_occur]:\n",
    "                    cur += occurences_rev[max_occur]\n",
    "                self.ans += \"\".join(cur)\n",
    "                max_occur -= 1\n",
    "\n",
    "        occurences = dict(Counter(s))\n",
    "        occurences_rev = defaultdict(list)\n",
    "        for key, value in occurences.items():\n",
    "            occurences_rev[value].append(key)\n",
    "        max_occur = max(occurences_rev)\n",
    "        if max_occur > (len(s)+1)//2:\n",
    "            return \"\"\n",
    "        self.ans = \"1\"\n",
    "        while len(self.ans) <= len(s):\n",
    "            max_occur = max(occurences_rev)\n",
    "            if len(occurences_rev[max_occur]) > 1:\n",
    "                finish_task(occurences_rev, max_occur)\n",
    "                return self.ans[1:]\n",
    "            if occurences_rev[max_occur][0] == self.ans[-1]:\n",
    "                for key, values in occurences_rev.items():\n",
    "                    found_one = False\n",
    "                    for item in values:\n",
    "                        if item != self.ans[-1]:\n",
    "                            self.ans += item\n",
    "                            occurences_rev[key].remove(item)\n",
    "                            if key > 1:\n",
    "                                occurences_rev[key-1].append(item)\n",
    "                            found_one = True\n",
    "                            break\n",
    "                    if found_one:\n",
    "                        break\n",
    "            else:\n",
    "                self.ans += occurences_rev[max_occur][0]\n",
    "                occurences_rev[max_occur-1].append(occurences_rev[max_occur][0])\n",
    "                del occurences_rev[max_occur]\n",
    "        return self.ans[1:]"
   ]
  }
 ],
 "metadata": {
  "kernelspec": {
   "display_name": "Python 3 (ipykernel)",
   "language": "python",
   "name": "python3"
  },
  "language_info": {
   "codemirror_mode": {
    "name": "ipython",
    "version": 3
   },
   "file_extension": ".py",
   "mimetype": "text/x-python",
   "name": "python",
   "nbconvert_exporter": "python",
   "pygments_lexer": "ipython3",
   "version": "3.10.9"
  }
 },
 "nbformat": 4,
 "nbformat_minor": 5
}
