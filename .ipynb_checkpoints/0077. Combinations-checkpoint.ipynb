{
 "cells": [
  {
   "cell_type": "code",
   "execution_count": null,
   "id": "96bae01a",
   "metadata": {},
   "outputs": [],
   "source": [
    "class Solution:\n",
    "    def combine(self, n: int, k: int) -> List[List[int]]:\n",
    "        self.ans = []\n",
    "        def add_num(cur_ans, start, stop, k):\n",
    "            if k == 0:\n",
    "                self.ans.append(cur_ans)\n",
    "            else:\n",
    "                k -= 1\n",
    "                for i in range(start, stop+1-k):\n",
    "                    add_num(cur_ans+[i], i+1, stop, k)\n",
    "        add_num([], 1, n, k)\n",
    "        return self.ans"
   ]
  }
 ],
 "metadata": {
  "kernelspec": {
   "display_name": "Python 3 (ipykernel)",
   "language": "python",
   "name": "python3"
  },
  "language_info": {
   "codemirror_mode": {
    "name": "ipython",
    "version": 3
   },
   "file_extension": ".py",
   "mimetype": "text/x-python",
   "name": "python",
   "nbconvert_exporter": "python",
   "pygments_lexer": "ipython3",
   "version": "3.9.13"
  }
 },
 "nbformat": 4,
 "nbformat_minor": 5
}
