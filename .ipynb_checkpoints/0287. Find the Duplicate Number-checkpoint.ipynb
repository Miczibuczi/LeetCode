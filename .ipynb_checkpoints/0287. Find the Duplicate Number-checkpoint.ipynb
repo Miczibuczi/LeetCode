{
 "cells": [
  {
   "cell_type": "code",
   "execution_count": null,
   "id": "8200f9bc",
   "metadata": {},
   "outputs": [],
   "source": [
    "# Floyd's Cycle Detection\n",
    "class Solution:\n",
    "    def findDuplicate(self, nums: List[int]) -> int:\n",
    "        slow = nums[nums[0]]\n",
    "        fast = nums[slow]\n",
    "        while slow != fast:\n",
    "            slow = nums[slow]\n",
    "            fast = nums[nums[fast]]\n",
    "        \n",
    "        slow = nums[0]\n",
    "        while slow != fast:\n",
    "            slow = nums[slow]\n",
    "            fast = nums[fast]\n",
    "        \n",
    "        return slow"
   ]
  },
  {
   "cell_type": "code",
   "execution_count": null,
   "id": "359f906a",
   "metadata": {},
   "outputs": [],
   "source": [
    "# First answer, it's linear space complexity, not constant\n",
    "class Solution:\n",
    "    def findDuplicate(self, nums: List[int]) -> int:\n",
    "        seen = set()\n",
    "        for num in nums:\n",
    "            if num in seen:\n",
    "                return num\n",
    "            seen.add(num)"
   ]
  }
 ],
 "metadata": {
  "kernelspec": {
   "display_name": "Python 3 (ipykernel)",
   "language": "python",
   "name": "python3"
  },
  "language_info": {
   "codemirror_mode": {
    "name": "ipython",
    "version": 3
   },
   "file_extension": ".py",
   "mimetype": "text/x-python",
   "name": "python",
   "nbconvert_exporter": "python",
   "pygments_lexer": "ipython3",
   "version": "3.10.9"
  }
 },
 "nbformat": 4,
 "nbformat_minor": 5
}
