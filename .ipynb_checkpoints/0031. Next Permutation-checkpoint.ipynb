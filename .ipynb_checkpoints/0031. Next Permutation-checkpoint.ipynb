{
 "cells": [
  {
   "cell_type": "code",
   "execution_count": null,
   "id": "4a1aa642",
   "metadata": {},
   "outputs": [],
   "source": [
    "class Solution:\n",
    "    def nextPermutation(self, nums: List[int]) -> None:\n",
    "        \"\"\"\n",
    "        Do not return anything, modify nums in-place instead.\n",
    "        \"\"\"\n",
    "        last_permutation = True\n",
    "        max_num = nums[-1]\n",
    "        for i in range(len(nums)-2, -1, -1):\n",
    "            if nums[i] < max_num:\n",
    "                for j in range(i+1, len(nums)):\n",
    "                    if nums[j] > nums[i] and nums[j] <= max_num:\n",
    "                        change = j\n",
    "                nums[i], nums[change] = nums[change], nums[i]\n",
    "                nums[i+1:] = sorted(nums[i+1:])\n",
    "                last_permutation = False\n",
    "                break\n",
    "            max_num = nums[i]\n",
    "        if last_permutation:\n",
    "            nums[:] = sorted(nums)"
   ]
  }
 ],
 "metadata": {
  "kernelspec": {
   "display_name": "Python 3 (ipykernel)",
   "language": "python",
   "name": "python3"
  },
  "language_info": {
   "codemirror_mode": {
    "name": "ipython",
    "version": 3
   },
   "file_extension": ".py",
   "mimetype": "text/x-python",
   "name": "python",
   "nbconvert_exporter": "python",
   "pygments_lexer": "ipython3",
   "version": "3.10.9"
  }
 },
 "nbformat": 4,
 "nbformat_minor": 5
}
