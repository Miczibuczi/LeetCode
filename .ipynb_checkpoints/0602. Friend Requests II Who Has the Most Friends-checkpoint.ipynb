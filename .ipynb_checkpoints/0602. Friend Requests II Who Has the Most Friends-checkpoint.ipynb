{
 "cells": [
  {
   "cell_type": "code",
   "execution_count": null,
   "id": "f6aee349",
   "metadata": {},
   "outputs": [],
   "source": [
    "import pandas as pd\n",
    "from collections import Counter\n",
    "\n",
    "def most_friends(request_accepted: pd.DataFrame) -> pd.DataFrame:\n",
    "    requester = Counter(request_accepted[\"requester_id\"])\n",
    "    accepter = Counter(request_accepted[\"accepter_id\"])\n",
    "    total = requester+accepter\n",
    "    max_value = max(total.values())\n",
    "    ans = []\n",
    "    for key, value in total.items():\n",
    "        if value == max_value:\n",
    "            ans.append(key)\n",
    "    return pd.DataFrame({\"id\":ans, \"num\":max_value})"
   ]
  }
 ],
 "metadata": {
  "kernelspec": {
   "display_name": "Python 3 (ipykernel)",
   "language": "python",
   "name": "python3"
  },
  "language_info": {
   "codemirror_mode": {
    "name": "ipython",
    "version": 3
   },
   "file_extension": ".py",
   "mimetype": "text/x-python",
   "name": "python",
   "nbconvert_exporter": "python",
   "pygments_lexer": "ipython3",
   "version": "3.10.9"
  }
 },
 "nbformat": 4,
 "nbformat_minor": 5
}
