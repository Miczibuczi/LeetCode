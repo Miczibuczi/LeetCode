{
 "cells": [
  {
   "cell_type": "code",
   "execution_count": null,
   "id": "c3707c46",
   "metadata": {},
   "outputs": [],
   "source": [
    "class Solution:\n",
    "    def grayCode(self, n: int) -> List[int]:\n",
    "        ans = [0]\n",
    "        for i in range(1, n+1):\n",
    "            for num in ans[::-1]:\n",
    "                ans.append(num+2**(i-1))\n",
    "        return ans\n",
    "    \n",
    "    \n",
    "    \n",
    "# The same answer but with binary shifting, which makes it faster:\n",
    "class Solution:\n",
    "    def grayCode(self, n: int) -> List[int]:\n",
    "        ans = [0]\n",
    "        for i in range(1, n+1):\n",
    "            for num in ans[::-1]:\n",
    "                ans.append(num+(1<<(i-1)))\n",
    "        return ans"
   ]
  },
  {
   "cell_type": "code",
   "execution_count": null,
   "id": "35439440",
   "metadata": {},
   "outputs": [],
   "source": [
    "# my first not working solution\n",
    "class Solution:\n",
    "    def grayCode(self, n: int) -> List[int]:\n",
    "        def helper(nums, cur_ans, cur_index):\n",
    "            if not nums:\n",
    "                return cur_ans\n",
    "            for num in nums:\n",
    "                x = Counter(bin(num^cur_ans[cur_index]))\n",
    "                if x[\"1\"] == 1:\n",
    "                    cur_copy = cur_ans.copy()\n",
    "                    cur_copy.insert(cur_index+1, num)\n",
    "                    nums.remove(num)\n",
    "                    x = helper(nums, cur_copy, cur_index+1)\n",
    "                    if x:\n",
    "                        return x\n",
    "                    nums.add(num)\n",
    "            return False\n",
    "\n",
    "        ans = [0, 1]\n",
    "        for i in range(1, n):\n",
    "            ans = helper({num for num in range(int(2**i), 2**(i+1))}, ans, len(ans)//2-1)\n",
    "        \n",
    "        return ans"
   ]
  }
 ],
 "metadata": {
  "kernelspec": {
   "display_name": "Python 3 (ipykernel)",
   "language": "python",
   "name": "python3"
  },
  "language_info": {
   "codemirror_mode": {
    "name": "ipython",
    "version": 3
   },
   "file_extension": ".py",
   "mimetype": "text/x-python",
   "name": "python",
   "nbconvert_exporter": "python",
   "pygments_lexer": "ipython3",
   "version": "3.10.9"
  }
 },
 "nbformat": 4,
 "nbformat_minor": 5
}
