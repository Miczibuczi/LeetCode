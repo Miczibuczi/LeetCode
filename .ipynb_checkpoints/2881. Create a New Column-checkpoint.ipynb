{
 "cells": [
  {
   "cell_type": "code",
   "execution_count": null,
   "id": "b3ee9353",
   "metadata": {},
   "outputs": [],
   "source": [
    "import pandas as pd\n",
    "\n",
    "def createBonusColumn(employees: pd.DataFrame) -> pd.DataFrame:\n",
    "    employees[\"bonus\"] = employees[\"salary\"].apply(lambda x: 2*x)\n",
    "    return employees"
   ]
  },
  {
   "cell_type": "code",
   "execution_count": null,
   "id": "498ee4c1",
   "metadata": {},
   "outputs": [],
   "source": [
    "import pandas as pd\n",
    "\n",
    "def createBonusColumn(employees: pd.DataFrame) -> pd.DataFrame:\n",
    "    employees[\"bonus\"] = employees[\"salary\"] *2\n",
    "    return employees"
   ]
  }
 ],
 "metadata": {
  "kernelspec": {
   "display_name": "Python 3 (ipykernel)",
   "language": "python",
   "name": "python3"
  },
  "language_info": {
   "codemirror_mode": {
    "name": "ipython",
    "version": 3
   },
   "file_extension": ".py",
   "mimetype": "text/x-python",
   "name": "python",
   "nbconvert_exporter": "python",
   "pygments_lexer": "ipython3",
   "version": "3.10.9"
  }
 },
 "nbformat": 4,
 "nbformat_minor": 5
}
