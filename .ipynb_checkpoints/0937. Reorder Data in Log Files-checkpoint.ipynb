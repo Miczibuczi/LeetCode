{
 "cells": [
  {
   "cell_type": "code",
   "execution_count": null,
   "id": "0cca240f",
   "metadata": {},
   "outputs": [],
   "source": [
    "class Solution:\n",
    "    def reorderLogFiles(self, logs: List[str]) -> List[str]:\n",
    "        ans_letters = []\n",
    "        ans_digits = []\n",
    "        letter_logs = defaultdict(list)\n",
    "        for item in logs:\n",
    "            cur = item.split(\" \", 1)\n",
    "            if cur[1][0].isdigit():\n",
    "                ans_digits.append(cur[0]+\" \"+cur[1])\n",
    "            else:\n",
    "                letter_logs[cur[1]].append(cur[0])\n",
    "        \n",
    "        letter_order = list(letter_logs.keys())\n",
    "        letter_order.sort()\n",
    "\n",
    "        for letter_log in letter_order:\n",
    "            identifiers = letter_logs[letter_log]\n",
    "            identifiers.sort()\n",
    "            for identifier in identifiers:\n",
    "                ans_letters.append(identifier + \" \" + letter_log)\n",
    "        \n",
    "        return ans_letters + ans_digits"
   ]
  }
 ],
 "metadata": {
  "kernelspec": {
   "display_name": "Python 3 (ipykernel)",
   "language": "python",
   "name": "python3"
  },
  "language_info": {
   "codemirror_mode": {
    "name": "ipython",
    "version": 3
   },
   "file_extension": ".py",
   "mimetype": "text/x-python",
   "name": "python",
   "nbconvert_exporter": "python",
   "pygments_lexer": "ipython3",
   "version": "3.10.9"
  }
 },
 "nbformat": 4,
 "nbformat_minor": 5
}
