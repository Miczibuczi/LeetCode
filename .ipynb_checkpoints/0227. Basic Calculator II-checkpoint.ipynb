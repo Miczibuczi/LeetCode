{
 "cells": [
  {
   "cell_type": "code",
   "execution_count": null,
   "id": "5a88f3ce",
   "metadata": {},
   "outputs": [],
   "source": [
    "class Solution:\n",
    "    def calculate(self, s: str) -> int:\n",
    "        def helper():\n",
    "            operator = stack[-1][0]\n",
    "            if operator == \"+\":\n",
    "                stack[-1] = int(stack[-1][1:])\n",
    "            elif operator == \"-\":\n",
    "                stack[-1] = -int(stack[-1][1:])\n",
    "            else:\n",
    "                item2 = int(stack.pop()[1:])\n",
    "                item1 = stack.pop()\n",
    "                if operator == \"*\":\n",
    "                    stack.append(item1 * item2)\n",
    "                elif operator == \"/\":\n",
    "                    stack.append(int(item1/item2))\n",
    "        stack = [0]\n",
    "        curr = \"+\"\n",
    "        for sign in s:\n",
    "            if sign.isdigit():\n",
    "                curr += sign\n",
    "            elif sign in \" \":\n",
    "                pass\n",
    "            else:\n",
    "                stack.append(curr)\n",
    "                helper()\n",
    "                curr = sign\n",
    "        stack.append(curr)\n",
    "        helper()\n",
    "        return sum(stack)"
   ]
  }
 ],
 "metadata": {
  "kernelspec": {
   "display_name": "Python 3 (ipykernel)",
   "language": "python",
   "name": "python3"
  },
  "language_info": {
   "codemirror_mode": {
    "name": "ipython",
    "version": 3
   },
   "file_extension": ".py",
   "mimetype": "text/x-python",
   "name": "python",
   "nbconvert_exporter": "python",
   "pygments_lexer": "ipython3",
   "version": "3.10.9"
  }
 },
 "nbformat": 4,
 "nbformat_minor": 5
}
