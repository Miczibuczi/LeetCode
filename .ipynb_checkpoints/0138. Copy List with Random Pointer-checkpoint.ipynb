{
 "cells": [
  {
   "cell_type": "code",
   "execution_count": null,
   "id": "a0950b11",
   "metadata": {},
   "outputs": [],
   "source": [
    "\"\"\"\n",
    "# Definition for a Node.\n",
    "class Node:\n",
    "    def __init__(self, x: int, next: 'Node' = None, random: 'Node' = None):\n",
    "        self.val = int(x)\n",
    "        self.next = next\n",
    "        self.random = random\n",
    "\"\"\"\n",
    "\n",
    "class Solution:\n",
    "    def copyRandomList(self, head: 'Optional[Node]') -> 'Optional[Node]':\n",
    "        index = 0\n",
    "        main_order = []\n",
    "        random_order = []\n",
    "        while head:\n",
    "            head.index = index\n",
    "            main_order.append(head)\n",
    "            random_order.append(head.random)\n",
    "            head = head.next\n",
    "            index += 1\n",
    "\n",
    "        copy = Node(0, None, None)\n",
    "        copy_head = copy\n",
    "        stack = []\n",
    "        for i in range(len(main_order)):\n",
    "            copy.next = Node(main_order[i].val, None, None)\n",
    "            copy = copy.next\n",
    "            stack.append(copy)\n",
    "\n",
    "        copy = copy_head\n",
    "        for i in range(len(random_order)):\n",
    "            if random_order[i] is not None:\n",
    "                copy.next.random = stack[random_order[i].index]\n",
    "            else:\n",
    "                copy.next.random = None\n",
    "            copy = copy.next\n",
    "\n",
    "        return copy_head.next"
   ]
  }
 ],
 "metadata": {
  "kernelspec": {
   "display_name": "Python 3 (ipykernel)",
   "language": "python",
   "name": "python3"
  },
  "language_info": {
   "codemirror_mode": {
    "name": "ipython",
    "version": 3
   },
   "file_extension": ".py",
   "mimetype": "text/x-python",
   "name": "python",
   "nbconvert_exporter": "python",
   "pygments_lexer": "ipython3",
   "version": "3.9.13"
  }
 },
 "nbformat": 4,
 "nbformat_minor": 5
}
