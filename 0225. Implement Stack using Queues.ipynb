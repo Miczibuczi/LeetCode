{
 "cells": [
  {
   "cell_type": "code",
   "execution_count": null,
   "id": "3ea2ce80",
   "metadata": {},
   "outputs": [],
   "source": [
    "from collections import deque\n",
    "class MyStack:\n",
    "\n",
    "    def __init__(self):\n",
    "        self.queue = deque()\n",
    "\n",
    "    def push(self, x: int) -> None:\n",
    "        self.queue.append(x)\n",
    "        for i in range(len(self.queue)-1):\n",
    "            self.queue.append(self.queue.popleft())\n",
    "            \n",
    "    def pop(self) -> int:\n",
    "        return self.queue.popleft()\n",
    "\n",
    "    def top(self) -> int:\n",
    "        return self.queue[0]\n",
    "\n",
    "    def empty(self) -> bool:\n",
    "        return not self.queue\n",
    "\n",
    "\n",
    "# Your MyStack object will be instantiated and called as such:\n",
    "# obj = MyStack()\n",
    "# obj.push(x)\n",
    "# param_2 = obj.pop()\n",
    "# param_3 = obj.top()\n",
    "# param_4 = obj.empty()"
   ]
  }
 ],
 "metadata": {
  "kernelspec": {
   "display_name": "Python 3 (ipykernel)",
   "language": "python",
   "name": "python3"
  },
  "language_info": {
   "codemirror_mode": {
    "name": "ipython",
    "version": 3
   },
   "file_extension": ".py",
   "mimetype": "text/x-python",
   "name": "python",
   "nbconvert_exporter": "python",
   "pygments_lexer": "ipython3",
   "version": "3.9.13"
  }
 },
 "nbformat": 4,
 "nbformat_minor": 5
}
