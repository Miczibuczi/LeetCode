{
 "cells": [
  {
   "cell_type": "code",
   "execution_count": null,
   "id": "42a59c37",
   "metadata": {},
   "outputs": [],
   "source": [
    "class Solution:\n",
    "    def getNoZeroIntegers(self, n: int) -> List[int]:\n",
    "        a, b = 0, 0\n",
    "        power = 0\n",
    "        while n >= 10:\n",
    "            if n % 10 == 1:\n",
    "                a += 2*10**power\n",
    "                b += 9*10**power\n",
    "                n -= 11\n",
    "            elif n % 10 == 0:\n",
    "                a += 1*10**power\n",
    "                b += 9*10**power\n",
    "                n -= 10\n",
    "            else:\n",
    "                a += 1*10**power\n",
    "                b += ((n%10 or 10)-1)*10**power\n",
    "            n //= 10\n",
    "            power += 1\n",
    "        b += n*10**power\n",
    "        if a == 0:\n",
    "            return [a+1, b-1]\n",
    "        else:\n",
    "            return[a, b]"
   ]
  }
 ],
 "metadata": {
  "kernelspec": {
   "display_name": "Python 3 (ipykernel)",
   "language": "python",
   "name": "python3"
  },
  "language_info": {
   "codemirror_mode": {
    "name": "ipython",
    "version": 3
   },
   "file_extension": ".py",
   "mimetype": "text/x-python",
   "name": "python",
   "nbconvert_exporter": "python",
   "pygments_lexer": "ipython3",
   "version": "3.10.9"
  }
 },
 "nbformat": 4,
 "nbformat_minor": 5
}
