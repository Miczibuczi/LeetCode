{
 "cells": [
  {
   "cell_type": "code",
   "execution_count": null,
   "id": "efd0d9e8",
   "metadata": {},
   "outputs": [],
   "source": [
    "import pandas as pd\n",
    "\n",
    "def game_analysis(activity: pd.DataFrame) -> pd.DataFrame:\n",
    "    activity = activity.drop(columns=[\"device_id\", \"games_played\"])\n",
    "    activity.sort_values(by=\"event_date\", inplace=True)\n",
    "    seen = set()\n",
    "    first_game = []\n",
    "    for row in activity.itertuples(index=False):\n",
    "        if row.player_id not in seen:\n",
    "            seen.add(row.player_id)\n",
    "            first_game.append(row)\n",
    "    return pd.DataFrame(first_game).rename(columns={\"event_date\":\"first_login\"})"
   ]
  }
 ],
 "metadata": {
  "kernelspec": {
   "display_name": "Python 3 (ipykernel)",
   "language": "python",
   "name": "python3"
  },
  "language_info": {
   "codemirror_mode": {
    "name": "ipython",
    "version": 3
   },
   "file_extension": ".py",
   "mimetype": "text/x-python",
   "name": "python",
   "nbconvert_exporter": "python",
   "pygments_lexer": "ipython3",
   "version": "3.10.9"
  }
 },
 "nbformat": 4,
 "nbformat_minor": 5
}
