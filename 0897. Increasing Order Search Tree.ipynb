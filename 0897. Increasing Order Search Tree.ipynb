{
 "cells": [
  {
   "cell_type": "code",
   "execution_count": null,
   "id": "6ddc8b9b",
   "metadata": {},
   "outputs": [],
   "source": [
    "# Definition for a binary tree node.\n",
    "# class TreeNode:\n",
    "#     def __init__(self, val=0, left=None, right=None):\n",
    "#         self.val = val\n",
    "#         self.left = left\n",
    "#         self.right = right\n",
    "class Solution:\n",
    "    def increasingBST(self, root: TreeNode) -> TreeNode:\n",
    "        self.ans = TreeNode(None)\n",
    "        head = self.ans\n",
    "        def InOrderTraversal(node):\n",
    "            if not node:\n",
    "                return\n",
    "            InOrderTraversal(node.left)\n",
    "            self.ans.right = TreeNode(val = node.val)\n",
    "            self.ans = self.ans.right\n",
    "            InOrderTraversal(node.right)\n",
    "        \n",
    "        InOrderTraversal(root)\n",
    "        return head.right"
   ]
  }
 ],
 "metadata": {
  "kernelspec": {
   "display_name": "Python 3 (ipykernel)",
   "language": "python",
   "name": "python3"
  },
  "language_info": {
   "codemirror_mode": {
    "name": "ipython",
    "version": 3
   },
   "file_extension": ".py",
   "mimetype": "text/x-python",
   "name": "python",
   "nbconvert_exporter": "python",
   "pygments_lexer": "ipython3",
   "version": "3.9.13"
  }
 },
 "nbformat": 4,
 "nbformat_minor": 5
}
