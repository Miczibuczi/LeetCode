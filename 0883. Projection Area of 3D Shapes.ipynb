{
 "cells": [
  {
   "cell_type": "code",
   "execution_count": null,
   "id": "bbda70eb",
   "metadata": {},
   "outputs": [],
   "source": [
    "class Solution:\n",
    "    def projectionArea(self, grid: List[List[int]]) -> int:\n",
    "        answer = 0\n",
    "        for i in range(len(grid)):\n",
    "            answer += max(grid[i])    # x_z_shadows\n",
    "            for j in range(len(grid[0])):\n",
    "                if grid [i][j] != 0:\n",
    "                    answer += 1        # x_y_shadows\n",
    "        \n",
    "        for j in range(len(grid[0])):\n",
    "            z_y_shadows = 0\n",
    "            for i in range(len(grid)):\n",
    "                if grid[i][j] > z_y_shadows:\n",
    "                    z_y_shadows = grid[i][j]\n",
    "            answer += z_y_shadows      # z_y_shadows\n",
    "        \n",
    "        return answer"
   ]
  }
 ],
 "metadata": {
  "kernelspec": {
   "display_name": "Python 3 (ipykernel)",
   "language": "python",
   "name": "python3"
  },
  "language_info": {
   "codemirror_mode": {
    "name": "ipython",
    "version": 3
   },
   "file_extension": ".py",
   "mimetype": "text/x-python",
   "name": "python",
   "nbconvert_exporter": "python",
   "pygments_lexer": "ipython3",
   "version": "3.9.13"
  }
 },
 "nbformat": 4,
 "nbformat_minor": 5
}
