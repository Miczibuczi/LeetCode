{
 "cells": [
  {
   "cell_type": "code",
   "execution_count": null,
   "id": "83282d2b",
   "metadata": {},
   "outputs": [],
   "source": [
    "import pandas as pd\n",
    "\n",
    "def project_employees_i(project: pd.DataFrame, employee: pd.DataFrame) -> pd.DataFrame:\n",
    "    project = project.merge(employee, on = \"employee_id\")\n",
    "    project = project.groupby(\"project_id\", as_index = False).agg({\"experience_years\" : lambda x: round(x.mean(), 2)})\n",
    "    return project[[\"project_id\", \"experience_years\"]].rename(columns = {\"experience_years\":\"average_years\"})"
   ]
  }
 ],
 "metadata": {
  "kernelspec": {
   "display_name": "Python 3 (ipykernel)",
   "language": "python",
   "name": "python3"
  },
  "language_info": {
   "codemirror_mode": {
    "name": "ipython",
    "version": 3
   },
   "file_extension": ".py",
   "mimetype": "text/x-python",
   "name": "python",
   "nbconvert_exporter": "python",
   "pygments_lexer": "ipython3",
   "version": "3.10.9"
  }
 },
 "nbformat": 4,
 "nbformat_minor": 5
}
