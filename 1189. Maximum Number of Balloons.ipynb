{
 "cells": [
  {
   "cell_type": "code",
   "execution_count": null,
   "id": "ca813c43",
   "metadata": {},
   "outputs": [],
   "source": [
    "from collections import defaultdict\n",
    "class Solution:\n",
    "    def maxNumberOfBalloons(self, text: str) -> int:\n",
    "        dic = defaultdict(int)\n",
    "        for letter in text:\n",
    "            dic[letter] += 1\n",
    "        return min(dic[\"b\"], dic[\"a\"], dic[\"l\"]//2, dic[\"o\"]//2, dic['n'])"
   ]
  }
 ],
 "metadata": {
  "kernelspec": {
   "display_name": "Python 3 (ipykernel)",
   "language": "python",
   "name": "python3"
  },
  "language_info": {
   "codemirror_mode": {
    "name": "ipython",
    "version": 3
   },
   "file_extension": ".py",
   "mimetype": "text/x-python",
   "name": "python",
   "nbconvert_exporter": "python",
   "pygments_lexer": "ipython3",
   "version": "3.9.13"
  }
 },
 "nbformat": 4,
 "nbformat_minor": 5
}
