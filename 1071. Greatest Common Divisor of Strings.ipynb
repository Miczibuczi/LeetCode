{
 "cells": [
  {
   "cell_type": "code",
   "execution_count": 3,
   "id": "f594ff57",
   "metadata": {},
   "outputs": [],
   "source": [
    "class Solution:\n",
    "    def gcdOfStrings(self, str1: str, str2: str) -> str:\n",
    "        if len(str1) <= len(str2):\n",
    "            shorter = str1\n",
    "            longer = str2\n",
    "        else:\n",
    "            shorter = str2\n",
    "            longer = str1\n",
    "        \n",
    "        len_shorter = len(shorter)\n",
    "        len_longer = len(longer)\n",
    "        for i in range(len_shorter):\n",
    "            if len_longer%(len_shorter-i) == 0 and len_shorter%(len_shorter-i) == 0:\n",
    "                if shorter[:len_shorter-i] * (len_longer//(len_shorter-i)) == longer and shorter[:len_shorter-i]*(len_shorter//(len_shorter-i)) == shorter:\n",
    "                        return shorter[:len_shorter-i]\n",
    "        return \"\""
   ]
  }
 ],
 "metadata": {
  "kernelspec": {
   "display_name": "Python 3 (ipykernel)",
   "language": "python",
   "name": "python3"
  },
  "language_info": {
   "codemirror_mode": {
    "name": "ipython",
    "version": 3
   },
   "file_extension": ".py",
   "mimetype": "text/x-python",
   "name": "python",
   "nbconvert_exporter": "python",
   "pygments_lexer": "ipython3",
   "version": "3.9.13"
  }
 },
 "nbformat": 4,
 "nbformat_minor": 5
}
