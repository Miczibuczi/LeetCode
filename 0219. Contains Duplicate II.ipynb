{
 "cells": [
  {
   "cell_type": "code",
   "execution_count": null,
   "id": "e70ad3d1",
   "metadata": {},
   "outputs": [],
   "source": [
    "class Solution:\n",
    "    def containsNearbyDuplicate(self, nums: List[int], k: int) -> bool:\n",
    "        if k == 0 or len(nums) == len(set(nums)):\n",
    "            return False\n",
    "        elif len(nums) <= k+1:\n",
    "            return len(nums) != len(set(nums))\n",
    "        elif len(nums[-k:]) != len(set(nums[-k:])):\n",
    "            return True\n",
    "        for i in range(len(nums)-k):\n",
    "                for j in range(k):\n",
    "                    if nums[i] == nums[i+1+j]:\n",
    "                        return True\n",
    "        return False"
   ]
  }
 ],
 "metadata": {
  "kernelspec": {
   "display_name": "Python 3 (ipykernel)",
   "language": "python",
   "name": "python3"
  },
  "language_info": {
   "codemirror_mode": {
    "name": "ipython",
    "version": 3
   },
   "file_extension": ".py",
   "mimetype": "text/x-python",
   "name": "python",
   "nbconvert_exporter": "python",
   "pygments_lexer": "ipython3",
   "version": "3.9.13"
  }
 },
 "nbformat": 4,
 "nbformat_minor": 5
}
