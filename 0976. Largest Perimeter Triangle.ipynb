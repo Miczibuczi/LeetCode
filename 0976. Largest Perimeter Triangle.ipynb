{
 "cells": [
  {
   "cell_type": "code",
   "execution_count": 2,
   "id": "f5a9eedc",
   "metadata": {},
   "outputs": [],
   "source": [
    "class Solution:\n",
    "    def largestPerimeter(self, nums: List[int]) -> int:\n",
    "        nums.sort(reverse=True)\n",
    "        for i in range(2, len(nums)):\n",
    "            if nums[i-2] < nums[i-1]+nums[i]:\n",
    "                return sum(nums[i-2:i+1])\n",
    "        return 0"
   ]
  },
  {
   "cell_type": "code",
   "execution_count": null,
   "id": "7ba9e14b",
   "metadata": {},
   "outputs": [],
   "source": [
    "# both answers are correct, but probably this will be less efficient with bigger lists\n",
    "class Solution:\n",
    "    def largestPerimeter(self, nums: List[int]) -> int:\n",
    "        a = max(nums)\n",
    "        nums.remove(a)\n",
    "        b = max(nums)\n",
    "        nums.remove(b)\n",
    "        c = max(nums)\n",
    "        while nums:\n",
    "            if a < b+c:\n",
    "                return a+b+c\n",
    "            else:\n",
    "                nums.remove(c)\n",
    "                if nums:\n",
    "                    a,b,c, = b, c, max(nums)\n",
    "        return 0"
   ]
  }
 ],
 "metadata": {
  "kernelspec": {
   "display_name": "Python 3 (ipykernel)",
   "language": "python",
   "name": "python3"
  },
  "language_info": {
   "codemirror_mode": {
    "name": "ipython",
    "version": 3
   },
   "file_extension": ".py",
   "mimetype": "text/x-python",
   "name": "python",
   "nbconvert_exporter": "python",
   "pygments_lexer": "ipython3",
   "version": "3.9.13"
  }
 },
 "nbformat": 4,
 "nbformat_minor": 5
}
