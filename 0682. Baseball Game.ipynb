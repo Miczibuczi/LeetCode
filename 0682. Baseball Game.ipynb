{
 "cells": [
  {
   "cell_type": "code",
   "execution_count": 1,
   "id": "03f01e83",
   "metadata": {},
   "outputs": [],
   "source": [
    "class Solution:\n",
    "    def calPoints(self, operations: List[str]) -> int:\n",
    "        record = []\n",
    "        for i in operations:\n",
    "            if i == \"C\":\n",
    "                record.pop()\n",
    "            elif i == \"D\":\n",
    "                record.append(record[-1]*2)\n",
    "            elif i == \"+\":\n",
    "                record.append(record[-1]+record[-2])\n",
    "            else:\n",
    "                record.append(int(i))\n",
    "        return sum(record)"
   ]
  }
 ],
 "metadata": {
  "kernelspec": {
   "display_name": "Python 3 (ipykernel)",
   "language": "python",
   "name": "python3"
  },
  "language_info": {
   "codemirror_mode": {
    "name": "ipython",
    "version": 3
   },
   "file_extension": ".py",
   "mimetype": "text/x-python",
   "name": "python",
   "nbconvert_exporter": "python",
   "pygments_lexer": "ipython3",
   "version": "3.9.13"
  }
 },
 "nbformat": 4,
 "nbformat_minor": 5
}
