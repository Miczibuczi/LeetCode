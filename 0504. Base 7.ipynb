{
 "cells": [
  {
   "cell_type": "code",
   "execution_count": null,
   "id": "2b18fb84",
   "metadata": {},
   "outputs": [],
   "source": [
    "class Solution:\n",
    "    def convertToBase7(self, num: int) -> str:\n",
    "        result = \"\"\n",
    "        negative = False\n",
    "        if num == 0:\n",
    "            return \"0\"\n",
    "        elif num < 0:\n",
    "            negative = True\n",
    "            num = num*(-1)\n",
    "        while num > 0:\n",
    "            result = str(num % 7) + result\n",
    "            num = num // 7\n",
    "        if negative:\n",
    "            result = \"-\" + result\n",
    "        return result"
   ]
  }
 ],
 "metadata": {
  "kernelspec": {
   "display_name": "Python 3 (ipykernel)",
   "language": "python",
   "name": "python3"
  },
  "language_info": {
   "codemirror_mode": {
    "name": "ipython",
    "version": 3
   },
   "file_extension": ".py",
   "mimetype": "text/x-python",
   "name": "python",
   "nbconvert_exporter": "python",
   "pygments_lexer": "ipython3",
   "version": "3.9.13"
  }
 },
 "nbformat": 4,
 "nbformat_minor": 5
}
