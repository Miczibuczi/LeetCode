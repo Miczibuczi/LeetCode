{
 "cells": [
  {
   "cell_type": "code",
   "execution_count": null,
   "id": "173cba9d",
   "metadata": {},
   "outputs": [],
   "source": [
    "class Solution:\n",
    "    def letterCombinations(self, digits: str) -> List[str]:\n",
    "        if not digits:\n",
    "            return []\n",
    "        def helper(cur_ans, i):\n",
    "            if i < len(digits)-1:\n",
    "                for letter in letters[digits[i]]:\n",
    "                    helper(cur_ans+letter, i+1)\n",
    "            else:\n",
    "                for letter in letters[digits[i]]:\n",
    "                    ans.append(cur_ans+letter)\n",
    "\n",
    "        letters = {\"2\":\"abc\", \"3\":\"def\", \"4\":\"ghi\", \"5\":\"jkl\", \"6\":\"mno\", \"7\":\"pqrs\", \"8\":\"tuv\", \"9\":\"wxyz\"}\n",
    "        ans = []\n",
    "        helper(\"\", 0)\n",
    "        return ans"
   ]
  },
  {
   "cell_type": "code",
   "execution_count": null,
   "id": "debfb63f",
   "metadata": {},
   "outputs": [],
   "source": [
    "# First answer, less time efficient\n",
    "\n",
    "class Solution:\n",
    "    def letterCombinations(self, digits: str) -> List[str]:\n",
    "        if not digits:\n",
    "            return []\n",
    "        def helper(cur_ans, i):\n",
    "            if i < len(digits)-1:\n",
    "                for letter in letters[int(digits[i])]:\n",
    "                    helper(cur_ans+letter, i+1)\n",
    "            else:\n",
    "                for letter in letters[int(digits[i])]:\n",
    "                    ans.append(cur_ans+letter)\n",
    "\n",
    "        letters = [None, None, \"abc\", \"def\", \"ghi\", \"jkl\", \"mno\", \"pqrs\", \"tuv\", \"wxyz\"]\n",
    "        ans = []\n",
    "        helper(\"\", 0)\n",
    "        return ans"
   ]
  }
 ],
 "metadata": {
  "kernelspec": {
   "display_name": "Python 3 (ipykernel)",
   "language": "python",
   "name": "python3"
  },
  "language_info": {
   "codemirror_mode": {
    "name": "ipython",
    "version": 3
   },
   "file_extension": ".py",
   "mimetype": "text/x-python",
   "name": "python",
   "nbconvert_exporter": "python",
   "pygments_lexer": "ipython3",
   "version": "3.10.9"
  }
 },
 "nbformat": 4,
 "nbformat_minor": 5
}
