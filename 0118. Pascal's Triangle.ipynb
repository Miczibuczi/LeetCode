{
 "cells": [
  {
   "cell_type": "code",
   "execution_count": null,
   "id": "cc30720a",
   "metadata": {},
   "outputs": [],
   "source": [
    "class Solution:\n",
    "    def generate(self, numRows: int) -> List[List[int]]:\n",
    "        result = [[1]]\n",
    "        a = 1\n",
    "        while a < numRows:\n",
    "            temporary_list = result[a-1]\n",
    "            new_list = [1]\n",
    "            for i in range(len(temporary_list)):\n",
    "                if i == len(temporary_list)-1:\n",
    "                    new_list.append(temporary_list[i])\n",
    "                else:\n",
    "                    new_list.append(temporary_list[i] + temporary_list[i+1])\n",
    "            result.append(new_list)\n",
    "            a += 1\n",
    "        return result"
   ]
  }
 ],
 "metadata": {
  "kernelspec": {
   "display_name": "Python 3 (ipykernel)",
   "language": "python",
   "name": "python3"
  },
  "language_info": {
   "codemirror_mode": {
    "name": "ipython",
    "version": 3
   },
   "file_extension": ".py",
   "mimetype": "text/x-python",
   "name": "python",
   "nbconvert_exporter": "python",
   "pygments_lexer": "ipython3",
   "version": "3.9.13"
  }
 },
 "nbformat": 4,
 "nbformat_minor": 5
}
