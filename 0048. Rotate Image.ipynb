{
 "cells": [
  {
   "cell_type": "code",
   "execution_count": 27,
   "id": "1bb11695",
   "metadata": {},
   "outputs": [],
   "source": [
    "class Solution:\n",
    "    def rotate(self, matrix: List[List[int]]) -> None:\n",
    "        \"\"\"\n",
    "        Do not return anything, modify matrix in-place instead.\n",
    "        \"\"\"\n",
    "        for i in range(len(matrix)//2):\n",
    "            for j in range(len(matrix)-1-2*i):\n",
    "                matrix[i][j+i], matrix[j+i][~i] = matrix[j+i][~i], matrix[i][j+i]\n",
    "                matrix[~i][~j-i], matrix[~j-i][i] = matrix[~j-i][i], matrix[~i][~j-i]\n",
    "                matrix[i][j+i], matrix[~i][~j-i] = matrix[~i][~j-i], matrix[i][j+i]"
   ]
  }
 ],
 "metadata": {
  "kernelspec": {
   "display_name": "Python 3 (ipykernel)",
   "language": "python",
   "name": "python3"
  },
  "language_info": {
   "codemirror_mode": {
    "name": "ipython",
    "version": 3
   },
   "file_extension": ".py",
   "mimetype": "text/x-python",
   "name": "python",
   "nbconvert_exporter": "python",
   "pygments_lexer": "ipython3",
   "version": "3.9.13"
  }
 },
 "nbformat": 4,
 "nbformat_minor": 5
}
