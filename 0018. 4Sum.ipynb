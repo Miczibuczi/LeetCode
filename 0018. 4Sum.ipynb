{
 "cells": [
  {
   "cell_type": "code",
   "execution_count": null,
   "id": "8c0effc9",
   "metadata": {},
   "outputs": [],
   "source": [
    "class Solution:\n",
    "    def fourSum(self, nums: List[int], target: int) -> List[List[int]]:\n",
    "        nums.sort()\n",
    "        ans = set()\n",
    "        seen = set()\n",
    "        for i in range(len(nums)):\n",
    "            for j in range(i+1, len(nums)):\n",
    "                if (nums[i], nums[j]) in seen:\n",
    "                    continue\n",
    "                seen.add((nums[i], nums[j]))\n",
    "                left = j+1\n",
    "                right = len(nums)-1\n",
    "                new_target = target - nums[i] - nums[j]\n",
    "                while left < right:\n",
    "                    if right == j:\n",
    "                        right -= 1\n",
    "                        continue\n",
    "                    cur_sum = new_target - nums[left] - nums[right]\n",
    "                    if cur_sum > 0:\n",
    "                        left += 1\n",
    "                    elif cur_sum < 0:\n",
    "                        right -= 1\n",
    "                    else:\n",
    "                        ans.add((nums[i], nums[j], nums[left], nums[right]))\n",
    "                        left += 1\n",
    "                        right -= 1\n",
    "        return ans"
   ]
  }
 ],
 "metadata": {
  "kernelspec": {
   "display_name": "Python 3 (ipykernel)",
   "language": "python",
   "name": "python3"
  },
  "language_info": {
   "codemirror_mode": {
    "name": "ipython",
    "version": 3
   },
   "file_extension": ".py",
   "mimetype": "text/x-python",
   "name": "python",
   "nbconvert_exporter": "python",
   "pygments_lexer": "ipython3",
   "version": "3.10.9"
  }
 },
 "nbformat": 4,
 "nbformat_minor": 5
}
