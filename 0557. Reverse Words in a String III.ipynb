{
 "cells": [
  {
   "cell_type": "code",
   "execution_count": 1,
   "id": "d5ce85c7",
   "metadata": {},
   "outputs": [],
   "source": [
    "class Solution:\n",
    "    def reverseWords(self, s: str) -> str:\n",
    "        new_s = \"\"\n",
    "        for i in s.split(\" \"):\n",
    "            new_s += i[::-1]\n",
    "            new_s += \" \"\n",
    "        new_s = new_s[:-1]\n",
    "        return new_s"
   ]
  }
 ],
 "metadata": {
  "kernelspec": {
   "display_name": "Python 3 (ipykernel)",
   "language": "python",
   "name": "python3"
  },
  "language_info": {
   "codemirror_mode": {
    "name": "ipython",
    "version": 3
   },
   "file_extension": ".py",
   "mimetype": "text/x-python",
   "name": "python",
   "nbconvert_exporter": "python",
   "pygments_lexer": "ipython3",
   "version": "3.9.13"
  }
 },
 "nbformat": 4,
 "nbformat_minor": 5
}
