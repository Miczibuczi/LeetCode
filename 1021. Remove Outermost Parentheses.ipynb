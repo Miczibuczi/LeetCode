{
 "cells": [
  {
   "cell_type": "code",
   "execution_count": 1,
   "id": "4f5a1da4",
   "metadata": {},
   "outputs": [],
   "source": [
    "class Solution:\n",
    "    def removeOuterParentheses(self, s: str) -> str:\n",
    "        answer = \"\"\n",
    "        primitive = \"\"\n",
    "        count = 0\n",
    "        for i in s:\n",
    "            if i == \"(\":\n",
    "                count += 1\n",
    "            elif i == \")\":\n",
    "                count -= 1\n",
    "            primitive += i\n",
    "            if count == 0:\n",
    "                answer += primitive[1: -1]\n",
    "                primitive = \"\"\n",
    "        return answer"
   ]
  }
 ],
 "metadata": {
  "kernelspec": {
   "display_name": "Python 3 (ipykernel)",
   "language": "python",
   "name": "python3"
  },
  "language_info": {
   "codemirror_mode": {
    "name": "ipython",
    "version": 3
   },
   "file_extension": ".py",
   "mimetype": "text/x-python",
   "name": "python",
   "nbconvert_exporter": "python",
   "pygments_lexer": "ipython3",
   "version": "3.9.13"
  }
 },
 "nbformat": 4,
 "nbformat_minor": 5
}
