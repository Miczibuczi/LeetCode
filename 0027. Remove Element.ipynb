{
 "cells": [
  {
   "cell_type": "code",
   "execution_count": null,
   "id": "76bd8852",
   "metadata": {},
   "outputs": [],
   "source": [
    "class Solution:\n",
    "    def removeElement(self, nums: List[int], val: int) -> int:\n",
    "        k = len(nums)\n",
    "        InsertIndex = 0\n",
    "        for i in range(k):\n",
    "            if nums[i] != val:\n",
    "                nums[InsertIndex] = nums[i]\n",
    "                InsertIndex += 1\n",
    "        return InsertIndex"
   ]
  }
 ],
 "metadata": {
  "kernelspec": {
   "display_name": "Python 3 (ipykernel)",
   "language": "python",
   "name": "python3"
  },
  "language_info": {
   "codemirror_mode": {
    "name": "ipython",
    "version": 3
   },
   "file_extension": ".py",
   "mimetype": "text/x-python",
   "name": "python",
   "nbconvert_exporter": "python",
   "pygments_lexer": "ipython3",
   "version": "3.9.13"
  }
 },
 "nbformat": 4,
 "nbformat_minor": 5
}
