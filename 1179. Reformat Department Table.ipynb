{
 "cells": [
  {
   "cell_type": "code",
   "execution_count": null,
   "id": "3e308419",
   "metadata": {},
   "outputs": [],
   "source": [
    "import pandas as pd\n",
    "\n",
    "def reformat_table(department: pd.DataFrame) -> pd.DataFrame:\n",
    "    department = department.pivot(index = \"id\", columns=\"month\", values=\"revenue\")\n",
    "    months = [\"Jan\",\"Feb\",\"Mar\",\"Apr\",\"May\",\"Jun\",\"Jul\",\"Aug\",\"Sep\",\"Oct\",\"Nov\",\"Dec\"]\n",
    "    month_map = {month: month + \"_Revenue\" for month in months}\n",
    "    for month in months:\n",
    "        if month not in department.columns:\n",
    "            department[month + \"_Revenue\"] = pd.NA\n",
    "    department.rename(columns=month_map, inplace=True)\n",
    "    department = department[list(month_map.values())]\n",
    "    department.reset_index(inplace=True)\n",
    "    return department"
   ]
  }
 ],
 "metadata": {
  "kernelspec": {
   "display_name": "Python 3 (ipykernel)",
   "language": "python",
   "name": "python3"
  },
  "language_info": {
   "codemirror_mode": {
    "name": "ipython",
    "version": 3
   },
   "file_extension": ".py",
   "mimetype": "text/x-python",
   "name": "python",
   "nbconvert_exporter": "python",
   "pygments_lexer": "ipython3",
   "version": "3.10.9"
  }
 },
 "nbformat": 4,
 "nbformat_minor": 5
}
