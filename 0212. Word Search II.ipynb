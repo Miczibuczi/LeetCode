{
 "cells": [
  {
   "cell_type": "code",
   "execution_count": null,
   "id": "2fd20314",
   "metadata": {},
   "outputs": [],
   "source": [
    "class Solution:\n",
    "    def findWords(self, board: List[List[str]], words: List[str]) -> List[str]:\n",
    "        def check_location(i, j, path, seen):\n",
    "            path += board[i][j]\n",
    "            if path in words:\n",
    "                words.remove(path)\n",
    "                self.ans.append(path)\n",
    "                for k in range(1, len(path)):\n",
    "                    paths[path[:k]] -= 1\n",
    "            if paths[path] > 0:\n",
    "                if (i+1, j) not in seen and i+1 < len(board):\n",
    "                    check_location(i+1, j, path, seen|{(i, j)})\n",
    "                if (i-1, j) not in seen and i > 0:\n",
    "                    check_location(i-1, j, path, seen|{(i, j)})\n",
    "                if (i, j+1) not in seen and j+1 < len(board[0]):\n",
    "                    check_location (i, j+1, path, seen|{(i, j)})\n",
    "                if (i, j-1) not in seen and j > 0:\n",
    "                    check_location(i, j-1, path, seen|{(i, j)})\n",
    "        self.ans = []\n",
    "        words = set(words)\n",
    "        paths = defaultdict(int)\n",
    "        for word in words:\n",
    "            path = \"\"\n",
    "            for letter in word:\n",
    "                path += letter\n",
    "                paths[path] += 1\n",
    "        \n",
    "        for i in range(len(board)):\n",
    "            for j in range(len(board[0])):\n",
    "                check_location(i, j, \"\", set())\n",
    "        \n",
    "        return self.ans"
   ]
  }
 ],
 "metadata": {
  "kernelspec": {
   "display_name": "Python 3 (ipykernel)",
   "language": "python",
   "name": "python3"
  },
  "language_info": {
   "codemirror_mode": {
    "name": "ipython",
    "version": 3
   },
   "file_extension": ".py",
   "mimetype": "text/x-python",
   "name": "python",
   "nbconvert_exporter": "python",
   "pygments_lexer": "ipython3",
   "version": "3.10.9"
  }
 },
 "nbformat": 4,
 "nbformat_minor": 5
}
