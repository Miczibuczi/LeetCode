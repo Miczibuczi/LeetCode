{
 "cells": [
  {
   "cell_type": "code",
   "execution_count": null,
   "id": "dd1bc58d",
   "metadata": {},
   "outputs": [],
   "source": [
    "class Solution:\n",
    "    def findWords(self, board: List[List[str]], words: List[str]) -> List[str]:\n",
    "        def add_letter(cur, i, j, seen):\n",
    "            cur_seen = seen.copy()\n",
    "            cur_seen.add((i, j))\n",
    "            if board[i][j] not in cur:\n",
    "                cur[board[i][j]] = {}\n",
    "            if i > 0 and (i-1, j) not in seen:\n",
    "                add_letter(cur[board[i][j]], i-1, j, cur_seen)\n",
    "            if i+1 < len(board) and (i+1, j) not in seen:\n",
    "                add_letter(cur[board[i][j]], i+1, j, cur_seen)\n",
    "            if j > 0 and (i, j-1) not in seen:\n",
    "                add_letter(cur[board[i][j]], i, j-1, cur_seen)\n",
    "            if j+1 < len(board[0]) and (i, j+1) not in seen:\n",
    "                add_letter(cur[board[i][j]], i, j+1, cur_seen)\n",
    "\n",
    "        Trie = {}\n",
    "        for i in range(len(board)):\n",
    "            for j in range(len(board[0])):\n",
    "                add_letter(Trie, i, j, set())\n",
    "        ans = []\n",
    "        for word in words:\n",
    "            cur = Trie\n",
    "            for letter in word:\n",
    "                if letter not in cur:\n",
    "                    break\n",
    "                cur = cur[letter]\n",
    "            else:\n",
    "                ans.append(word)\n",
    "        return ans"
   ]
  },
  {
   "cell_type": "code",
   "execution_count": null,
   "id": "e354bd7d",
   "metadata": {},
   "outputs": [],
   "source": [
    "class Solution:\n",
    "    def findWords(self, board: List[List[str]], words: List[str]) -> List[str]:\n",
    "        my_dict = defaultdict(set)\n",
    "        for i in range(len(board)):\n",
    "            for j in range(len(board[0])):\n",
    "                my_dict[board[i][j]].add((i, j))\n",
    "        \n",
    "        ans = []\n",
    "        for word in words:\n",
    "            stack = my_dict[word[0]]\n",
    "            for letter in word[1:]:\n",
    "                new_stack = set()\n",
    "                for item in stack:\n",
    "                    i, j = item\n",
    "                    if i > 0 and board[i-1][j] == letter:\n",
    "                        new_stack.add((i-1, j))\n",
    "                    if i+1 < len(board) and board[i+1][j] == letter:\n",
    "                        new_stack.add((i+1, j))\n",
    "                    if j > 0 and board[i][j-1] == letter:\n",
    "                        new_stack.add((i, j-1))\n",
    "                    if j+1 < len(board[0]) and board[i][j+1] == letter:\n",
    "                        new_stack.add((i, j+1))\n",
    "                stack = new_stack\n",
    "            if stack:\n",
    "                ans.append(word)\n",
    "        return ans"
   ]
  },
  {
   "cell_type": "code",
   "execution_count": null,
   "id": "aa223adf",
   "metadata": {},
   "outputs": [],
   "source": [
    "class Solution:\n",
    "    def findWords(self, board: List[List[str]], words: List[str]) -> List[str]:\n",
    "        my_dict = defaultdict(set)\n",
    "        for i in range(len(board)):\n",
    "            for j in range(len(board[0])):\n",
    "                my_dict[board[i][j]].add((i, j))\n",
    "        \n",
    "        ans = []\n",
    "        for word in words:\n",
    "            print(my_dict[word[0]])\n",
    "            stack = [item+(set(),) for item in my_dict[word[0]]]\n",
    "            for letter in word[1:]:\n",
    "                new_stack = []\n",
    "                for item in stack:\n",
    "                    i, j, seen = item\n",
    "                    seen.add((i, j))\n",
    "                    if i > 0 and board[i-1][j] == letter and (i-1, j) not in seen:\n",
    "                        new_stack.append((i-1, j, seen))\n",
    "                        seen.add((i-1, j))\n",
    "                    if i+1 < len(board) and board[i+1][j] == letter and (i+1, j) not in seen:\n",
    "                        new_stack.append((i+1, j, seen))\n",
    "                        seen.add((i+1, j))\n",
    "                    if j > 0 and board[i][j-1] == letter and (i, j-1) not in seen:\n",
    "                        new_stack.append((i, j-1, seen))\n",
    "                        seen.add((i, j-1))\n",
    "                    if j+1 < len(board[0]) and board[i][j+1] == letter and (i, j+1) not in seen:\n",
    "                        new_stack.append((i, j+1, seen))\n",
    "                        seen.add((i, j+1))\n",
    "                stack = new_stack\n",
    "            if stack:\n",
    "                ans.append(word)\n",
    "        return ans"
   ]
  },
  {
   "cell_type": "code",
   "execution_count": null,
   "id": "c4110d4d",
   "metadata": {},
   "outputs": [],
   "source": [
    "class Solution:\n",
    "    def findWords(self, board: List[List[str]], words: List[str]) -> List[str]:\n",
    "        my_dict = defaultdict(set)\n",
    "        for i in range(len(board)):\n",
    "            for j in range(len(board[0])):\n",
    "                my_dict[board[i][j]].add((i, j))\n",
    "        \n",
    "        ans = []\n",
    "        for word in words:\n",
    "            for letter in word:\n",
    "                if letter not in my_dict:\n",
    "                    break\n",
    "            else:\n",
    "                stack = [item+(set(),) for item in my_dict[word[0]]]\n",
    "                for letter in word[1:]:\n",
    "                    new_stack = []\n",
    "                    for item in stack:\n",
    "                        i, j, seen = item\n",
    "                        seen_copy = seen.copy()\n",
    "                        seen_copy.add((i, j))\n",
    "                        if i > 0 and board[i-1][j] == letter and (i-1, j) not in seen:\n",
    "                            new_stack.append((i-1, j, seen_copy))\n",
    "                        if i+1 < len(board) and board[i+1][j] == letter and (i+1, j) not in seen:\n",
    "                            new_stack.append((i+1, j, seen_copy))\n",
    "                        if j > 0 and board[i][j-1] == letter and (i, j-1) not in seen:\n",
    "                            new_stack.append((i, j-1, seen_copy))\n",
    "                        if j+1 < len(board[0]) and board[i][j+1] == letter and (i, j+1) not in seen:\n",
    "                            new_stack.append((i, j+1, seen_copy))\n",
    "                    stack = new_stack\n",
    "                if stack:\n",
    "                    ans.append(word)\n",
    "        return ans"
   ]
  },
  {
   "cell_type": "code",
   "execution_count": null,
   "id": "c439ca51",
   "metadata": {},
   "outputs": [],
   "source": []
  },
  {
   "cell_type": "code",
   "execution_count": null,
   "id": "6f702fde",
   "metadata": {},
   "outputs": [],
   "source": []
  },
  {
   "cell_type": "code",
   "execution_count": 13,
   "id": "43e8740a",
   "metadata": {},
   "outputs": [],
   "source": [
    "from collections import defaultdict"
   ]
  },
  {
   "cell_type": "code",
   "execution_count": 20,
   "id": "d8bfc06d",
   "metadata": {},
   "outputs": [],
   "source": [
    "board = [[\"a\",\"b\"]]\n",
    "words = [\"oath\",\"pea\",\"eat\",\"rain\"]\n",
    "my_dict = defaultdict(set)\n",
    "for i in range(len(board)):\n",
    "    for j in range(len(board[0])):\n",
    "        my_dict[board[i][j]].add((i, j))"
   ]
  },
  {
   "cell_type": "code",
   "execution_count": 21,
   "id": "522e47bc",
   "metadata": {},
   "outputs": [
    {
     "data": {
      "text/plain": [
       "defaultdict(set, {'a': {(0, 0)}, 'b': {(0, 1)}})"
      ]
     },
     "execution_count": 21,
     "metadata": {},
     "output_type": "execute_result"
    }
   ],
   "source": [
    "my_dict"
   ]
  },
  {
   "cell_type": "code",
   "execution_count": 18,
   "id": "fbcbe0eb",
   "metadata": {},
   "outputs": [],
   "source": [
    "stack = my_dict[\"o\"]"
   ]
  },
  {
   "cell_type": "code",
   "execution_count": 43,
   "id": "3faf053a",
   "metadata": {},
   "outputs": [
    {
     "data": {
      "text/plain": [
       "676"
      ]
     },
     "execution_count": 43,
     "metadata": {},
     "output_type": "execute_result"
    }
   ],
   "source": [
    "len(nums)"
   ]
  },
  {
   "cell_type": "code",
   "execution_count": 42,
   "id": "b8306a64",
   "metadata": {},
   "outputs": [],
   "source": [
    "nums = [\"aaaaaaaaaa\",\"aaaaaaaaab\",\"aaaaaaaaac\",\"aaaaaaaaad\",\"aaaaaaaaae\",\"aaaaaaaaaf\",\"aaaaaaaaag\",\"aaaaaaaaah\",\"aaaaaaaaai\",\"aaaaaaaaaj\",\"aaaaaaaaak\",\"aaaaaaaaal\",\"aaaaaaaaam\",\"aaaaaaaaan\",\"aaaaaaaaao\",\"aaaaaaaaap\",\"aaaaaaaaaq\",\"aaaaaaaaar\",\"aaaaaaaaas\",\"aaaaaaaaat\",\"aaaaaaaaau\",\"aaaaaaaaav\",\"aaaaaaaaaw\",\"aaaaaaaaax\",\"aaaaaaaaay\",\"aaaaaaaaaz\",\"aaaaaaaaba\",\"aaaaaaaabb\",\"aaaaaaaabc\",\"aaaaaaaabd\",\"aaaaaaaabe\",\"aaaaaaaabf\",\"aaaaaaaabg\",\"aaaaaaaabh\",\"aaaaaaaabi\",\"aaaaaaaabj\",\"aaaaaaaabk\",\"aaaaaaaabl\",\"aaaaaaaabm\",\"aaaaaaaabn\",\"aaaaaaaabo\",\"aaaaaaaabp\",\"aaaaaaaabq\",\"aaaaaaaabr\",\"aaaaaaaabs\",\"aaaaaaaabt\",\"aaaaaaaabu\",\"aaaaaaaabv\",\"aaaaaaaabw\",\"aaaaaaaabx\",\"aaaaaaaaby\",\"aaaaaaaabz\",\"aaaaaaaaca\",\"aaaaaaaacb\",\"aaaaaaaacc\",\"aaaaaaaacd\",\"aaaaaaaace\",\"aaaaaaaacf\",\"aaaaaaaacg\",\"aaaaaaaach\",\"aaaaaaaaci\",\"aaaaaaaacj\",\"aaaaaaaack\",\"aaaaaaaacl\",\"aaaaaaaacm\",\"aaaaaaaacn\",\"aaaaaaaaco\",\"aaaaaaaacp\",\"aaaaaaaacq\",\"aaaaaaaacr\",\"aaaaaaaacs\",\"aaaaaaaact\",\"aaaaaaaacu\",\"aaaaaaaacv\",\"aaaaaaaacw\",\"aaaaaaaacx\",\"aaaaaaaacy\",\"aaaaaaaacz\",\"aaaaaaaada\",\"aaaaaaaadb\",\"aaaaaaaadc\",\"aaaaaaaadd\",\"aaaaaaaade\",\"aaaaaaaadf\",\"aaaaaaaadg\",\"aaaaaaaadh\",\"aaaaaaaadi\",\"aaaaaaaadj\",\"aaaaaaaadk\",\"aaaaaaaadl\",\"aaaaaaaadm\",\"aaaaaaaadn\",\"aaaaaaaado\",\"aaaaaaaadp\",\"aaaaaaaadq\",\"aaaaaaaadr\",\"aaaaaaaads\",\"aaaaaaaadt\",\"aaaaaaaadu\",\"aaaaaaaadv\",\"aaaaaaaadw\",\"aaaaaaaadx\",\"aaaaaaaady\",\"aaaaaaaadz\",\"aaaaaaaaea\",\"aaaaaaaaeb\",\"aaaaaaaaec\",\"aaaaaaaaed\",\"aaaaaaaaee\",\"aaaaaaaaef\",\"aaaaaaaaeg\",\"aaaaaaaaeh\",\"aaaaaaaaei\",\"aaaaaaaaej\",\"aaaaaaaaek\",\"aaaaaaaael\",\"aaaaaaaaem\",\"aaaaaaaaen\",\"aaaaaaaaeo\",\"aaaaaaaaep\",\"aaaaaaaaeq\",\"aaaaaaaaer\",\"aaaaaaaaes\",\"aaaaaaaaet\",\"aaaaaaaaeu\",\"aaaaaaaaev\",\"aaaaaaaaew\",\"aaaaaaaaex\",\"aaaaaaaaey\",\"aaaaaaaaez\",\"aaaaaaaafa\",\"aaaaaaaafb\",\"aaaaaaaafc\",\"aaaaaaaafd\",\"aaaaaaaafe\",\"aaaaaaaaff\",\"aaaaaaaafg\",\"aaaaaaaafh\",\"aaaaaaaafi\",\"aaaaaaaafj\",\"aaaaaaaafk\",\"aaaaaaaafl\",\"aaaaaaaafm\",\"aaaaaaaafn\",\"aaaaaaaafo\",\"aaaaaaaafp\",\"aaaaaaaafq\",\"aaaaaaaafr\",\"aaaaaaaafs\",\"aaaaaaaaft\",\"aaaaaaaafu\",\"aaaaaaaafv\",\"aaaaaaaafw\",\"aaaaaaaafx\",\"aaaaaaaafy\",\"aaaaaaaafz\",\"aaaaaaaaga\",\"aaaaaaaagb\",\"aaaaaaaagc\",\"aaaaaaaagd\",\"aaaaaaaage\",\"aaaaaaaagf\",\"aaaaaaaagg\",\"aaaaaaaagh\",\"aaaaaaaagi\",\"aaaaaaaagj\",\"aaaaaaaagk\",\"aaaaaaaagl\",\"aaaaaaaagm\",\"aaaaaaaagn\",\"aaaaaaaago\",\"aaaaaaaagp\",\"aaaaaaaagq\",\"aaaaaaaagr\",\"aaaaaaaags\",\"aaaaaaaagt\",\"aaaaaaaagu\",\"aaaaaaaagv\",\"aaaaaaaagw\",\"aaaaaaaagx\",\"aaaaaaaagy\",\"aaaaaaaagz\",\"aaaaaaaaha\",\"aaaaaaaahb\",\"aaaaaaaahc\",\"aaaaaaaahd\",\"aaaaaaaahe\",\"aaaaaaaahf\",\"aaaaaaaahg\",\"aaaaaaaahh\",\"aaaaaaaahi\",\"aaaaaaaahj\",\"aaaaaaaahk\",\"aaaaaaaahl\",\"aaaaaaaahm\",\"aaaaaaaahn\",\"aaaaaaaaho\",\"aaaaaaaahp\",\"aaaaaaaahq\",\"aaaaaaaahr\",\"aaaaaaaahs\",\"aaaaaaaaht\",\"aaaaaaaahu\",\"aaaaaaaahv\",\"aaaaaaaahw\",\"aaaaaaaahx\",\"aaaaaaaahy\",\"aaaaaaaahz\",\"aaaaaaaaia\",\"aaaaaaaaib\",\"aaaaaaaaic\",\"aaaaaaaaid\",\"aaaaaaaaie\",\"aaaaaaaaif\",\"aaaaaaaaig\",\"aaaaaaaaih\",\"aaaaaaaaii\",\"aaaaaaaaij\",\"aaaaaaaaik\",\"aaaaaaaail\",\"aaaaaaaaim\",\"aaaaaaaain\",\"aaaaaaaaio\",\"aaaaaaaaip\",\"aaaaaaaaiq\",\"aaaaaaaair\",\"aaaaaaaais\",\"aaaaaaaait\",\"aaaaaaaaiu\",\"aaaaaaaaiv\",\"aaaaaaaaiw\",\"aaaaaaaaix\",\"aaaaaaaaiy\",\"aaaaaaaaiz\",\"aaaaaaaaja\",\"aaaaaaaajb\",\"aaaaaaaajc\",\"aaaaaaaajd\",\"aaaaaaaaje\",\"aaaaaaaajf\",\"aaaaaaaajg\",\"aaaaaaaajh\",\"aaaaaaaaji\",\"aaaaaaaajj\",\"aaaaaaaajk\",\"aaaaaaaajl\",\"aaaaaaaajm\",\"aaaaaaaajn\",\"aaaaaaaajo\",\"aaaaaaaajp\",\"aaaaaaaajq\",\"aaaaaaaajr\",\"aaaaaaaajs\",\"aaaaaaaajt\",\"aaaaaaaaju\",\"aaaaaaaajv\",\"aaaaaaaajw\",\"aaaaaaaajx\",\"aaaaaaaajy\",\"aaaaaaaajz\",\"aaaaaaaaka\",\"aaaaaaaakb\",\"aaaaaaaakc\",\"aaaaaaaakd\",\"aaaaaaaake\",\"aaaaaaaakf\",\"aaaaaaaakg\",\"aaaaaaaakh\",\"aaaaaaaaki\",\"aaaaaaaakj\",\"aaaaaaaakk\",\"aaaaaaaakl\",\"aaaaaaaakm\",\"aaaaaaaakn\",\"aaaaaaaako\",\"aaaaaaaakp\",\"aaaaaaaakq\",\"aaaaaaaakr\",\"aaaaaaaaks\",\"aaaaaaaakt\",\"aaaaaaaaku\",\"aaaaaaaakv\",\"aaaaaaaakw\",\"aaaaaaaakx\",\"aaaaaaaaky\",\"aaaaaaaakz\",\"aaaaaaaala\",\"aaaaaaaalb\",\"aaaaaaaalc\",\"aaaaaaaald\",\"aaaaaaaale\",\"aaaaaaaalf\",\"aaaaaaaalg\",\"aaaaaaaalh\",\"aaaaaaaali\",\"aaaaaaaalj\",\"aaaaaaaalk\",\"aaaaaaaall\",\"aaaaaaaalm\",\"aaaaaaaaln\",\"aaaaaaaalo\",\"aaaaaaaalp\",\"aaaaaaaalq\",\"aaaaaaaalr\",\"aaaaaaaals\",\"aaaaaaaalt\",\"aaaaaaaalu\",\"aaaaaaaalv\",\"aaaaaaaalw\",\"aaaaaaaalx\",\"aaaaaaaaly\",\"aaaaaaaalz\",\"aaaaaaaama\",\"aaaaaaaamb\",\"aaaaaaaamc\",\"aaaaaaaamd\",\"aaaaaaaame\",\"aaaaaaaamf\",\"aaaaaaaamg\",\"aaaaaaaamh\",\"aaaaaaaami\",\"aaaaaaaamj\",\"aaaaaaaamk\",\"aaaaaaaaml\",\"aaaaaaaamm\",\"aaaaaaaamn\",\"aaaaaaaamo\",\"aaaaaaaamp\",\"aaaaaaaamq\",\"aaaaaaaamr\",\"aaaaaaaams\",\"aaaaaaaamt\",\"aaaaaaaamu\",\"aaaaaaaamv\",\"aaaaaaaamw\",\"aaaaaaaamx\",\"aaaaaaaamy\",\"aaaaaaaamz\",\"aaaaaaaana\",\"aaaaaaaanb\",\"aaaaaaaanc\",\"aaaaaaaand\",\"aaaaaaaane\",\"aaaaaaaanf\",\"aaaaaaaang\",\"aaaaaaaanh\",\"aaaaaaaani\",\"aaaaaaaanj\",\"aaaaaaaank\",\"aaaaaaaanl\",\"aaaaaaaanm\",\"aaaaaaaann\",\"aaaaaaaano\",\"aaaaaaaanp\",\"aaaaaaaanq\",\"aaaaaaaanr\",\"aaaaaaaans\",\"aaaaaaaant\",\"aaaaaaaanu\",\"aaaaaaaanv\",\"aaaaaaaanw\",\"aaaaaaaanx\",\"aaaaaaaany\",\"aaaaaaaanz\",\"aaaaaaaaoa\",\"aaaaaaaaob\",\"aaaaaaaaoc\",\"aaaaaaaaod\",\"aaaaaaaaoe\",\"aaaaaaaaof\",\"aaaaaaaaog\",\"aaaaaaaaoh\",\"aaaaaaaaoi\",\"aaaaaaaaoj\",\"aaaaaaaaok\",\"aaaaaaaaol\",\"aaaaaaaaom\",\"aaaaaaaaon\",\"aaaaaaaaoo\",\"aaaaaaaaop\",\"aaaaaaaaoq\",\"aaaaaaaaor\",\"aaaaaaaaos\",\"aaaaaaaaot\",\"aaaaaaaaou\",\"aaaaaaaaov\",\"aaaaaaaaow\",\"aaaaaaaaox\",\"aaaaaaaaoy\",\"aaaaaaaaoz\",\"aaaaaaaapa\",\"aaaaaaaapb\",\"aaaaaaaapc\",\"aaaaaaaapd\",\"aaaaaaaape\",\"aaaaaaaapf\",\"aaaaaaaapg\",\"aaaaaaaaph\",\"aaaaaaaapi\",\"aaaaaaaapj\",\"aaaaaaaapk\",\"aaaaaaaapl\",\"aaaaaaaapm\",\"aaaaaaaapn\",\"aaaaaaaapo\",\"aaaaaaaapp\",\"aaaaaaaapq\",\"aaaaaaaapr\",\"aaaaaaaaps\",\"aaaaaaaapt\",\"aaaaaaaapu\",\"aaaaaaaapv\",\"aaaaaaaapw\",\"aaaaaaaapx\",\"aaaaaaaapy\",\"aaaaaaaapz\",\"aaaaaaaaqa\",\"aaaaaaaaqb\",\"aaaaaaaaqc\",\"aaaaaaaaqd\",\"aaaaaaaaqe\",\"aaaaaaaaqf\",\"aaaaaaaaqg\",\"aaaaaaaaqh\",\"aaaaaaaaqi\",\"aaaaaaaaqj\",\"aaaaaaaaqk\",\"aaaaaaaaql\",\"aaaaaaaaqm\",\"aaaaaaaaqn\",\"aaaaaaaaqo\",\"aaaaaaaaqp\",\"aaaaaaaaqq\",\"aaaaaaaaqr\",\"aaaaaaaaqs\",\"aaaaaaaaqt\",\"aaaaaaaaqu\",\"aaaaaaaaqv\",\"aaaaaaaaqw\",\"aaaaaaaaqx\",\"aaaaaaaaqy\",\"aaaaaaaaqz\",\"aaaaaaaara\",\"aaaaaaaarb\",\"aaaaaaaarc\",\"aaaaaaaard\",\"aaaaaaaare\",\"aaaaaaaarf\",\"aaaaaaaarg\",\"aaaaaaaarh\",\"aaaaaaaari\",\"aaaaaaaarj\",\"aaaaaaaark\",\"aaaaaaaarl\",\"aaaaaaaarm\",\"aaaaaaaarn\",\"aaaaaaaaro\",\"aaaaaaaarp\",\"aaaaaaaarq\",\"aaaaaaaarr\",\"aaaaaaaars\",\"aaaaaaaart\",\"aaaaaaaaru\",\"aaaaaaaarv\",\"aaaaaaaarw\",\"aaaaaaaarx\",\"aaaaaaaary\",\"aaaaaaaarz\",\"aaaaaaaasa\",\"aaaaaaaasb\",\"aaaaaaaasc\",\"aaaaaaaasd\",\"aaaaaaaase\",\"aaaaaaaasf\",\"aaaaaaaasg\",\"aaaaaaaash\",\"aaaaaaaasi\",\"aaaaaaaasj\",\"aaaaaaaask\",\"aaaaaaaasl\",\"aaaaaaaasm\",\"aaaaaaaasn\",\"aaaaaaaaso\",\"aaaaaaaasp\",\"aaaaaaaasq\",\"aaaaaaaasr\",\"aaaaaaaass\",\"aaaaaaaast\",\"aaaaaaaasu\",\"aaaaaaaasv\",\"aaaaaaaasw\",\"aaaaaaaasx\",\"aaaaaaaasy\",\"aaaaaaaasz\",\"aaaaaaaata\",\"aaaaaaaatb\",\"aaaaaaaatc\",\"aaaaaaaatd\",\"aaaaaaaate\",\"aaaaaaaatf\",\"aaaaaaaatg\",\"aaaaaaaath\",\"aaaaaaaati\",\"aaaaaaaatj\",\"aaaaaaaatk\",\"aaaaaaaatl\",\"aaaaaaaatm\",\"aaaaaaaatn\",\"aaaaaaaato\",\"aaaaaaaatp\",\"aaaaaaaatq\",\"aaaaaaaatr\",\"aaaaaaaats\",\"aaaaaaaatt\",\"aaaaaaaatu\",\"aaaaaaaatv\",\"aaaaaaaatw\",\"aaaaaaaatx\",\"aaaaaaaaty\",\"aaaaaaaatz\",\"aaaaaaaaua\",\"aaaaaaaaub\",\"aaaaaaaauc\",\"aaaaaaaaud\",\"aaaaaaaaue\",\"aaaaaaaauf\",\"aaaaaaaaug\",\"aaaaaaaauh\",\"aaaaaaaaui\",\"aaaaaaaauj\",\"aaaaaaaauk\",\"aaaaaaaaul\",\"aaaaaaaaum\",\"aaaaaaaaun\",\"aaaaaaaauo\",\"aaaaaaaaup\",\"aaaaaaaauq\",\"aaaaaaaaur\",\"aaaaaaaaus\",\"aaaaaaaaut\",\"aaaaaaaauu\",\"aaaaaaaauv\",\"aaaaaaaauw\",\"aaaaaaaaux\",\"aaaaaaaauy\",\"aaaaaaaauz\",\"aaaaaaaava\",\"aaaaaaaavb\",\"aaaaaaaavc\",\"aaaaaaaavd\",\"aaaaaaaave\",\"aaaaaaaavf\",\"aaaaaaaavg\",\"aaaaaaaavh\",\"aaaaaaaavi\",\"aaaaaaaavj\",\"aaaaaaaavk\",\"aaaaaaaavl\",\"aaaaaaaavm\",\"aaaaaaaavn\",\"aaaaaaaavo\",\"aaaaaaaavp\",\"aaaaaaaavq\",\"aaaaaaaavr\",\"aaaaaaaavs\",\"aaaaaaaavt\",\"aaaaaaaavu\",\"aaaaaaaavv\",\"aaaaaaaavw\",\"aaaaaaaavx\",\"aaaaaaaavy\",\"aaaaaaaavz\",\"aaaaaaaawa\",\"aaaaaaaawb\",\"aaaaaaaawc\",\"aaaaaaaawd\",\"aaaaaaaawe\",\"aaaaaaaawf\",\"aaaaaaaawg\",\"aaaaaaaawh\",\"aaaaaaaawi\",\"aaaaaaaawj\",\"aaaaaaaawk\",\"aaaaaaaawl\",\"aaaaaaaawm\",\"aaaaaaaawn\",\"aaaaaaaawo\",\"aaaaaaaawp\",\"aaaaaaaawq\",\"aaaaaaaawr\",\"aaaaaaaaws\",\"aaaaaaaawt\",\"aaaaaaaawu\",\"aaaaaaaawv\",\"aaaaaaaaww\",\"aaaaaaaawx\",\"aaaaaaaawy\",\"aaaaaaaawz\",\"aaaaaaaaxa\",\"aaaaaaaaxb\",\"aaaaaaaaxc\",\"aaaaaaaaxd\",\"aaaaaaaaxe\",\"aaaaaaaaxf\",\"aaaaaaaaxg\",\"aaaaaaaaxh\",\"aaaaaaaaxi\",\"aaaaaaaaxj\",\"aaaaaaaaxk\",\"aaaaaaaaxl\",\"aaaaaaaaxm\",\"aaaaaaaaxn\",\"aaaaaaaaxo\",\"aaaaaaaaxp\",\"aaaaaaaaxq\",\"aaaaaaaaxr\",\"aaaaaaaaxs\",\"aaaaaaaaxt\",\"aaaaaaaaxu\",\"aaaaaaaaxv\",\"aaaaaaaaxw\",\"aaaaaaaaxx\",\"aaaaaaaaxy\",\"aaaaaaaaxz\",\"aaaaaaaaya\",\"aaaaaaaayb\",\"aaaaaaaayc\",\"aaaaaaaayd\",\"aaaaaaaaye\",\"aaaaaaaayf\",\"aaaaaaaayg\",\"aaaaaaaayh\",\"aaaaaaaayi\",\"aaaaaaaayj\",\"aaaaaaaayk\",\"aaaaaaaayl\",\"aaaaaaaaym\",\"aaaaaaaayn\",\"aaaaaaaayo\",\"aaaaaaaayp\",\"aaaaaaaayq\",\"aaaaaaaayr\",\"aaaaaaaays\",\"aaaaaaaayt\",\"aaaaaaaayu\",\"aaaaaaaayv\",\"aaaaaaaayw\",\"aaaaaaaayx\",\"aaaaaaaayy\",\"aaaaaaaayz\",\"aaaaaaaaza\",\"aaaaaaaazb\",\"aaaaaaaazc\",\"aaaaaaaazd\",\"aaaaaaaaze\",\"aaaaaaaazf\",\"aaaaaaaazg\",\"aaaaaaaazh\",\"aaaaaaaazi\",\"aaaaaaaazj\",\"aaaaaaaazk\",\"aaaaaaaazl\",\"aaaaaaaazm\",\"aaaaaaaazn\",\"aaaaaaaazo\",\"aaaaaaaazp\",\"aaaaaaaazq\",\"aaaaaaaazr\",\"aaaaaaaazs\",\"aaaaaaaazt\",\"aaaaaaaazu\",\"aaaaaaaazv\",\"aaaaaaaazw\",\"aaaaaaaazx\",\"aaaaaaaazy\",\"aaaaaaaazz\"]"
   ]
  },
  {
   "cell_type": "code",
   "execution_count": 31,
   "id": "03f92aca",
   "metadata": {},
   "outputs": [
    {
     "name": "stdout",
     "output_type": "stream",
     "text": [
      "1.82 µs ± 149 ns per loop (mean ± std. dev. of 7 runs, 100,000 loops each)\n"
     ]
    }
   ],
   "source": [
    "%%timeit -n 100000\n",
    "for x in nums:\n",
    "    if x >= 0:\n",
    "        1+1"
   ]
  },
  {
   "cell_type": "code",
   "execution_count": 32,
   "id": "d7c0f6ee",
   "metadata": {},
   "outputs": [
    {
     "name": "stdout",
     "output_type": "stream",
     "text": [
      "2.74 µs ± 386 ns per loop (mean ± std. dev. of 7 runs, 100,000 loops each)\n"
     ]
    }
   ],
   "source": [
    "%%timeit -n 100000\n",
    "for x in nums:\n",
    "    if x > 0:\n",
    "        1+1\n",
    "    elif x == 0:\n",
    "        1+1"
   ]
  },
  {
   "cell_type": "code",
   "execution_count": 33,
   "id": "330b0283",
   "metadata": {},
   "outputs": [],
   "source": [
    "my_set = {5, 3, 6}"
   ]
  },
  {
   "cell_type": "code",
   "execution_count": 34,
   "id": "28f859bc",
   "metadata": {},
   "outputs": [
    {
     "data": {
      "text/plain": [
       "3"
      ]
     },
     "execution_count": 34,
     "metadata": {},
     "output_type": "execute_result"
    }
   ],
   "source": [
    "my_set.pop()"
   ]
  },
  {
   "cell_type": "code",
   "execution_count": 35,
   "id": "fe9b90bb",
   "metadata": {},
   "outputs": [
    {
     "data": {
      "text/plain": [
       "{5, 6}"
      ]
     },
     "execution_count": 35,
     "metadata": {},
     "output_type": "execute_result"
    }
   ],
   "source": [
    "my_set"
   ]
  },
  {
   "cell_type": "code",
   "execution_count": 36,
   "id": "cce05333",
   "metadata": {},
   "outputs": [],
   "source": [
    "x = (0, 0, set())"
   ]
  },
  {
   "cell_type": "code",
   "execution_count": 38,
   "id": "516ae7b4",
   "metadata": {},
   "outputs": [],
   "source": [
    "x[2].add(2)"
   ]
  },
  {
   "cell_type": "code",
   "execution_count": 39,
   "id": "64ef1a31",
   "metadata": {},
   "outputs": [
    {
     "data": {
      "text/plain": [
       "(0, 0, {2})"
      ]
     },
     "execution_count": 39,
     "metadata": {},
     "output_type": "execute_result"
    }
   ],
   "source": [
    "x"
   ]
  },
  {
   "cell_type": "code",
   "execution_count": null,
   "id": "12969063",
   "metadata": {},
   "outputs": [],
   "source": []
  }
 ],
 "metadata": {
  "kernelspec": {
   "display_name": "Python 3 (ipykernel)",
   "language": "python",
   "name": "python3"
  },
  "language_info": {
   "codemirror_mode": {
    "name": "ipython",
    "version": 3
   },
   "file_extension": ".py",
   "mimetype": "text/x-python",
   "name": "python",
   "nbconvert_exporter": "python",
   "pygments_lexer": "ipython3",
   "version": "3.10.9"
  }
 },
 "nbformat": 4,
 "nbformat_minor": 5
}
