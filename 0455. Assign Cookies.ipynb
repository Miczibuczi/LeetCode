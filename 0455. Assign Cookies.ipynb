{
 "cells": [
  {
   "cell_type": "code",
   "execution_count": null,
   "id": "cde3dea7",
   "metadata": {},
   "outputs": [],
   "source": [
    "# Optimal solution\n",
    "class Solution:\n",
    "    def findContentChildren(self, g: List[int], s: List[int]) -> int:\n",
    "        g.sort()\n",
    "        s.sort()\n",
    "        result = 0\n",
    "        a = 0\n",
    "        for i in range(len(s)):\n",
    "            if g[a] <= s[i]:\n",
    "                result += 1\n",
    "                a += 1\n",
    "                if len(g) == a:\n",
    "                    break\n",
    "        return result"
   ]
  },
  {
   "cell_type": "code",
   "execution_count": null,
   "id": "03958350",
   "metadata": {},
   "outputs": [],
   "source": [
    "# very memory efficient, but also very time inefficient\n",
    "class Solution:\n",
    "    def findContentChildren(self, g: List[int], s: List[int]) -> int:\n",
    "        result = 0\n",
    "        while len(g)>0 and len(s)>0:\n",
    "            min_expectation = min(g)\n",
    "            min_size = min(s)\n",
    "            if min_expectation <= min_size:\n",
    "                result += 1\n",
    "                g.remove(min_expectation)\n",
    "                s.remove(min_size)\n",
    "            elif min_expectation > min_size:\n",
    "                s.remove(min_size)\n",
    "        return result"
   ]
  }
 ],
 "metadata": {
  "kernelspec": {
   "display_name": "Python 3 (ipykernel)",
   "language": "python",
   "name": "python3"
  },
  "language_info": {
   "codemirror_mode": {
    "name": "ipython",
    "version": 3
   },
   "file_extension": ".py",
   "mimetype": "text/x-python",
   "name": "python",
   "nbconvert_exporter": "python",
   "pygments_lexer": "ipython3",
   "version": "3.9.13"
  }
 },
 "nbformat": 4,
 "nbformat_minor": 5
}
