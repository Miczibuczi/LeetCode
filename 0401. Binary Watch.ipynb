{
 "cells": [
  {
   "cell_type": "code",
   "execution_count": null,
   "id": "b7fd16f7",
   "metadata": {},
   "outputs": [],
   "source": [
    "class Solution:\n",
    "    def readBinaryWatch(self, turnedOn: int) -> List[str]:\n",
    "        result = []\n",
    "        for i in range(12):\n",
    "            for j in range(60):\n",
    "                count = 0\n",
    "                for x in bin(i)+bin(j):\n",
    "                    if x == \"1\":\n",
    "                        count += 1\n",
    "                if count == turnedOn:\n",
    "                    answer = \"\"\n",
    "                    answer+=str(i)\n",
    "                    if j < 10:\n",
    "                        answer+=\":0\"+str(j)\n",
    "                    else:\n",
    "                        answer+=\":\"+str(j)\n",
    "                    result.append(answer)\n",
    "        return result"
   ]
  }
 ],
 "metadata": {
  "kernelspec": {
   "display_name": "Python 3 (ipykernel)",
   "language": "python",
   "name": "python3"
  },
  "language_info": {
   "codemirror_mode": {
    "name": "ipython",
    "version": 3
   },
   "file_extension": ".py",
   "mimetype": "text/x-python",
   "name": "python",
   "nbconvert_exporter": "python",
   "pygments_lexer": "ipython3",
   "version": "3.9.13"
  }
 },
 "nbformat": 4,
 "nbformat_minor": 5
}
