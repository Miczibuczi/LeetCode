{
 "cells": [
  {
   "cell_type": "code",
   "execution_count": 57,
   "id": "29ebee57",
   "metadata": {},
   "outputs": [],
   "source": [
    "class Solution:\n",
    "    def binaryGap(self, n: int) -> int:\n",
    "        answer = 0\n",
    "        start_position = 0\n",
    "        for i, num in enumerate(bin(n)[2:]):\n",
    "            if num == \"1\":\n",
    "                answer = max(answer, i-start_position)\n",
    "                start_position = i\n",
    "        return answer"
   ]
  }
 ],
 "metadata": {
  "kernelspec": {
   "display_name": "Python 3 (ipykernel)",
   "language": "python",
   "name": "python3"
  },
  "language_info": {
   "codemirror_mode": {
    "name": "ipython",
    "version": 3
   },
   "file_extension": ".py",
   "mimetype": "text/x-python",
   "name": "python",
   "nbconvert_exporter": "python",
   "pygments_lexer": "ipython3",
   "version": "3.9.13"
  }
 },
 "nbformat": 4,
 "nbformat_minor": 5
}
