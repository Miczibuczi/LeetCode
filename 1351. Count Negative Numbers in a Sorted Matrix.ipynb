{
 "cells": [
  {
   "cell_type": "code",
   "execution_count": null,
   "id": "42a0a8bf",
   "metadata": {},
   "outputs": [],
   "source": [
    "class Solution:\n",
    "    def countNegatives(self, grid: List[List[int]]) -> int:\n",
    "        ans = 0\n",
    "        col_left = len(grid[0])\n",
    "        rows_left = len(grid)\n",
    "        for row in grid:\n",
    "            for item in row[col_left-1::-1]:\n",
    "                if item < 0:\n",
    "                    ans += rows_left\n",
    "                    col_left -= 1\n",
    "                    if col_left == 0:\n",
    "                        return ans\n",
    "                else:\n",
    "                    break\n",
    "            rows_left -= 1\n",
    "        return ans"
   ]
  }
 ],
 "metadata": {
  "kernelspec": {
   "display_name": "Python 3 (ipykernel)",
   "language": "python",
   "name": "python3"
  },
  "language_info": {
   "codemirror_mode": {
    "name": "ipython",
    "version": 3
   },
   "file_extension": ".py",
   "mimetype": "text/x-python",
   "name": "python",
   "nbconvert_exporter": "python",
   "pygments_lexer": "ipython3",
   "version": "3.10.9"
  }
 },
 "nbformat": 4,
 "nbformat_minor": 5
}
