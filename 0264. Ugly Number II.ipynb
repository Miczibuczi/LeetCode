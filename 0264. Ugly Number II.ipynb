{
 "cells": [
  {
   "cell_type": "code",
   "execution_count": null,
   "id": "794a3a2c",
   "metadata": {},
   "outputs": [],
   "source": [
    "class Solution:\n",
    "    def nthUglyNumber(self, n: int) -> int:\n",
    "        if n < 7:\n",
    "            return n\n",
    "        ugly = [1]\n",
    "        pointer2, pointer3, pointer5 = 0, 0, 0\n",
    "        for _ in range(n-1):\n",
    "            curr = min(2*ugly[pointer2], 3*ugly[pointer3], 5*ugly[pointer5])\n",
    "            if 2*ugly[pointer2] == curr:\n",
    "                pointer2 += 1\n",
    "            if 3*ugly[pointer3] == curr:\n",
    "                pointer3 += 1\n",
    "            if 5*ugly[pointer5] == curr:\n",
    "                pointer5 += 1\n",
    "            ugly.append(curr)\n",
    "        return curr"
   ]
  },
  {
   "cell_type": "code",
   "execution_count": null,
   "id": "4164a431",
   "metadata": {},
   "outputs": [],
   "source": [
    "# First solution. Exceeds the time limit\n",
    "class Solution:\n",
    "    def nthUglyNumber(self, n: int) -> int:\n",
    "        if n < 7:\n",
    "            return n\n",
    "        seen = {2, 3, 5}\n",
    "        mult2, mult3, mult5 = 1, 1, 1\n",
    "        for _ in range(n-1):\n",
    "            ugly = min(2*mult2, 3*mult3, 5*mult5)\n",
    "            if 2*mult2 == ugly:\n",
    "                mult2 += 1\n",
    "                while mult2 not in seen:\n",
    "                    mult2 += 1\n",
    "            if 3*mult3 == ugly:\n",
    "                mult3 += 1\n",
    "                while mult3 not in seen:\n",
    "                    mult3 += 1\n",
    "            if 5*mult5 == ugly:\n",
    "                mult5 += 1\n",
    "                while mult5 not in seen:\n",
    "                    mult5 += 1\n",
    "            seen.add(ugly)\n",
    "        return ugly"
   ]
  }
 ],
 "metadata": {
  "kernelspec": {
   "display_name": "Python 3 (ipykernel)",
   "language": "python",
   "name": "python3"
  },
  "language_info": {
   "codemirror_mode": {
    "name": "ipython",
    "version": 3
   },
   "file_extension": ".py",
   "mimetype": "text/x-python",
   "name": "python",
   "nbconvert_exporter": "python",
   "pygments_lexer": "ipython3",
   "version": "3.10.9"
  }
 },
 "nbformat": 4,
 "nbformat_minor": 5
}
