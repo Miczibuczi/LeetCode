{
 "cells": [
  {
   "cell_type": "code",
   "execution_count": null,
   "id": "7df4a08e",
   "metadata": {},
   "outputs": [],
   "source": [
    "class Solution:\n",
    "    def nthUglyNumber(self, n: int) -> int:\n",
    "        cur = 1\n",
    "        i = 1\n",
    "        while cur < n:\n",
    "            i += 1\n",
    "            num = i\n",
    "            while num % 5 == 0:\n",
    "                num /= 5\n",
    "            while num % 3 ==0:\n",
    "                num /= 3\n",
    "            while num % 2 == 0:\n",
    "                num /= 2\n",
    "            if num == 1:\n",
    "                cur += 1\n",
    "        return i"
   ]
  }
 ],
 "metadata": {
  "kernelspec": {
   "display_name": "Python 3 (ipykernel)",
   "language": "python",
   "name": "python3"
  },
  "language_info": {
   "codemirror_mode": {
    "name": "ipython",
    "version": 3
   },
   "file_extension": ".py",
   "mimetype": "text/x-python",
   "name": "python",
   "nbconvert_exporter": "python",
   "pygments_lexer": "ipython3",
   "version": "3.10.9"
  }
 },
 "nbformat": 4,
 "nbformat_minor": 5
}
