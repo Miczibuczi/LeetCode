{
 "cells": [
  {
   "cell_type": "code",
   "execution_count": null,
   "id": "b99e25b3",
   "metadata": {},
   "outputs": [],
   "source": [
    "# Definition for a binary tree node.\n",
    "# class TreeNode:\n",
    "#     def __init__(self, val=0, left=None, right=None):\n",
    "#         self.val = val\n",
    "#         self.left = left\n",
    "#         self.right = right\n",
    "class Solution:\n",
    "    def buildTree(self, preorder: List[int], inorder: List[int]) -> Optional[TreeNode]:\n",
    "        def buildBranch(preorder, inorder, node):\n",
    "            for i in range(len(inorder)):\n",
    "                if inorder[i] == preorder[0]:\n",
    "                    break\n",
    "            preorder_left = preorder[1:i+1]\n",
    "            preorder_right = preorder[i+1:]\n",
    "            inorder_left = inorder[:i]\n",
    "            inorder_right = inorder[i+1:]\n",
    "            if len(preorder_left) > 0:\n",
    "                node.left = TreeNode(preorder_left[0])\n",
    "                if len(preorder_left) > 1:\n",
    "                    buildBranch(preorder_left, inorder_left, node.left)\n",
    "            if len(preorder_right) > 0:\n",
    "                node.right = TreeNode(preorder_right[0])\n",
    "                if len(preorder_right) > 1:\n",
    "                    buildBranch(preorder_right, inorder_right, node.right)\n",
    "\n",
    "        self.head = TreeNode(preorder[0])\n",
    "        if len(preorder) >= 2:\n",
    "            buildBranch(preorder, inorder, self.head)\n",
    "        return self.head"
   ]
  }
 ],
 "metadata": {
  "kernelspec": {
   "display_name": "Python 3 (ipykernel)",
   "language": "python",
   "name": "python3"
  },
  "language_info": {
   "codemirror_mode": {
    "name": "ipython",
    "version": 3
   },
   "file_extension": ".py",
   "mimetype": "text/x-python",
   "name": "python",
   "nbconvert_exporter": "python",
   "pygments_lexer": "ipython3",
   "version": "3.9.13"
  }
 },
 "nbformat": 4,
 "nbformat_minor": 5
}
