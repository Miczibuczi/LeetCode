{
 "cells": [
  {
   "cell_type": "code",
   "execution_count": null,
   "id": "5dcfa9bc",
   "metadata": {},
   "outputs": [],
   "source": [
    "class Solution:\n",
    "    def singleNumber(self, nums: List[int]) -> int:\n",
    "        check_nums = []\n",
    "        for x in nums:\n",
    "            if x in check_nums:\n",
    "                check_nums.remove(x)\n",
    "            else:\n",
    "                check_nums.append(x)\n",
    "        return check_nums[0]"
   ]
  }
 ],
 "metadata": {
  "kernelspec": {
   "display_name": "Python 3 (ipykernel)",
   "language": "python",
   "name": "python3"
  },
  "language_info": {
   "codemirror_mode": {
    "name": "ipython",
    "version": 3
   },
   "file_extension": ".py",
   "mimetype": "text/x-python",
   "name": "python",
   "nbconvert_exporter": "python",
   "pygments_lexer": "ipython3",
   "version": "3.9.13"
  }
 },
 "nbformat": 4,
 "nbformat_minor": 5
}
