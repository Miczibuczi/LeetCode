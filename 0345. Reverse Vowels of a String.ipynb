{
 "cells": [
  {
   "cell_type": "code",
   "execution_count": null,
   "id": "d8dba0f9",
   "metadata": {},
   "outputs": [],
   "source": [
    "class Solution:\n",
    "    def reverseVowels(self, s: str) -> str:\n",
    "        s = list(s)\n",
    "        list_of_vowels = []\n",
    "        for i in range(len(s)):\n",
    "            if s[i] in \"aeiouAEIOU\":\n",
    "                list_of_vowels.append(i)\n",
    "        \n",
    "        for j in range(len(list_of_vowels)//2):\n",
    "            s[list_of_vowels[j]], s[list_of_vowels[-1-j]] = s[list_of_vowels[-1-j]], s[list_of_vowels[j]]\n",
    "        \n",
    "        new_s = \"\"\n",
    "        for x in s:\n",
    "            new_s += x\n",
    "        return new_s"
   ]
  }
 ],
 "metadata": {
  "kernelspec": {
   "display_name": "Python 3 (ipykernel)",
   "language": "python",
   "name": "python3"
  },
  "language_info": {
   "codemirror_mode": {
    "name": "ipython",
    "version": 3
   },
   "file_extension": ".py",
   "mimetype": "text/x-python",
   "name": "python",
   "nbconvert_exporter": "python",
   "pygments_lexer": "ipython3",
   "version": "3.9.13"
  }
 },
 "nbformat": 4,
 "nbformat_minor": 5
}
