{
 "cells": [
  {
   "cell_type": "code",
   "execution_count": 9,
   "id": "e6f40d24",
   "metadata": {},
   "outputs": [],
   "source": [
    "class Solution:\n",
    "    def wordPattern(self, pattern: str, s: str) -> bool:\n",
    "        list_of_words = s.split(\" \")\n",
    "        if len(pattern) != len(list_of_words):\n",
    "            return False\n",
    "        my_dictionary = {}\n",
    "        for i in range(len(pattern)):\n",
    "            if pattern[i] not in my_dictionary:\n",
    "                my_dictionary[pattern[i]] = list_of_words[i]\n",
    "            else:\n",
    "                if my_dictionary[pattern[i]] != list_of_words[i]:\n",
    "                    return False\n",
    "        if len(my_dictionary.keys()) != len(set(my_dictionary.values())):\n",
    "            return False\n",
    "        return True"
   ]
  },
  {
   "cell_type": "code",
   "execution_count": 9,
   "id": "8551e1f3",
   "metadata": {},
   "outputs": [],
   "source": [
    "s = \"dog cat cat dog\""
   ]
  },
  {
   "cell_type": "code",
   "execution_count": 7,
   "id": "4c07365d",
   "metadata": {},
   "outputs": [],
   "source": [
    "list_of_words = s.split(\" \")"
   ]
  },
  {
   "cell_type": "code",
   "execution_count": 8,
   "id": "d7da2aaf",
   "metadata": {},
   "outputs": [
    {
     "data": {
      "text/plain": [
       "['dog', 'cat', 'cat', 'dog']"
      ]
     },
     "execution_count": 8,
     "metadata": {},
     "output_type": "execute_result"
    }
   ],
   "source": [
    "list_of_words"
   ]
  },
  {
   "cell_type": "code",
   "execution_count": 10,
   "id": "e11d80d0",
   "metadata": {},
   "outputs": [],
   "source": [
    "list_of_words = [x for x in s.split(\" \")]"
   ]
  },
  {
   "cell_type": "code",
   "execution_count": 11,
   "id": "ae818969",
   "metadata": {},
   "outputs": [
    {
     "data": {
      "text/plain": [
       "['dog', 'cat', 'cat', 'dog']"
      ]
     },
     "execution_count": 11,
     "metadata": {},
     "output_type": "execute_result"
    }
   ],
   "source": [
    "list_of_words"
   ]
  },
  {
   "cell_type": "code",
   "execution_count": null,
   "id": "e404a5a0",
   "metadata": {},
   "outputs": [],
   "source": []
  }
 ],
 "metadata": {
  "kernelspec": {
   "display_name": "Python 3 (ipykernel)",
   "language": "python",
   "name": "python3"
  },
  "language_info": {
   "codemirror_mode": {
    "name": "ipython",
    "version": 3
   },
   "file_extension": ".py",
   "mimetype": "text/x-python",
   "name": "python",
   "nbconvert_exporter": "python",
   "pygments_lexer": "ipython3",
   "version": "3.9.13"
  }
 },
 "nbformat": 4,
 "nbformat_minor": 5
}
