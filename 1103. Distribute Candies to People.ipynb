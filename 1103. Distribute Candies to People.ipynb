{
 "cells": [
  {
   "cell_type": "code",
   "execution_count": 3,
   "id": "0ee79255",
   "metadata": {},
   "outputs": [],
   "source": [
    "class Solution:\n",
    "    def distributeCandies(self, candies: int, num_people: int) -> List[int]:\n",
    "        answer = [0 for i in range(num_people)]\n",
    "        pointer = 0\n",
    "        gift = 1\n",
    "        while candies > 0:\n",
    "            if pointer == num_people:\n",
    "                pointer = 0\n",
    "            answer[pointer] += min(candies, gift)\n",
    "            candies -= gift\n",
    "            gift += 1\n",
    "            pointer += 1\n",
    "        return answer"
   ]
  }
 ],
 "metadata": {
  "kernelspec": {
   "display_name": "Python 3 (ipykernel)",
   "language": "python",
   "name": "python3"
  },
  "language_info": {
   "codemirror_mode": {
    "name": "ipython",
    "version": 3
   },
   "file_extension": ".py",
   "mimetype": "text/x-python",
   "name": "python",
   "nbconvert_exporter": "python",
   "pygments_lexer": "ipython3",
   "version": "3.9.13"
  }
 },
 "nbformat": 4,
 "nbformat_minor": 5
}
