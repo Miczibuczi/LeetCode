{
 "cells": [
  {
   "cell_type": "code",
   "execution_count": null,
   "id": "ab638c14",
   "metadata": {},
   "outputs": [],
   "source": [
    "class Solution:\n",
    "    def myPow(self, x: float, n: int) -> float:\n",
    "        if n == 0: \n",
    "            return 1\n",
    "        if n < 0:\n",
    "            n *= -1\n",
    "            x = 1/x\n",
    "        if n % 2 == 0:\n",
    "            return self.myPow(x*x, n//2)\n",
    "        else:\n",
    "            return x*self.myPow(x*x, n//2)"
   ]
  },
  {
   "cell_type": "code",
   "execution_count": null,
   "id": "90e99fe4",
   "metadata": {},
   "outputs": [],
   "source": [
    "# First anser, time limit exceeded\n",
    "\n",
    "class Solution:\n",
    "    def myPow(self, x: float, n: int) -> float:\n",
    "        if x == 1:\n",
    "            return x\n",
    "        elif x == -1:\n",
    "            return 1 if n % 2 == 0 else -1\n",
    "        if n < 0:\n",
    "            x = 1/x\n",
    "        ans = 1\n",
    "        for i in range(abs(n)):\n",
    "            ans *= x\n",
    "            if ans == 0:\n",
    "                break\n",
    "        return ans"
   ]
  }
 ],
 "metadata": {
  "kernelspec": {
   "display_name": "Python 3 (ipykernel)",
   "language": "python",
   "name": "python3"
  },
  "language_info": {
   "codemirror_mode": {
    "name": "ipython",
    "version": 3
   },
   "file_extension": ".py",
   "mimetype": "text/x-python",
   "name": "python",
   "nbconvert_exporter": "python",
   "pygments_lexer": "ipython3",
   "version": "3.9.13"
  }
 },
 "nbformat": 4,
 "nbformat_minor": 5
}
