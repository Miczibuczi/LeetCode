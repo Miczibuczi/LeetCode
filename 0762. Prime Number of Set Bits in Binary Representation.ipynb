{
 "cells": [
  {
   "cell_type": "code",
   "execution_count": null,
   "id": "ade56860",
   "metadata": {},
   "outputs": [],
   "source": [
    "class Solution:\n",
    "    def countPrimeSetBits(self, left: int, right: int) -> int:\n",
    "        result = 0\n",
    "        for i in range(left, right+1):\n",
    "            number = bin(i).count(\"1\")\n",
    "            if number == 1:\n",
    "                continue\n",
    "            elif number == 2:\n",
    "                result += 1\n",
    "                continue\n",
    "            for j in range(2, int(sqrt(number)+1)):\n",
    "                if number % j == 0:\n",
    "                    break\n",
    "            else:\n",
    "                result += 1\n",
    "        return result"
   ]
  }
 ],
 "metadata": {
  "kernelspec": {
   "display_name": "Python 3 (ipykernel)",
   "language": "python",
   "name": "python3"
  },
  "language_info": {
   "codemirror_mode": {
    "name": "ipython",
    "version": 3
   },
   "file_extension": ".py",
   "mimetype": "text/x-python",
   "name": "python",
   "nbconvert_exporter": "python",
   "pygments_lexer": "ipython3",
   "version": "3.9.13"
  }
 },
 "nbformat": 4,
 "nbformat_minor": 5
}
