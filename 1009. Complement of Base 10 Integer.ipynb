{
 "cells": [
  {
   "cell_type": "code",
   "execution_count": null,
   "id": "c4e2ac9a",
   "metadata": {},
   "outputs": [],
   "source": [
    "class Solution:\n",
    "    def bitwiseComplement(self, n: int) -> int:\n",
    "        return n ^ (2**(len(bin(n))-2)-1)"
   ]
  },
  {
   "cell_type": "code",
   "execution_count": 1,
   "id": "a87ea54e",
   "metadata": {},
   "outputs": [],
   "source": [
    "# First answer, the same like the upper one, but in 2 lines\n",
    "class Solution:\n",
    "    def bitwiseComplement(self, n: int) -> int:\n",
    "        lenght = len(bin(n))-2\n",
    "        return n ^ (2**lenght-1)"
   ]
  }
 ],
 "metadata": {
  "kernelspec": {
   "display_name": "Python 3 (ipykernel)",
   "language": "python",
   "name": "python3"
  },
  "language_info": {
   "codemirror_mode": {
    "name": "ipython",
    "version": 3
   },
   "file_extension": ".py",
   "mimetype": "text/x-python",
   "name": "python",
   "nbconvert_exporter": "python",
   "pygments_lexer": "ipython3",
   "version": "3.9.13"
  }
 },
 "nbformat": 4,
 "nbformat_minor": 5
}
