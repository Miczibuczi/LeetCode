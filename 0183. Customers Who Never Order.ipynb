{
 "cells": [
  {
   "cell_type": "code",
   "execution_count": null,
   "id": "6e099c59",
   "metadata": {},
   "outputs": [],
   "source": [
    "import pandas as pd\n",
    "\n",
    "def find_customers(customers: pd.DataFrame, orders: pd.DataFrame) -> pd.DataFrame:\n",
    "    orders = set(x for x in orders[\"customerId\"])\n",
    "    filtered_customers = customers[customers[\"id\"].apply(lambda x: x not in orders)]\n",
    "    if not filtered_customers.empty:\n",
    "        return filtered_customers[[\"name\"]].rename(columns = {\"name\":\"Customers\"})\n",
    "    else:\n",
    "        return pd.DataFrame({\"Customers\":[]})"
   ]
  },
  {
   "cell_type": "code",
   "execution_count": null,
   "id": "b5f1e4fa",
   "metadata": {},
   "outputs": [],
   "source": [
    "# Not my answer, but a very easy/clear one:\n",
    "import pandas as pd\n",
    "\n",
    "def find_customers(customers: pd.DataFrame, orders: pd.DataFrame) -> pd.DataFrame:\n",
    "    # Select the customers whose 'id' is not present in the orders DataFrame's 'customerId' column.\n",
    "    df = customers[~customers['id'].isin(orders['customerId'])]\n",
    "\n",
    "    # Build a DataFrame that only contains the 'name' column and rename it as 'Customers'.\n",
    "    df = df[['name']].rename(columns={'name': 'Customers'})\n",
    "\n",
    "    return df"
   ]
  }
 ],
 "metadata": {
  "kernelspec": {
   "display_name": "Python 3 (ipykernel)",
   "language": "python",
   "name": "python3"
  },
  "language_info": {
   "codemirror_mode": {
    "name": "ipython",
    "version": 3
   },
   "file_extension": ".py",
   "mimetype": "text/x-python",
   "name": "python",
   "nbconvert_exporter": "python",
   "pygments_lexer": "ipython3",
   "version": "3.10.9"
  }
 },
 "nbformat": 4,
 "nbformat_minor": 5
}
