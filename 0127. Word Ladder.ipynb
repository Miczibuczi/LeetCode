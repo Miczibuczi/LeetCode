{
 "cells": [
  {
   "cell_type": "code",
   "execution_count": null,
   "id": "daa24773",
   "metadata": {},
   "outputs": [],
   "source": [
    "# Not my answer, but it's much better one\n",
    "class Solution(object):\n",
    "    def ladderLength(self, beginWord, endWord, wordList):\n",
    "        wordList = set(wordList)\n",
    "        queue = collections.deque([[beginWord, 1]])\n",
    "        while queue:\n",
    "            word, length = queue.popleft()\n",
    "            if word == endWord:\n",
    "                return length\n",
    "            for i in range(len(word)):\n",
    "                for c in 'abcdefghijklmnopqrstuvwxyz':\n",
    "                    next_word = word[:i] + c + word[i+1:]\n",
    "                    if next_word in wordList:\n",
    "                        wordList.remove(next_word)\n",
    "                        queue.append([next_word, length + 1])\n",
    "        return 0"
   ]
  },
  {
   "cell_type": "code",
   "execution_count": null,
   "id": "aa06c9db",
   "metadata": {},
   "outputs": [],
   "source": [
    "# Second answer, time inefficient but accepted\n",
    "class Solution:\n",
    "    def ladderLength(self, beginWord: str, endWord: str, wordList: List[str]) -> int:\n",
    "        stack = [(beginWord, 1)]\n",
    "        wordList = set(wordList)\n",
    "        \n",
    "        while stack:\n",
    "            cur_word, ans = stack.pop(0)\n",
    "            if cur_word == endWord:\n",
    "                return ans\n",
    "            remove_from_wordList = set()\n",
    "            for word in wordList:\n",
    "                count = 0\n",
    "                for j, letter in enumerate(word):\n",
    "                    if letter != cur_word[j]:\n",
    "                        count += 1\n",
    "                if count == 1:\n",
    "                    stack.append((word, ans+1))\n",
    "                    remove_from_wordList.add(word)\n",
    "            for word in remove_from_wordList:\n",
    "                wordList.remove(word)\n",
    "        return 0"
   ]
  },
  {
   "cell_type": "code",
   "execution_count": null,
   "id": "301aa22c",
   "metadata": {},
   "outputs": [],
   "source": [
    "# First answer, It works, but exceeds the time limit\n",
    "class Solution:\n",
    "    def ladderLength(self, beginWord: str, endWord: str, wordList: List[str]) -> int:\n",
    "        stack = [(beginWord, 1)]\n",
    "        \n",
    "        while stack:\n",
    "            cur_word, ans = stack.pop(0)\n",
    "            if cur_word == endWord:\n",
    "                return ans\n",
    "            i = 0\n",
    "            while i < len(wordList):\n",
    "                word = wordList[i]\n",
    "                count = 0\n",
    "                for j, letter in enumerate(word):\n",
    "                    if letter != cur_word[j]:\n",
    "                        count += 1\n",
    "                if count == 1:\n",
    "                    stack.append((word, ans+1))\n",
    "                    wordList.remove(word)\n",
    "                else:\n",
    "                    i += 1\n",
    "        return 0"
   ]
  }
 ],
 "metadata": {
  "kernelspec": {
   "display_name": "Python 3 (ipykernel)",
   "language": "python",
   "name": "python3"
  },
  "language_info": {
   "codemirror_mode": {
    "name": "ipython",
    "version": 3
   },
   "file_extension": ".py",
   "mimetype": "text/x-python",
   "name": "python",
   "nbconvert_exporter": "python",
   "pygments_lexer": "ipython3",
   "version": "3.9.13"
  }
 },
 "nbformat": 4,
 "nbformat_minor": 5
}
