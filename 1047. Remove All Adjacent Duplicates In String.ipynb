{
 "cells": [
  {
   "cell_type": "code",
   "execution_count": 37,
   "id": "30e86f1a",
   "metadata": {},
   "outputs": [],
   "source": [
    "class Solution:\n",
    "    def removeDuplicates(self, S):\n",
    "        res = []\n",
    "        for c in S:\n",
    "            if res and res[-1] == c:\n",
    "                res.pop()\n",
    "            else:\n",
    "                res.append(c)\n",
    "        return \"\".join(res)"
   ]
  },
  {
   "cell_type": "code",
   "execution_count": 16,
   "id": "9f7792b8",
   "metadata": {},
   "outputs": [],
   "source": [
    "# First solution, less time efficient\n",
    "class Solution:\n",
    "    def removeDuplicates(self, s: str) -> str:\n",
    "        i = 0\n",
    "        while i < len(s):\n",
    "            if i != 0 and s[i] == s[i-1]:\n",
    "                s = s[:i-1]+s[i+1:]\n",
    "                if i > 0:\n",
    "                    i -= 1\n",
    "            elif i == 0 and len(s)>1 and s[i] == s[i+1]:\n",
    "                s = s[2:]\n",
    "            else:\n",
    "                i += 1\n",
    "        return s"
   ]
  }
 ],
 "metadata": {
  "kernelspec": {
   "display_name": "Python 3 (ipykernel)",
   "language": "python",
   "name": "python3"
  },
  "language_info": {
   "codemirror_mode": {
    "name": "ipython",
    "version": 3
   },
   "file_extension": ".py",
   "mimetype": "text/x-python",
   "name": "python",
   "nbconvert_exporter": "python",
   "pygments_lexer": "ipython3",
   "version": "3.9.13"
  }
 },
 "nbformat": 4,
 "nbformat_minor": 5
}
