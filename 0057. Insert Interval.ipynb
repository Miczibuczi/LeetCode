{
 "cells": [
  {
   "cell_type": "code",
   "execution_count": null,
   "id": "581a9ec4",
   "metadata": {},
   "outputs": [],
   "source": [
    "class Solution:\n",
    "    def insert(self, intervals: List[List[int]], newInterval: List[int]) -> List[List[int]]:\n",
    "        if not intervals:\n",
    "            return [newInterval]\n",
    "        elif newInterval[1] < intervals[0][0]:\n",
    "            return [newInterval]+intervals\n",
    "        j = None\n",
    "        \n",
    "        for i in range(len(intervals)):\n",
    "            if intervals[i][1] >= newInterval[0]:\n",
    "                for j in range(i, len(intervals)):\n",
    "                    if intervals[j][0] > newInterval[1]:\n",
    "                        break\n",
    "                    else:\n",
    "                        j += 1\n",
    "                if not j:\n",
    "                    j = i\n",
    "                break\n",
    "\n",
    "        if j == None:\n",
    "            return intervals+[newInterval]\n",
    "        \n",
    "        if intervals[i][0] > newInterval[1]:\n",
    "            intervals.insert(i, newInterval)\n",
    "            return intervals\n",
    "\n",
    "        intervals[i] = [min(intervals[i][0], newInterval[0]), max(intervals[j-1][1], newInterval[1])]\n",
    "        \n",
    "        if i == j:\n",
    "            return intervals[:i+1]\n",
    "        else:\n",
    "            return intervals[:i+1]+intervals[j:]"
   ]
  }
 ],
 "metadata": {
  "kernelspec": {
   "display_name": "Python 3 (ipykernel)",
   "language": "python",
   "name": "python3"
  },
  "language_info": {
   "codemirror_mode": {
    "name": "ipython",
    "version": 3
   },
   "file_extension": ".py",
   "mimetype": "text/x-python",
   "name": "python",
   "nbconvert_exporter": "python",
   "pygments_lexer": "ipython3",
   "version": "3.9.13"
  }
 },
 "nbformat": 4,
 "nbformat_minor": 5
}
