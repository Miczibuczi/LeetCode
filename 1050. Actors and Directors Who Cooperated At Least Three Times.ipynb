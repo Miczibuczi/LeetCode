{
 "cells": [
  {
   "cell_type": "code",
   "execution_count": null,
   "id": "fc5e5757",
   "metadata": {},
   "outputs": [],
   "source": [
    "import pandas as pd\n",
    "\n",
    "def actors_and_directors(actor_director: pd.DataFrame) -> pd.DataFrame:\n",
    "    pair_count = actor_director.groupby([\"actor_id\", \"director_id\"]).size().reset_index(name = \"count\")\n",
    "    pair_count = pair_count[pair_count[\"count\"] >= 3]\n",
    "    return pair_count[[\"actor_id\", \"director_id\"]]"
   ]
  },
  {
   "cell_type": "code",
   "execution_count": null,
   "id": "15a6b89b",
   "metadata": {},
   "outputs": [],
   "source": [
    "# Second answer, different aproach\n",
    "import pandas as pd\n",
    "\n",
    "def actors_and_directors(actor_director: pd.DataFrame) -> pd.DataFrame:\n",
    "    seen = defaultdict(int)\n",
    "    actor_director.drop(\"timestamp\", axis=1, inplace=True)\n",
    "    for row in actor_director.itertuples(index=False):\n",
    "        seen[row] += 1\n",
    "    \n",
    "    ans = []\n",
    "    for key, value in seen.items():\n",
    "        if value >= 3:\n",
    "            ans.append(key)\n",
    "            \n",
    "    return pd.DataFrame(ans, columns = [\"actor_id\" ,\"director_id\"])"
   ]
  }
 ],
 "metadata": {
  "kernelspec": {
   "display_name": "Python 3 (ipykernel)",
   "language": "python",
   "name": "python3"
  },
  "language_info": {
   "codemirror_mode": {
    "name": "ipython",
    "version": 3
   },
   "file_extension": ".py",
   "mimetype": "text/x-python",
   "name": "python",
   "nbconvert_exporter": "python",
   "pygments_lexer": "ipython3",
   "version": "3.10.9"
  }
 },
 "nbformat": 4,
 "nbformat_minor": 5
}
