{
 "cells": [
  {
   "cell_type": "code",
   "execution_count": null,
   "id": "1f7de547",
   "metadata": {},
   "outputs": [],
   "source": [
    "# Definition for singly-linked list.\n",
    "# class ListNode:\n",
    "#     def __init__(self, val=0, next=None):\n",
    "#         self.val = val\n",
    "#         self.next = next\n",
    "class Solution:\n",
    "    def deleteDuplicates(self, head: Optional[ListNode]) -> Optional[ListNode]:\n",
    "        seen = set()\n",
    "        ans = ListNode(None, head)\n",
    "        head = ans\n",
    "        while head.next:\n",
    "            if head.next.val in seen:\n",
    "                head.next = head.next.next\n",
    "            elif head.next.next and head.next.next.val == head.next.val:\n",
    "                seen.add(head.next.val)\n",
    "                head.next = head.next.next.next\n",
    "            else:\n",
    "                head = head.next\n",
    "        return ans.next"
   ]
  }
 ],
 "metadata": {
  "kernelspec": {
   "display_name": "Python 3 (ipykernel)",
   "language": "python",
   "name": "python3"
  },
  "language_info": {
   "codemirror_mode": {
    "name": "ipython",
    "version": 3
   },
   "file_extension": ".py",
   "mimetype": "text/x-python",
   "name": "python",
   "nbconvert_exporter": "python",
   "pygments_lexer": "ipython3",
   "version": "3.10.9"
  }
 },
 "nbformat": 4,
 "nbformat_minor": 5
}
