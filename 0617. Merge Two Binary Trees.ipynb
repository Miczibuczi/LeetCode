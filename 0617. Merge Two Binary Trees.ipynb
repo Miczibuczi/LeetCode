{
 "cells": [
  {
   "cell_type": "code",
   "execution_count": null,
   "id": "459c2342",
   "metadata": {},
   "outputs": [],
   "source": [
    "# Definition for a binary tree node.\n",
    "# class TreeNode:\n",
    "#     def __init__(self, val=0, left=None, right=None):\n",
    "#         self.val = val\n",
    "#         self.left = left\n",
    "#         self.right = right\n",
    "class Solution:\n",
    "    def mergeTrees(self, root1: Optional[TreeNode], root2: Optional[TreeNode]) -> Optional[TreeNode]:\n",
    "        def Traverse(node1, node2):\n",
    "            if not node1 and not node2:\n",
    "                return\n",
    "            elif not node1:\n",
    "                node1 = TreeNode(node2.val)\n",
    "            elif not node2:\n",
    "                node2 = TreeNode(0)\n",
    "            elif node1 and node2:\n",
    "                node1 = TreeNode(node1.val+node2.val, node1.left, node1.right)\n",
    "            node1.left = Traverse(node1.left, node2.left)\n",
    "            node1.right = Traverse(node1.right, node2.right)\n",
    "            return node1\n",
    "\n",
    "        return Traverse(root1, root2) "
   ]
  },
  {
   "cell_type": "code",
   "execution_count": null,
   "id": "43b753b9",
   "metadata": {},
   "outputs": [],
   "source": [
    "# Not my solution, but it looks brilliant. Performs pretty like the same as mine\n",
    "\n",
    "# Definition for a binary tree node.\n",
    "# class TreeNode:\n",
    "#     def __init__(self, val=0, left=None, right=None):\n",
    "#         self.val = val\n",
    "#         self.left = left\n",
    "#         self.right = right\n",
    "class Solution:\n",
    "    def mergeTrees(self, root1: Optional[TreeNode], root2: Optional[TreeNode]) -> Optional[TreeNode]:\n",
    "        if not root1 and not root2:\n",
    "            return None\n",
    "        newRoot = TreeNode((root1.val if root1 else 0)+(root2.val if root2 else 0))\n",
    "        newRoot.left = self.mergeTrees(root1 and root1.left, root2 and root2.left)\n",
    "        newRoot.right = self.mergeTrees(root1 and root1.right, root2 and root2.right)\n",
    "        return newRoot"
   ]
  }
 ],
 "metadata": {
  "kernelspec": {
   "display_name": "Python 3 (ipykernel)",
   "language": "python",
   "name": "python3"
  },
  "language_info": {
   "codemirror_mode": {
    "name": "ipython",
    "version": 3
   },
   "file_extension": ".py",
   "mimetype": "text/x-python",
   "name": "python",
   "nbconvert_exporter": "python",
   "pygments_lexer": "ipython3",
   "version": "3.9.13"
  }
 },
 "nbformat": 4,
 "nbformat_minor": 5
}
