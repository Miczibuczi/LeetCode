{
 "cells": [
  {
   "cell_type": "code",
   "execution_count": null,
   "id": "d508bd7c",
   "metadata": {},
   "outputs": [],
   "source": [
    "class Solution:\n",
    "    def isHappy(self, n: int) -> bool:\n",
    "        repeat = []\n",
    "        n = str(n)\n",
    "        while n not in repeat:\n",
    "            repeat.append(n)\n",
    "            check = 0\n",
    "            for i in range(len(n)):\n",
    "                check += int(n[-1-i])**2\n",
    "            if check == 1:\n",
    "                return True\n",
    "            else:\n",
    "                n = str(check)\n",
    "        return False"
   ]
  }
 ],
 "metadata": {
  "kernelspec": {
   "display_name": "Python 3 (ipykernel)",
   "language": "python",
   "name": "python3"
  },
  "language_info": {
   "codemirror_mode": {
    "name": "ipython",
    "version": 3
   },
   "file_extension": ".py",
   "mimetype": "text/x-python",
   "name": "python",
   "nbconvert_exporter": "python",
   "pygments_lexer": "ipython3",
   "version": "3.9.13"
  }
 },
 "nbformat": 4,
 "nbformat_minor": 5
}
