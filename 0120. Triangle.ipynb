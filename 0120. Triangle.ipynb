{
 "cells": [
  {
   "cell_type": "code",
   "execution_count": null,
   "id": "44a2601a",
   "metadata": {},
   "outputs": [],
   "source": [
    "class Solution:\n",
    "    def minimumTotal(self, triangle: List[List[int]]) -> int:\n",
    "        for i in range(1, len(triangle)):\n",
    "            triangle[i][0] += triangle[i-1][0]\n",
    "            triangle[i][-1] += triangle[i-1][-1]\n",
    "            for j in range(1, len(triangle[i])-1):\n",
    "                triangle[i][j] += min(triangle[i-1][j], triangle[i-1][j-1])\n",
    "        return min(triangle[-1])"
   ]
  }
 ],
 "metadata": {
  "kernelspec": {
   "display_name": "Python 3 (ipykernel)",
   "language": "python",
   "name": "python3"
  },
  "language_info": {
   "codemirror_mode": {
    "name": "ipython",
    "version": 3
   },
   "file_extension": ".py",
   "mimetype": "text/x-python",
   "name": "python",
   "nbconvert_exporter": "python",
   "pygments_lexer": "ipython3",
   "version": "3.10.9"
  }
 },
 "nbformat": 4,
 "nbformat_minor": 5
}
