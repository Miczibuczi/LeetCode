{
 "cells": [
  {
   "cell_type": "code",
   "execution_count": null,
   "id": "a1d00dff",
   "metadata": {},
   "outputs": [],
   "source": [
    "# Definition for a binary tree node.\n",
    "# class TreeNode:\n",
    "#     def __init__(self, val=0, left=None, right=None):\n",
    "#         self.val = val\n",
    "#         self.left = left\n",
    "#         self.right = right\n",
    "class Solution:\n",
    "    def isSubtree(self, root: Optional[TreeNode], subRoot: Optional[TreeNode]) -> bool:\n",
    "        self.isSubTree = False\n",
    "\n",
    "\n",
    "        def Traverse(node):\n",
    "            if not node:\n",
    "                return\n",
    "            if node.val == subRoot.val:\n",
    "                self.isIdentical = True\n",
    "                check_identity(node, subRoot)\n",
    "                if self.isIdentical:\n",
    "                    self.isSubTree = True\n",
    "            Traverse(node.left)\n",
    "            Traverse(node.right)\n",
    "        \n",
    "        def check_identity(node1, node2):\n",
    "            if not node1 and not node2:\n",
    "                return\n",
    "            elif not node1 or not node2:\n",
    "                self.isIdentical = False\n",
    "                return\n",
    "            elif node1.val != node2.val:\n",
    "                self.isIdentical = False\n",
    "            check_identity(node1.left, node2.left)\n",
    "            check_identity(node1.right, node2.right)\n",
    "\n",
    "        Traverse(root)\n",
    "        return self.isSubTree"
   ]
  }
 ],
 "metadata": {
  "kernelspec": {
   "display_name": "Python 3 (ipykernel)",
   "language": "python",
   "name": "python3"
  },
  "language_info": {
   "codemirror_mode": {
    "name": "ipython",
    "version": 3
   },
   "file_extension": ".py",
   "mimetype": "text/x-python",
   "name": "python",
   "nbconvert_exporter": "python",
   "pygments_lexer": "ipython3",
   "version": "3.9.13"
  }
 },
 "nbformat": 4,
 "nbformat_minor": 5
}
