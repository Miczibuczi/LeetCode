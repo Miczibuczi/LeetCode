{
 "cells": [
  {
   "cell_type": "code",
   "execution_count": null,
   "id": "fa7882ce",
   "metadata": {},
   "outputs": [],
   "source": [
    "# a litle bit more memory efficient\n",
    "class Solution:\n",
    "    def dominantIndex(self, nums: List[int]) -> int:\n",
    "        highest = max(nums)\n",
    "        for i, num in enumerate(nums):\n",
    "            if num == highest:\n",
    "                index = i\n",
    "        nums.remove(highest)\n",
    "        second_highest = max(nums)\n",
    "        if highest >= 2*second_highest:\n",
    "            return index\n",
    "        else:\n",
    "            return -1"
   ]
  },
  {
   "cell_type": "code",
   "execution_count": null,
   "id": "e92db05c",
   "metadata": {},
   "outputs": [],
   "source": [
    "# a little bit more time efficient\n",
    "class Solution:\n",
    "    def dominantIndex(self, nums: List[int]) -> int:\n",
    "        highest = 0\n",
    "        second_highest = 0\n",
    "        for i in range(len(nums)):\n",
    "            if nums[i] > highest:\n",
    "                second_highest, highest = highest, nums[i]\n",
    "                answer = i\n",
    "            elif nums[i] > second_highest:\n",
    "                second_highest = nums[i]\n",
    "        if highest >= 2*second_highest:\n",
    "            return answer\n",
    "        else:\n",
    "            return -1"
   ]
  }
 ],
 "metadata": {
  "kernelspec": {
   "display_name": "Python 3 (ipykernel)",
   "language": "python",
   "name": "python3"
  },
  "language_info": {
   "codemirror_mode": {
    "name": "ipython",
    "version": 3
   },
   "file_extension": ".py",
   "mimetype": "text/x-python",
   "name": "python",
   "nbconvert_exporter": "python",
   "pygments_lexer": "ipython3",
   "version": "3.9.13"
  }
 },
 "nbformat": 4,
 "nbformat_minor": 5
}
