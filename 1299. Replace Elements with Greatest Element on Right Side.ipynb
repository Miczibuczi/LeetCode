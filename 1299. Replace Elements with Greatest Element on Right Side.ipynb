{
 "cells": [
  {
   "cell_type": "code",
   "execution_count": null,
   "id": "1777053c",
   "metadata": {},
   "outputs": [],
   "source": [
    "class Solution:\n",
    "    def replaceElements(self, arr: List[int]) -> List[int]:\n",
    "        if len(arr) < 2:\n",
    "            return [-1]\n",
    "        max_num = arr[-1]\n",
    "        arr[-1] = -1\n",
    "        for i in range(len(arr)-2, -1, -1):\n",
    "            if arr[i] > max_num:\n",
    "                arr[i], max_num = max_num, arr[i]\n",
    "            else:\n",
    "                arr[i] = max_num\n",
    "        return arr"
   ]
  }
 ],
 "metadata": {
  "kernelspec": {
   "display_name": "Python 3 (ipykernel)",
   "language": "python",
   "name": "python3"
  },
  "language_info": {
   "codemirror_mode": {
    "name": "ipython",
    "version": 3
   },
   "file_extension": ".py",
   "mimetype": "text/x-python",
   "name": "python",
   "nbconvert_exporter": "python",
   "pygments_lexer": "ipython3",
   "version": "3.9.13"
  }
 },
 "nbformat": 4,
 "nbformat_minor": 5
}
