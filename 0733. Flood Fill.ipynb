{
 "cells": [
  {
   "cell_type": "code",
   "execution_count": 2,
   "id": "5891363b",
   "metadata": {},
   "outputs": [
    {
     "name": "stdout",
     "output_type": "stream",
     "text": [
      "something\n"
     ]
    }
   ],
   "source": [
    "class Solution:\n",
    "    def floodFill(self, image: List[List[int]], sr: int, sc: int, color: int) -> List[List[int]]:\n",
    "        m = len(image)\n",
    "        n = len(image[0])\n",
    "        current_color = image[sr][sc]\n",
    "        if current_color == color:\n",
    "            return image\n",
    "        image[sr][sc] = color\n",
    "        check_pixel = [[sr, sc]]\n",
    "        \n",
    "        while check_pixel:\n",
    "            if check_pixel[0][0] > 0:\n",
    "                if image[check_pixel[0][0]-1][check_pixel[0][1]] == current_color and image[check_pixel[0][0]-1][check_pixel[0][1]] not in check_pixel:\n",
    "                    check_pixel.append([check_pixel[0][0]-1, check_pixel[0][1]])\n",
    "                    image[check_pixel[0][0]-1][check_pixel[0][1]] = color\n",
    "            if check_pixel[0][0] < m-1:\n",
    "                if image[check_pixel[0][0]+1][check_pixel[0][1]] == current_color and image[check_pixel[0][0]+1][check_pixel[0][1]] not in check_pixel:\n",
    "                    check_pixel.append([check_pixel[0][0]+1, check_pixel[0][1]])\n",
    "                    image[check_pixel[0][0]+1][check_pixel[0][1]] = color\n",
    "            if check_pixel[0][1] > 0:\n",
    "                if image[check_pixel[0][0]][check_pixel[0][1]-1] == current_color and image[check_pixel[0][0]][check_pixel[0][1]-1] not in check_pixel:\n",
    "                    check_pixel.append([check_pixel[0][0], check_pixel[0][1]-1])\n",
    "                    image[check_pixel[0][0]][check_pixel[0][1]-1] = color\n",
    "            if check_pixel[0][1] < n-1:\n",
    "                if image[check_pixel[0][0]][check_pixel[0][1]+1] == current_color and image[check_pixel[0][0]][check_pixel[0][1]+1] not in check_pixel:\n",
    "                    check_pixel.append([check_pixel[0][0], check_pixel[0][1]+1])\n",
    "                    image[check_pixel[0][0]][check_pixel[0][1]+1] = color\n",
    "            check_pixel.pop(0)\n",
    "        \n",
    "        return image"
   ]
  }
 ],
 "metadata": {
  "kernelspec": {
   "display_name": "Python 3 (ipykernel)",
   "language": "python",
   "name": "python3"
  },
  "language_info": {
   "codemirror_mode": {
    "name": "ipython",
    "version": 3
   },
   "file_extension": ".py",
   "mimetype": "text/x-python",
   "name": "python",
   "nbconvert_exporter": "python",
   "pygments_lexer": "ipython3",
   "version": "3.9.13"
  }
 },
 "nbformat": 4,
 "nbformat_minor": 5
}
