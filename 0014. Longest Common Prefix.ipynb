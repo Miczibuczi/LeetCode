{
 "cells": [
  {
   "cell_type": "code",
   "execution_count": null,
   "id": "070308f7",
   "metadata": {},
   "outputs": [],
   "source": [
    "class Solution:\n",
    "    def longestCommonPrefix(self, strs: List[str]) -> str:\n",
    "        x = []\n",
    "        for i in range(len(strs)):\n",
    "            x += [len(strs[i])]\n",
    "        y = min(x)\n",
    "        a = 0\n",
    "\n",
    "        while a < y:\n",
    "            new_strs = set(strs[i][a] for i in range(len(strs)))\n",
    "            if len(new_strs) == 1:\n",
    "                a += 1\n",
    "            else:\n",
    "                break\n",
    "\n",
    "        return strs[0][0:a]"
   ]
  },
  {
   "cell_type": "code",
   "execution_count": 74,
   "id": "3f098bd9",
   "metadata": {},
   "outputs": [
    {
     "data": {
      "text/plain": [
       "'fl'"
      ]
     },
     "execution_count": 74,
     "metadata": {},
     "output_type": "execute_result"
    }
   ],
   "source": [
    "strs = [\"flower\",\"flow\",\"flight\"]\n",
    "\n",
    "x = []\n",
    "for i in range(len(strs)):\n",
    "    x += [len(strs[i])]\n",
    "y = min(x)\n",
    "a = 0\n",
    "\n",
    "while a < y:\n",
    "    new_strs = set(strs[i][a] for i in range(len(strs)))\n",
    "    if len(new_strs) == 1:\n",
    "        a += 1\n",
    "    else:\n",
    "        break\n",
    "\n",
    "strs[0][0:a]"
   ]
  },
  {
   "cell_type": "code",
   "execution_count": 75,
   "id": "36e9dad7",
   "metadata": {},
   "outputs": [
    {
     "data": {
      "text/plain": [
       "''"
      ]
     },
     "execution_count": 75,
     "metadata": {},
     "output_type": "execute_result"
    }
   ],
   "source": [
    "strs = [\"dog\",\"racecar\",\"car\"]\n",
    "\n",
    "x = []\n",
    "for i in range(len(strs)):\n",
    "    x += [len(strs[i])]\n",
    "y = min(x)\n",
    "a = 0\n",
    "\n",
    "while a < y:\n",
    "    new_strs = set(strs[i][a] for i in range(len(strs)))\n",
    "    if len(new_strs) == 1:\n",
    "        a += 1\n",
    "    else:\n",
    "        break\n",
    "\n",
    "strs[0][0:a]"
   ]
  }
 ],
 "metadata": {
  "kernelspec": {
   "display_name": "Python 3 (ipykernel)",
   "language": "python",
   "name": "python3"
  },
  "language_info": {
   "codemirror_mode": {
    "name": "ipython",
    "version": 3
   },
   "file_extension": ".py",
   "mimetype": "text/x-python",
   "name": "python",
   "nbconvert_exporter": "python",
   "pygments_lexer": "ipython3",
   "version": "3.9.13"
  }
 },
 "nbformat": 4,
 "nbformat_minor": 5
}
