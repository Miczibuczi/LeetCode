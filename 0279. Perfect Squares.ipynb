{
 "cells": [
  {
   "cell_type": "code",
   "execution_count": null,
   "id": "3e901454",
   "metadata": {},
   "outputs": [],
   "source": [
    "class Solution:\n",
    "    def numSquares(self, n: int) -> int:\n",
    "        self.ans = 0\n",
    "        seen = set()\n",
    "        cur_list = [n]\n",
    "        def helper(cur_list):\n",
    "            self.ans += 1\n",
    "            new_list = []\n",
    "            for num in cur_list:\n",
    "                for i in range(1, int(sqrt(num))+1):\n",
    "                    cur_num = num - i**2\n",
    "                    if cur_num == 0:\n",
    "                        return\n",
    "                    elif cur_num not in seen:\n",
    "                        new_list.append(cur_num)\n",
    "                        seen.add(cur_num)\n",
    "            return new_list\n",
    "        while cur_list:\n",
    "            cur_list = helper(cur_list)\n",
    "        return self.ans"
   ]
  }
 ],
 "metadata": {
  "kernelspec": {
   "display_name": "Python 3 (ipykernel)",
   "language": "python",
   "name": "python3"
  },
  "language_info": {
   "codemirror_mode": {
    "name": "ipython",
    "version": 3
   },
   "file_extension": ".py",
   "mimetype": "text/x-python",
   "name": "python",
   "nbconvert_exporter": "python",
   "pygments_lexer": "ipython3",
   "version": "3.10.9"
  }
 },
 "nbformat": 4,
 "nbformat_minor": 5
}
