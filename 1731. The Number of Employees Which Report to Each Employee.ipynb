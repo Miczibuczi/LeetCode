{
 "cells": [
  {
   "cell_type": "code",
   "execution_count": null,
   "id": "0b42f3e6",
   "metadata": {},
   "outputs": [],
   "source": [
    "import pandas as pd\n",
    "from decimal import Decimal, ROUND_HALF_UP\n",
    "\n",
    "def count_employees(employees: pd.DataFrame) -> pd.DataFrame:\n",
    "    def round_accurate(value):\n",
    "        return Decimal(str(value)).quantize(Decimal(\"1\"), rounding=ROUND_HALF_UP)\n",
    "\n",
    "    employees = employees.merge(employees[[\"reports_to\", \"age\"]], how=\"left\", left_on=\"employee_id\", right_on=\"reports_to\")\n",
    "    employees = employees.groupby(by=[\"employee_id\", \"name\"]).agg(\n",
    "        reports_count = (\"age_y\", \"count\"),\n",
    "        average_age = (\"age_y\", lambda x: pd.NA if pd.isna(x.mean()) else round_accurate(x.mean(skipna=True)))\n",
    "    ).reset_index()\n",
    "    employees = employees[employees[\"reports_count\"] > 0]\n",
    "    return employees"
   ]
  }
 ],
 "metadata": {
  "kernelspec": {
   "display_name": "Python 3 (ipykernel)",
   "language": "python",
   "name": "python3"
  },
  "language_info": {
   "codemirror_mode": {
    "name": "ipython",
    "version": 3
   },
   "file_extension": ".py",
   "mimetype": "text/x-python",
   "name": "python",
   "nbconvert_exporter": "python",
   "pygments_lexer": "ipython3",
   "version": "3.10.9"
  }
 },
 "nbformat": 4,
 "nbformat_minor": 5
}
