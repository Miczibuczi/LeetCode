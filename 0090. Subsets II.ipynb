{
 "cells": [
  {
   "cell_type": "code",
   "execution_count": null,
   "id": "86931e8d",
   "metadata": {},
   "outputs": [],
   "source": [
    "class Solution:\n",
    "    def numDecodings(self, s: str) -> int:\n",
    "        if s[0] == \"0\":\n",
    "            return 0\n",
    "        def helper(s_part):\n",
    "            if s_part:\n",
    "                self.ans += 1\n",
    "            cur = s_part[:1]\n",
    "            for digit in s_part[1:]:\n",
    "                cur += digit\n",
    "                if 9 < int(cur) < 27:\n",
    "                    self.ans += 1\n",
    "                cur = cur[1:]\n",
    "\n",
    "        self.ans = 0\n",
    "        count = 0\n",
    "        s_part = \"\"\n",
    "        for digit in s:\n",
    "            if digit == \"0\":\n",
    "                count += 1\n",
    "                if count == 2:\n",
    "                    return 0\n",
    "                helper(s_part)\n",
    "                s_part = \"\"\n",
    "            else:\n",
    "                s_part += digit\n",
    "                count = 0\n",
    "        helper(s_part)\n",
    "        return self.ans"
   ]
  },
  {
   "cell_type": "code",
   "execution_count": null,
   "id": "323718c3",
   "metadata": {},
   "outputs": [],
   "source": [
    "class Solution:\n",
    "    def numDecodings(self, s: str) -> int:\n",
    "        if s[0] == \"0\":\n",
    "            return 0\n",
    "        ans = 1\n",
    "        for i in range(1, len(s)):\n",
    "            cur = int(s[i-1 : i+1])\n",
    "            if cur == 10 or cur == 20 or cur>26:\n",
    "                continue\n",
    "            elif cur == 0:\n",
    "                return 0\n",
    "            elif cur < 10:\n",
    "                ans -= 1\n",
    "            else:\n",
    "                ans += 1\n",
    "        return ans"
   ]
  }
 ],
 "metadata": {
  "kernelspec": {
   "display_name": "Python 3 (ipykernel)",
   "language": "python",
   "name": "python3"
  },
  "language_info": {
   "codemirror_mode": {
    "name": "ipython",
    "version": 3
   },
   "file_extension": ".py",
   "mimetype": "text/x-python",
   "name": "python",
   "nbconvert_exporter": "python",
   "pygments_lexer": "ipython3",
   "version": "3.10.9"
  }
 },
 "nbformat": 4,
 "nbformat_minor": 5
}
