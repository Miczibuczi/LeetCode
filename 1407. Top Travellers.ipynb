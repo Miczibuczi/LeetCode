{
 "cells": [
  {
   "cell_type": "code",
   "execution_count": null,
   "id": "951f6aee",
   "metadata": {},
   "outputs": [],
   "source": [
    "import pandas as pd\n",
    "\n",
    "def top_travellers(users: pd.DataFrame, rides: pd.DataFrame) -> pd.DataFrame:\n",
    "    df = rides.merge(users, how=\"right\", left_on=\"user_id\", right_on=\"id\")\n",
    "    df.fillna(0, inplace=True)\n",
    "    df = df.groupby(by=[\"user_id\", \"name\"]).agg({\"distance\":sum}).reset_index()\n",
    "    df.sort_values(by=[\"distance\", \"name\"], ascending=[False, True], inplace=True)\n",
    "    return df[[\"name\", \"distance\"]].rename(columns={\"distance\":\"travelled_distance\"})"
   ]
  }
 ],
 "metadata": {
  "kernelspec": {
   "display_name": "Python 3 (ipykernel)",
   "language": "python",
   "name": "python3"
  },
  "language_info": {
   "codemirror_mode": {
    "name": "ipython",
    "version": 3
   },
   "file_extension": ".py",
   "mimetype": "text/x-python",
   "name": "python",
   "nbconvert_exporter": "python",
   "pygments_lexer": "ipython3",
   "version": "3.10.9"
  }
 },
 "nbformat": 4,
 "nbformat_minor": 5
}
