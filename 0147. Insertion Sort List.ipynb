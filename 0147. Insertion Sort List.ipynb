{
 "cells": [
  {
   "cell_type": "code",
   "execution_count": null,
   "id": "070ac363",
   "metadata": {},
   "outputs": [],
   "source": [
    "# Definition for singly-linked list.\n",
    "# class ListNode:\n",
    "#     def __init__(self, val=0, next=None):\n",
    "#         self.val = val\n",
    "#         self.next = next\n",
    "class Solution:\n",
    "    def insertionSortList(self, head: Optional[ListNode]) -> Optional[ListNode]:\n",
    "        save_the_head = ListNode(-10000, head)\n",
    "        my_dict = {head:save_the_head}\n",
    "        while head.next:\n",
    "            curr = head\n",
    "            if head.next.val >= curr.val:\n",
    "                my_dict[head.next] = head\n",
    "                head = head.next\n",
    "                continue\n",
    "            while head.next.val < curr.val:\n",
    "                curr = my_dict[curr]\n",
    "            memo = head.next.next\n",
    "            curr.next, curr.next.next = head.next, curr.next\n",
    "            my_dict[curr.next] = curr\n",
    "            my_dict[curr.next.next] = curr.next\n",
    "            head.next = memo\n",
    "        return save_the_head.next"
   ]
  }
 ],
 "metadata": {
  "kernelspec": {
   "display_name": "Python 3 (ipykernel)",
   "language": "python",
   "name": "python3"
  },
  "language_info": {
   "codemirror_mode": {
    "name": "ipython",
    "version": 3
   },
   "file_extension": ".py",
   "mimetype": "text/x-python",
   "name": "python",
   "nbconvert_exporter": "python",
   "pygments_lexer": "ipython3",
   "version": "3.10.9"
  }
 },
 "nbformat": 4,
 "nbformat_minor": 5
}
