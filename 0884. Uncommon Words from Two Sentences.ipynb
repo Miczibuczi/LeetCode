{
 "cells": [
  {
   "cell_type": "code",
   "execution_count": null,
   "id": "a956eda7",
   "metadata": {},
   "outputs": [],
   "source": [
    "class Solution:\n",
    "    def uncommonFromSentences(self, s1: str, s2: str) -> List[str]:\n",
    "        my_dictionary = {}\n",
    "        def create_dictionary(sentence):\n",
    "            for word in sentence.split():\n",
    "                if word in my_dictionary:\n",
    "                    my_dictionary[word] += 1\n",
    "                else:\n",
    "                    my_dictionary[word] = 1\n",
    "        \n",
    "        create_dictionary(s1)\n",
    "        create_dictionary(s2)\n",
    "        return [x[0] for x in my_dictionary.items() if x[1]==1]"
   ]
  }
 ],
 "metadata": {
  "kernelspec": {
   "display_name": "Python 3 (ipykernel)",
   "language": "python",
   "name": "python3"
  },
  "language_info": {
   "codemirror_mode": {
    "name": "ipython",
    "version": 3
   },
   "file_extension": ".py",
   "mimetype": "text/x-python",
   "name": "python",
   "nbconvert_exporter": "python",
   "pygments_lexer": "ipython3",
   "version": "3.9.13"
  }
 },
 "nbformat": 4,
 "nbformat_minor": 5
}
