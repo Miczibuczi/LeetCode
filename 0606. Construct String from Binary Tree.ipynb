{
 "cells": [
  {
   "cell_type": "code",
   "execution_count": null,
   "id": "17a2e086",
   "metadata": {},
   "outputs": [],
   "source": [
    "# Definition for a binary tree node.\n",
    "# class TreeNode:\n",
    "#     def __init__(self, val=0, left=None, right=None):\n",
    "#         self.val = val\n",
    "#         self.left = left\n",
    "#         self.right = right\n",
    "class Solution:\n",
    "    def tree2str(self, root: Optional[TreeNode]) -> str:\n",
    "        self.string = \"\"\n",
    "\n",
    "        def Traverse(node):\n",
    "            if not node:\n",
    "                return\n",
    "            if not node.left and not node.right:\n",
    "                self.string += f\"({node.val})\"\n",
    "                return\n",
    "            self.string += f\"({node.val}\"\n",
    "            if not node.left:\n",
    "                self.string += \"()\"\n",
    "                Traverse(node.right)\n",
    "                self.string += \")\"\n",
    "                return\n",
    "            else:\n",
    "                Traverse(node.left)\n",
    "                Traverse(node.right)\n",
    "                self.string += \")\"\n",
    "\n",
    "        Traverse(root)\n",
    "        return self.string[1:-1]"
   ]
  }
 ],
 "metadata": {
  "kernelspec": {
   "display_name": "Python 3 (ipykernel)",
   "language": "python",
   "name": "python3"
  },
  "language_info": {
   "codemirror_mode": {
    "name": "ipython",
    "version": 3
   },
   "file_extension": ".py",
   "mimetype": "text/x-python",
   "name": "python",
   "nbconvert_exporter": "python",
   "pygments_lexer": "ipython3",
   "version": "3.9.13"
  }
 },
 "nbformat": 4,
 "nbformat_minor": 5
}
