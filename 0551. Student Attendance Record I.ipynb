{
 "cells": [
  {
   "cell_type": "code",
   "execution_count": null,
   "id": "b59d4add",
   "metadata": {},
   "outputs": [],
   "source": [
    "class Solution:\n",
    "    def checkRecord(self, s: str) -> bool:\n",
    "        late = 0\n",
    "        absent = 0\n",
    "        for i in s:\n",
    "            if i == \"L\":\n",
    "                late += 1\n",
    "                if late == 3:\n",
    "                    return False\n",
    "            elif i == \"A\":\n",
    "                absent += 1\n",
    "                late = 0\n",
    "                if absent == 2:\n",
    "                    return False\n",
    "            else:\n",
    "                late = 0\n",
    "        return True"
   ]
  }
 ],
 "metadata": {
  "kernelspec": {
   "display_name": "Python 3 (ipykernel)",
   "language": "python",
   "name": "python3"
  },
  "language_info": {
   "codemirror_mode": {
    "name": "ipython",
    "version": 3
   },
   "file_extension": ".py",
   "mimetype": "text/x-python",
   "name": "python",
   "nbconvert_exporter": "python",
   "pygments_lexer": "ipython3",
   "version": "3.9.13"
  }
 },
 "nbformat": 4,
 "nbformat_minor": 5
}
