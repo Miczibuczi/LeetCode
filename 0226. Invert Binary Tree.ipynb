{
 "cells": [
  {
   "cell_type": "code",
   "execution_count": null,
   "id": "fcbd6173",
   "metadata": {},
   "outputs": [],
   "source": [
    "# Definition for a binary tree node.\n",
    "# class TreeNode:\n",
    "#     def __init__(self, val=0, left=None, right=None):\n",
    "#         self.val = val\n",
    "#         self.left = left\n",
    "#         self.right = right\n",
    "class Solution:\n",
    "    def invertTree(self, root: Optional[TreeNode]) -> Optional[TreeNode]:\n",
    "        def invert(root):\n",
    "            if root.left and root.right:\n",
    "                invert(root.left)\n",
    "                invert(root.right)\n",
    "                root.left, root.right = root.right, root.left\n",
    "            elif root.left:\n",
    "                root.left, root.right = None, root.left\n",
    "                invert(root.right)\n",
    "            elif root.right:\n",
    "                root.left, root.right = root.right, None\n",
    "                invert(root.left)\n",
    "        if not root:\n",
    "            return None\n",
    "        invert(root)\n",
    "        return root"
   ]
  }
 ],
 "metadata": {
  "kernelspec": {
   "display_name": "Python 3 (ipykernel)",
   "language": "python",
   "name": "python3"
  },
  "language_info": {
   "codemirror_mode": {
    "name": "ipython",
    "version": 3
   },
   "file_extension": ".py",
   "mimetype": "text/x-python",
   "name": "python",
   "nbconvert_exporter": "python",
   "pygments_lexer": "ipython3",
   "version": "3.9.13"
  }
 },
 "nbformat": 4,
 "nbformat_minor": 5
}
