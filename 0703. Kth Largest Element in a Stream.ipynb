{
 "cells": [
  {
   "cell_type": "code",
   "execution_count": 4,
   "id": "aceb7e42",
   "metadata": {},
   "outputs": [],
   "source": [
    "class KthLargest:\n",
    "\n",
    "    def __init__(self, k: int, nums: List[int]):\n",
    "        self.k = k\n",
    "        if len(nums) >= k:\n",
    "            self.nums = sorted(nums, reverse = True)[:k]\n",
    "        else:\n",
    "            self.nums = sorted(nums, reverse = True)\n",
    "            self.nums.append(-2*10**4)\n",
    "\n",
    "            \n",
    "\n",
    "    def add(self, val: int) -> int:\n",
    "        self.val = val\n",
    "        if self.val >= self.nums[-1]:\n",
    "            self.nums.append(val)\n",
    "            self.nums.sort(reverse = True)\n",
    "            self.nums.pop()\n",
    "        return self.nums[-1]\n",
    "\n",
    "\n",
    "# Your KthLargest object will be instantiated and called as such:\n",
    "# obj = KthLargest(k, nums)\n",
    "# param_1 = obj.add(val)"
   ]
  }
 ],
 "metadata": {
  "kernelspec": {
   "display_name": "Python 3 (ipykernel)",
   "language": "python",
   "name": "python3"
  },
  "language_info": {
   "codemirror_mode": {
    "name": "ipython",
    "version": 3
   },
   "file_extension": ".py",
   "mimetype": "text/x-python",
   "name": "python",
   "nbconvert_exporter": "python",
   "pygments_lexer": "ipython3",
   "version": "3.9.13"
  }
 },
 "nbformat": 4,
 "nbformat_minor": 5
}
