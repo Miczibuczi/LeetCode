{
 "cells": [
  {
   "cell_type": "code",
   "execution_count": null,
   "id": "fbe9b6b6",
   "metadata": {},
   "outputs": [],
   "source": [
    "class Solution:\n",
    "    def longestPalindrome(self, s: str) -> int:\n",
    "        my_dictionary = {}\n",
    "        for i in s:\n",
    "            if i in my_dictionary:\n",
    "                my_dictionary[i] += 1\n",
    "            else:\n",
    "                my_dictionary[i] = 1\n",
    "        \n",
    "        result = 0\n",
    "        for j in my_dictionary.values():\n",
    "            while j >= 2:\n",
    "                result +=2\n",
    "                j -= 2\n",
    "        if result < len(s):\n",
    "            result += 1\n",
    "\n",
    "        return result"
   ]
  }
 ],
 "metadata": {
  "kernelspec": {
   "display_name": "Python 3 (ipykernel)",
   "language": "python",
   "name": "python3"
  },
  "language_info": {
   "codemirror_mode": {
    "name": "ipython",
    "version": 3
   },
   "file_extension": ".py",
   "mimetype": "text/x-python",
   "name": "python",
   "nbconvert_exporter": "python",
   "pygments_lexer": "ipython3",
   "version": "3.9.13"
  }
 },
 "nbformat": 4,
 "nbformat_minor": 5
}
