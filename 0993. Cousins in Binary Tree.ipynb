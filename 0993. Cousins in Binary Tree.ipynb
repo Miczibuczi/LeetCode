{
 "cells": [
  {
   "cell_type": "code",
   "execution_count": null,
   "id": "4221faaa",
   "metadata": {},
   "outputs": [],
   "source": [
    "# Definition for a binary tree node.\n",
    "# class TreeNode:\n",
    "#     def __init__(self, val=0, left=None, right=None):\n",
    "#         self.val = val\n",
    "#         self.left = left\n",
    "#         self.right = right\n",
    "class Solution:\n",
    "    def isCousins(self, root: Optional[TreeNode], x: int, y: int) -> bool:\n",
    "        if root.val == x or root.val == y:\n",
    "            return False\n",
    "\n",
    "        def Traverse(node, depth, find):\n",
    "            if node.left:\n",
    "                if node.left.val == find:\n",
    "                    return node.val, depth\n",
    "                a = Traverse(node.left, depth+1, find)\n",
    "                if a:\n",
    "                    return a\n",
    "            if node.right:\n",
    "                if node.right.val == find:\n",
    "                    return node.val, depth\n",
    "                a = Traverse(node.right, depth+1, find)\n",
    "                if a:\n",
    "                    return a\n",
    "\n",
    "\n",
    "        x_param = Traverse(root, 0, x)\n",
    "        y_param = Traverse(root, 0, y)\n",
    "        return x_param and y_param and x_param[0] != y_param[0] and x_param[1] == y_param[1]"
   ]
  }
 ],
 "metadata": {
  "kernelspec": {
   "display_name": "Python 3 (ipykernel)",
   "language": "python",
   "name": "python3"
  },
  "language_info": {
   "codemirror_mode": {
    "name": "ipython",
    "version": 3
   },
   "file_extension": ".py",
   "mimetype": "text/x-python",
   "name": "python",
   "nbconvert_exporter": "python",
   "pygments_lexer": "ipython3",
   "version": "3.9.13"
  }
 },
 "nbformat": 4,
 "nbformat_minor": 5
}
