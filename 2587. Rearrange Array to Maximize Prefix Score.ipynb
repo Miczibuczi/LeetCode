{
 "cells": [
  {
   "cell_type": "code",
   "execution_count": null,
   "id": "d3ae8487",
   "metadata": {},
   "outputs": [],
   "source": [
    "class Solution:\n",
    "    def maxScore(self, nums: List[int]) -> int:\n",
    "        cur_sum = 0\n",
    "        nums.sort(reverse=True)\n",
    "        if nums[-1] > 0:\n",
    "            return len(nums)\n",
    "        for i, num in enumerate(nums):\n",
    "            cur_sum += num\n",
    "            if cur_sum <= 0:\n",
    "                return i\n",
    "        return i+1"
   ]
  }
 ],
 "metadata": {
  "kernelspec": {
   "display_name": "Python 3 (ipykernel)",
   "language": "python",
   "name": "python3"
  },
  "language_info": {
   "codemirror_mode": {
    "name": "ipython",
    "version": 3
   },
   "file_extension": ".py",
   "mimetype": "text/x-python",
   "name": "python",
   "nbconvert_exporter": "python",
   "pygments_lexer": "ipython3",
   "version": "3.10.9"
  }
 },
 "nbformat": 4,
 "nbformat_minor": 5
}
