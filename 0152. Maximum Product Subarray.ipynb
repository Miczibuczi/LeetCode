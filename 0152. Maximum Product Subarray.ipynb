{
 "cells": [
  {
   "cell_type": "code",
   "execution_count": null,
   "id": "f726ada1",
   "metadata": {},
   "outputs": [],
   "source": [
    "class Solution:\n",
    "    def maxProduct(self, nums: List[int]) -> int:\n",
    "        def helper(nums):\n",
    "            curr = False\n",
    "            prev = False\n",
    "            max_seen = -10\n",
    "            for num in nums:\n",
    "                if not curr:\n",
    "                    curr = num\n",
    "                else:\n",
    "                    curr *= num\n",
    "                max_seen = max(max_seen, curr)\n",
    "                if curr == 0:\n",
    "                    curr = False\n",
    "                    prev = False\n",
    "                elif curr < 0:\n",
    "                    if prev:\n",
    "                        curr *= prev\n",
    "                        prev = False\n",
    "                    else:\n",
    "                        prev = curr\n",
    "                        curr = False\n",
    "                max_seen = max(max_seen, curr or -10)\n",
    "            return max_seen\n",
    "\n",
    "        return max(helper(nums), helper(nums[::-1]))"
   ]
  }
 ],
 "metadata": {
  "kernelspec": {
   "display_name": "Python 3 (ipykernel)",
   "language": "python",
   "name": "python3"
  },
  "language_info": {
   "codemirror_mode": {
    "name": "ipython",
    "version": 3
   },
   "file_extension": ".py",
   "mimetype": "text/x-python",
   "name": "python",
   "nbconvert_exporter": "python",
   "pygments_lexer": "ipython3",
   "version": "3.10.9"
  }
 },
 "nbformat": 4,
 "nbformat_minor": 5
}
