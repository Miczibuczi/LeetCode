{
 "cells": [
  {
   "cell_type": "code",
   "execution_count": null,
   "id": "587ff36a",
   "metadata": {},
   "outputs": [],
   "source": [
    "# Definition for a binary tree node.\n",
    "# class TreeNode:\n",
    "#     def __init__(self, val=0, left=None, right=None):\n",
    "#         self.val = val\n",
    "#         self.left = left\n",
    "#         self.right = right\n",
    "class Solution:\n",
    "    def sumOfLeftLeaves(self, root: Optional[TreeNode]) -> int:\n",
    "        self.answer = 0\n",
    "\n",
    "        def Traverse(root):\n",
    "            if not root:\n",
    "                return\n",
    "            elif root.left and not root.left.left and not root.left.right:\n",
    "                self.answer += root.left.val\n",
    "            Traverse(root.left)\n",
    "            Traverse(root.right)\n",
    "        \n",
    "\n",
    "        Traverse(root)\n",
    "        return self.answer"
   ]
  },
  {
   "cell_type": "code",
   "execution_count": null,
   "id": "e883a379",
   "metadata": {},
   "outputs": [],
   "source": [
    "# First answer, a lot of unneccesary conditions\n",
    "\n",
    "# Definition for a binary tree node.\n",
    "# class TreeNode:\n",
    "#     def __init__(self, val=0, left=None, right=None):\n",
    "#         self.val = val\n",
    "#         self.left = left\n",
    "#         self.right = right\n",
    "class Solution:\n",
    "    def sumOfLeftLeaves(self, root: Optional[TreeNode]) -> int:\n",
    "        answer = 0\n",
    "        if not root:\n",
    "            return 0\n",
    "        return self.Traverse(root, answer)\n",
    "\n",
    "    def Traverse(self, root, answer):\n",
    "        if not root.left and not root.right:\n",
    "            return answer\n",
    "        elif root.left and not root.left.left and not root.left.right and root.right:\n",
    "            return answer + root.left.val + self.Traverse(root.right, answer)\n",
    "        elif root.left and not root.left.left and not root.left.right and not root.right:\n",
    "            return answer + root.left.val\n",
    "        if root.left and not root.right:\n",
    "            return answer + self.Traverse(root.left, answer)\n",
    "        if root.right and not root.left:\n",
    "            return answer + self.Traverse(root.right, answer)\n",
    "        else:\n",
    "            return answer + self.Traverse(root.left, answer) + self.Traverse(root.right, answer)"
   ]
  }
 ],
 "metadata": {
  "kernelspec": {
   "display_name": "Python 3 (ipykernel)",
   "language": "python",
   "name": "python3"
  },
  "language_info": {
   "codemirror_mode": {
    "name": "ipython",
    "version": 3
   },
   "file_extension": ".py",
   "mimetype": "text/x-python",
   "name": "python",
   "nbconvert_exporter": "python",
   "pygments_lexer": "ipython3",
   "version": "3.9.13"
  }
 },
 "nbformat": 4,
 "nbformat_minor": 5
}
