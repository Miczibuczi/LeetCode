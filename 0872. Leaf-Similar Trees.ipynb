{
 "cells": [
  {
   "cell_type": "code",
   "execution_count": null,
   "id": "c7ceccf5",
   "metadata": {},
   "outputs": [],
   "source": [
    "# Definition for a binary tree node.\n",
    "# class TreeNode:\n",
    "#     def __init__(self, val=0, left=None, right=None):\n",
    "#         self.val = val\n",
    "#         self.left = left\n",
    "#         self.right = right\n",
    "class Solution:\n",
    "    def leafSimilar(self, root1: Optional[TreeNode], root2: Optional[TreeNode]) -> bool:\n",
    "        def GetLeafes(node):\n",
    "            ans = []\n",
    "            if not node:\n",
    "                return\n",
    "            if node.left:\n",
    "                ans.extend(GetLeafes(node.left))\n",
    "            if not node.left and not node.right:\n",
    "                ans.append(node.val)\n",
    "            if node.right:\n",
    "                ans.extend(GetLeafes(node.right))\n",
    "            return ans\n",
    "        \n",
    "        return GetLeafes(root1) == GetLeafes(root2)"
   ]
  }
 ],
 "metadata": {
  "kernelspec": {
   "display_name": "Python 3 (ipykernel)",
   "language": "python",
   "name": "python3"
  },
  "language_info": {
   "codemirror_mode": {
    "name": "ipython",
    "version": 3
   },
   "file_extension": ".py",
   "mimetype": "text/x-python",
   "name": "python",
   "nbconvert_exporter": "python",
   "pygments_lexer": "ipython3",
   "version": "3.9.13"
  }
 },
 "nbformat": 4,
 "nbformat_minor": 5
}
