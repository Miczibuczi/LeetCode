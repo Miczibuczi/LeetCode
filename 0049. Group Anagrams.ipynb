{
 "cells": [
  {
   "cell_type": "code",
   "execution_count": 34,
   "id": "40824c53",
   "metadata": {},
   "outputs": [],
   "source": [
    "class Solution:\n",
    "    def groupAnagrams(self, strs: List[str]) -> List[List[str]]:\n",
    "        ans = []\n",
    "        indx = 0\n",
    "        a_dict = {}\n",
    "\n",
    "        for word in strs:\n",
    "            key = \"anythig\"   # in case key won't be created. It happends if strs[i] = [\"\"]\n",
    "            cur_dict = defaultdict(int)\n",
    "            for letter in word:\n",
    "                cur_dict[letter] += 1\n",
    "                key = tuple(sorted(cur_dict.items()))\n",
    "            if key in a_dict:\n",
    "                ans[a_dict[key]].append(word)\n",
    "            else:\n",
    "                ans.append([word])\n",
    "                a_dict[key] = indx\n",
    "                indx += 1\n",
    "        \n",
    "        return ans"
   ]
  }
 ],
 "metadata": {
  "kernelspec": {
   "display_name": "Python 3 (ipykernel)",
   "language": "python",
   "name": "python3"
  },
  "language_info": {
   "codemirror_mode": {
    "name": "ipython",
    "version": 3
   },
   "file_extension": ".py",
   "mimetype": "text/x-python",
   "name": "python",
   "nbconvert_exporter": "python",
   "pygments_lexer": "ipython3",
   "version": "3.9.13"
  }
 },
 "nbformat": 4,
 "nbformat_minor": 5
}
