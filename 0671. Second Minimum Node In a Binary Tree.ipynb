{
 "cells": [
  {
   "cell_type": "code",
   "execution_count": null,
   "id": "e1283e59",
   "metadata": {},
   "outputs": [],
   "source": [
    "# Definition for a binary tree node.\n",
    "# class TreeNode:\n",
    "#     def __init__(self, val=0, left=None, right=None):\n",
    "#         self.val = val\n",
    "#         self.left = left\n",
    "#         self.right = right\n",
    "class Solution:\n",
    "    def findSecondMinimumValue(self, root: Optional[TreeNode]) -> int:\n",
    "        self.rootVal = root.val\n",
    "        self.ans = float('inf')\n",
    "\n",
    "        def Traverse(node):\n",
    "            if not node:\n",
    "                return\n",
    "            if node.val != self.rootVal and node.val < self.ans:\n",
    "                self.ans = node.val\n",
    "            Traverse(node.left)\n",
    "            Traverse(node.right)\n",
    "        \n",
    "        Traverse(root)\n",
    "        return self.ans if self.ans != float(inf) else -1"
   ]
  }
 ],
 "metadata": {
  "kernelspec": {
   "display_name": "Python 3 (ipykernel)",
   "language": "python",
   "name": "python3"
  },
  "language_info": {
   "codemirror_mode": {
    "name": "ipython",
    "version": 3
   },
   "file_extension": ".py",
   "mimetype": "text/x-python",
   "name": "python",
   "nbconvert_exporter": "python",
   "pygments_lexer": "ipython3",
   "version": "3.9.13"
  }
 },
 "nbformat": 4,
 "nbformat_minor": 5
}
