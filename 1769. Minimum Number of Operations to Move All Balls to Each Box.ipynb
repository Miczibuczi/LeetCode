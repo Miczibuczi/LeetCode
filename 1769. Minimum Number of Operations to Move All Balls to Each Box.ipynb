{
 "cells": [
  {
   "cell_type": "code",
   "execution_count": null,
   "id": "1a528440",
   "metadata": {},
   "outputs": [],
   "source": [
    "class Solution:\n",
    "    def minOperations(self, boxes: str) -> List[int]:\n",
    "        right_balls = 0\n",
    "        left_balls = 0\n",
    "        first_box = 0\n",
    "        for i, box in enumerate(boxes):\n",
    "            if box == \"1\":\n",
    "                right_balls += 1\n",
    "                first_box += i\n",
    "\n",
    "        ans = []\n",
    "        prev_box = first_box + right_balls\n",
    "\n",
    "        for box in boxes:\n",
    "            if box == \"1\":\n",
    "                prev_box = prev_box - right_balls + left_balls\n",
    "                left_balls += 1\n",
    "                right_balls -= 1\n",
    "            else:\n",
    "                prev_box = prev_box - right_balls + left_balls\n",
    "            ans.append(prev_box)\n",
    "        return ans"
   ]
  }
 ],
 "metadata": {
  "kernelspec": {
   "display_name": "Python 3 (ipykernel)",
   "language": "python",
   "name": "python3"
  },
  "language_info": {
   "codemirror_mode": {
    "name": "ipython",
    "version": 3
   },
   "file_extension": ".py",
   "mimetype": "text/x-python",
   "name": "python",
   "nbconvert_exporter": "python",
   "pygments_lexer": "ipython3",
   "version": "3.10.9"
  }
 },
 "nbformat": 4,
 "nbformat_minor": 5
}
