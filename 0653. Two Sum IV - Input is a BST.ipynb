{
 "cells": [
  {
   "cell_type": "code",
   "execution_count": null,
   "id": "95826557",
   "metadata": {},
   "outputs": [],
   "source": [
    "# The same as second answer, but just a little bit more efficient in terms of time\n",
    "\n",
    "# Definition for a binary tree node.\n",
    "# class TreeNode:\n",
    "#     def __init__(self, val=0, left=None, right=None):\n",
    "#         self.val = val\n",
    "#         self.left = left\n",
    "#         self.right = right\n",
    "class Solution:\n",
    "    def findTarget(self, root: Optional[TreeNode], k: int) -> bool:\n",
    "        self.ans = False\n",
    "        self.nums = set()\n",
    "\n",
    "        def Traverse(root):\n",
    "            if self.ans:\n",
    "                return\n",
    "            if not root:\n",
    "                return\n",
    "            if root.val in self.nums:\n",
    "                self.ans = True\n",
    "                return\n",
    "            self.nums.add(k-root.val)\n",
    "            Traverse(root.left)\n",
    "            Traverse(root.right)\n",
    "\n",
    "        Traverse(root)\n",
    "        return self.ans"
   ]
  },
  {
   "cell_type": "code",
   "execution_count": null,
   "id": "80fbb3e1",
   "metadata": {},
   "outputs": [],
   "source": [
    "# Definition for a binary tree node.\n",
    "# class TreeNode:\n",
    "#     def __init__(self, val=0, left=None, right=None):\n",
    "#         self.val = val\n",
    "#         self.left = left\n",
    "#         self.right = right\n",
    "class Solution:\n",
    "    def findTarget(self, root: Optional[TreeNode], k: int) -> bool:\n",
    "        self.ans = False\n",
    "        self.nums = set()\n",
    "\n",
    "        def Traverse(root):\n",
    "            if not root:\n",
    "                return\n",
    "            if root.val in self.nums:\n",
    "                self.ans = True\n",
    "            self.nums.add(k-root.val)\n",
    "            Traverse(root.left)\n",
    "            Traverse(root.right)\n",
    "\n",
    "        Traverse(root)\n",
    "        return self.ans"
   ]
  }
 ],
 "metadata": {
  "kernelspec": {
   "display_name": "Python 3 (ipykernel)",
   "language": "python",
   "name": "python3"
  },
  "language_info": {
   "codemirror_mode": {
    "name": "ipython",
    "version": 3
   },
   "file_extension": ".py",
   "mimetype": "text/x-python",
   "name": "python",
   "nbconvert_exporter": "python",
   "pygments_lexer": "ipython3",
   "version": "3.9.13"
  }
 },
 "nbformat": 4,
 "nbformat_minor": 5
}
