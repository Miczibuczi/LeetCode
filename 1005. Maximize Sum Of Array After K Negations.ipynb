{
 "cells": [
  {
   "cell_type": "code",
   "execution_count": null,
   "id": "333aec7a",
   "metadata": {},
   "outputs": [],
   "source": [
    "class Solution:\n",
    "    def largestSumAfterKNegations(self, nums: List[int], k: int) -> int:\n",
    "        nums.sort()\n",
    "        while k > len(nums):\n",
    "            k -= 2\n",
    "        for i in range(k):\n",
    "            if nums[i] < 0:\n",
    "                nums[i] = -nums[i]\n",
    "            else:\n",
    "                if (k-i) % 2 == 0:\n",
    "                    return sum(nums)\n",
    "                else:\n",
    "                    if i > 0:\n",
    "                        return sum(nums)-2*min(nums[i-1], nums[i])\n",
    "                    else:\n",
    "                        return sum(nums)-2*nums[i]\n",
    "        return sum(nums)"
   ]
  },
  {
   "cell_type": "code",
   "execution_count": null,
   "id": "97d4a6a8",
   "metadata": {},
   "outputs": [],
   "source": [
    "# First answer, less time efficient\n",
    "class Solution:\n",
    "    def largestSumAfterKNegations(self, nums: List[int], k: int) -> int:\n",
    "        for i in range(k):\n",
    "            num = min(nums)\n",
    "            if num < 0:\n",
    "                nums[nums.index(num)] = -num\n",
    "            else:\n",
    "                if (k-i) % 2 == 0:\n",
    "                    return sum(nums)\n",
    "                else:\n",
    "                    return sum(nums)-2*num\n",
    "        return sum(nums)"
   ]
  }
 ],
 "metadata": {
  "kernelspec": {
   "display_name": "Python 3 (ipykernel)",
   "language": "python",
   "name": "python3"
  },
  "language_info": {
   "codemirror_mode": {
    "name": "ipython",
    "version": 3
   },
   "file_extension": ".py",
   "mimetype": "text/x-python",
   "name": "python",
   "nbconvert_exporter": "python",
   "pygments_lexer": "ipython3",
   "version": "3.9.13"
  }
 },
 "nbformat": 4,
 "nbformat_minor": 5
}
