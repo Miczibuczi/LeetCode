{
 "cells": [
  {
   "cell_type": "code",
   "execution_count": null,
   "id": "1aff1e75",
   "metadata": {},
   "outputs": [],
   "source": [
    "class Solution:\n",
    "    def nextGreaterElement(self, nums1: List[int], nums2: List[int]) -> List[int]:\n",
    "        my_dictionary = {}\n",
    "        stack = []\n",
    "        for num in nums2:\n",
    "            while stack and num > stack[-1]:\n",
    "                my_dictionary[stack.pop()] = num\n",
    "            stack.append(num)\n",
    "        \n",
    "        result = []\n",
    "        for num in nums1:\n",
    "            if num in my_dictionary:\n",
    "                result.append(my_dictionary[num])\n",
    "            else:\n",
    "                result.append(-1)\n",
    "        return result"
   ]
  },
  {
   "cell_type": "code",
   "execution_count": null,
   "id": "dd12b611",
   "metadata": {},
   "outputs": [],
   "source": [
    "# first solution, not eficient\n",
    "class Solution:\n",
    "    def nextGreaterElement(self, nums1: List[int], nums2: List[int]) -> List[int]:\n",
    "        ans = []\n",
    "        for i in nums1:\n",
    "            for j in range(len(nums2)):\n",
    "                if i == nums2[j]:\n",
    "                    for k in range(j+1, len(nums2)):\n",
    "                        if nums2[j] < nums2[k]:\n",
    "                            ans.append(nums2[k])\n",
    "                            break\n",
    "                    else:\n",
    "                        ans.append(-1)\n",
    "                    break\n",
    "            else:\n",
    "                ans.append(-1)\n",
    "        return ans"
   ]
  }
 ],
 "metadata": {
  "kernelspec": {
   "display_name": "Python 3 (ipykernel)",
   "language": "python",
   "name": "python3"
  },
  "language_info": {
   "codemirror_mode": {
    "name": "ipython",
    "version": 3
   },
   "file_extension": ".py",
   "mimetype": "text/x-python",
   "name": "python",
   "nbconvert_exporter": "python",
   "pygments_lexer": "ipython3",
   "version": "3.9.13"
  }
 },
 "nbformat": 4,
 "nbformat_minor": 5
}
