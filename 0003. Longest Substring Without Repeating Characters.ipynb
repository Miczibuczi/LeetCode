{
 "cells": [
  {
   "cell_type": "code",
   "execution_count": null,
   "id": "86e67a54",
   "metadata": {},
   "outputs": [],
   "source": [
    "class Solution:\n",
    "    def lengthOfLongestSubstring(self, s: str) -> int:\n",
    "        left = 0\n",
    "        cur = []\n",
    "        ans = 0\n",
    "        for i in range(len(s)):\n",
    "            if s[i] not in s[left:i]:\n",
    "                ans = max(ans, i+1-left)\n",
    "            else:\n",
    "                indx = s.index(s[i], left, i)\n",
    "                left = indx +1\n",
    "        return ans"
   ]
  }
 ],
 "metadata": {
  "kernelspec": {
   "display_name": "Python 3 (ipykernel)",
   "language": "python",
   "name": "python3"
  },
  "language_info": {
   "codemirror_mode": {
    "name": "ipython",
    "version": 3
   },
   "file_extension": ".py",
   "mimetype": "text/x-python",
   "name": "python",
   "nbconvert_exporter": "python",
   "pygments_lexer": "ipython3",
   "version": "3.9.13"
  }
 },
 "nbformat": 4,
 "nbformat_minor": 5
}
