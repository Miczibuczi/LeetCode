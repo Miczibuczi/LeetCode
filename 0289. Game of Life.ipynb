{
 "cells": [
  {
   "cell_type": "code",
   "execution_count": null,
   "id": "0d79ce3a",
   "metadata": {},
   "outputs": [],
   "source": [
    "class Solution:\n",
    "    def gameOfLife(self, board: List[List[int]]) -> None:\n",
    "        \"\"\"\n",
    "        Do not return anything, modify board in-place instead.\n",
    "        \"\"\"\n",
    "        iteration = 0\n",
    "        changes = {}\n",
    "\n",
    "        for i in range(len(board)):\n",
    "            for j in range(len(board[0])):\n",
    "                count = 0\n",
    "                if board[i][j] == 0:\n",
    "                    for k in range(max(i-1, 0), min(i+2, len(board))):\n",
    "                        for l in range(max(j-1, 0), min(j+2, len(board[0]))):\n",
    "                            if board[k][l] == 1:\n",
    "                                count += 1\n",
    "                    if count == 3:\n",
    "                        changes[iteration] = 1\n",
    "                else:\n",
    "                    for k in range(max(i-1, 0), min(i+2, len(board))):\n",
    "                        for l in range(max(j-1, 0), min(j+2, len(board[0]))):\n",
    "                            if board[k][l] == 1:\n",
    "                                count += 1\n",
    "                    if count < 3 or count > 4:\n",
    "                        changes[iteration] = 0\n",
    "                iteration += 1\n",
    "\n",
    "        for iteration in changes:\n",
    "            i = iteration // len(board[0])\n",
    "            j = iteration % len(board[0])\n",
    "            board[i][j] = changes[iteration]"
   ]
  }
 ],
 "metadata": {
  "kernelspec": {
   "display_name": "Python 3 (ipykernel)",
   "language": "python",
   "name": "python3"
  },
  "language_info": {
   "codemirror_mode": {
    "name": "ipython",
    "version": 3
   },
   "file_extension": ".py",
   "mimetype": "text/x-python",
   "name": "python",
   "nbconvert_exporter": "python",
   "pygments_lexer": "ipython3",
   "version": "3.9.13"
  }
 },
 "nbformat": 4,
 "nbformat_minor": 5
}
