{
 "cells": [
  {
   "cell_type": "code",
   "execution_count": null,
   "id": "a23670f1",
   "metadata": {},
   "outputs": [],
   "source": [
    "class Solution:\n",
    "    def shortestCompletingWord(self, licensePlate: str, words: List[str]) -> str:\n",
    "        import re\n",
    "        letters = re.findall(\"[a-zA-Z]\",licensePlate)\n",
    "        for i in range(len(letters)):\n",
    "            letters[i] = letters[i].lower()\n",
    "        \n",
    "        PlateDictionary = {}\n",
    "        for x in letters:\n",
    "            if x in PlateDictionary:\n",
    "                PlateDictionary[x] += 1\n",
    "            else:\n",
    "                PlateDictionary[x] = 1\n",
    "        \n",
    "        result = None\n",
    "        for word in words:\n",
    "            WordDictionary = {}\n",
    "            for w in word:\n",
    "                if w in WordDictionary:\n",
    "                    WordDictionary[w] += 1\n",
    "                else:\n",
    "                    WordDictionary[w] = 1\n",
    "            for i in PlateDictionary:\n",
    "                if i not in WordDictionary:\n",
    "                    break\n",
    "                elif PlateDictionary[i]>WordDictionary[i]:\n",
    "                    break\n",
    "            else:\n",
    "                if not result or len(result)>len(word):\n",
    "                    result = word\n",
    "        return result"
   ]
  }
 ],
 "metadata": {
  "kernelspec": {
   "display_name": "Python 3 (ipykernel)",
   "language": "python",
   "name": "python3"
  },
  "language_info": {
   "codemirror_mode": {
    "name": "ipython",
    "version": 3
   },
   "file_extension": ".py",
   "mimetype": "text/x-python",
   "name": "python",
   "nbconvert_exporter": "python",
   "pygments_lexer": "ipython3",
   "version": "3.9.13"
  }
 },
 "nbformat": 4,
 "nbformat_minor": 5
}
